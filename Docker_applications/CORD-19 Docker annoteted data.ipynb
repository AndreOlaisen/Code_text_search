{
 "cells": [
  {
   "cell_type": "code",
   "execution_count": null,
   "metadata": {},
   "outputs": [],
   "source": []
  },
  {
   "cell_type": "code",
   "execution_count": 72,
   "metadata": {},
   "outputs": [],
   "source": [
    "import matplotlib.pyplot as plt\n",
    "import numpy as np\n",
    "from random import random\n",
    "import time\n",
    "import pickle\n",
    "import seaborn as sns"
   ]
  },
  {
   "cell_type": "markdown",
   "metadata": {},
   "source": [
    "## Defining fields for the app\n",
    "\n",
    "* Field types: https://docs.vespa.ai/documentation/reference/schema-reference.html#field-types\n",
    "* Tensor guid: https://docs.vespa.ai/documentation/tensor-user-guide.html"
   ]
  },
  {
   "cell_type": "code",
   "execution_count": 2,
   "metadata": {},
   "outputs": [],
   "source": [
    "from vespa.package import Document, Field\n",
    "\n",
    "document = Document(\n",
    "    fields=[\n",
    "        Field(name = \"id\", type = \"string\", indexing = [\"attribute\", \"summary\"]),\n",
    "        Field(name = \"title\", type = \"string\", indexing = [\"index\", \"summary\"], index = \"enable-bm25\"),\n",
    "        Field(name = \"abstract\", type = \"string\", indexing = [\"index\", \"summary\"], index = \"enable-bm25\"),\n",
    "        Field(name = \"body\", type = \"string\", indexing = [\"index\", \"summary\"], index = \"enable-bm25\"),\n",
    "        Field(name = \"authors\", type = \"string\", indexing = [\"index\", \"summary\"]),\n",
    "        #Field(name = \"publish_date\", type = \"string\", indexing = [\"index\", \"summary\"]),\n",
    "        Field(name = \"sha\", type = \"string\", indexing = [\"index\", \"summary\"]),\n",
    "        Field(name = \"journal\", type = \"string\", indexing = [\"index\", \"summary\"]),\n",
    "        Field(name = \"url\", type = \"string\", indexing = [\"index\", \"summary\"]),\n",
    "        \n",
    "        Field(name = \"title_embedding_bert\", type = \"tensor<float>(x[768]) \", indexing = [\"attribute\", \"summary\"]),\n",
    "        Field(name = \"abstract_embedding_bert\", type = \"tensor<float>(x[768]) \", indexing = [\"attribute\", \"summary\"]),\n",
    "        Field(name = \"title_embedding_scibert\", type = \"tensor<float>(x[768]) \", indexing = [\"attribute\", \"summary\"]),\n",
    "        Field(name = \"abstract_embedding_scibert\", type = \"tensor<float>(x[768]) \", indexing = [\"attribute\", \"summary\"]),\n",
    "        Field(name = \"title_embedding_cordbert\", type = \"tensor<float>(x[768]) \", indexing = [\"attribute\", \"summary\"]),\n",
    "        Field(name = \"abstract_embedding_cordbert\", type = \"tensor<float>(x[768]) \", indexing = [\"attribute\", \"summary\"])\n",
    "    ]\n",
    ")\n",
    "\n",
    "#TODO: Change authors field\n",
    "#TODO: add publish date"
   ]
  },
  {
   "cell_type": "markdown",
   "metadata": {},
   "source": [
    "## Adding Ranking Profiles\n",
    "\n",
    "Reference on some built in ranking funtions\n",
    " * bm25: https://docs.vespa.ai/documentation/reference/bm25.html\n",
    " * nativeRank: https://docs.vespa.ai/documentation/reference/nativerank.html\n",
    "\n",
    "Referances on how to bulid own functions\n",
    " * Features: https://docs.vespa.ai/documentation/reference/rank-features.html\n",
    " * Ranking expressions: https://docs.vespa.ai/documentation/reference/ranking-expressions.html\n",
    " \n",
    "RankProfiles:\n",
    " * bm25w: as suggested by https://github.com/vespa-engine/cord-19/blob/master/cord-19-queries.md"
   ]
  },
  {
   "cell_type": "code",
   "execution_count": 121,
   "metadata": {},
   "outputs": [],
   "source": [
    "from vespa.package import Schema, FieldSet, RankProfile\n",
    "\n",
    "\n",
    "cord_19_schema = Schema(\n",
    "    name = \"cord_19\",\n",
    "    document = document,\n",
    "    fieldsets = [FieldSet(name = \"default\", fields = [\"title\", \"abstract\", \"body\"])],\n",
    "    rank_profiles = [RankProfile(name = \"default\", first_phase = \"nativeRank(title, abstract)\"),\n",
    "                    RankProfile(name = \"bm25\", first_phase = \"bm25(title) + bm25(abstract) + bm25(body)\"),\n",
    "                    RankProfile(name = \"bm25_body\", first_phase = \"bm25(body)\"),\n",
    "                    RankProfile(name = \"bm25_title\", first_phase = \"bm25(title)\"),\n",
    "                    RankProfile(name = \"bm25_abstract\", first_phase = \"bm25(abstract)\"),\n",
    "                    RankProfile(name = \"bm25w\", first_phase = \"0.6 * bm25(title) + 0.3 * bm25(abstract) + 0.1 * bm25(body)\"),\n",
    "                     \n",
    "                    RankProfile(name = \"cos_sim_bert_title\", first_phase = \"sum(query(tensor)*attribute(title_embedding_bert))\"),\n",
    "                    RankProfile(name = \"cos_sim_bert_abstract\", first_phase = \"sum(query(tensor)*attribute(abstract_embedding_bert))\"),\n",
    "                    RankProfile(name = \"cos_sim_scibert_title\", first_phase = \"sum(query(tensor)*attribute(title_embedding_scibert))\"),\n",
    "                    RankProfile(name = \"cos_sim_scibert_abstract\", first_phase = \"sum(query(tensor)*attribute(abstract_embedding_scibert))\"),\n",
    "                    RankProfile(name = \"cos_sim_cordbert_title\", first_phase = \"sum(query(tensor)*attribute(title_embedding_cordbert))\"),\n",
    "                    RankProfile(name = \"cos_sim_cordbert_abstract\", first_phase = \"sum(query(tensor)*attribute(abstract_embedding_cordbert))\")\n",
    "                    ]\n",
    ")"
   ]
  },
  {
   "cell_type": "markdown",
   "metadata": {},
   "source": []
  },
  {
   "cell_type": "code",
   "execution_count": 122,
   "metadata": {},
   "outputs": [],
   "source": [
    "from vespa.package import ApplicationPackage\n",
    "\n",
    "app_package = ApplicationPackage(name = \"cord_19\", schema=cord_19_schema)\n",
    "\n"
   ]
  },
  {
   "cell_type": "markdown",
   "metadata": {},
   "source": [
    "## Connecting to Docker Container"
   ]
  },
  {
   "cell_type": "code",
   "execution_count": 5,
   "metadata": {},
   "outputs": [],
   "source": [
    "from vespa.package import VespaDocker\n",
    "\n",
    "vespa_docker = VespaDocker()"
   ]
  },
  {
   "cell_type": "code",
   "execution_count": 6,
   "metadata": {},
   "outputs": [],
   "source": [
    "name = \"cord_19_application\"\n",
    "\n",
    "path = \"C:\\\\Users\\\\User\\\\OneDrive - NTNU\\\\NTNU\\\\Prosjekt oppgave NLP\\\\docker_apps\\\\\"\n",
    "\n",
    "\n",
    "app = vespa_docker.deploy(application_package=app_package, \n",
    "                          disk_folder=path + name,\n",
    "                          container_memory = '8G')"
   ]
  },
  {
   "cell_type": "markdown",
   "metadata": {},
   "source": [
    "## Loading dataset \n",
    "\n",
    "Only relevant data"
   ]
  },
  {
   "cell_type": "code",
   "execution_count": 7,
   "metadata": {},
   "outputs": [
    {
     "name": "stderr",
     "output_type": "stream",
     "text": [
      "C:\\Users\\User\\AppData\\Local\\Continuum\\anaconda3\\lib\\site-packages\\IPython\\core\\interactiveshell.py:3063: DtypeWarning: Columns (15) have mixed types.Specify dtype option on import or set low_memory=False.\n",
      "  interactivity=interactivity, compiler=compiler, result=result)\n"
     ]
    },
    {
     "data": {
      "text/plain": [
       "(37279, 21)"
      ]
     },
     "execution_count": 7,
     "metadata": {},
     "output_type": "execute_result"
    }
   ],
   "source": [
    "from pandas import read_csv\n",
    "\n",
    "path = \"C:\\\\Users\\\\User\\\\OneDrive - NTNU\\\\NTNU\\\\Prosjekt oppgave NLP\\\\dataset\\\\CORD-19\\\\\"\n",
    "docs = read_csv(path + \"crod_19_only_rel.csv\")\n",
    "docs.shape"
   ]
  },
  {
   "cell_type": "code",
   "execution_count": 8,
   "metadata": {},
   "outputs": [
    {
     "data": {
      "text/html": [
       "<div>\n",
       "<style scoped>\n",
       "    .dataframe tbody tr th:only-of-type {\n",
       "        vertical-align: middle;\n",
       "    }\n",
       "\n",
       "    .dataframe tbody tr th {\n",
       "        vertical-align: top;\n",
       "    }\n",
       "\n",
       "    .dataframe thead th {\n",
       "        text-align: right;\n",
       "    }\n",
       "</style>\n",
       "<table border=\"1\" class=\"dataframe\">\n",
       "  <thead>\n",
       "    <tr style=\"text-align: right;\">\n",
       "      <th></th>\n",
       "      <th>Unnamed: 0</th>\n",
       "      <th>cord_uid</th>\n",
       "      <th>sha</th>\n",
       "      <th>source_x</th>\n",
       "      <th>title</th>\n",
       "      <th>doi</th>\n",
       "      <th>pmcid</th>\n",
       "      <th>pubmed_id</th>\n",
       "      <th>license</th>\n",
       "      <th>abstract</th>\n",
       "      <th>...</th>\n",
       "      <th>authors</th>\n",
       "      <th>journal</th>\n",
       "      <th>mag_id</th>\n",
       "      <th>who_covidence_id</th>\n",
       "      <th>arxiv_id</th>\n",
       "      <th>pdf_json_files</th>\n",
       "      <th>pmc_json_files</th>\n",
       "      <th>url</th>\n",
       "      <th>s2_id</th>\n",
       "      <th>body_text</th>\n",
       "    </tr>\n",
       "  </thead>\n",
       "  <tbody>\n",
       "    <tr>\n",
       "      <th>0</th>\n",
       "      <td>3</td>\n",
       "      <td>2b73a28n</td>\n",
       "      <td>348055649b6b8cf2b9a376498df9bf41f7123605</td>\n",
       "      <td>PMC</td>\n",
       "      <td>Role of endothelin-1 in lung disease</td>\n",
       "      <td>10.1186/rr44</td>\n",
       "      <td>PMC59574</td>\n",
       "      <td>11686871.0</td>\n",
       "      <td>no-cc</td>\n",
       "      <td>Endothelin-1 (ET-1) is a 21 amino acid peptide...</td>\n",
       "      <td>...</td>\n",
       "      <td>Fagan, Karen A; McMurtry, Ivan F; Rodman, David M</td>\n",
       "      <td>Respir Res</td>\n",
       "      <td>NaN</td>\n",
       "      <td>NaN</td>\n",
       "      <td>NaN</td>\n",
       "      <td>document_parses/pdf_json/348055649b6b8cf2b9a37...</td>\n",
       "      <td>document_parses/pmc_json/PMC59574.xml.json</td>\n",
       "      <td>https://www.ncbi.nlm.nih.gov/pmc/articles/PMC5...</td>\n",
       "      <td>NaN</td>\n",
       "      <td>from xenopus laevis [16] . eta receptors in no...</td>\n",
       "    </tr>\n",
       "    <tr>\n",
       "      <th>1</th>\n",
       "      <td>5</td>\n",
       "      <td>zjufx4fo</td>\n",
       "      <td>b2897e1277f56641193a6db73825f707eed3e4c9</td>\n",
       "      <td>PMC</td>\n",
       "      <td>Sequence requirements for RNA strand transfer ...</td>\n",
       "      <td>10.1093/emboj/20.24.7220</td>\n",
       "      <td>PMC125340</td>\n",
       "      <td>11742998.0</td>\n",
       "      <td>green-oa</td>\n",
       "      <td>Nidovirus subgenomic mRNAs contain a leader se...</td>\n",
       "      <td>...</td>\n",
       "      <td>Pasternak, Alexander O.; van den Born, Erwin; ...</td>\n",
       "      <td>The EMBO Journal</td>\n",
       "      <td>NaN</td>\n",
       "      <td>NaN</td>\n",
       "      <td>NaN</td>\n",
       "      <td>document_parses/pdf_json/b2897e1277f56641193a6...</td>\n",
       "      <td>document_parses/pmc_json/PMC125340.xml.json</td>\n",
       "      <td>http://europepmc.org/articles/pmc125340?pdf=re...</td>\n",
       "      <td>NaN</td>\n",
       "      <td>the genetic information of rna viruses is orga...</td>\n",
       "    </tr>\n",
       "    <tr>\n",
       "      <th>2</th>\n",
       "      <td>7</td>\n",
       "      <td>8zchiykl</td>\n",
       "      <td>5806726a24dc91de3954001effbdffd7a82d54e2</td>\n",
       "      <td>PMC</td>\n",
       "      <td>The 21st International Symposium on Intensive ...</td>\n",
       "      <td>10.1186/cc1013</td>\n",
       "      <td>PMC137274</td>\n",
       "      <td>11353930.0</td>\n",
       "      <td>no-cc</td>\n",
       "      <td>The 21st International Symposium on Intensive ...</td>\n",
       "      <td>...</td>\n",
       "      <td>Ball, Jonathan; Venn, Richard</td>\n",
       "      <td>Crit Care</td>\n",
       "      <td>NaN</td>\n",
       "      <td>NaN</td>\n",
       "      <td>NaN</td>\n",
       "      <td>document_parses/pdf_json/5806726a24dc91de39540...</td>\n",
       "      <td>document_parses/pmc_json/PMC137274.xml.json</td>\n",
       "      <td>https://www.ncbi.nlm.nih.gov/pmc/articles/PMC1...</td>\n",
       "      <td>NaN</td>\n",
       "      <td>this year's symposium was dominated by the res...</td>\n",
       "    </tr>\n",
       "    <tr>\n",
       "      <th>3</th>\n",
       "      <td>10</td>\n",
       "      <td>5tkvsudh</td>\n",
       "      <td>9d4e3e8eb092d5ed282d0aa4aadcaa8b7165b5e9</td>\n",
       "      <td>PMC</td>\n",
       "      <td>Conservation of polyamine regulation by transl...</td>\n",
       "      <td>10.1093/emboj/19.8.1907</td>\n",
       "      <td>PMC302018</td>\n",
       "      <td>10775274.0</td>\n",
       "      <td>no-cc</td>\n",
       "      <td>Regulation of ornithine decarboxylase in verte...</td>\n",
       "      <td>...</td>\n",
       "      <td>Ivanov, Ivaylo P.; Matsufuji, Senya; Murakami,...</td>\n",
       "      <td>EMBO J</td>\n",
       "      <td>NaN</td>\n",
       "      <td>NaN</td>\n",
       "      <td>NaN</td>\n",
       "      <td>document_parses/pdf_json/9d4e3e8eb092d5ed282d0...</td>\n",
       "      <td>document_parses/pmc_json/PMC302018.xml.json</td>\n",
       "      <td>https://www.ncbi.nlm.nih.gov/pmc/articles/PMC3...</td>\n",
       "      <td>NaN</td>\n",
       "      <td>the ef®ciency of +1 ribosomal frameshifting at...</td>\n",
       "    </tr>\n",
       "    <tr>\n",
       "      <th>4</th>\n",
       "      <td>12</td>\n",
       "      <td>tvxpckxo</td>\n",
       "      <td>d09b79026117ec9faebba46a8d13aa9b23ec751e</td>\n",
       "      <td>PMC</td>\n",
       "      <td>A Method to Identify p62's UBA Domain Interact...</td>\n",
       "      <td>10.1251/bpo66</td>\n",
       "      <td>PMC302190</td>\n",
       "      <td>14702098.0</td>\n",
       "      <td>no-cc</td>\n",
       "      <td>The UBA domain is a conserved sequence motif a...</td>\n",
       "      <td>...</td>\n",
       "      <td>Pridgeon, Julia W.; Geetha, Thangiah; Wooten, ...</td>\n",
       "      <td>Biol Proced Online</td>\n",
       "      <td>NaN</td>\n",
       "      <td>NaN</td>\n",
       "      <td>NaN</td>\n",
       "      <td>document_parses/pdf_json/d09b79026117ec9faebba...</td>\n",
       "      <td>document_parses/pmc_json/PMC302190.xml.json</td>\n",
       "      <td>https://www.ncbi.nlm.nih.gov/pmc/articles/PMC3...</td>\n",
       "      <td>NaN</td>\n",
       "      <td>p62 is a novel cellular protein which was init...</td>\n",
       "    </tr>\n",
       "  </tbody>\n",
       "</table>\n",
       "<p>5 rows × 21 columns</p>\n",
       "</div>"
      ],
      "text/plain": [
       "   Unnamed: 0  cord_uid                                       sha source_x  \\\n",
       "0           3  2b73a28n  348055649b6b8cf2b9a376498df9bf41f7123605      PMC   \n",
       "1           5  zjufx4fo  b2897e1277f56641193a6db73825f707eed3e4c9      PMC   \n",
       "2           7  8zchiykl  5806726a24dc91de3954001effbdffd7a82d54e2      PMC   \n",
       "3          10  5tkvsudh  9d4e3e8eb092d5ed282d0aa4aadcaa8b7165b5e9      PMC   \n",
       "4          12  tvxpckxo  d09b79026117ec9faebba46a8d13aa9b23ec751e      PMC   \n",
       "\n",
       "                                               title  \\\n",
       "0               Role of endothelin-1 in lung disease   \n",
       "1  Sequence requirements for RNA strand transfer ...   \n",
       "2  The 21st International Symposium on Intensive ...   \n",
       "3  Conservation of polyamine regulation by transl...   \n",
       "4  A Method to Identify p62's UBA Domain Interact...   \n",
       "\n",
       "                        doi      pmcid   pubmed_id   license  \\\n",
       "0              10.1186/rr44   PMC59574  11686871.0     no-cc   \n",
       "1  10.1093/emboj/20.24.7220  PMC125340  11742998.0  green-oa   \n",
       "2            10.1186/cc1013  PMC137274  11353930.0     no-cc   \n",
       "3   10.1093/emboj/19.8.1907  PMC302018  10775274.0     no-cc   \n",
       "4             10.1251/bpo66  PMC302190  14702098.0     no-cc   \n",
       "\n",
       "                                            abstract  ...  \\\n",
       "0  Endothelin-1 (ET-1) is a 21 amino acid peptide...  ...   \n",
       "1  Nidovirus subgenomic mRNAs contain a leader se...  ...   \n",
       "2  The 21st International Symposium on Intensive ...  ...   \n",
       "3  Regulation of ornithine decarboxylase in verte...  ...   \n",
       "4  The UBA domain is a conserved sequence motif a...  ...   \n",
       "\n",
       "                                             authors             journal  \\\n",
       "0  Fagan, Karen A; McMurtry, Ivan F; Rodman, David M          Respir Res   \n",
       "1  Pasternak, Alexander O.; van den Born, Erwin; ...    The EMBO Journal   \n",
       "2                      Ball, Jonathan; Venn, Richard           Crit Care   \n",
       "3  Ivanov, Ivaylo P.; Matsufuji, Senya; Murakami,...              EMBO J   \n",
       "4  Pridgeon, Julia W.; Geetha, Thangiah; Wooten, ...  Biol Proced Online   \n",
       "\n",
       "  mag_id  who_covidence_id arxiv_id  \\\n",
       "0    NaN               NaN      NaN   \n",
       "1    NaN               NaN      NaN   \n",
       "2    NaN               NaN      NaN   \n",
       "3    NaN               NaN      NaN   \n",
       "4    NaN               NaN      NaN   \n",
       "\n",
       "                                      pdf_json_files  \\\n",
       "0  document_parses/pdf_json/348055649b6b8cf2b9a37...   \n",
       "1  document_parses/pdf_json/b2897e1277f56641193a6...   \n",
       "2  document_parses/pdf_json/5806726a24dc91de39540...   \n",
       "3  document_parses/pdf_json/9d4e3e8eb092d5ed282d0...   \n",
       "4  document_parses/pdf_json/d09b79026117ec9faebba...   \n",
       "\n",
       "                                pmc_json_files  \\\n",
       "0   document_parses/pmc_json/PMC59574.xml.json   \n",
       "1  document_parses/pmc_json/PMC125340.xml.json   \n",
       "2  document_parses/pmc_json/PMC137274.xml.json   \n",
       "3  document_parses/pmc_json/PMC302018.xml.json   \n",
       "4  document_parses/pmc_json/PMC302190.xml.json   \n",
       "\n",
       "                                                 url s2_id  \\\n",
       "0  https://www.ncbi.nlm.nih.gov/pmc/articles/PMC5...   NaN   \n",
       "1  http://europepmc.org/articles/pmc125340?pdf=re...   NaN   \n",
       "2  https://www.ncbi.nlm.nih.gov/pmc/articles/PMC1...   NaN   \n",
       "3  https://www.ncbi.nlm.nih.gov/pmc/articles/PMC3...   NaN   \n",
       "4  https://www.ncbi.nlm.nih.gov/pmc/articles/PMC3...   NaN   \n",
       "\n",
       "                                           body_text  \n",
       "0  from xenopus laevis [16] . eta receptors in no...  \n",
       "1  the genetic information of rna viruses is orga...  \n",
       "2  this year's symposium was dominated by the res...  \n",
       "3  the ef®ciency of +1 ribosomal frameshifting at...  \n",
       "4  p62 is a novel cellular protein which was init...  \n",
       "\n",
       "[5 rows x 21 columns]"
      ]
     },
     "execution_count": 8,
     "metadata": {},
     "output_type": "execute_result"
    }
   ],
   "source": [
    "docs.head()"
   ]
  },
  {
   "cell_type": "markdown",
   "metadata": {},
   "source": [
    "## Feeding data "
   ]
  },
  {
   "cell_type": "code",
   "execution_count": 25,
   "metadata": {},
   "outputs": [
    {
     "name": "stdout",
     "output_type": "stream",
     "text": [
      "0  :  0\n",
      "Time: 0.1\n",
      "1000  :  1000\n",
      "Time: 86.5\n",
      "2000  :  2000\n",
      "Time: 70.1\n",
      "3000  :  3000\n",
      "Time: 78.9\n",
      "4000  :  4000\n",
      "Time: 52.1\n",
      "5000  :  5000\n",
      "Time: 30.1\n",
      "6000  :  6000\n",
      "Time: 30.0\n",
      "7000  :  7000\n",
      "Time: 36.5\n",
      "8000  :  8000\n",
      "Time: 33.8\n",
      "9000  :  9000\n",
      "Time: 31.7\n",
      "10000  :  10000\n",
      "Time: 29.7\n",
      "11000  :  11000\n",
      "Time: 31.2\n",
      "12000  :  12000\n",
      "Time: 33.7\n",
      "13000  :  13000\n",
      "Time: 30.5\n",
      "14000  :  14000\n",
      "Time: 29.1\n",
      "15000  :  15000\n",
      "Time: 39.1\n",
      "16000  :  16000\n",
      "Time: 63.5\n",
      "17000  :  17000\n",
      "Time: 63.3\n",
      "18000  :  18000\n",
      "Time: 62.1\n",
      "19000  :  19000\n",
      "Time: 66.2\n",
      "20000  :  20000\n",
      "Time: 62.5\n",
      "21000  :  21000\n",
      "Time: 67.3\n",
      "22000  :  22000\n",
      "Time: 69.7\n",
      "23000  :  23000\n",
      "Time: 77.4\n",
      "24000  :  24000\n",
      "Time: 71.3\n",
      "25000  :  25000\n",
      "Time: 71.6\n",
      "26000  :  26000\n",
      "Time: 68.4\n",
      "27000  :  27000\n",
      "Time: 64.7\n",
      "28000  :  28000\n",
      "Time: 64.5\n",
      "29000  :  29000\n",
      "Time: 64.2\n",
      "30000  :  30000\n",
      "Time: 69.8\n",
      "31000  :  31000\n",
      "Time: 65.0\n",
      "32000  :  32000\n",
      "Time: 66.8\n",
      "33000  :  33000\n",
      "Time: 67.1\n",
      "34000  :  34000\n",
      "Time: 63.0\n",
      "35000  :  35000\n",
      "Time: 61.5\n",
      "36000  :  36000\n",
      "Time: 60.5\n",
      "37000  :  37000\n",
      "Time: 59.8\n"
     ]
    }
   ],
   "source": [
    "start = time.time()\n",
    "m = start\n",
    "\n",
    "embedding_path = \"C:/Users/User/Documents/NTNU/NLP/CORD-19/Embeddings/786/\"\n",
    "for idx, row in docs.iterrows():\n",
    "    if True:\n",
    "        if (idx % 5000 == 0):\n",
    "            # Each loop about 10 min or 600 s\n",
    "            print(idx,\" : \" ,idx)\n",
    "            print(\"Time:\", round(time.time() - m,1))\n",
    "            m = time.time()\n",
    "        \n",
    "        #print(len(row[\"title\"]), end = \"  \")\n",
    "        cord_uid = row[\"cord_uid\"]\n",
    "        embedding = {}\n",
    "        file_embedding = embedding_path + cord_uid + \".txt\"\n",
    "        with open(file_embedding, \"rb\") as fp:   # Unpickling\n",
    "            embedding = pickle.load(fp)\n",
    "        #print(embedding[\"models\"]['bert-base-uncased'][\"title\"][0].tolist())\n",
    "        response = app.feed_data_point(\n",
    "            schema = \"cord_19\",\n",
    "            data_id = str(row[\"cord_uid\"]),\n",
    "            fields = {\n",
    "                \"id\": str(row[\"cord_uid\"]),\n",
    "                \"title\": str(row[\"title\"]),\n",
    "                \"abstract\": str(row[\"abstract\"]),\n",
    "                \"body\": str(row[\"body_text\"]),\n",
    "                \"authors\": row[\"authors\"],\n",
    "                \"sha\": row[\"sha\"],\n",
    "                \"journal\": row[\"journal\"],\n",
    "                \"url\": row[\"url\"],\n",
    "                \n",
    "                \"title_embedding_bert\": {\"values\": embedding[\"models\"]['bert-base-uncased'][\"title\"][0].tolist()},\n",
    "                \"abstract_embedding_bert\": {\"values\": embedding[\"models\"]['bert-base-uncased'][\"abstract\"][0].tolist()},\n",
    "                \"title_embedding_scibert\": {\"values\": embedding[\"models\"][\"allenai/scibert_scivocab_uncased\"][\"title\"][0].tolist()},\n",
    "                \"abstract_embedding_scibert\": {\"values\": embedding[\"models\"][\"allenai/scibert_scivocab_uncased\"][\"abstract\"][0].tolist()},\n",
    "                \"title_embedding_cordbert\": {\"values\": embedding[\"models\"][\"gsarti/covidbert-nli\"][\"title\"][0].tolist()},\n",
    "                \"abstract_embedding_cordbert\": {\"values\": embedding[\"models\"][\"gsarti/covidbert-nli\"][\"abstract\"][0].tolist()} \n",
    "            }\n",
    "        )"
   ]
  },
  {
   "cell_type": "code",
   "execution_count": 10,
   "metadata": {},
   "outputs": [
    {
     "ename": "SyntaxError",
     "evalue": "invalid syntax (<ipython-input-10-8e7103b96402>, line 34)",
     "output_type": "error",
     "traceback": [
      "\u001b[1;36m  File \u001b[1;32m\"<ipython-input-10-8e7103b96402>\"\u001b[1;36m, line \u001b[1;32m34\u001b[0m\n\u001b[1;33m    \"title_embedding_bert\": ,\u001b[0m\n\u001b[1;37m                            ^\u001b[0m\n\u001b[1;31mSyntaxError\u001b[0m\u001b[1;31m:\u001b[0m invalid syntax\n"
     ]
    }
   ],
   "source": [
    "def feed_datapoint(row,i):\n",
    "    #embedding_title = np.zeros(768)\n",
    "    #embedding_body = np.zeros(768)\n",
    "    \n",
    "    #if type(row[\"title\"]) != float:\n",
    "        #embedding_title =  model.encode(row[\"title\"].lower()).tolist()\n",
    "    #else:\n",
    "    #    embedding_title = [0 for _ in range(768)]\n",
    "    \n",
    "    #if type(row[\"body\"]) != float:\n",
    "    #    embedding_body =  model.encode(row[\"body\"].lower()).tolist()\n",
    "    #else:\n",
    "    #    embedding_body = [0 for _ in range(768)]\n",
    "    #print(len(row[\"title\"]), end = \"  \")\n",
    "    \n",
    "    print(i)\n",
    "    response = app.feed_data_point(\n",
    "        schema = \"cord_19\",\n",
    "        data_id = str(row[\"cord_uid\"]),\n",
    "        fields = {\n",
    "            \"id\": str(row[\"cord_uid\"]),\n",
    "            \"title\": str(row[\"title\"]),\n",
    "            \"abstract\": str(row[\"abstract\"]),\n",
    "            \"body\": str(row[\"body_text\"]),\n",
    "            \"authors\": row[\"authors\"],\n",
    "            \"publish_date\": row[\"\"],\n",
    "            \"sha\": row[\"sha\"],\n",
    "            \"journal\": row[\"journal\"],\n",
    "            \"url\": row[\"url\"],\n",
    "            \n",
    "            \n",
    "            \n",
    "            #Embeddings\n",
    "            \"title_embedding_bert\": ,\n",
    "            \"body_embedding_bert\": ,\n",
    "            \"title_embedding_scibert\": ,\n",
    "            \"body_embedding_scibert\": ,\n",
    "            \"title_embedding_cordbert\": ,\n",
    "            \"body_embedding_cordbert\"\n",
    "        }\n",
    "    )\n",
    "    return(i)"
   ]
  },
  {
   "cell_type": "markdown",
   "metadata": {},
   "source": [
    "### Loading labeled data"
   ]
  },
  {
   "cell_type": "code",
   "execution_count": 12,
   "metadata": {},
   "outputs": [],
   "source": [
    "path = \"C:\\\\Users\\\\User\\\\OneDrive - NTNU\\\\NTNU\\\\Prosjekt oppgave NLP\\\\dataset\\\\CORD-19\\\\\"\n",
    "\n",
    "labeled_data = []\n",
    "with open(path + \"labeled_data_cord_19.txt\", \"rb\") as fp:   # Unpickling\n",
    "    labeled_data = pickle.load(fp)\n"
   ]
  },
  {
   "cell_type": "markdown",
   "metadata": {},
   "source": [
    "## Quick test to check if the app is functioning"
   ]
  },
  {
   "cell_type": "code",
   "execution_count": 26,
   "metadata": {},
   "outputs": [],
   "source": [
    "from vespa.query import Query, OR, AND, WeakAnd, ANN, RankProfile as Ranking\n",
    "\n",
    "\n",
    "results = app.query(\n",
    "    query=\"coVID CORONA SARS mers infections\",\n",
    "    query_model = Query(\n",
    "        match_phase=OR(),\n",
    "        rank_profile=Ranking(name=\"bm25w\")\n",
    "    ),\n",
    "    hits = 10\n",
    ")"
   ]
  },
  {
   "cell_type": "code",
   "execution_count": 27,
   "metadata": {},
   "outputs": [
    {
     "name": "stdout",
     "output_type": "stream",
     "text": [
      "10\n",
      "id:cord_19:cord_19::mg1eg740    Challenges presented by MERS corona virus, and SARS corona virus to global health\n",
      "id:cord_19:cord_19::0bb729sp    Clinical characteristics and outcome of ICU admitted MERS corona virus infected patients\n",
      "id:cord_19:cord_19::9p4rky4c    Middle east respiratory syndrome corona virus (MERS CoV): The next steps\n",
      "id:cord_19:cord_19::zbsidnsc    The history and epidemiology of Middle East respiratory syndrome corona virus\n",
      "id:cord_19:cord_19::y42zhjrt    Corona virus (Covid-19) – ITS implications in pediatric orthopedic care\n",
      "id:cord_19:cord_19::nu0fuuxp    CORONA-steps for tracheotomy in COVID-19 patients: A staff-safe method for airway management\n",
      "id:cord_19:cord_19::79xhb2bf    COVID-19 and chronological aging: senolytics and other anti-aging drugs for the treatment or prevention of corona virus infection?\n",
      "id:cord_19:cord_19::09yhzszy    Introducing the “Corona Curtain”: an innovative technique to prevent airborne COVID-19 exposure during emergent intubations\n",
      "id:cord_19:cord_19::b4zwinh2    Anosmia: A marker of infection by the new corona virus\n",
      "id:cord_19:cord_19::pfgy9ztl    A brief review of liver injury in patients with Corona Virus Disease-19 during the pandemic\n"
     ]
    }
   ],
   "source": [
    "print(len(results.hits))\n",
    "for result in results.hits:\n",
    "    print(result[\"id\"], \"  \", result[\"fields\"][\"title\"])"
   ]
  },
  {
   "cell_type": "markdown",
   "metadata": {},
   "source": [
    "## Evaluating app"
   ]
  },
  {
   "cell_type": "code",
   "execution_count": 28,
   "metadata": {},
   "outputs": [],
   "source": [
    "from vespa.evaluation import MatchRatio, Recall, ReciprocalRank, NormalizedDiscountedCumulativeGain\n",
    "\n",
    "eval_metrics = [\n",
    "    MatchRatio(),\n",
    "    Recall(at=10),\n",
    "    ReciprocalRank(at=10),\n",
    "    NormalizedDiscountedCumulativeGain(at=10)\n",
    "]"
   ]
  },
  {
   "cell_type": "code",
   "execution_count": 29,
   "metadata": {},
   "outputs": [],
   "source": [
    "model = Query(match_phase=OR(),\n",
    "      rank_profile=Ranking(name=\"bm25\")\n",
    "    )"
   ]
  },
  {
   "cell_type": "code",
   "execution_count": 30,
   "metadata": {},
   "outputs": [],
   "source": [
    "\n",
    "bm25_evaluation = app.evaluate(\n",
    "        labeled_data = labeled_data,\n",
    "        eval_metrics = eval_metrics,\n",
    "        query_model = model,\n",
    "        id_field = \"id\",\n",
    "        hits = 10\n",
    "    )"
   ]
  },
  {
   "cell_type": "code",
   "execution_count": 32,
   "metadata": {},
   "outputs": [
    {
     "data": {
      "text/plain": [
       "query_id                      2.469136e+88\n",
       "match_ratio_retrieved_docs    1.798392e+04\n",
       "match_ratio_docs_available    2.142400e+04\n",
       "match_ratio_value             8.394287e-01\n",
       "recall_10_value               7.513375e-03\n",
       "reciprocal_rank_10_value      1.000000e+00\n",
       "ndcg_10_ideal_dcg             5.701740e+00\n",
       "ndcg_10_dcg                   4.879746e+00\n",
       "ndcg_10_value                 7.589315e-01\n",
       "dtype: float64"
      ]
     },
     "execution_count": 32,
     "metadata": {},
     "output_type": "execute_result"
    }
   ],
   "source": [
    "bm25_evaluation.mean()"
   ]
  },
  {
   "cell_type": "code",
   "execution_count": 33,
   "metadata": {},
   "outputs": [],
   "source": [
    "model = Query(match_phase=OR(),\n",
    "      rank_profile=Ranking(name=\"bm25w\")\n",
    "    )\n",
    "bm25w_evaluation = app.evaluate(\n",
    "        labeled_data = labeled_data,\n",
    "        eval_metrics = eval_metrics,\n",
    "        query_model = model,\n",
    "        id_field = \"id\",\n",
    "        hits = 10\n",
    "    )"
   ]
  },
  {
   "cell_type": "code",
   "execution_count": 34,
   "metadata": {},
   "outputs": [
    {
     "data": {
      "text/plain": [
       "query_id                      2.469136e+88\n",
       "match_ratio_retrieved_docs    1.798392e+04\n",
       "match_ratio_docs_available    2.142400e+04\n",
       "match_ratio_value             8.394287e-01\n",
       "recall_10_value               7.358213e-03\n",
       "reciprocal_rank_10_value      1.000000e+00\n",
       "ndcg_10_ideal_dcg             5.524090e+00\n",
       "ndcg_10_dcg                   4.771600e+00\n",
       "ndcg_10_value                 7.640124e-01\n",
       "dtype: float64"
      ]
     },
     "execution_count": 34,
     "metadata": {},
     "output_type": "execute_result"
    }
   ],
   "source": [
    "bm25w_evaluation.mean()"
   ]
  },
  {
   "cell_type": "markdown",
   "metadata": {},
   "source": [
    "## Testing what fields is most valuable for BM25\n"
   ]
  },
  {
   "cell_type": "code",
   "execution_count": 183,
   "metadata": {},
   "outputs": [],
   "source": [
    "eval_metrics = [\n",
    "    MatchRatio(),\n",
    "    Recall(at=20),\n",
    "    ReciprocalRank(at=20),\n",
    "    NormalizedDiscountedCumulativeGain(at=20)\n",
    "]"
   ]
  },
  {
   "cell_type": "code",
   "execution_count": 184,
   "metadata": {},
   "outputs": [],
   "source": [
    "\n",
    "query_models = {\n",
    "    \"or_bm25_title\": Query(\n",
    "        match_phase = OR(),\n",
    "        rank_profile = Ranking(name=\"bm25_title\")\n",
    "    ),\n",
    "    \"or_bm25_abstract\": Query(\n",
    "        match_phase = OR(),\n",
    "        rank_profile = Ranking(name=\"bm25_abstract\")\n",
    "    ),\n",
    "     \"or_bm25_body\": Query(\n",
    "        match_phase = OR(),\n",
    "        rank_profile = Ranking(name=\"bm25_body\")\n",
    "    )\n",
    "}"
   ]
  },
  {
   "cell_type": "code",
   "execution_count": 185,
   "metadata": {},
   "outputs": [],
   "source": [
    "evaluations = {}\n",
    "for query_model in query_models:\n",
    "    evaluations[query_model] = app.evaluate(\n",
    "        labeled_data = labeled_data,\n",
    "        eval_metrics = eval_metrics,\n",
    "        query_model = query_models[query_model],\n",
    "        id_field = \"id\",\n",
    "        hits = 20\n",
    "    )"
   ]
  },
  {
   "cell_type": "code",
   "execution_count": 186,
   "metadata": {},
   "outputs": [
    {
     "data": {
      "text/html": [
       "<div>\n",
       "<style scoped>\n",
       "    .dataframe tbody tr th:only-of-type {\n",
       "        vertical-align: middle;\n",
       "    }\n",
       "\n",
       "    .dataframe tbody tr th {\n",
       "        vertical-align: top;\n",
       "    }\n",
       "\n",
       "    .dataframe thead th {\n",
       "        text-align: right;\n",
       "    }\n",
       "</style>\n",
       "<table border=\"1\" class=\"dataframe\">\n",
       "  <thead>\n",
       "    <tr style=\"text-align: right;\">\n",
       "      <th></th>\n",
       "      <th>query_model</th>\n",
       "      <th>metric</th>\n",
       "      <th>value</th>\n",
       "    </tr>\n",
       "  </thead>\n",
       "  <tbody>\n",
       "    <tr>\n",
       "      <th>0</th>\n",
       "      <td>or_bm25_title</td>\n",
       "      <td>match_ratio</td>\n",
       "      <td>0.743139</td>\n",
       "    </tr>\n",
       "    <tr>\n",
       "      <th>1</th>\n",
       "      <td>or_bm25_title</td>\n",
       "      <td>match_ratio</td>\n",
       "      <td>0.983897</td>\n",
       "    </tr>\n",
       "    <tr>\n",
       "      <th>2</th>\n",
       "      <td>or_bm25_title</td>\n",
       "      <td>match_ratio</td>\n",
       "      <td>0.808859</td>\n",
       "    </tr>\n",
       "    <tr>\n",
       "      <th>3</th>\n",
       "      <td>or_bm25_title</td>\n",
       "      <td>match_ratio</td>\n",
       "      <td>0.987631</td>\n",
       "    </tr>\n",
       "    <tr>\n",
       "      <th>4</th>\n",
       "      <td>or_bm25_title</td>\n",
       "      <td>match_ratio</td>\n",
       "      <td>0.989358</td>\n",
       "    </tr>\n",
       "  </tbody>\n",
       "</table>\n",
       "</div>"
      ],
      "text/plain": [
       "     query_model       metric     value\n",
       "0  or_bm25_title  match_ratio  0.743139\n",
       "1  or_bm25_title  match_ratio  0.983897\n",
       "2  or_bm25_title  match_ratio  0.808859\n",
       "3  or_bm25_title  match_ratio  0.987631\n",
       "4  or_bm25_title  match_ratio  0.989358"
      ]
     },
     "execution_count": 186,
     "metadata": {},
     "output_type": "execute_result"
    }
   ],
   "source": [
    "import pandas as pd\n",
    "\n",
    "metric_values = []\n",
    "for query_model in query_models:\n",
    "    for metric in eval_metrics:\n",
    "        metric_values.append(\n",
    "            pd.DataFrame(\n",
    "                data={\n",
    "                    \"query_model\": query_model,\n",
    "                    \"metric\": metric.name,\n",
    "                    \"value\": evaluations[query_model][metric.name + \"_value\"].to_list()\n",
    "                }\n",
    "            )\n",
    "        )\n",
    "metric_values = pd.concat(metric_values, ignore_index=True)\n",
    "metric_values.head()"
   ]
  },
  {
   "cell_type": "code",
   "execution_count": 187,
   "metadata": {},
   "outputs": [
    {
     "data": {
      "text/html": [
       "<div>\n",
       "<style scoped>\n",
       "    .dataframe tbody tr th:only-of-type {\n",
       "        vertical-align: middle;\n",
       "    }\n",
       "\n",
       "    .dataframe tbody tr th {\n",
       "        vertical-align: top;\n",
       "    }\n",
       "\n",
       "    .dataframe thead th {\n",
       "        text-align: right;\n",
       "    }\n",
       "</style>\n",
       "<table border=\"1\" class=\"dataframe\">\n",
       "  <thead>\n",
       "    <tr style=\"text-align: right;\">\n",
       "      <th></th>\n",
       "      <th></th>\n",
       "      <th>value</th>\n",
       "    </tr>\n",
       "    <tr>\n",
       "      <th>query_model</th>\n",
       "      <th>metric</th>\n",
       "      <th></th>\n",
       "    </tr>\n",
       "  </thead>\n",
       "  <tbody>\n",
       "    <tr>\n",
       "      <th rowspan=\"4\" valign=\"top\">or_bm25_abstract</th>\n",
       "      <th>match_ratio</th>\n",
       "      <td>0.839429</td>\n",
       "    </tr>\n",
       "    <tr>\n",
       "      <th>ndcg_20</th>\n",
       "      <td>0.754996</td>\n",
       "    </tr>\n",
       "    <tr>\n",
       "      <th>recall_20</th>\n",
       "      <td>0.014750</td>\n",
       "    </tr>\n",
       "    <tr>\n",
       "      <th>reciprocal_rank_20</th>\n",
       "      <td>1.000000</td>\n",
       "    </tr>\n",
       "    <tr>\n",
       "      <th rowspan=\"4\" valign=\"top\">or_bm25_body</th>\n",
       "      <th>match_ratio</th>\n",
       "      <td>0.839429</td>\n",
       "    </tr>\n",
       "    <tr>\n",
       "      <th>ndcg_20</th>\n",
       "      <td>0.770978</td>\n",
       "    </tr>\n",
       "    <tr>\n",
       "      <th>recall_20</th>\n",
       "      <td>0.014437</td>\n",
       "    </tr>\n",
       "    <tr>\n",
       "      <th>reciprocal_rank_20</th>\n",
       "      <td>0.980000</td>\n",
       "    </tr>\n",
       "    <tr>\n",
       "      <th rowspan=\"4\" valign=\"top\">or_bm25_title</th>\n",
       "      <th>match_ratio</th>\n",
       "      <td>0.839429</td>\n",
       "    </tr>\n",
       "    <tr>\n",
       "      <th>ndcg_20</th>\n",
       "      <td>0.726973</td>\n",
       "    </tr>\n",
       "    <tr>\n",
       "      <th>recall_20</th>\n",
       "      <td>0.013319</td>\n",
       "    </tr>\n",
       "    <tr>\n",
       "      <th>reciprocal_rank_20</th>\n",
       "      <td>0.955667</td>\n",
       "    </tr>\n",
       "  </tbody>\n",
       "</table>\n",
       "</div>"
      ],
      "text/plain": [
       "                                        value\n",
       "query_model      metric                      \n",
       "or_bm25_abstract match_ratio         0.839429\n",
       "                 ndcg_20             0.754996\n",
       "                 recall_20           0.014750\n",
       "                 reciprocal_rank_20  1.000000\n",
       "or_bm25_body     match_ratio         0.839429\n",
       "                 ndcg_20             0.770978\n",
       "                 recall_20           0.014437\n",
       "                 reciprocal_rank_20  0.980000\n",
       "or_bm25_title    match_ratio         0.839429\n",
       "                 ndcg_20             0.726973\n",
       "                 recall_20           0.013319\n",
       "                 reciprocal_rank_20  0.955667"
      ]
     },
     "execution_count": 187,
     "metadata": {},
     "output_type": "execute_result"
    }
   ],
   "source": [
    "metric_values.groupby(['query_model', 'metric']).mean()"
   ]
  },
  {
   "cell_type": "code",
   "execution_count": 192,
   "metadata": {},
   "outputs": [
    {
     "data": {
      "application/vnd.plotly.v1+json": {
       "config": {
        "plotlyServerURL": "https://plot.ly"
       },
       "data": [
        {
         "alignmentgroup": "True",
         "boxpoints": "all",
         "hovertemplate": "query_model=%{x}<br>value=%{y}<extra></extra>",
         "legendgroup": "",
         "marker": {
          "color": "#636efa"
         },
         "name": "",
         "notched": false,
         "offsetgroup": "",
         "orientation": "v",
         "showlegend": false,
         "type": "box",
         "x": [
          "or_bm25_title",
          "or_bm25_title",
          "or_bm25_title",
          "or_bm25_title",
          "or_bm25_title",
          "or_bm25_title",
          "or_bm25_title",
          "or_bm25_title",
          "or_bm25_title",
          "or_bm25_title",
          "or_bm25_title",
          "or_bm25_title",
          "or_bm25_title",
          "or_bm25_title",
          "or_bm25_title",
          "or_bm25_title",
          "or_bm25_title",
          "or_bm25_title",
          "or_bm25_title",
          "or_bm25_title",
          "or_bm25_title",
          "or_bm25_title",
          "or_bm25_title",
          "or_bm25_title",
          "or_bm25_title",
          "or_bm25_title",
          "or_bm25_title",
          "or_bm25_title",
          "or_bm25_title",
          "or_bm25_title",
          "or_bm25_title",
          "or_bm25_title",
          "or_bm25_title",
          "or_bm25_title",
          "or_bm25_title",
          "or_bm25_title",
          "or_bm25_title",
          "or_bm25_title",
          "or_bm25_title",
          "or_bm25_title",
          "or_bm25_title",
          "or_bm25_title",
          "or_bm25_title",
          "or_bm25_title",
          "or_bm25_title",
          "or_bm25_title",
          "or_bm25_title",
          "or_bm25_title",
          "or_bm25_title",
          "or_bm25_title",
          "or_bm25_abstract",
          "or_bm25_abstract",
          "or_bm25_abstract",
          "or_bm25_abstract",
          "or_bm25_abstract",
          "or_bm25_abstract",
          "or_bm25_abstract",
          "or_bm25_abstract",
          "or_bm25_abstract",
          "or_bm25_abstract",
          "or_bm25_abstract",
          "or_bm25_abstract",
          "or_bm25_abstract",
          "or_bm25_abstract",
          "or_bm25_abstract",
          "or_bm25_abstract",
          "or_bm25_abstract",
          "or_bm25_abstract",
          "or_bm25_abstract",
          "or_bm25_abstract",
          "or_bm25_abstract",
          "or_bm25_abstract",
          "or_bm25_abstract",
          "or_bm25_abstract",
          "or_bm25_abstract",
          "or_bm25_abstract",
          "or_bm25_abstract",
          "or_bm25_abstract",
          "or_bm25_abstract",
          "or_bm25_abstract",
          "or_bm25_abstract",
          "or_bm25_abstract",
          "or_bm25_abstract",
          "or_bm25_abstract",
          "or_bm25_abstract",
          "or_bm25_abstract",
          "or_bm25_abstract",
          "or_bm25_abstract",
          "or_bm25_abstract",
          "or_bm25_abstract",
          "or_bm25_abstract",
          "or_bm25_abstract",
          "or_bm25_abstract",
          "or_bm25_abstract",
          "or_bm25_abstract",
          "or_bm25_abstract",
          "or_bm25_abstract",
          "or_bm25_abstract",
          "or_bm25_abstract",
          "or_bm25_abstract",
          "or_bm25_body",
          "or_bm25_body",
          "or_bm25_body",
          "or_bm25_body",
          "or_bm25_body",
          "or_bm25_body",
          "or_bm25_body",
          "or_bm25_body",
          "or_bm25_body",
          "or_bm25_body",
          "or_bm25_body",
          "or_bm25_body",
          "or_bm25_body",
          "or_bm25_body",
          "or_bm25_body",
          "or_bm25_body",
          "or_bm25_body",
          "or_bm25_body",
          "or_bm25_body",
          "or_bm25_body",
          "or_bm25_body",
          "or_bm25_body",
          "or_bm25_body",
          "or_bm25_body",
          "or_bm25_body",
          "or_bm25_body",
          "or_bm25_body",
          "or_bm25_body",
          "or_bm25_body",
          "or_bm25_body",
          "or_bm25_body",
          "or_bm25_body",
          "or_bm25_body",
          "or_bm25_body",
          "or_bm25_body",
          "or_bm25_body",
          "or_bm25_body",
          "or_bm25_body",
          "or_bm25_body",
          "or_bm25_body",
          "or_bm25_body",
          "or_bm25_body",
          "or_bm25_body",
          "or_bm25_body",
          "or_bm25_body",
          "or_bm25_body",
          "or_bm25_body",
          "or_bm25_body",
          "or_bm25_body",
          "or_bm25_body"
         ],
         "x0": " ",
         "xaxis": "x",
         "y": [
          0.01092896174863388,
          0.013986013986013986,
          0.009478672985781991,
          0.0048674959437533805,
          0.008249852681202121,
          0.011823273179838207,
          0.01447178002894356,
          0.002140181915462814,
          0.01141826923076923,
          0.012269938650306749,
          0.008237232289950576,
          0.011685116851168511,
          0.001584786053882726,
          0.014660493827160493,
          0.008076728924785462,
          0.006097560975609756,
          0.013303769401330377,
          0.012830188679245283,
          0.013431833445265278,
          0.01539708265802269,
          0.00875,
          0.013584905660377358,
          0.014694508894044857,
          0.016025641025641024,
          0.011949685534591196,
          0.009302325581395349,
          0.013540961408259987,
          0.017225747960108794,
          0.014504431909750202,
          0.01932367149758454,
          0.010582010582010581,
          0.0120942075111394,
          0.015748031496062992,
          0.009229098805646038,
          0.013235294117647059,
          0.016220600162206,
          0.01620745542949757,
          0.009375,
          0.015822784810126583,
          0.016260162601626018,
          0.019175455417066157,
          0.02600780234070221,
          0.022779043280182234,
          0.015347334410339256,
          0.017079419299743808,
          0.01764705882352941,
          0.016917293233082706,
          0.022757697456492636,
          0.008234217749313814,
          0.021372328458942633,
          0.01153612629022465,
          0.01554001554001554,
          0.01066350710900474,
          0.007030827474310438,
          0.011785503830288745,
          0.01120099564405725,
          0.01447178002894356,
          0.006955591225254147,
          0.01201923076923077,
          0.014899211218229623,
          0.01043382756727073,
          0.012300123001230012,
          0.00792393026941363,
          0.015432098765432098,
          0.009591115598182737,
          0.011585365853658536,
          0.014781966001478197,
          0.01509433962264151,
          0.012760241773002015,
          0.01620745542949757,
          0.01125,
          0.014339622641509434,
          0.015467904098994586,
          0.016025641025641024,
          0.011949685534591196,
          0.011627906976744186,
          0.013540961408259987,
          0.01813236627379873,
          0.016116035455278,
          0.01932367149758454,
          0.011757789535567314,
          0.012730744748567792,
          0.015748031496062992,
          0.01031487513572204,
          0.014705882352941176,
          0.015409570154095702,
          0.01620745542949757,
          0.010416666666666666,
          0.015822784810126583,
          0.016260162601626018,
          0.019175455417066157,
          0.02600780234070221,
          0.022779043280182234,
          0.015347334410339256,
          0.016225448334756618,
          0.029411764705882353,
          0.018796992481203006,
          0.0214190093708166,
          0.01646843549862763,
          0.02249718785151856,
          0.012143290831815421,
          0.01554001554001554,
          0.009478672985781991,
          0.0075716603569497025,
          0.00883912787271656,
          0.011823273179838207,
          0.01447178002894356,
          0.0032102728731942215,
          0.01201923076923077,
          0.015775635407537247,
          0.009884678747940691,
          0.01107011070110701,
          0.007395668251452721,
          0.015432098765432098,
          0.009086320040383645,
          0.012195121951219513,
          0.014042867701404288,
          0.014339622641509434,
          0.013431833445265278,
          0.01620745542949757,
          0.01125,
          0.013584905660377358,
          0.015467904098994586,
          0.015224358974358974,
          0.011949685534591196,
          0.011046511627906977,
          0.013540961408259987,
          0.01813236627379873,
          0.016116035455278,
          0.01932367149758454,
          0.011169900058788948,
          0.012730744748567792,
          0.015748031496062992,
          0.009229098805646038,
          0.013235294117647059,
          0.016220600162206,
          0.01620745542949757,
          0.010416666666666666,
          0.015822784810126583,
          0.016260162601626018,
          0.019175455417066157,
          0.02600780234070221,
          0.022779043280182234,
          0.013731825525040387,
          0.016225448334756618,
          0.029411764705882353,
          0.017857142857142856,
          0.02677376171352075,
          0.011893870082342177,
          0.021372328458942633
         ],
         "y0": " ",
         "yaxis": "y"
        }
       ],
       "layout": {
        "boxmode": "group",
        "legend": {
         "tracegroupgap": 0
        },
        "template": {
         "data": {
          "bar": [
           {
            "error_x": {
             "color": "#2a3f5f"
            },
            "error_y": {
             "color": "#2a3f5f"
            },
            "marker": {
             "line": {
              "color": "#E5ECF6",
              "width": 0.5
             }
            },
            "type": "bar"
           }
          ],
          "barpolar": [
           {
            "marker": {
             "line": {
              "color": "#E5ECF6",
              "width": 0.5
             }
            },
            "type": "barpolar"
           }
          ],
          "carpet": [
           {
            "aaxis": {
             "endlinecolor": "#2a3f5f",
             "gridcolor": "white",
             "linecolor": "white",
             "minorgridcolor": "white",
             "startlinecolor": "#2a3f5f"
            },
            "baxis": {
             "endlinecolor": "#2a3f5f",
             "gridcolor": "white",
             "linecolor": "white",
             "minorgridcolor": "white",
             "startlinecolor": "#2a3f5f"
            },
            "type": "carpet"
           }
          ],
          "choropleth": [
           {
            "colorbar": {
             "outlinewidth": 0,
             "ticks": ""
            },
            "type": "choropleth"
           }
          ],
          "contour": [
           {
            "colorbar": {
             "outlinewidth": 0,
             "ticks": ""
            },
            "colorscale": [
             [
              0,
              "#0d0887"
             ],
             [
              0.1111111111111111,
              "#46039f"
             ],
             [
              0.2222222222222222,
              "#7201a8"
             ],
             [
              0.3333333333333333,
              "#9c179e"
             ],
             [
              0.4444444444444444,
              "#bd3786"
             ],
             [
              0.5555555555555556,
              "#d8576b"
             ],
             [
              0.6666666666666666,
              "#ed7953"
             ],
             [
              0.7777777777777778,
              "#fb9f3a"
             ],
             [
              0.8888888888888888,
              "#fdca26"
             ],
             [
              1,
              "#f0f921"
             ]
            ],
            "type": "contour"
           }
          ],
          "contourcarpet": [
           {
            "colorbar": {
             "outlinewidth": 0,
             "ticks": ""
            },
            "type": "contourcarpet"
           }
          ],
          "heatmap": [
           {
            "colorbar": {
             "outlinewidth": 0,
             "ticks": ""
            },
            "colorscale": [
             [
              0,
              "#0d0887"
             ],
             [
              0.1111111111111111,
              "#46039f"
             ],
             [
              0.2222222222222222,
              "#7201a8"
             ],
             [
              0.3333333333333333,
              "#9c179e"
             ],
             [
              0.4444444444444444,
              "#bd3786"
             ],
             [
              0.5555555555555556,
              "#d8576b"
             ],
             [
              0.6666666666666666,
              "#ed7953"
             ],
             [
              0.7777777777777778,
              "#fb9f3a"
             ],
             [
              0.8888888888888888,
              "#fdca26"
             ],
             [
              1,
              "#f0f921"
             ]
            ],
            "type": "heatmap"
           }
          ],
          "heatmapgl": [
           {
            "colorbar": {
             "outlinewidth": 0,
             "ticks": ""
            },
            "colorscale": [
             [
              0,
              "#0d0887"
             ],
             [
              0.1111111111111111,
              "#46039f"
             ],
             [
              0.2222222222222222,
              "#7201a8"
             ],
             [
              0.3333333333333333,
              "#9c179e"
             ],
             [
              0.4444444444444444,
              "#bd3786"
             ],
             [
              0.5555555555555556,
              "#d8576b"
             ],
             [
              0.6666666666666666,
              "#ed7953"
             ],
             [
              0.7777777777777778,
              "#fb9f3a"
             ],
             [
              0.8888888888888888,
              "#fdca26"
             ],
             [
              1,
              "#f0f921"
             ]
            ],
            "type": "heatmapgl"
           }
          ],
          "histogram": [
           {
            "marker": {
             "colorbar": {
              "outlinewidth": 0,
              "ticks": ""
             }
            },
            "type": "histogram"
           }
          ],
          "histogram2d": [
           {
            "colorbar": {
             "outlinewidth": 0,
             "ticks": ""
            },
            "colorscale": [
             [
              0,
              "#0d0887"
             ],
             [
              0.1111111111111111,
              "#46039f"
             ],
             [
              0.2222222222222222,
              "#7201a8"
             ],
             [
              0.3333333333333333,
              "#9c179e"
             ],
             [
              0.4444444444444444,
              "#bd3786"
             ],
             [
              0.5555555555555556,
              "#d8576b"
             ],
             [
              0.6666666666666666,
              "#ed7953"
             ],
             [
              0.7777777777777778,
              "#fb9f3a"
             ],
             [
              0.8888888888888888,
              "#fdca26"
             ],
             [
              1,
              "#f0f921"
             ]
            ],
            "type": "histogram2d"
           }
          ],
          "histogram2dcontour": [
           {
            "colorbar": {
             "outlinewidth": 0,
             "ticks": ""
            },
            "colorscale": [
             [
              0,
              "#0d0887"
             ],
             [
              0.1111111111111111,
              "#46039f"
             ],
             [
              0.2222222222222222,
              "#7201a8"
             ],
             [
              0.3333333333333333,
              "#9c179e"
             ],
             [
              0.4444444444444444,
              "#bd3786"
             ],
             [
              0.5555555555555556,
              "#d8576b"
             ],
             [
              0.6666666666666666,
              "#ed7953"
             ],
             [
              0.7777777777777778,
              "#fb9f3a"
             ],
             [
              0.8888888888888888,
              "#fdca26"
             ],
             [
              1,
              "#f0f921"
             ]
            ],
            "type": "histogram2dcontour"
           }
          ],
          "mesh3d": [
           {
            "colorbar": {
             "outlinewidth": 0,
             "ticks": ""
            },
            "type": "mesh3d"
           }
          ],
          "parcoords": [
           {
            "line": {
             "colorbar": {
              "outlinewidth": 0,
              "ticks": ""
             }
            },
            "type": "parcoords"
           }
          ],
          "pie": [
           {
            "automargin": true,
            "type": "pie"
           }
          ],
          "scatter": [
           {
            "marker": {
             "colorbar": {
              "outlinewidth": 0,
              "ticks": ""
             }
            },
            "type": "scatter"
           }
          ],
          "scatter3d": [
           {
            "line": {
             "colorbar": {
              "outlinewidth": 0,
              "ticks": ""
             }
            },
            "marker": {
             "colorbar": {
              "outlinewidth": 0,
              "ticks": ""
             }
            },
            "type": "scatter3d"
           }
          ],
          "scattercarpet": [
           {
            "marker": {
             "colorbar": {
              "outlinewidth": 0,
              "ticks": ""
             }
            },
            "type": "scattercarpet"
           }
          ],
          "scattergeo": [
           {
            "marker": {
             "colorbar": {
              "outlinewidth": 0,
              "ticks": ""
             }
            },
            "type": "scattergeo"
           }
          ],
          "scattergl": [
           {
            "marker": {
             "colorbar": {
              "outlinewidth": 0,
              "ticks": ""
             }
            },
            "type": "scattergl"
           }
          ],
          "scattermapbox": [
           {
            "marker": {
             "colorbar": {
              "outlinewidth": 0,
              "ticks": ""
             }
            },
            "type": "scattermapbox"
           }
          ],
          "scatterpolar": [
           {
            "marker": {
             "colorbar": {
              "outlinewidth": 0,
              "ticks": ""
             }
            },
            "type": "scatterpolar"
           }
          ],
          "scatterpolargl": [
           {
            "marker": {
             "colorbar": {
              "outlinewidth": 0,
              "ticks": ""
             }
            },
            "type": "scatterpolargl"
           }
          ],
          "scatterternary": [
           {
            "marker": {
             "colorbar": {
              "outlinewidth": 0,
              "ticks": ""
             }
            },
            "type": "scatterternary"
           }
          ],
          "surface": [
           {
            "colorbar": {
             "outlinewidth": 0,
             "ticks": ""
            },
            "colorscale": [
             [
              0,
              "#0d0887"
             ],
             [
              0.1111111111111111,
              "#46039f"
             ],
             [
              0.2222222222222222,
              "#7201a8"
             ],
             [
              0.3333333333333333,
              "#9c179e"
             ],
             [
              0.4444444444444444,
              "#bd3786"
             ],
             [
              0.5555555555555556,
              "#d8576b"
             ],
             [
              0.6666666666666666,
              "#ed7953"
             ],
             [
              0.7777777777777778,
              "#fb9f3a"
             ],
             [
              0.8888888888888888,
              "#fdca26"
             ],
             [
              1,
              "#f0f921"
             ]
            ],
            "type": "surface"
           }
          ],
          "table": [
           {
            "cells": {
             "fill": {
              "color": "#EBF0F8"
             },
             "line": {
              "color": "white"
             }
            },
            "header": {
             "fill": {
              "color": "#C8D4E3"
             },
             "line": {
              "color": "white"
             }
            },
            "type": "table"
           }
          ]
         },
         "layout": {
          "annotationdefaults": {
           "arrowcolor": "#2a3f5f",
           "arrowhead": 0,
           "arrowwidth": 1
          },
          "coloraxis": {
           "colorbar": {
            "outlinewidth": 0,
            "ticks": ""
           }
          },
          "colorscale": {
           "diverging": [
            [
             0,
             "#8e0152"
            ],
            [
             0.1,
             "#c51b7d"
            ],
            [
             0.2,
             "#de77ae"
            ],
            [
             0.3,
             "#f1b6da"
            ],
            [
             0.4,
             "#fde0ef"
            ],
            [
             0.5,
             "#f7f7f7"
            ],
            [
             0.6,
             "#e6f5d0"
            ],
            [
             0.7,
             "#b8e186"
            ],
            [
             0.8,
             "#7fbc41"
            ],
            [
             0.9,
             "#4d9221"
            ],
            [
             1,
             "#276419"
            ]
           ],
           "sequential": [
            [
             0,
             "#0d0887"
            ],
            [
             0.1111111111111111,
             "#46039f"
            ],
            [
             0.2222222222222222,
             "#7201a8"
            ],
            [
             0.3333333333333333,
             "#9c179e"
            ],
            [
             0.4444444444444444,
             "#bd3786"
            ],
            [
             0.5555555555555556,
             "#d8576b"
            ],
            [
             0.6666666666666666,
             "#ed7953"
            ],
            [
             0.7777777777777778,
             "#fb9f3a"
            ],
            [
             0.8888888888888888,
             "#fdca26"
            ],
            [
             1,
             "#f0f921"
            ]
           ],
           "sequentialminus": [
            [
             0,
             "#0d0887"
            ],
            [
             0.1111111111111111,
             "#46039f"
            ],
            [
             0.2222222222222222,
             "#7201a8"
            ],
            [
             0.3333333333333333,
             "#9c179e"
            ],
            [
             0.4444444444444444,
             "#bd3786"
            ],
            [
             0.5555555555555556,
             "#d8576b"
            ],
            [
             0.6666666666666666,
             "#ed7953"
            ],
            [
             0.7777777777777778,
             "#fb9f3a"
            ],
            [
             0.8888888888888888,
             "#fdca26"
            ],
            [
             1,
             "#f0f921"
            ]
           ]
          },
          "colorway": [
           "#636efa",
           "#EF553B",
           "#00cc96",
           "#ab63fa",
           "#FFA15A",
           "#19d3f3",
           "#FF6692",
           "#B6E880",
           "#FF97FF",
           "#FECB52"
          ],
          "font": {
           "color": "#2a3f5f"
          },
          "geo": {
           "bgcolor": "white",
           "lakecolor": "white",
           "landcolor": "#E5ECF6",
           "showlakes": true,
           "showland": true,
           "subunitcolor": "white"
          },
          "hoverlabel": {
           "align": "left"
          },
          "hovermode": "closest",
          "mapbox": {
           "style": "light"
          },
          "paper_bgcolor": "white",
          "plot_bgcolor": "#E5ECF6",
          "polar": {
           "angularaxis": {
            "gridcolor": "white",
            "linecolor": "white",
            "ticks": ""
           },
           "bgcolor": "#E5ECF6",
           "radialaxis": {
            "gridcolor": "white",
            "linecolor": "white",
            "ticks": ""
           }
          },
          "scene": {
           "xaxis": {
            "backgroundcolor": "#E5ECF6",
            "gridcolor": "white",
            "gridwidth": 2,
            "linecolor": "white",
            "showbackground": true,
            "ticks": "",
            "zerolinecolor": "white"
           },
           "yaxis": {
            "backgroundcolor": "#E5ECF6",
            "gridcolor": "white",
            "gridwidth": 2,
            "linecolor": "white",
            "showbackground": true,
            "ticks": "",
            "zerolinecolor": "white"
           },
           "zaxis": {
            "backgroundcolor": "#E5ECF6",
            "gridcolor": "white",
            "gridwidth": 2,
            "linecolor": "white",
            "showbackground": true,
            "ticks": "",
            "zerolinecolor": "white"
           }
          },
          "shapedefaults": {
           "line": {
            "color": "#2a3f5f"
           }
          },
          "ternary": {
           "aaxis": {
            "gridcolor": "white",
            "linecolor": "white",
            "ticks": ""
           },
           "baxis": {
            "gridcolor": "white",
            "linecolor": "white",
            "ticks": ""
           },
           "bgcolor": "#E5ECF6",
           "caxis": {
            "gridcolor": "white",
            "linecolor": "white",
            "ticks": ""
           }
          },
          "title": {
           "x": 0.05
          },
          "xaxis": {
           "automargin": true,
           "gridcolor": "white",
           "linecolor": "white",
           "ticks": "",
           "title": {
            "standoff": 15
           },
           "zerolinecolor": "white",
           "zerolinewidth": 2
          },
          "yaxis": {
           "automargin": true,
           "gridcolor": "white",
           "linecolor": "white",
           "ticks": "",
           "title": {
            "standoff": 15
           },
           "zerolinecolor": "white",
           "zerolinewidth": 2
          }
         }
        },
        "title": {
         "text": "Ndgc @ 10"
        },
        "xaxis": {
         "anchor": "y",
         "domain": [
          0,
          1
         ],
         "title": {
          "text": "query_model"
         }
        },
        "yaxis": {
         "anchor": "x",
         "domain": [
          0,
          1
         ],
         "title": {
          "text": "value"
         }
        }
       }
      },
      "text/html": [
       "<div>\n",
       "        \n",
       "        \n",
       "            <div id=\"fe962a6d-0724-4807-9be4-c0cb3f523d48\" class=\"plotly-graph-div\" style=\"height:525px; width:100%;\"></div>\n",
       "            <script type=\"text/javascript\">\n",
       "                require([\"plotly\"], function(Plotly) {\n",
       "                    window.PLOTLYENV=window.PLOTLYENV || {};\n",
       "                    \n",
       "                if (document.getElementById(\"fe962a6d-0724-4807-9be4-c0cb3f523d48\")) {\n",
       "                    Plotly.newPlot(\n",
       "                        'fe962a6d-0724-4807-9be4-c0cb3f523d48',\n",
       "                        [{\"alignmentgroup\": \"True\", \"boxpoints\": \"all\", \"hovertemplate\": \"query_model=%{x}<br>value=%{y}<extra></extra>\", \"legendgroup\": \"\", \"marker\": {\"color\": \"#636efa\"}, \"name\": \"\", \"notched\": false, \"offsetgroup\": \"\", \"orientation\": \"v\", \"showlegend\": false, \"type\": \"box\", \"x\": [\"or_bm25_title\", \"or_bm25_title\", \"or_bm25_title\", \"or_bm25_title\", \"or_bm25_title\", \"or_bm25_title\", \"or_bm25_title\", \"or_bm25_title\", \"or_bm25_title\", \"or_bm25_title\", \"or_bm25_title\", \"or_bm25_title\", \"or_bm25_title\", \"or_bm25_title\", \"or_bm25_title\", \"or_bm25_title\", \"or_bm25_title\", \"or_bm25_title\", \"or_bm25_title\", \"or_bm25_title\", \"or_bm25_title\", \"or_bm25_title\", \"or_bm25_title\", \"or_bm25_title\", \"or_bm25_title\", \"or_bm25_title\", \"or_bm25_title\", \"or_bm25_title\", \"or_bm25_title\", \"or_bm25_title\", \"or_bm25_title\", \"or_bm25_title\", \"or_bm25_title\", \"or_bm25_title\", \"or_bm25_title\", \"or_bm25_title\", \"or_bm25_title\", \"or_bm25_title\", \"or_bm25_title\", \"or_bm25_title\", \"or_bm25_title\", \"or_bm25_title\", \"or_bm25_title\", \"or_bm25_title\", \"or_bm25_title\", \"or_bm25_title\", \"or_bm25_title\", \"or_bm25_title\", \"or_bm25_title\", \"or_bm25_title\", \"or_bm25_abstract\", \"or_bm25_abstract\", \"or_bm25_abstract\", \"or_bm25_abstract\", \"or_bm25_abstract\", \"or_bm25_abstract\", \"or_bm25_abstract\", \"or_bm25_abstract\", \"or_bm25_abstract\", \"or_bm25_abstract\", \"or_bm25_abstract\", \"or_bm25_abstract\", \"or_bm25_abstract\", \"or_bm25_abstract\", \"or_bm25_abstract\", \"or_bm25_abstract\", \"or_bm25_abstract\", \"or_bm25_abstract\", \"or_bm25_abstract\", \"or_bm25_abstract\", \"or_bm25_abstract\", \"or_bm25_abstract\", \"or_bm25_abstract\", \"or_bm25_abstract\", \"or_bm25_abstract\", \"or_bm25_abstract\", \"or_bm25_abstract\", \"or_bm25_abstract\", \"or_bm25_abstract\", \"or_bm25_abstract\", \"or_bm25_abstract\", \"or_bm25_abstract\", \"or_bm25_abstract\", \"or_bm25_abstract\", \"or_bm25_abstract\", \"or_bm25_abstract\", \"or_bm25_abstract\", \"or_bm25_abstract\", \"or_bm25_abstract\", \"or_bm25_abstract\", \"or_bm25_abstract\", \"or_bm25_abstract\", \"or_bm25_abstract\", \"or_bm25_abstract\", \"or_bm25_abstract\", \"or_bm25_abstract\", \"or_bm25_abstract\", \"or_bm25_abstract\", \"or_bm25_abstract\", \"or_bm25_abstract\", \"or_bm25_body\", \"or_bm25_body\", \"or_bm25_body\", \"or_bm25_body\", \"or_bm25_body\", \"or_bm25_body\", \"or_bm25_body\", \"or_bm25_body\", \"or_bm25_body\", \"or_bm25_body\", \"or_bm25_body\", \"or_bm25_body\", \"or_bm25_body\", \"or_bm25_body\", \"or_bm25_body\", \"or_bm25_body\", \"or_bm25_body\", \"or_bm25_body\", \"or_bm25_body\", \"or_bm25_body\", \"or_bm25_body\", \"or_bm25_body\", \"or_bm25_body\", \"or_bm25_body\", \"or_bm25_body\", \"or_bm25_body\", \"or_bm25_body\", \"or_bm25_body\", \"or_bm25_body\", \"or_bm25_body\", \"or_bm25_body\", \"or_bm25_body\", \"or_bm25_body\", \"or_bm25_body\", \"or_bm25_body\", \"or_bm25_body\", \"or_bm25_body\", \"or_bm25_body\", \"or_bm25_body\", \"or_bm25_body\", \"or_bm25_body\", \"or_bm25_body\", \"or_bm25_body\", \"or_bm25_body\", \"or_bm25_body\", \"or_bm25_body\", \"or_bm25_body\", \"or_bm25_body\", \"or_bm25_body\", \"or_bm25_body\"], \"x0\": \" \", \"xaxis\": \"x\", \"y\": [0.01092896174863388, 0.013986013986013986, 0.009478672985781991, 0.0048674959437533805, 0.008249852681202121, 0.011823273179838207, 0.01447178002894356, 0.002140181915462814, 0.01141826923076923, 0.012269938650306749, 0.008237232289950576, 0.011685116851168511, 0.001584786053882726, 0.014660493827160493, 0.008076728924785462, 0.006097560975609756, 0.013303769401330377, 0.012830188679245283, 0.013431833445265278, 0.01539708265802269, 0.00875, 0.013584905660377358, 0.014694508894044857, 0.016025641025641024, 0.011949685534591196, 0.009302325581395349, 0.013540961408259987, 0.017225747960108794, 0.014504431909750202, 0.01932367149758454, 0.010582010582010581, 0.0120942075111394, 0.015748031496062992, 0.009229098805646038, 0.013235294117647059, 0.016220600162206, 0.01620745542949757, 0.009375, 0.015822784810126583, 0.016260162601626018, 0.019175455417066157, 0.02600780234070221, 0.022779043280182234, 0.015347334410339256, 0.017079419299743808, 0.01764705882352941, 0.016917293233082706, 0.022757697456492636, 0.008234217749313814, 0.021372328458942633, 0.01153612629022465, 0.01554001554001554, 0.01066350710900474, 0.007030827474310438, 0.011785503830288745, 0.01120099564405725, 0.01447178002894356, 0.006955591225254147, 0.01201923076923077, 0.014899211218229623, 0.01043382756727073, 0.012300123001230012, 0.00792393026941363, 0.015432098765432098, 0.009591115598182737, 0.011585365853658536, 0.014781966001478197, 0.01509433962264151, 0.012760241773002015, 0.01620745542949757, 0.01125, 0.014339622641509434, 0.015467904098994586, 0.016025641025641024, 0.011949685534591196, 0.011627906976744186, 0.013540961408259987, 0.01813236627379873, 0.016116035455278, 0.01932367149758454, 0.011757789535567314, 0.012730744748567792, 0.015748031496062992, 0.01031487513572204, 0.014705882352941176, 0.015409570154095702, 0.01620745542949757, 0.010416666666666666, 0.015822784810126583, 0.016260162601626018, 0.019175455417066157, 0.02600780234070221, 0.022779043280182234, 0.015347334410339256, 0.016225448334756618, 0.029411764705882353, 0.018796992481203006, 0.0214190093708166, 0.01646843549862763, 0.02249718785151856, 0.012143290831815421, 0.01554001554001554, 0.009478672985781991, 0.0075716603569497025, 0.00883912787271656, 0.011823273179838207, 0.01447178002894356, 0.0032102728731942215, 0.01201923076923077, 0.015775635407537247, 0.009884678747940691, 0.01107011070110701, 0.007395668251452721, 0.015432098765432098, 0.009086320040383645, 0.012195121951219513, 0.014042867701404288, 0.014339622641509434, 0.013431833445265278, 0.01620745542949757, 0.01125, 0.013584905660377358, 0.015467904098994586, 0.015224358974358974, 0.011949685534591196, 0.011046511627906977, 0.013540961408259987, 0.01813236627379873, 0.016116035455278, 0.01932367149758454, 0.011169900058788948, 0.012730744748567792, 0.015748031496062992, 0.009229098805646038, 0.013235294117647059, 0.016220600162206, 0.01620745542949757, 0.010416666666666666, 0.015822784810126583, 0.016260162601626018, 0.019175455417066157, 0.02600780234070221, 0.022779043280182234, 0.013731825525040387, 0.016225448334756618, 0.029411764705882353, 0.017857142857142856, 0.02677376171352075, 0.011893870082342177, 0.021372328458942633], \"y0\": \" \", \"yaxis\": \"y\"}],\n",
       "                        {\"boxmode\": \"group\", \"legend\": {\"tracegroupgap\": 0}, \"template\": {\"data\": {\"bar\": [{\"error_x\": {\"color\": \"#2a3f5f\"}, \"error_y\": {\"color\": \"#2a3f5f\"}, \"marker\": {\"line\": {\"color\": \"#E5ECF6\", \"width\": 0.5}}, \"type\": \"bar\"}], \"barpolar\": [{\"marker\": {\"line\": {\"color\": \"#E5ECF6\", \"width\": 0.5}}, \"type\": \"barpolar\"}], \"carpet\": [{\"aaxis\": {\"endlinecolor\": \"#2a3f5f\", \"gridcolor\": \"white\", \"linecolor\": \"white\", \"minorgridcolor\": \"white\", \"startlinecolor\": \"#2a3f5f\"}, \"baxis\": {\"endlinecolor\": \"#2a3f5f\", \"gridcolor\": \"white\", \"linecolor\": \"white\", \"minorgridcolor\": \"white\", \"startlinecolor\": \"#2a3f5f\"}, \"type\": \"carpet\"}], \"choropleth\": [{\"colorbar\": {\"outlinewidth\": 0, \"ticks\": \"\"}, \"type\": \"choropleth\"}], \"contour\": [{\"colorbar\": {\"outlinewidth\": 0, \"ticks\": \"\"}, \"colorscale\": [[0.0, \"#0d0887\"], [0.1111111111111111, \"#46039f\"], [0.2222222222222222, \"#7201a8\"], [0.3333333333333333, \"#9c179e\"], [0.4444444444444444, \"#bd3786\"], [0.5555555555555556, \"#d8576b\"], [0.6666666666666666, \"#ed7953\"], [0.7777777777777778, \"#fb9f3a\"], [0.8888888888888888, \"#fdca26\"], [1.0, \"#f0f921\"]], \"type\": \"contour\"}], \"contourcarpet\": [{\"colorbar\": {\"outlinewidth\": 0, \"ticks\": \"\"}, \"type\": \"contourcarpet\"}], \"heatmap\": [{\"colorbar\": {\"outlinewidth\": 0, \"ticks\": \"\"}, \"colorscale\": [[0.0, \"#0d0887\"], [0.1111111111111111, \"#46039f\"], [0.2222222222222222, \"#7201a8\"], [0.3333333333333333, \"#9c179e\"], [0.4444444444444444, \"#bd3786\"], [0.5555555555555556, \"#d8576b\"], [0.6666666666666666, \"#ed7953\"], [0.7777777777777778, \"#fb9f3a\"], [0.8888888888888888, \"#fdca26\"], [1.0, \"#f0f921\"]], \"type\": \"heatmap\"}], \"heatmapgl\": [{\"colorbar\": {\"outlinewidth\": 0, \"ticks\": \"\"}, \"colorscale\": [[0.0, \"#0d0887\"], [0.1111111111111111, \"#46039f\"], [0.2222222222222222, \"#7201a8\"], [0.3333333333333333, \"#9c179e\"], [0.4444444444444444, \"#bd3786\"], [0.5555555555555556, \"#d8576b\"], [0.6666666666666666, \"#ed7953\"], [0.7777777777777778, \"#fb9f3a\"], [0.8888888888888888, \"#fdca26\"], [1.0, \"#f0f921\"]], \"type\": \"heatmapgl\"}], \"histogram\": [{\"marker\": {\"colorbar\": {\"outlinewidth\": 0, \"ticks\": \"\"}}, \"type\": \"histogram\"}], \"histogram2d\": [{\"colorbar\": {\"outlinewidth\": 0, \"ticks\": \"\"}, \"colorscale\": [[0.0, \"#0d0887\"], [0.1111111111111111, \"#46039f\"], [0.2222222222222222, \"#7201a8\"], [0.3333333333333333, \"#9c179e\"], [0.4444444444444444, \"#bd3786\"], [0.5555555555555556, \"#d8576b\"], [0.6666666666666666, \"#ed7953\"], [0.7777777777777778, \"#fb9f3a\"], [0.8888888888888888, \"#fdca26\"], [1.0, \"#f0f921\"]], \"type\": \"histogram2d\"}], \"histogram2dcontour\": [{\"colorbar\": {\"outlinewidth\": 0, \"ticks\": \"\"}, \"colorscale\": [[0.0, \"#0d0887\"], [0.1111111111111111, \"#46039f\"], [0.2222222222222222, \"#7201a8\"], [0.3333333333333333, \"#9c179e\"], [0.4444444444444444, \"#bd3786\"], [0.5555555555555556, \"#d8576b\"], [0.6666666666666666, \"#ed7953\"], [0.7777777777777778, \"#fb9f3a\"], [0.8888888888888888, \"#fdca26\"], [1.0, \"#f0f921\"]], \"type\": \"histogram2dcontour\"}], \"mesh3d\": [{\"colorbar\": {\"outlinewidth\": 0, \"ticks\": \"\"}, \"type\": \"mesh3d\"}], \"parcoords\": [{\"line\": {\"colorbar\": {\"outlinewidth\": 0, \"ticks\": \"\"}}, \"type\": \"parcoords\"}], \"pie\": [{\"automargin\": true, \"type\": \"pie\"}], \"scatter\": [{\"marker\": {\"colorbar\": {\"outlinewidth\": 0, \"ticks\": \"\"}}, \"type\": \"scatter\"}], \"scatter3d\": [{\"line\": {\"colorbar\": {\"outlinewidth\": 0, \"ticks\": \"\"}}, \"marker\": {\"colorbar\": {\"outlinewidth\": 0, \"ticks\": \"\"}}, \"type\": \"scatter3d\"}], \"scattercarpet\": [{\"marker\": {\"colorbar\": {\"outlinewidth\": 0, \"ticks\": \"\"}}, \"type\": \"scattercarpet\"}], \"scattergeo\": [{\"marker\": {\"colorbar\": {\"outlinewidth\": 0, \"ticks\": \"\"}}, \"type\": \"scattergeo\"}], \"scattergl\": [{\"marker\": {\"colorbar\": {\"outlinewidth\": 0, \"ticks\": \"\"}}, \"type\": \"scattergl\"}], \"scattermapbox\": [{\"marker\": {\"colorbar\": {\"outlinewidth\": 0, \"ticks\": \"\"}}, \"type\": \"scattermapbox\"}], \"scatterpolar\": [{\"marker\": {\"colorbar\": {\"outlinewidth\": 0, \"ticks\": \"\"}}, \"type\": \"scatterpolar\"}], \"scatterpolargl\": [{\"marker\": {\"colorbar\": {\"outlinewidth\": 0, \"ticks\": \"\"}}, \"type\": \"scatterpolargl\"}], \"scatterternary\": [{\"marker\": {\"colorbar\": {\"outlinewidth\": 0, \"ticks\": \"\"}}, \"type\": \"scatterternary\"}], \"surface\": [{\"colorbar\": {\"outlinewidth\": 0, \"ticks\": \"\"}, \"colorscale\": [[0.0, \"#0d0887\"], [0.1111111111111111, \"#46039f\"], [0.2222222222222222, \"#7201a8\"], [0.3333333333333333, \"#9c179e\"], [0.4444444444444444, \"#bd3786\"], [0.5555555555555556, \"#d8576b\"], [0.6666666666666666, \"#ed7953\"], [0.7777777777777778, \"#fb9f3a\"], [0.8888888888888888, \"#fdca26\"], [1.0, \"#f0f921\"]], \"type\": \"surface\"}], \"table\": [{\"cells\": {\"fill\": {\"color\": \"#EBF0F8\"}, \"line\": {\"color\": \"white\"}}, \"header\": {\"fill\": {\"color\": \"#C8D4E3\"}, \"line\": {\"color\": \"white\"}}, \"type\": \"table\"}]}, \"layout\": {\"annotationdefaults\": {\"arrowcolor\": \"#2a3f5f\", \"arrowhead\": 0, \"arrowwidth\": 1}, \"coloraxis\": {\"colorbar\": {\"outlinewidth\": 0, \"ticks\": \"\"}}, \"colorscale\": {\"diverging\": [[0, \"#8e0152\"], [0.1, \"#c51b7d\"], [0.2, \"#de77ae\"], [0.3, \"#f1b6da\"], [0.4, \"#fde0ef\"], [0.5, \"#f7f7f7\"], [0.6, \"#e6f5d0\"], [0.7, \"#b8e186\"], [0.8, \"#7fbc41\"], [0.9, \"#4d9221\"], [1, \"#276419\"]], \"sequential\": [[0.0, \"#0d0887\"], [0.1111111111111111, \"#46039f\"], [0.2222222222222222, \"#7201a8\"], [0.3333333333333333, \"#9c179e\"], [0.4444444444444444, \"#bd3786\"], [0.5555555555555556, \"#d8576b\"], [0.6666666666666666, \"#ed7953\"], [0.7777777777777778, \"#fb9f3a\"], [0.8888888888888888, \"#fdca26\"], [1.0, \"#f0f921\"]], \"sequentialminus\": [[0.0, \"#0d0887\"], [0.1111111111111111, \"#46039f\"], [0.2222222222222222, \"#7201a8\"], [0.3333333333333333, \"#9c179e\"], [0.4444444444444444, \"#bd3786\"], [0.5555555555555556, \"#d8576b\"], [0.6666666666666666, \"#ed7953\"], [0.7777777777777778, \"#fb9f3a\"], [0.8888888888888888, \"#fdca26\"], [1.0, \"#f0f921\"]]}, \"colorway\": [\"#636efa\", \"#EF553B\", \"#00cc96\", \"#ab63fa\", \"#FFA15A\", \"#19d3f3\", \"#FF6692\", \"#B6E880\", \"#FF97FF\", \"#FECB52\"], \"font\": {\"color\": \"#2a3f5f\"}, \"geo\": {\"bgcolor\": \"white\", \"lakecolor\": \"white\", \"landcolor\": \"#E5ECF6\", \"showlakes\": true, \"showland\": true, \"subunitcolor\": \"white\"}, \"hoverlabel\": {\"align\": \"left\"}, \"hovermode\": \"closest\", \"mapbox\": {\"style\": \"light\"}, \"paper_bgcolor\": \"white\", \"plot_bgcolor\": \"#E5ECF6\", \"polar\": {\"angularaxis\": {\"gridcolor\": \"white\", \"linecolor\": \"white\", \"ticks\": \"\"}, \"bgcolor\": \"#E5ECF6\", \"radialaxis\": {\"gridcolor\": \"white\", \"linecolor\": \"white\", \"ticks\": \"\"}}, \"scene\": {\"xaxis\": {\"backgroundcolor\": \"#E5ECF6\", \"gridcolor\": \"white\", \"gridwidth\": 2, \"linecolor\": \"white\", \"showbackground\": true, \"ticks\": \"\", \"zerolinecolor\": \"white\"}, \"yaxis\": {\"backgroundcolor\": \"#E5ECF6\", \"gridcolor\": \"white\", \"gridwidth\": 2, \"linecolor\": \"white\", \"showbackground\": true, \"ticks\": \"\", \"zerolinecolor\": \"white\"}, \"zaxis\": {\"backgroundcolor\": \"#E5ECF6\", \"gridcolor\": \"white\", \"gridwidth\": 2, \"linecolor\": \"white\", \"showbackground\": true, \"ticks\": \"\", \"zerolinecolor\": \"white\"}}, \"shapedefaults\": {\"line\": {\"color\": \"#2a3f5f\"}}, \"ternary\": {\"aaxis\": {\"gridcolor\": \"white\", \"linecolor\": \"white\", \"ticks\": \"\"}, \"baxis\": {\"gridcolor\": \"white\", \"linecolor\": \"white\", \"ticks\": \"\"}, \"bgcolor\": \"#E5ECF6\", \"caxis\": {\"gridcolor\": \"white\", \"linecolor\": \"white\", \"ticks\": \"\"}}, \"title\": {\"x\": 0.05}, \"xaxis\": {\"automargin\": true, \"gridcolor\": \"white\", \"linecolor\": \"white\", \"ticks\": \"\", \"title\": {\"standoff\": 15}, \"zerolinecolor\": \"white\", \"zerolinewidth\": 2}, \"yaxis\": {\"automargin\": true, \"gridcolor\": \"white\", \"linecolor\": \"white\", \"ticks\": \"\", \"title\": {\"standoff\": 15}, \"zerolinecolor\": \"white\", \"zerolinewidth\": 2}}}, \"title\": {\"text\": \"Ndgc @ 10\"}, \"xaxis\": {\"anchor\": \"y\", \"domain\": [0.0, 1.0], \"title\": {\"text\": \"query_model\"}}, \"yaxis\": {\"anchor\": \"x\", \"domain\": [0.0, 1.0], \"title\": {\"text\": \"value\"}}},\n",
       "                        {\"responsive\": true}\n",
       "                    ).then(function(){\n",
       "                            \n",
       "var gd = document.getElementById('fe962a6d-0724-4807-9be4-c0cb3f523d48');\n",
       "var x = new MutationObserver(function (mutations, observer) {{\n",
       "        var display = window.getComputedStyle(gd).display;\n",
       "        if (!display || display === 'none') {{\n",
       "            console.log([gd, 'removed!']);\n",
       "            Plotly.purge(gd);\n",
       "            observer.disconnect();\n",
       "        }}\n",
       "}});\n",
       "\n",
       "// Listen for the removal of the full notebook cells\n",
       "var notebookContainer = gd.closest('#notebook-container');\n",
       "if (notebookContainer) {{\n",
       "    x.observe(notebookContainer, {childList: true});\n",
       "}}\n",
       "\n",
       "// Listen for the clearing of the current output cell\n",
       "var outputEl = gd.closest('.output');\n",
       "if (outputEl) {{\n",
       "    x.observe(outputEl, {childList: true});\n",
       "}}\n",
       "\n",
       "                        })\n",
       "                };\n",
       "                });\n",
       "            </script>\n",
       "        </div>"
      ]
     },
     "metadata": {},
     "output_type": "display_data"
    }
   ],
   "source": [
    "import plotly.express as px\n",
    "\n",
    "\n",
    "fig = px.box(\n",
    "    metric_values[metric_values.metric == \"recall_20\"],\n",
    "    x=\"query_model\",\n",
    "    y=\"value\",\n",
    "    title=\"Ndgc @ 10\",\n",
    "    points=\"all\"\n",
    ")\n",
    "fig.show()\n",
    "\n"
   ]
  },
  {
   "cell_type": "code",
   "execution_count": 39,
   "metadata": {},
   "outputs": [
    {
     "data": {
      "text/plain": [
       "0.7734033951990427"
      ]
     },
     "execution_count": 39,
     "metadata": {},
     "output_type": "execute_result"
    }
   ],
   "source": [
    "evaluation.mean()[\"ndcg_10_value\"]"
   ]
  },
  {
   "cell_type": "code",
   "execution_count": 42,
   "metadata": {},
   "outputs": [],
   "source": [
    "app_package.schema.add_rank_profile(\n",
    "    RankProfile(name = \"bm25_2titile_3abstract_5body\",\n",
    "                inherits = \"default\",\n",
    "                first_phase = \"0.2*bm25(title)+0.3*bm25(abstract)+0.5*bm25(body)\"))\n",
    "name = \"cord_19_application\"\n",
    "\n",
    "path = \"C:\\\\Users\\\\User\\\\OneDrive - NTNU\\\\NTNU\\\\Prosjekt oppgave NLP\\\\docker_apps\\\\\"\n",
    "\n",
    "\n",
    "app = vespa_docker.deploy(application_package=app_package, \n",
    "                          disk_folder=path + name,\n",
    "                          container_memory = '8G')"
   ]
  },
  {
   "cell_type": "code",
   "execution_count": 109,
   "metadata": {},
   "outputs": [
    {
     "data": {
      "text/plain": [
       "query_id                      2.469136e+88\n",
       "match_ratio_retrieved_docs    1.798392e+04\n",
       "match_ratio_docs_available    2.142400e+04\n",
       "match_ratio_value             8.394287e-01\n",
       "recall_10_value               7.553491e-03\n",
       "reciprocal_rank_10_value      1.000000e+00\n",
       "ndcg_10_ideal_dcg             5.673868e+00\n",
       "ndcg_10_dcg                   4.927989e+00\n",
       "ndcg_10_value                 7.627245e-01\n",
       "dtype: float64"
      ]
     },
     "execution_count": 109,
     "metadata": {},
     "output_type": "execute_result"
    }
   ],
   "source": [
    "model = Query(match_phase=OR(),\n",
    "      rank_profile=Ranking(name=\"bm25_2titile_3abstract_5body\")\n",
    "    )\n",
    "evaluation = app.evaluate(\n",
    "        labeled_data = labeled_data,\n",
    "        eval_metrics = eval_metrics,\n",
    "        query_model = model,\n",
    "        id_field = \"id\",\n",
    "        hits = 10\n",
    "    )\n",
    "evaluation.mean()"
   ]
  },
  {
   "cell_type": "markdown",
   "metadata": {},
   "source": [
    "## Testing weighting of BM25\n",
    "\n",
    "Here we will stest what is the optimal weginthing of the bm25 formula\n",
    "\n",
    "$$\n",
    "    bm25_w = \\alpha \\cdot bm25(title) + \\beta \\cdot bm25(abstract) + (1 - \\alpha - \\beta) \\cdot bm25(body)\n",
    "$$\n",
    "\n",
    "Whith te restriction that $\\alpha,\\beta \\in [0,1]$ and $\\alpha + \\beta  \\leq 1$. "
   ]
  },
  {
   "cell_type": "code",
   "execution_count": 141,
   "metadata": {},
   "outputs": [
    {
     "name": "stdout",
     "output_type": "stream",
     "text": [
      "[0.0, 0.05, 0.1, 0.15, 0.2, 0.25, 0.3, 0.35, 0.4, 0.45, 0.5, 0.55, 0.6, 0.65, 0.7, 0.75, 0.8, 0.85, 0.9, 0.95, 1.0]\n",
      "bm25_0.0t0.0a1.0b\n",
      "bm25_0.0t0.05a0.95b\n",
      "bm25_0.0t0.1a0.9b\n",
      "bm25_0.0t0.15a0.85b\n",
      "bm25_0.0t0.2a0.8b\n",
      "bm25_0.0t0.25a0.75b\n",
      "bm25_0.0t0.3a0.7b\n",
      "bm25_0.0t0.35a0.65b\n",
      "bm25_0.0t0.4a0.6b\n",
      "bm25_0.0t0.45a0.55b\n",
      "bm25_0.0t0.5a0.5b\n",
      "bm25_0.0t0.55a0.45b\n",
      "bm25_0.0t0.6a0.4b\n",
      "bm25_0.0t0.65a0.35b\n",
      "bm25_0.0t0.7a0.3b\n",
      "bm25_0.0t0.75a0.25b\n",
      "bm25_0.0t0.8a0.2b\n",
      "bm25_0.0t0.85a0.15b\n",
      "bm25_0.0t0.9a0.1b\n",
      "bm25_0.0t0.95a0.05b\n",
      "bm25_0.0t1.0a0.0b\n",
      "bm25_0.05t0.0a0.95b\n",
      "bm25_0.05t0.05a0.9b\n",
      "bm25_0.05t0.1a0.85b\n",
      "bm25_0.05t0.15a0.8b\n",
      "bm25_0.05t0.2a0.75b\n",
      "bm25_0.05t0.25a0.7b\n",
      "bm25_0.05t0.3a0.65b\n",
      "bm25_0.05t0.35a0.6b\n",
      "bm25_0.05t0.4a0.55b\n",
      "bm25_0.05t0.45a0.5b\n",
      "bm25_0.05t0.5a0.45b\n",
      "bm25_0.05t0.55a0.4b\n",
      "bm25_0.05t0.6a0.35b\n",
      "bm25_0.05t0.65a0.3b\n",
      "bm25_0.05t0.7a0.25b\n",
      "bm25_0.05t0.75a0.2b\n",
      "bm25_0.05t0.8a0.15b\n",
      "bm25_0.05t0.85a0.1b\n",
      "bm25_0.05t0.9a0.05b\n",
      "bm25_0.05t0.95a0.0b\n",
      "bm25_0.1t0.0a0.9b\n",
      "bm25_0.1t0.05a0.85b\n",
      "bm25_0.1t0.1a0.8b\n",
      "bm25_0.1t0.15a0.75b\n",
      "bm25_0.1t0.2a0.7b\n",
      "bm25_0.1t0.25a0.65b\n",
      "bm25_0.1t0.3a0.6b\n",
      "bm25_0.1t0.35a0.55b\n",
      "bm25_0.1t0.4a0.5b\n",
      "bm25_0.1t0.45a0.45b\n",
      "bm25_0.1t0.5a0.4b\n",
      "bm25_0.1t0.55a0.35b\n",
      "bm25_0.1t0.6a0.3b\n",
      "bm25_0.1t0.65a0.25b\n",
      "bm25_0.1t0.7a0.2b\n",
      "bm25_0.1t0.75a0.15b\n",
      "bm25_0.1t0.8a0.1b\n",
      "bm25_0.1t0.85a0.05b\n",
      "bm25_0.1t0.9a0.0b\n",
      "bm25_0.15t0.0a0.85b\n",
      "bm25_0.15t0.05a0.8b\n",
      "bm25_0.15t0.1a0.75b\n",
      "bm25_0.15t0.15a0.7b\n",
      "bm25_0.15t0.2a0.65b\n",
      "bm25_0.15t0.25a0.6b\n",
      "bm25_0.15t0.3a0.55b\n",
      "bm25_0.15t0.35a0.5b\n",
      "bm25_0.15t0.4a0.45b\n",
      "bm25_0.15t0.45a0.4b\n",
      "bm25_0.15t0.5a0.35b\n",
      "bm25_0.15t0.55a0.3b\n",
      "bm25_0.15t0.6a0.25b\n",
      "bm25_0.15t0.65a0.2b\n",
      "bm25_0.15t0.7a0.15b\n",
      "bm25_0.15t0.75a0.1b\n",
      "bm25_0.15t0.8a0.05b\n",
      "bm25_0.15t0.85a0.0b\n",
      "bm25_0.2t0.0a0.8b\n",
      "bm25_0.2t0.05a0.75b\n",
      "bm25_0.2t0.1a0.7b\n",
      "bm25_0.2t0.15a0.65b\n",
      "bm25_0.2t0.2a0.6b\n",
      "bm25_0.2t0.25a0.55b\n",
      "bm25_0.2t0.3a0.5b\n",
      "bm25_0.2t0.35a0.45b\n",
      "bm25_0.2t0.4a0.4b\n",
      "bm25_0.2t0.45a0.35b\n",
      "bm25_0.2t0.5a0.3b\n",
      "bm25_0.2t0.55a0.25b\n",
      "bm25_0.2t0.6a0.2b\n",
      "bm25_0.2t0.65a0.15b\n",
      "bm25_0.2t0.7a0.1b\n",
      "bm25_0.2t0.75a0.05b\n",
      "bm25_0.2t0.8a0.0b\n",
      "bm25_0.25t0.0a0.75b\n",
      "bm25_0.25t0.05a0.7b\n",
      "bm25_0.25t0.1a0.65b\n",
      "bm25_0.25t0.15a0.6b\n",
      "bm25_0.25t0.2a0.55b\n",
      "bm25_0.25t0.25a0.5b\n",
      "bm25_0.25t0.3a0.45b\n",
      "bm25_0.25t0.35a0.4b\n",
      "bm25_0.25t0.4a0.35b\n",
      "bm25_0.25t0.45a0.3b\n",
      "bm25_0.25t0.5a0.25b\n",
      "bm25_0.25t0.55a0.2b\n",
      "bm25_0.25t0.6a0.15b\n",
      "bm25_0.25t0.65a0.1b\n",
      "bm25_0.25t0.7a0.05b\n",
      "bm25_0.25t0.75a0.0b\n",
      "bm25_0.3t0.0a0.7b\n",
      "bm25_0.3t0.05a0.65b\n",
      "bm25_0.3t0.1a0.6b\n",
      "bm25_0.3t0.15a0.55b\n",
      "bm25_0.3t0.2a0.5b\n",
      "bm25_0.3t0.25a0.45b\n",
      "bm25_0.3t0.3a0.4b\n",
      "bm25_0.3t0.35a0.35b\n",
      "bm25_0.3t0.4a0.3b\n",
      "bm25_0.3t0.45a0.25b\n",
      "bm25_0.3t0.5a0.2b\n",
      "bm25_0.3t0.55a0.15b\n",
      "bm25_0.3t0.6a0.1b\n",
      "bm25_0.3t0.65a0.05b\n",
      "bm25_0.3t0.7a0.0b\n",
      "bm25_0.35t0.0a0.65b\n",
      "bm25_0.35t0.05a0.6b\n",
      "bm25_0.35t0.1a0.55b\n",
      "bm25_0.35t0.15a0.5b\n",
      "bm25_0.35t0.2a0.45b\n",
      "bm25_0.35t0.25a0.4b\n",
      "bm25_0.35t0.3a0.35b\n",
      "bm25_0.35t0.35a0.3b\n",
      "bm25_0.35t0.4a0.25b\n",
      "bm25_0.35t0.45a0.2b\n",
      "bm25_0.35t0.5a0.15b\n",
      "bm25_0.35t0.55a0.1b\n",
      "bm25_0.35t0.6a0.05b\n",
      "bm25_0.35t0.65a0.0b\n",
      "bm25_0.4t0.0a0.6b\n",
      "bm25_0.4t0.05a0.55b\n",
      "bm25_0.4t0.1a0.5b\n",
      "bm25_0.4t0.15a0.45b\n",
      "bm25_0.4t0.2a0.4b\n",
      "bm25_0.4t0.25a0.35b\n",
      "bm25_0.4t0.3a0.3b\n",
      "bm25_0.4t0.35a0.25b\n",
      "bm25_0.4t0.4a0.2b\n",
      "bm25_0.4t0.45a0.15b\n",
      "bm25_0.4t0.5a0.1b\n",
      "bm25_0.4t0.55a0.05b\n",
      "bm25_0.4t0.6a0.0b\n",
      "bm25_0.45t0.0a0.55b\n",
      "bm25_0.45t0.05a0.5b\n",
      "bm25_0.45t0.1a0.45b\n",
      "bm25_0.45t0.15a0.4b\n",
      "bm25_0.45t0.2a0.35b\n",
      "bm25_0.45t0.25a0.3b\n",
      "bm25_0.45t0.3a0.25b\n",
      "bm25_0.45t0.35a0.2b\n",
      "bm25_0.45t0.4a0.15b\n",
      "bm25_0.45t0.45a0.1b\n",
      "bm25_0.45t0.5a0.05b\n",
      "bm25_0.45t0.55a0.0b\n",
      "bm25_0.5t0.0a0.5b\n",
      "bm25_0.5t0.05a0.45b\n",
      "bm25_0.5t0.1a0.4b\n",
      "bm25_0.5t0.15a0.35b\n",
      "bm25_0.5t0.2a0.3b\n",
      "bm25_0.5t0.25a0.25b\n",
      "bm25_0.5t0.3a0.2b\n",
      "bm25_0.5t0.35a0.15b\n",
      "bm25_0.5t0.4a0.1b\n",
      "bm25_0.5t0.45a0.05b\n",
      "bm25_0.5t0.5a0.0b\n",
      "bm25_0.55t0.0a0.45b\n",
      "bm25_0.55t0.05a0.4b\n",
      "bm25_0.55t0.1a0.35b\n",
      "bm25_0.55t0.15a0.3b\n",
      "bm25_0.55t0.2a0.25b\n",
      "bm25_0.55t0.25a0.2b\n",
      "bm25_0.55t0.3a0.15b\n",
      "bm25_0.55t0.35a0.1b\n",
      "bm25_0.55t0.4a0.05b\n",
      "bm25_0.55t0.45a0.0b\n",
      "bm25_0.6t0.0a0.4b\n",
      "bm25_0.6t0.05a0.35b\n",
      "bm25_0.6t0.1a0.3b\n",
      "bm25_0.6t0.15a0.25b\n",
      "bm25_0.6t0.2a0.2b\n",
      "bm25_0.6t0.25a0.15b\n",
      "bm25_0.6t0.3a0.1b\n",
      "bm25_0.6t0.35a0.05b\n",
      "bm25_0.6t0.4a0.0b\n",
      "bm25_0.65t0.0a0.35b\n",
      "bm25_0.65t0.05a0.3b\n",
      "bm25_0.65t0.1a0.25b\n",
      "bm25_0.65t0.15a0.2b\n",
      "bm25_0.65t0.2a0.15b\n",
      "bm25_0.65t0.25a0.1b\n",
      "bm25_0.65t0.3a0.05b\n",
      "bm25_0.65t0.35a0.0b\n",
      "bm25_0.7t0.0a0.3b\n",
      "bm25_0.7t0.05a0.25b\n",
      "bm25_0.7t0.1a0.2b\n",
      "bm25_0.7t0.15a0.15b\n",
      "bm25_0.7t0.2a0.1b\n",
      "bm25_0.7t0.25a0.05b\n",
      "bm25_0.7t0.3a0.0b\n",
      "bm25_0.75t0.0a0.25b\n",
      "bm25_0.75t0.05a0.2b\n",
      "bm25_0.75t0.1a0.15b\n",
      "bm25_0.75t0.15a0.1b\n",
      "bm25_0.75t0.2a0.05b\n",
      "bm25_0.75t0.25a0.0b\n",
      "bm25_0.8t0.0a0.2b\n",
      "bm25_0.8t0.05a0.15b\n",
      "bm25_0.8t0.1a0.1b\n",
      "bm25_0.8t0.15a0.05b\n",
      "bm25_0.8t0.2a0.0b\n",
      "bm25_0.85t0.0a0.15b\n",
      "bm25_0.85t0.05a0.1b\n",
      "bm25_0.85t0.1a0.05b\n",
      "bm25_0.85t0.15a0.0b\n",
      "bm25_0.9t0.0a0.1b\n",
      "bm25_0.9t0.05a0.05b\n",
      "bm25_0.9t0.1a0.0b\n",
      "bm25_0.95t0.0a0.05b\n",
      "bm25_0.95t0.05a0.0b\n",
      "bm25_1.0t0.0a0.0b\n"
     ]
    }
   ],
   "source": [
    "ranking_name = []\n",
    "ranking_detail = []\n",
    "alpha = [i/20 for i in range(21)]\n",
    "beta = [i/20 for i in range(21)]\n",
    "\n",
    "print(alpha)\n",
    "\n",
    "for a in alpha:\n",
    "    for b in beta:\n",
    "        if a + b <= 1 + 0.001:\n",
    "            # Can get c= -0.0, but this will give issues so we add 0.01\n",
    "            c = round(1 - a - b + 0.001,2)\n",
    "            #print(a,b,c,\"\\t\",round(a+b+c,1))\n",
    "            name = \"bm25_\" + str(a) + \"t\" + str(b) + \"a\" + str(c) + \"b\"\n",
    "            print(name)\n",
    "            rank = str(a) + \"*bm25(title)+\" + str(b) + \"*bm25(abstract)+\"+ str(c) + \"*bm25(body)\"\n",
    "            ranking_name.append(name)\n",
    "            ranking_detail.append(rank)\n",
    "            \n",
    "            app_package.schema.add_rank_profile(\n",
    "                RankProfile(name = name,\n",
    "                inherits = \"default\",\n",
    "                first_phase = rank))"
   ]
  },
  {
   "cell_type": "code",
   "execution_count": 142,
   "metadata": {},
   "outputs": [],
   "source": [
    "name = \"cord_19_application\"\n",
    "\n",
    "path = \"C:\\\\Users\\\\User\\\\OneDrive - NTNU\\\\NTNU\\\\Prosjekt oppgave NLP\\\\docker_apps\\\\\"\n",
    "\n",
    "\n",
    "app = vespa_docker.deploy(application_package=app_package, \n",
    "                          disk_folder=path + name,\n",
    "                          container_memory = '8G')"
   ]
  },
  {
   "cell_type": "code",
   "execution_count": 143,
   "metadata": {},
   "outputs": [
    {
     "name": "stdout",
     "output_type": "stream",
     "text": [
      "name:  bm25_0.0t0.0a1.0b \t ndcg@10 mean value:  0.773 \t ndcg@10 std value:  0.264\n",
      "name:  bm25_0.0t0.05a0.95b \t ndcg@10 mean value:  0.78 \t ndcg@10 std value:  0.271\n",
      "name:  bm25_0.0t0.1a0.9b \t ndcg@10 mean value:  0.788 \t ndcg@10 std value:  0.27\n",
      "name:  bm25_0.0t0.15a0.85b \t ndcg@10 mean value:  0.787 \t ndcg@10 std value:  0.255\n",
      "name:  bm25_0.0t0.2a0.8b \t ndcg@10 mean value:  0.785 \t ndcg@10 std value:  0.241\n",
      "name:  bm25_0.0t0.25a0.75b \t ndcg@10 mean value:  0.797 \t ndcg@10 std value:  0.241\n",
      "name:  bm25_0.0t0.3a0.7b \t ndcg@10 mean value:  0.778 \t ndcg@10 std value:  0.256\n",
      "name:  bm25_0.0t0.35a0.65b \t ndcg@10 mean value:  0.772 \t ndcg@10 std value:  0.259\n",
      "name:  bm25_0.0t0.4a0.6b \t ndcg@10 mean value:  0.754 \t ndcg@10 std value:  0.278\n",
      "name:  bm25_0.0t0.45a0.55b \t ndcg@10 mean value:  0.763 \t ndcg@10 std value:  0.265\n",
      "name:  bm25_0.0t0.5a0.5b \t ndcg@10 mean value:  0.762 \t ndcg@10 std value:  0.246\n",
      "name:  bm25_0.0t0.55a0.45b \t ndcg@10 mean value:  0.765 \t ndcg@10 std value:  0.243\n",
      "name:  bm25_0.0t0.6a0.4b \t ndcg@10 mean value:  0.771 \t ndcg@10 std value:  0.229\n",
      "name:  bm25_0.0t0.65a0.35b \t ndcg@10 mean value:  0.765 \t ndcg@10 std value:  0.239\n",
      "name:  bm25_0.0t0.7a0.3b \t ndcg@10 mean value:  0.768 \t ndcg@10 std value:  0.256\n",
      "name:  bm25_0.0t0.75a0.25b \t ndcg@10 mean value:  0.769 \t ndcg@10 std value:  0.257\n",
      "name:  bm25_0.0t0.8a0.2b \t ndcg@10 mean value:  0.766 \t ndcg@10 std value:  0.259\n",
      "name:  bm25_0.0t0.85a0.15b \t ndcg@10 mean value:  0.762 \t ndcg@10 std value:  0.272\n",
      "name:  bm25_0.0t0.9a0.1b \t ndcg@10 mean value:  0.761 \t ndcg@10 std value:  0.272\n",
      "name:  bm25_0.0t0.95a0.05b \t ndcg@10 mean value:  0.713 \t ndcg@10 std value:  0.311\n",
      "name:  bm25_0.0t1.0a0.0b \t ndcg@10 mean value:  0.741 \t ndcg@10 std value:  0.277\n",
      "name:  bm25_0.05t0.0a0.95b \t ndcg@10 mean value:  0.784 \t ndcg@10 std value:  0.264\n",
      "name:  bm25_0.05t0.05a0.9b \t ndcg@10 mean value:  0.79 \t ndcg@10 std value:  0.256\n",
      "name:  bm25_0.05t0.1a0.85b \t ndcg@10 mean value:  0.783 \t ndcg@10 std value:  0.272\n",
      "name:  bm25_0.05t0.15a0.8b \t ndcg@10 mean value:  0.79 \t ndcg@10 std value:  0.258\n",
      "name:  bm25_0.05t0.2a0.75b \t ndcg@10 mean value:  0.791 \t ndcg@10 std value:  0.258\n",
      "name:  bm25_0.05t0.25a0.7b \t ndcg@10 mean value:  0.79 \t ndcg@10 std value:  0.243\n",
      "name:  bm25_0.05t0.3a0.65b \t ndcg@10 mean value:  0.794 \t ndcg@10 std value:  0.227\n",
      "name:  bm25_0.05t0.35a0.6b \t ndcg@10 mean value:  0.78 \t ndcg@10 std value:  0.235\n",
      "name:  bm25_0.05t0.4a0.55b \t ndcg@10 mean value:  0.762 \t ndcg@10 std value:  0.266\n",
      "name:  bm25_0.05t0.45a0.5b \t ndcg@10 mean value:  0.779 \t ndcg@10 std value:  0.234\n",
      "name:  bm25_0.05t0.5a0.45b \t ndcg@10 mean value:  0.777 \t ndcg@10 std value:  0.232\n",
      "name:  bm25_0.05t0.55a0.4b \t ndcg@10 mean value:  0.769 \t ndcg@10 std value:  0.232\n",
      "name:  bm25_0.05t0.6a0.35b \t ndcg@10 mean value:  0.757 \t ndcg@10 std value:  0.258\n",
      "name:  bm25_0.05t0.65a0.3b \t ndcg@10 mean value:  0.776 \t ndcg@10 std value:  0.244\n",
      "name:  bm25_0.05t0.7a0.25b \t ndcg@10 mean value:  0.777 \t ndcg@10 std value:  0.244\n",
      "name:  bm25_0.05t0.75a0.2b \t ndcg@10 mean value:  0.771 \t ndcg@10 std value:  0.259\n",
      "name:  bm25_0.05t0.8a0.15b \t ndcg@10 mean value:  0.764 \t ndcg@10 std value:  0.275\n",
      "name:  bm25_0.05t0.85a0.1b \t ndcg@10 mean value:  0.76 \t ndcg@10 std value:  0.275\n",
      "name:  bm25_0.05t0.9a0.05b \t ndcg@10 mean value:  0.749 \t ndcg@10 std value:  0.279\n",
      "name:  bm25_0.05t0.95a0.0b \t ndcg@10 mean value:  0.745 \t ndcg@10 std value:  0.279\n",
      "name:  bm25_0.1t0.0a0.9b \t ndcg@10 mean value:  0.798 \t ndcg@10 std value:  0.26\n",
      "name:  bm25_0.1t0.05a0.85b \t ndcg@10 mean value:  0.782 \t ndcg@10 std value:  0.285\n",
      "name:  bm25_0.1t0.1a0.8b \t ndcg@10 mean value:  0.789 \t ndcg@10 std value:  0.239\n",
      "name:  bm25_0.1t0.15a0.75b \t ndcg@10 mean value:  0.782 \t ndcg@10 std value:  0.253\n",
      "name:  bm25_0.1t0.2a0.7b \t ndcg@10 mean value:  0.788 \t ndcg@10 std value:  0.257\n",
      "name:  bm25_0.1t0.25a0.65b \t ndcg@10 mean value:  0.775 \t ndcg@10 std value:  0.271\n",
      "name:  bm25_0.1t0.3a0.6b \t ndcg@10 mean value:  0.776 \t ndcg@10 std value:  0.249\n",
      "name:  bm25_0.1t0.35a0.55b \t ndcg@10 mean value:  0.753 \t ndcg@10 std value:  0.292\n",
      "name:  bm25_0.1t0.4a0.5b \t ndcg@10 mean value:  0.764 \t ndcg@10 std value:  0.263\n",
      "name:  bm25_0.1t0.45a0.45b \t ndcg@10 mean value:  0.768 \t ndcg@10 std value:  0.262\n",
      "name:  bm25_0.1t0.5a0.4b \t ndcg@10 mean value:  0.769 \t ndcg@10 std value:  0.262\n",
      "name:  bm25_0.1t0.55a0.35b \t ndcg@10 mean value:  0.767 \t ndcg@10 std value:  0.258\n",
      "name:  bm25_0.1t0.6a0.3b \t ndcg@10 mean value:  0.768 \t ndcg@10 std value:  0.257\n",
      "name:  bm25_0.1t0.65a0.25b \t ndcg@10 mean value:  0.776 \t ndcg@10 std value:  0.258\n",
      "name:  bm25_0.1t0.7a0.2b \t ndcg@10 mean value:  0.775 \t ndcg@10 std value:  0.26\n",
      "name:  bm25_0.1t0.75a0.15b \t ndcg@10 mean value:  0.766 \t ndcg@10 std value:  0.273\n",
      "name:  bm25_0.1t0.8a0.1b \t ndcg@10 mean value:  0.762 \t ndcg@10 std value:  0.274\n",
      "name:  bm25_0.1t0.85a0.05b \t ndcg@10 mean value:  0.757 \t ndcg@10 std value:  0.277\n",
      "name:  bm25_0.1t0.9a0.0b \t ndcg@10 mean value:  0.757 \t ndcg@10 std value:  0.28\n",
      "name:  bm25_0.15t0.0a0.85b \t ndcg@10 mean value:  0.809 \t ndcg@10 std value:  0.246\n",
      "name:  bm25_0.15t0.05a0.8b \t ndcg@10 mean value:  0.787 \t ndcg@10 std value:  0.259\n",
      "name:  bm25_0.15t0.1a0.75b \t ndcg@10 mean value:  0.791 \t ndcg@10 std value:  0.243\n",
      "name:  bm25_0.15t0.15a0.7b \t ndcg@10 mean value:  0.774 \t ndcg@10 std value:  0.261\n",
      "name:  bm25_0.15t0.2a0.65b \t ndcg@10 mean value:  0.771 \t ndcg@10 std value:  0.266\n",
      "name:  bm25_0.15t0.25a0.6b \t ndcg@10 mean value:  0.765 \t ndcg@10 std value:  0.27\n",
      "name:  bm25_0.15t0.3a0.55b \t ndcg@10 mean value:  0.765 \t ndcg@10 std value:  0.271\n",
      "name:  bm25_0.15t0.35a0.5b \t ndcg@10 mean value:  0.759 \t ndcg@10 std value:  0.275\n",
      "name:  bm25_0.15t0.4a0.45b \t ndcg@10 mean value:  0.763 \t ndcg@10 std value:  0.262\n",
      "name:  bm25_0.15t0.45a0.4b \t ndcg@10 mean value:  0.763 \t ndcg@10 std value:  0.262\n",
      "name:  bm25_0.15t0.5a0.35b \t ndcg@10 mean value:  0.771 \t ndcg@10 std value:  0.257\n",
      "name:  bm25_0.15t0.55a0.3b \t ndcg@10 mean value:  0.775 \t ndcg@10 std value:  0.256\n",
      "name:  bm25_0.15t0.6a0.25b \t ndcg@10 mean value:  0.771 \t ndcg@10 std value:  0.254\n",
      "name:  bm25_0.15t0.65a0.2b \t ndcg@10 mean value:  0.776 \t ndcg@10 std value:  0.257\n",
      "name:  bm25_0.15t0.7a0.15b \t ndcg@10 mean value:  0.762 \t ndcg@10 std value:  0.273\n",
      "name:  bm25_0.15t0.75a0.1b \t ndcg@10 mean value:  0.761 \t ndcg@10 std value:  0.272\n",
      "name:  bm25_0.15t0.8a0.05b \t ndcg@10 mean value:  0.764 \t ndcg@10 std value:  0.272\n",
      "name:  bm25_0.15t0.85a0.0b \t ndcg@10 mean value:  0.763 \t ndcg@10 std value:  0.273\n",
      "name:  bm25_0.2t0.0a0.8b \t ndcg@10 mean value:  0.796 \t ndcg@10 std value:  0.256\n",
      "name:  bm25_0.2t0.05a0.75b \t ndcg@10 mean value:  0.784 \t ndcg@10 std value:  0.268\n",
      "name:  bm25_0.2t0.1a0.7b \t ndcg@10 mean value:  0.789 \t ndcg@10 std value:  0.241\n",
      "name:  bm25_0.2t0.15a0.65b \t ndcg@10 mean value:  0.771 \t ndcg@10 std value:  0.274\n",
      "name:  bm25_0.2t0.2a0.6b \t ndcg@10 mean value:  0.768 \t ndcg@10 std value:  0.265\n",
      "name:  bm25_0.2t0.25a0.55b \t ndcg@10 mean value:  0.77 \t ndcg@10 std value:  0.255\n",
      "name:  bm25_0.2t0.3a0.5b \t ndcg@10 mean value:  0.763 \t ndcg@10 std value:  0.271\n",
      "name:  bm25_0.2t0.35a0.45b \t ndcg@10 mean value:  0.757 \t ndcg@10 std value:  0.278\n",
      "name:  bm25_0.2t0.4a0.4b \t ndcg@10 mean value:  0.757 \t ndcg@10 std value:  0.264\n",
      "name:  bm25_0.2t0.45a0.35b \t ndcg@10 mean value:  0.765 \t ndcg@10 std value:  0.26\n",
      "name:  bm25_0.2t0.5a0.3b \t ndcg@10 mean value:  0.771 \t ndcg@10 std value:  0.256\n",
      "name:  bm25_0.2t0.55a0.25b \t ndcg@10 mean value:  0.774 \t ndcg@10 std value:  0.256\n",
      "name:  bm25_0.2t0.6a0.2b \t ndcg@10 mean value:  0.773 \t ndcg@10 std value:  0.257\n",
      "name:  bm25_0.2t0.65a0.15b \t ndcg@10 mean value:  0.773 \t ndcg@10 std value:  0.256\n",
      "name:  bm25_0.2t0.7a0.1b \t ndcg@10 mean value:  0.774 \t ndcg@10 std value:  0.272\n",
      "name:  bm25_0.2t0.75a0.05b \t ndcg@10 mean value:  0.775 \t ndcg@10 std value:  0.271\n",
      "name:  bm25_0.2t0.8a0.0b \t ndcg@10 mean value:  0.762 \t ndcg@10 std value:  0.272\n",
      "name:  bm25_0.25t0.0a0.75b \t ndcg@10 mean value:  0.802 \t ndcg@10 std value:  0.255\n",
      "name:  bm25_0.25t0.05a0.7b \t ndcg@10 mean value:  0.777 \t ndcg@10 std value:  0.272\n",
      "name:  bm25_0.25t0.1a0.65b \t ndcg@10 mean value:  0.773 \t ndcg@10 std value:  0.269\n",
      "name:  bm25_0.25t0.15a0.6b \t ndcg@10 mean value:  0.768 \t ndcg@10 std value:  0.272\n"
     ]
    },
    {
     "name": "stdout",
     "output_type": "stream",
     "text": [
      "name:  bm25_0.25t0.2a0.55b \t ndcg@10 mean value:  0.76 \t ndcg@10 std value:  0.267\n",
      "name:  bm25_0.25t0.25a0.5b \t ndcg@10 mean value:  0.761 \t ndcg@10 std value:  0.27\n",
      "name:  bm25_0.25t0.3a0.45b \t ndcg@10 mean value:  0.757 \t ndcg@10 std value:  0.273\n",
      "name:  bm25_0.25t0.35a0.4b \t ndcg@10 mean value:  0.754 \t ndcg@10 std value:  0.275\n",
      "name:  bm25_0.25t0.4a0.35b \t ndcg@10 mean value:  0.765 \t ndcg@10 std value:  0.256\n",
      "name:  bm25_0.25t0.45a0.3b \t ndcg@10 mean value:  0.765 \t ndcg@10 std value:  0.257\n",
      "name:  bm25_0.25t0.5a0.25b \t ndcg@10 mean value:  0.769 \t ndcg@10 std value:  0.254\n",
      "name:  bm25_0.25t0.55a0.2b \t ndcg@10 mean value:  0.775 \t ndcg@10 std value:  0.252\n",
      "name:  bm25_0.25t0.6a0.15b \t ndcg@10 mean value:  0.772 \t ndcg@10 std value:  0.257\n",
      "name:  bm25_0.25t0.65a0.1b \t ndcg@10 mean value:  0.774 \t ndcg@10 std value:  0.272\n",
      "name:  bm25_0.25t0.7a0.05b \t ndcg@10 mean value:  0.779 \t ndcg@10 std value:  0.272\n",
      "name:  bm25_0.25t0.75a0.0b \t ndcg@10 mean value:  0.766 \t ndcg@10 std value:  0.285\n",
      "name:  bm25_0.3t0.0a0.7b \t ndcg@10 mean value:  0.795 \t ndcg@10 std value:  0.272\n",
      "name:  bm25_0.3t0.05a0.65b \t ndcg@10 mean value:  0.78 \t ndcg@10 std value:  0.27\n",
      "name:  bm25_0.3t0.1a0.6b \t ndcg@10 mean value:  0.774 \t ndcg@10 std value:  0.27\n",
      "name:  bm25_0.3t0.15a0.55b \t ndcg@10 mean value:  0.755 \t ndcg@10 std value:  0.275\n",
      "name:  bm25_0.3t0.2a0.5b \t ndcg@10 mean value:  0.756 \t ndcg@10 std value:  0.267\n",
      "name:  bm25_0.3t0.25a0.45b \t ndcg@10 mean value:  0.764 \t ndcg@10 std value:  0.256\n",
      "name:  bm25_0.3t0.3a0.4b \t ndcg@10 mean value:  0.756 \t ndcg@10 std value:  0.257\n",
      "name:  bm25_0.3t0.35a0.35b \t ndcg@10 mean value:  0.763 \t ndcg@10 std value:  0.254\n",
      "name:  bm25_0.3t0.4a0.3b \t ndcg@10 mean value:  0.765 \t ndcg@10 std value:  0.253\n",
      "name:  bm25_0.3t0.45a0.25b \t ndcg@10 mean value:  0.769 \t ndcg@10 std value:  0.255\n",
      "name:  bm25_0.3t0.5a0.2b \t ndcg@10 mean value:  0.769 \t ndcg@10 std value:  0.252\n",
      "name:  bm25_0.3t0.55a0.15b \t ndcg@10 mean value:  0.774 \t ndcg@10 std value:  0.258\n",
      "name:  bm25_0.3t0.6a0.1b \t ndcg@10 mean value:  0.773 \t ndcg@10 std value:  0.271\n",
      "name:  bm25_0.3t0.65a0.05b \t ndcg@10 mean value:  0.774 \t ndcg@10 std value:  0.27\n",
      "name:  bm25_0.3t0.7a0.0b \t ndcg@10 mean value:  0.762 \t ndcg@10 std value:  0.284\n",
      "name:  bm25_0.35t0.0a0.65b \t ndcg@10 mean value:  0.784 \t ndcg@10 std value:  0.275\n",
      "name:  bm25_0.35t0.05a0.6b \t ndcg@10 mean value:  0.775 \t ndcg@10 std value:  0.27\n",
      "name:  bm25_0.35t0.1a0.55b \t ndcg@10 mean value:  0.774 \t ndcg@10 std value:  0.271\n",
      "name:  bm25_0.35t0.15a0.5b \t ndcg@10 mean value:  0.763 \t ndcg@10 std value:  0.275\n",
      "name:  bm25_0.35t0.2a0.45b \t ndcg@10 mean value:  0.753 \t ndcg@10 std value:  0.264\n",
      "name:  bm25_0.35t0.25a0.4b \t ndcg@10 mean value:  0.765 \t ndcg@10 std value:  0.252\n",
      "name:  bm25_0.35t0.3a0.35b \t ndcg@10 mean value:  0.762 \t ndcg@10 std value:  0.252\n",
      "name:  bm25_0.35t0.35a0.3b \t ndcg@10 mean value:  0.759 \t ndcg@10 std value:  0.254\n",
      "name:  bm25_0.35t0.4a0.25b \t ndcg@10 mean value:  0.768 \t ndcg@10 std value:  0.251\n",
      "name:  bm25_0.35t0.45a0.2b \t ndcg@10 mean value:  0.767 \t ndcg@10 std value:  0.25\n",
      "name:  bm25_0.35t0.5a0.15b \t ndcg@10 mean value:  0.769 \t ndcg@10 std value:  0.252\n",
      "name:  bm25_0.35t0.55a0.1b \t ndcg@10 mean value:  0.769 \t ndcg@10 std value:  0.269\n",
      "name:  bm25_0.35t0.6a0.05b \t ndcg@10 mean value:  0.777 \t ndcg@10 std value:  0.271\n",
      "name:  bm25_0.35t0.65a0.0b \t ndcg@10 mean value:  0.765 \t ndcg@10 std value:  0.285\n",
      "name:  bm25_0.4t0.0a0.6b \t ndcg@10 mean value:  0.772 \t ndcg@10 std value:  0.28\n",
      "name:  bm25_0.4t0.05a0.55b \t ndcg@10 mean value:  0.77 \t ndcg@10 std value:  0.273\n",
      "name:  bm25_0.4t0.1a0.5b \t ndcg@10 mean value:  0.771 \t ndcg@10 std value:  0.26\n",
      "name:  bm25_0.4t0.15a0.45b \t ndcg@10 mean value:  0.769 \t ndcg@10 std value:  0.254\n",
      "name:  bm25_0.4t0.2a0.4b \t ndcg@10 mean value:  0.759 \t ndcg@10 std value:  0.263\n",
      "name:  bm25_0.4t0.25a0.35b \t ndcg@10 mean value:  0.762 \t ndcg@10 std value:  0.25\n",
      "name:  bm25_0.4t0.3a0.3b \t ndcg@10 mean value:  0.761 \t ndcg@10 std value:  0.252\n",
      "name:  bm25_0.4t0.35a0.25b \t ndcg@10 mean value:  0.762 \t ndcg@10 std value:  0.249\n",
      "name:  bm25_0.4t0.4a0.2b \t ndcg@10 mean value:  0.766 \t ndcg@10 std value:  0.252\n",
      "name:  bm25_0.4t0.45a0.15b \t ndcg@10 mean value:  0.766 \t ndcg@10 std value:  0.251\n",
      "name:  bm25_0.4t0.5a0.1b \t ndcg@10 mean value:  0.762 \t ndcg@10 std value:  0.267\n",
      "name:  bm25_0.4t0.55a0.05b \t ndcg@10 mean value:  0.759 \t ndcg@10 std value:  0.269\n",
      "name:  bm25_0.4t0.6a0.0b \t ndcg@10 mean value:  0.759 \t ndcg@10 std value:  0.283\n",
      "name:  bm25_0.45t0.0a0.55b \t ndcg@10 mean value:  0.766 \t ndcg@10 std value:  0.28\n",
      "name:  bm25_0.45t0.05a0.5b \t ndcg@10 mean value:  0.769 \t ndcg@10 std value:  0.259\n",
      "name:  bm25_0.45t0.1a0.45b \t ndcg@10 mean value:  0.765 \t ndcg@10 std value:  0.257\n",
      "name:  bm25_0.45t0.15a0.4b \t ndcg@10 mean value:  0.768 \t ndcg@10 std value:  0.255\n",
      "name:  bm25_0.45t0.2a0.35b \t ndcg@10 mean value:  0.767 \t ndcg@10 std value:  0.26\n",
      "name:  bm25_0.45t0.25a0.3b \t ndcg@10 mean value:  0.762 \t ndcg@10 std value:  0.261\n",
      "name:  bm25_0.45t0.3a0.25b \t ndcg@10 mean value:  0.766 \t ndcg@10 std value:  0.251\n",
      "name:  bm25_0.45t0.35a0.2b \t ndcg@10 mean value:  0.764 \t ndcg@10 std value:  0.249\n",
      "name:  bm25_0.45t0.4a0.15b \t ndcg@10 mean value:  0.767 \t ndcg@10 std value:  0.253\n",
      "name:  bm25_0.45t0.45a0.1b \t ndcg@10 mean value:  0.758 \t ndcg@10 std value:  0.27\n",
      "name:  bm25_0.45t0.5a0.05b \t ndcg@10 mean value:  0.748 \t ndcg@10 std value:  0.283\n",
      "name:  bm25_0.45t0.55a0.0b \t ndcg@10 mean value:  0.747 \t ndcg@10 std value:  0.283\n",
      "name:  bm25_0.5t0.0a0.5b \t ndcg@10 mean value:  0.765 \t ndcg@10 std value:  0.266\n",
      "name:  bm25_0.5t0.05a0.45b \t ndcg@10 mean value:  0.764 \t ndcg@10 std value:  0.262\n",
      "name:  bm25_0.5t0.1a0.4b \t ndcg@10 mean value:  0.766 \t ndcg@10 std value:  0.256\n",
      "name:  bm25_0.5t0.15a0.35b \t ndcg@10 mean value:  0.768 \t ndcg@10 std value:  0.259\n",
      "name:  bm25_0.5t0.2a0.3b \t ndcg@10 mean value:  0.769 \t ndcg@10 std value:  0.259\n",
      "name:  bm25_0.5t0.25a0.25b \t ndcg@10 mean value:  0.761 \t ndcg@10 std value:  0.261\n",
      "name:  bm25_0.5t0.3a0.2b \t ndcg@10 mean value:  0.771 \t ndcg@10 std value:  0.25\n",
      "name:  bm25_0.5t0.35a0.15b \t ndcg@10 mean value:  0.761 \t ndcg@10 std value:  0.265\n",
      "name:  bm25_0.5t0.4a0.1b \t ndcg@10 mean value:  0.757 \t ndcg@10 std value:  0.267\n",
      "name:  bm25_0.5t0.45a0.05b \t ndcg@10 mean value:  0.753 \t ndcg@10 std value:  0.268\n",
      "name:  bm25_0.5t0.5a0.0b \t ndcg@10 mean value:  0.749 \t ndcg@10 std value:  0.285\n",
      "name:  bm25_0.55t0.0a0.45b \t ndcg@10 mean value:  0.759 \t ndcg@10 std value:  0.265\n",
      "name:  bm25_0.55t0.05a0.4b \t ndcg@10 mean value:  0.766 \t ndcg@10 std value:  0.261\n",
      "name:  bm25_0.55t0.1a0.35b \t ndcg@10 mean value:  0.772 \t ndcg@10 std value:  0.253\n",
      "name:  bm25_0.55t0.15a0.3b \t ndcg@10 mean value:  0.768 \t ndcg@10 std value:  0.258\n",
      "name:  bm25_0.55t0.2a0.25b \t ndcg@10 mean value:  0.764 \t ndcg@10 std value:  0.262\n",
      "name:  bm25_0.55t0.25a0.2b \t ndcg@10 mean value:  0.763 \t ndcg@10 std value:  0.261\n",
      "name:  bm25_0.55t0.3a0.15b \t ndcg@10 mean value:  0.766 \t ndcg@10 std value:  0.26\n",
      "name:  bm25_0.55t0.35a0.1b \t ndcg@10 mean value:  0.762 \t ndcg@10 std value:  0.267\n",
      "name:  bm25_0.55t0.4a0.05b \t ndcg@10 mean value:  0.759 \t ndcg@10 std value:  0.269\n",
      "name:  bm25_0.55t0.45a0.0b \t ndcg@10 mean value:  0.74 \t ndcg@10 std value:  0.282\n",
      "name:  bm25_0.6t0.0a0.4b \t ndcg@10 mean value:  0.763 \t ndcg@10 std value:  0.269\n",
      "name:  bm25_0.6t0.05a0.35b \t ndcg@10 mean value:  0.775 \t ndcg@10 std value:  0.258\n",
      "name:  bm25_0.6t0.1a0.3b \t ndcg@10 mean value:  0.774 \t ndcg@10 std value:  0.257\n",
      "name:  bm25_0.6t0.15a0.25b \t ndcg@10 mean value:  0.772 \t ndcg@10 std value:  0.256\n",
      "name:  bm25_0.6t0.2a0.2b \t ndcg@10 mean value:  0.768 \t ndcg@10 std value:  0.26\n",
      "name:  bm25_0.6t0.25a0.15b \t ndcg@10 mean value:  0.757 \t ndcg@10 std value:  0.264\n",
      "name:  bm25_0.6t0.3a0.1b \t ndcg@10 mean value:  0.764 \t ndcg@10 std value:  0.265\n",
      "name:  bm25_0.6t0.35a0.05b \t ndcg@10 mean value:  0.756 \t ndcg@10 std value:  0.265\n",
      "name:  bm25_0.6t0.4a0.0b \t ndcg@10 mean value:  0.738 \t ndcg@10 std value:  0.284\n",
      "name:  bm25_0.65t0.0a0.35b \t ndcg@10 mean value:  0.779 \t ndcg@10 std value:  0.265\n",
      "name:  bm25_0.65t0.05a0.3b \t ndcg@10 mean value:  0.773 \t ndcg@10 std value:  0.264\n",
      "name:  bm25_0.65t0.1a0.25b \t ndcg@10 mean value:  0.767 \t ndcg@10 std value:  0.263\n"
     ]
    },
    {
     "name": "stdout",
     "output_type": "stream",
     "text": [
      "name:  bm25_0.65t0.15a0.2b \t ndcg@10 mean value:  0.766 \t ndcg@10 std value:  0.257\n",
      "name:  bm25_0.65t0.2a0.15b \t ndcg@10 mean value:  0.754 \t ndcg@10 std value:  0.265\n",
      "name:  bm25_0.65t0.25a0.1b \t ndcg@10 mean value:  0.756 \t ndcg@10 std value:  0.264\n",
      "name:  bm25_0.65t0.3a0.05b \t ndcg@10 mean value:  0.752 \t ndcg@10 std value:  0.267\n",
      "name:  bm25_0.65t0.35a0.0b \t ndcg@10 mean value:  0.747 \t ndcg@10 std value:  0.27\n",
      "name:  bm25_0.7t0.0a0.3b \t ndcg@10 mean value:  0.78 \t ndcg@10 std value:  0.267\n",
      "name:  bm25_0.7t0.05a0.25b \t ndcg@10 mean value:  0.768 \t ndcg@10 std value:  0.27\n",
      "name:  bm25_0.7t0.1a0.2b \t ndcg@10 mean value:  0.758 \t ndcg@10 std value:  0.268\n",
      "name:  bm25_0.7t0.15a0.15b \t ndcg@10 mean value:  0.759 \t ndcg@10 std value:  0.261\n",
      "name:  bm25_0.7t0.2a0.1b \t ndcg@10 mean value:  0.749 \t ndcg@10 std value:  0.266\n",
      "name:  bm25_0.7t0.25a0.05b \t ndcg@10 mean value:  0.744 \t ndcg@10 std value:  0.272\n",
      "name:  bm25_0.7t0.3a0.0b \t ndcg@10 mean value:  0.744 \t ndcg@10 std value:  0.271\n",
      "name:  bm25_0.75t0.0a0.25b \t ndcg@10 mean value:  0.767 \t ndcg@10 std value:  0.279\n",
      "name:  bm25_0.75t0.05a0.2b \t ndcg@10 mean value:  0.76 \t ndcg@10 std value:  0.27\n",
      "name:  bm25_0.75t0.1a0.15b \t ndcg@10 mean value:  0.751 \t ndcg@10 std value:  0.27\n",
      "name:  bm25_0.75t0.15a0.1b \t ndcg@10 mean value:  0.748 \t ndcg@10 std value:  0.268\n",
      "name:  bm25_0.75t0.2a0.05b \t ndcg@10 mean value:  0.742 \t ndcg@10 std value:  0.274\n",
      "name:  bm25_0.75t0.25a0.0b \t ndcg@10 mean value:  0.736 \t ndcg@10 std value:  0.275\n",
      "name:  bm25_0.8t0.0a0.2b \t ndcg@10 mean value:  0.768 \t ndcg@10 std value:  0.283\n",
      "name:  bm25_0.8t0.05a0.15b \t ndcg@10 mean value:  0.747 \t ndcg@10 std value:  0.287\n",
      "name:  bm25_0.8t0.1a0.1b \t ndcg@10 mean value:  0.742 \t ndcg@10 std value:  0.287\n",
      "name:  bm25_0.8t0.15a0.05b \t ndcg@10 mean value:  0.738 \t ndcg@10 std value:  0.29\n",
      "name:  bm25_0.8t0.2a0.0b \t ndcg@10 mean value:  0.726 \t ndcg@10 std value:  0.287\n",
      "name:  bm25_0.85t0.0a0.15b \t ndcg@10 mean value:  0.758 \t ndcg@10 std value:  0.289\n",
      "name:  bm25_0.85t0.05a0.1b \t ndcg@10 mean value:  0.738 \t ndcg@10 std value:  0.294\n",
      "name:  bm25_0.85t0.1a0.05b \t ndcg@10 mean value:  0.729 \t ndcg@10 std value:  0.307\n",
      "name:  bm25_0.85t0.15a0.0b \t ndcg@10 mean value:  0.731 \t ndcg@10 std value:  0.293\n",
      "name:  bm25_0.9t0.0a0.1b \t ndcg@10 mean value:  0.742 \t ndcg@10 std value:  0.317\n",
      "name:  bm25_0.9t0.05a0.05b \t ndcg@10 mean value:  0.728 \t ndcg@10 std value:  0.311\n",
      "name:  bm25_0.9t0.1a0.0b \t ndcg@10 mean value:  0.724 \t ndcg@10 std value:  0.312\n",
      "name:  bm25_0.95t0.0a0.05b \t ndcg@10 mean value:  0.734 \t ndcg@10 std value:  0.319\n",
      "name:  bm25_0.95t0.05a0.0b \t ndcg@10 mean value:  0.724 \t ndcg@10 std value:  0.321\n",
      "name:  bm25_1.0t0.0a0.0b \t ndcg@10 mean value:  0.718 \t ndcg@10 std value:  0.345\n"
     ]
    }
   ],
   "source": [
    "mean_values = []\n",
    "std_values = []\n",
    "\n",
    "\n",
    "for n in ranking_name:\n",
    "    model = Query(match_phase=OR(),\n",
    "      rank_profile=Ranking(name=n)\n",
    "    )\n",
    "    evaluation = app.evaluate(\n",
    "        labeled_data = labeled_data,\n",
    "        eval_metrics = eval_metrics,\n",
    "        query_model = model,\n",
    "        id_field = \"id\",\n",
    "        hits = 10\n",
    "    )\n",
    "    mean = evaluation.mean()\n",
    "    std = evaluation.std()\n",
    "    mean_values.append(mean)\n",
    "    std_values.append(std)\n",
    "    print(\"name: \", n, \"\\t\" , \"ndcg@10 mean value: \", round(mean[\"ndcg_10_value\"],3),\n",
    "         \"\\t ndcg@10 std value: \", round(std[\"ndcg_10_value\"],3))\n",
    "    "
   ]
  },
  {
   "cell_type": "code",
   "execution_count": 196,
   "metadata": {},
   "outputs": [],
   "source": [
    "path = \"C:/Users/User/Documents/NTNU/NLP/CORD-19/results/\"\n",
    "name = \"bm25_weighting_mean\"\n",
    "file = path + name + \".txt\"\n",
    "with open(file, \"wb\") as fp:   #Pickling\n",
    "    pickle.dump(mean_values, fp)\n",
    "    \n",
    "name = \"bm25_weighting_std\"\n",
    "file = path + cord_uid + \".txt\"\n",
    "with open(file, \"wb\") as fp:   #Pickling\n",
    "    pickle.dump(std_values, fp)\n",
    "    \n"
   ]
  },
  {
   "cell_type": "code",
   "execution_count": 178,
   "metadata": {},
   "outputs": [],
   "source": [
    "mean_matrix = np.zeros((21,21))\n",
    "std_matrix = np.zeros((21,21))\n",
    "mask = np.zeros((21,21))\n",
    "k = 0\n",
    "for i in range(21):\n",
    "    for j in range(21):\n",
    "        if (i + j) <= 20:\n",
    "            mean_matrix[i][j] = mean_values[k][\"ndcg_10_value\"]\n",
    "            std_matrix[i][j] = std_values[k][\"ndcg_10_value\"]\n",
    "            k += 1\n",
    "        else:\n",
    "            mask[i][j] = 1"
   ]
  },
  {
   "cell_type": "code",
   "execution_count": 194,
   "metadata": {},
   "outputs": [
    {
     "data": {
      "text/plain": [
       "<matplotlib.axes._subplots.AxesSubplot at 0x156677e0ef0>"
      ]
     },
     "execution_count": 194,
     "metadata": {},
     "output_type": "execute_result"
    },
    {
     "data": {
      "image/png": "[encoded data removed]",
      "text/plain": [
       "<Figure size 432x288 with 2 Axes>"
      ]
     },
     "metadata": {
      "needs_background": "light"
     },
     "output_type": "display_data"
    }
   ],
   "source": [
    "\n",
    "sns.heatmap(mean_matrix, vmin = 0.72, cmap=\"inferno\", mask = mask, xticklabels = alpha, yticklabels = beta)"
   ]
  },
  {
   "cell_type": "code",
   "execution_count": 147,
   "metadata": {},
   "outputs": [
    {
     "data": {
      "text/plain": [
       "<matplotlib.axes._subplots.AxesSubplot at 0x15665677e10>"
      ]
     },
     "execution_count": 147,
     "metadata": {},
     "output_type": "execute_result"
    },
    {
     "data": {
      "image/png": "[encoded data removed]",
      "text/plain": [
       "<Figure size 432x288 with 2 Axes>"
      ]
     },
     "metadata": {
      "needs_background": "light"
     },
     "output_type": "display_data"
    }
   ],
   "source": [
    "sns.heatmap(std_matrix, vmin = 0.2, cmap=\"YlGnBu\", mask = mask)"
   ]
  },
  {
   "cell_type": "code",
   "execution_count": 172,
   "metadata": {},
   "outputs": [],
   "source": [
    "mean_matrix = np.zeros((21,21))\n",
    "std_matrix = np.zeros((21,21))\n",
    "mask = np.zeros((21,21))\n",
    "k = 0\n",
    "for i in range(21):\n",
    "    for j in range(21):\n",
    "        if (i + j) <= 20:\n",
    "            #print(mean_values[k])\n",
    "            \n",
    "            mean_matrix[i][j] = mean_values[k][\"recall_10_value\"]\n",
    "            std_matrix[i][j] = std_values[k][\"recall_10_value\"]\n",
    "            k += 1\n",
    "        else:\n",
    "            mask[i][j] = 1"
   ]
  },
  {
   "cell_type": "code",
   "execution_count": 176,
   "metadata": {
    "scrolled": true
   },
   "outputs": [
    {
     "data": {
      "text/plain": [
       "<matplotlib.axes._subplots.AxesSubplot at 0x156670140f0>"
      ]
     },
     "execution_count": 176,
     "metadata": {},
     "output_type": "execute_result"
    },
    {
     "data": {
      "image/png": "[encoded data removed]",
      "text/plain": [
       "<Figure size 864x720 with 2 Axes>"
      ]
     },
     "metadata": {
      "needs_background": "light"
     },
     "output_type": "display_data"
    }
   ],
   "source": [
    "f, ax = plt.subplots(figsize=(12, 10))\n",
    "sns.heatmap(mean_matrix, vmin = 0.0069 ,cmap=\"inferno\", mask = mask)"
   ]
  },
  {
   "cell_type": "code",
   "execution_count": 165,
   "metadata": {},
   "outputs": [
    {
     "data": {
      "text/plain": [
       "<matplotlib.axes._subplots.AxesSubplot at 0x156674f1048>"
      ]
     },
     "execution_count": 165,
     "metadata": {},
     "output_type": "execute_result"
    },
    {
     "data": {
      "image/png": "[encoded data removed]",
      "text/plain": [
       "<Figure size 432x288 with 2 Axes>"
      ]
     },
     "metadata": {
      "needs_background": "light"
     },
     "output_type": "display_data"
    }
   ],
   "source": [
    "sns.heatmap(std_matrix,vmin = 0.0015, cmap=\"YlGnBu\", mask = mask)"
   ]
  },
  {
   "cell_type": "code",
   "execution_count": 167,
   "metadata": {},
   "outputs": [],
   "source": [
    "mean_matrix = np.zeros((21,21))\n",
    "std_matrix = np.zeros((21,21))\n",
    "mask = np.zeros((21,21))\n",
    "k = 0\n",
    "for i in range(21):\n",
    "    for j in range(21):\n",
    "        if (i + j) <= 20:\n",
    "            #print(mean_values[k])\n",
    "            \n",
    "            mean_matrix[i][j] = mean_values[k][\"reciprocal_rank_10_value\"]\n",
    "            std_matrix[i][j] = std_values[k][\"reciprocal_rank_10_value\"]\n",
    "            k += 1\n",
    "        else:\n",
    "            mask[i][j] = 1"
   ]
  },
  {
   "cell_type": "code",
   "execution_count": 170,
   "metadata": {},
   "outputs": [
    {
     "data": {
      "text/plain": [
       "<matplotlib.axes._subplots.AxesSubplot at 0x15667a9e710>"
      ]
     },
     "execution_count": 170,
     "metadata": {},
     "output_type": "execute_result"
    },
    {
     "data": {
      "image/png": "[encoded data removed]",
      "text/plain": [
       "<Figure size 432x288 with 2 Axes>"
      ]
     },
     "metadata": {
      "needs_background": "light"
     },
     "output_type": "display_data"
    }
   ],
   "source": [
    "sns.heatmap(mean_matrix, vmin = 0.96 ,cmap=\"inferno\", mask = mask)"
   ]
  },
  {
   "cell_type": "code",
   "execution_count": 171,
   "metadata": {},
   "outputs": [
    {
     "data": {
      "text/plain": [
       "<matplotlib.axes._subplots.AxesSubplot at 0x15667596c88>"
      ]
     },
     "execution_count": 171,
     "metadata": {},
     "output_type": "execute_result"
    },
    {
     "data": {
      "image/png": "[encoded data removed]",
      "text/plain": [
       "<Figure size 432x288 with 2 Axes>"
      ]
     },
     "metadata": {
      "needs_background": "light"
     },
     "output_type": "display_data"
    }
   ],
   "source": [
    "sns.heatmap(std_matrix,vmin = 0.0015, cmap=\"YlGnBu\", mask = mask)"
   ]
  }
 ],
 "metadata": {
  "celltoolbar": "Tags",
  "kernelspec": {
   "display_name": "Python 3",
   "language": "python",
   "name": "python3"
  },
  "language_info": {
   "codemirror_mode": {
    "name": "ipython",
    "version": 3
   },
   "file_extension": ".py",
   "mimetype": "text/x-python",
   "name": "python",
   "nbconvert_exporter": "python",
   "pygments_lexer": "ipython3",
   "version": "3.7.3"
  }
 },
 "nbformat": 4,
 "nbformat_minor": 4
}
