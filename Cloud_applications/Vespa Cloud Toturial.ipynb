{
 "cells": [
  {
   "cell_type": "code",
   "execution_count": 23,
   "metadata": {},
   "outputs": [],
   "source": [
    "import matplotlib.pyplot as plt\n",
    "import numpy as np\n",
    "from random import random\n",
    "import time\n",
    "import multiprocessing\n",
    "from joblib import Parallel, delayed\n",
    "from tqdm import tqdm"
   ]
  },
  {
   "cell_type": "code",
   "execution_count": 24,
   "metadata": {},
   "outputs": [],
   "source": [
    "from vespa.package import Document, Field\n",
    "\n",
    "document = Document(\n",
    "    fields=[\n",
    "        Field(name = \"id\", type = \"string\", indexing = [\"attribute\", \"summary\"]),\n",
    "        Field(name = \"title\", type = \"string\", indexing = [\"index\", \"summary\"], index = \"enable-bm25\"),\n",
    "        Field(name = \"body\", type = \"string\", indexing = [\"index\", \"summary\"], index = \"enable-bm25\"),\n",
    "        Field(name = \"title_embedding\", type = \"tensor<float>(x[768]) \", indexing = [\"attribute\", \"summary\"]),\n",
    "        Field(name = \"body_embedding\", type = \"tensor<float>(x[768]) \", indexing = [\"attribute\", \"summary\"]),\n",
    "    ]\n",
    ")\n",
    "\n"
   ]
  },
  {
   "cell_type": "code",
   "execution_count": 25,
   "metadata": {},
   "outputs": [
    {
     "data": {
      "text/plain": [
       "Document([Field('id', 'string', ['attribute', 'summary'], None), Field('title', 'string', ['index', 'summary'], 'enable-bm25'), Field('body', 'string', ['index', 'summary'], 'enable-bm25'), Field('title_embedding', 'tensor<float>(x[768]) ', ['attribute', 'summary'], None), Field('body_embedding', 'tensor<float>(x[768]) ', ['attribute', 'summary'], None)])"
      ]
     },
     "execution_count": 25,
     "metadata": {},
     "output_type": "execute_result"
    }
   ],
   "source": [
    "document"
   ]
  },
  {
   "cell_type": "code",
   "execution_count": 26,
   "metadata": {},
   "outputs": [],
   "source": [
    "from vespa.package import Schema, FieldSet, RankProfile\n",
    "\n",
    "msmarco_schema = Schema(\n",
    "    name = \"msmarco\",\n",
    "    document = document,\n",
    "    fieldsets = [FieldSet(name = \"default\", fields = [\"title\", \"body\", \"title_embedding\", \"body_embedding\"])],\n",
    "    rank_profiles = [RankProfile(name = \"default\", first_phase = \"nativeRank(title, body)\"),\n",
    "                    RankProfile(name = \"bm25\", first_phase = \"bm25(title) + bm25(body)\")]\n",
    ")"
   ]
  },
  {
   "cell_type": "code",
   "execution_count": 27,
   "metadata": {},
   "outputs": [],
   "source": [
    "from vespa.package import ApplicationPackage\n",
    "\n",
    "app_package = ApplicationPackage(name = \"msmarco\", schema=msmarco_schema)\n",
    "\n"
   ]
  },
  {
   "cell_type": "code",
   "execution_count": 28,
   "metadata": {},
   "outputs": [],
   "source": [
    "from vespa.package import VespaCloud\n",
    "\n",
    "            #C:\\Users\\User\\OneDrive - NTNU\\NTNU\\Prosjekt oppgave NLP\n",
    "path_key = \"C:\\\\Users\\\\User\\\\OneDrive - NTNU\\\\NTNU\\\\Prosjekt oppgave NLP\\\\Cloud_test\\\\\"\n",
    "file = \"andre.olaisen.tmartins-ntnu.pem\"\n",
    "\n",
    "\n",
    "# App name in Cloud\n",
    "app_name = \"andre-msmarco\"\n",
    "vespa_cloud = VespaCloud(\n",
    "    tenant=\"tmartins-ntnu\",\n",
    "    application=app_name,\n",
    "    key_location=path_key + file,\n",
    "    application_package=app_package\n",
    ")"
   ]
  },
  {
   "cell_type": "code",
   "execution_count": 29,
   "metadata": {},
   "outputs": [
    {
     "name": "stdout",
     "output_type": "stream",
     "text": [
      "C:\\Users\\User\\OneDrive - NTNU\\NTNU\\Prosjekt oppgave NLP\\Cloud_test\\sample_application_MSMARCO\n"
     ]
    }
   ],
   "source": [
    "name = \"sample_application_MSMARCO\"\n",
    "path = path_key + name\n",
    "print(path)"
   ]
  },
  {
   "cell_type": "code",
   "execution_count": 30,
   "metadata": {},
   "outputs": [
    {
     "name": "stdout",
     "output_type": "stream",
     "text": [
      "Deployment started in run 6 of dev-aws-us-east-1c for tmartins-ntnu.andre-msmarco.andre-olaisen. This may take about 15 minutes the first time.\n",
      "INFO    [14:00:02]  Deploying platform version 7.314.13 and application version unknown ...\n",
      "WARNING [14:00:02]  tenant:tmartins-ntnu app:andre-msmarco:andre-olaisen For search 'msmarco', field 'body_embedding': The matching settings for the fields in fieldset 'default' are inconsistent (explicitly or because of field type). This may lead to recall and ranking issues.\n",
      "WARNING [14:00:02]  tenant:tmartins-ntnu app:andre-msmarco:andre-olaisen For search 'msmarco', field 'body_embedding': The normalization settings for the fields in fieldset 'default' are inconsistent (explicitly or because of field type). This may lead to recall and ranking issues.\n",
      "WARNING [14:00:02]  tenant:tmartins-ntnu app:andre-msmarco:andre-olaisen For search 'msmarco', field 'title': The stemming settings for the fields in the fieldset 'default' are inconsistent (explicitly or because of field type). This may lead to recall and ranking issues.\n",
      "INFO    [14:00:05]  Deployment successful.\n",
      "INFO    [14:00:05]  Session 4127 for tenant 'tmartins-ntnu' prepared and activated.\n",
      "INFO    [14:00:05]  ######## Details for all nodes ########\n",
      "INFO    [14:00:05]  h5252d.dev.aws-us-east-1c.vespa-external.aws.oath.cloud: expected to be UP\n",
      "INFO    [14:00:05]  --- platform vespa/centos-tenant:7.314.13\n",
      "INFO    [14:00:05]  --- container on port 4080 has config generation 4123, wanted is 4127\n",
      "INFO    [14:00:05]  h5250c.dev.aws-us-east-1c.vespa-external.aws.oath.cloud: expected to be UP\n",
      "INFO    [14:00:05]  --- platform vespa/centos-tenant:7.314.13\n",
      "INFO    [14:00:05]  --- distributor on port 19111 has config generation 4127, wanted is 4127\n",
      "INFO    [14:00:05]  --- storagenode on port 19102 has config generation 4127, wanted is 4127\n",
      "INFO    [14:00:05]  --- searchnode on port 19107 has config generation 4127, wanted is 4127\n",
      "INFO    [14:00:05]  --- container-clustercontroller on port 19050 has config generation 4127, wanted is 4127\n",
      "INFO    [14:00:05]  h5251h.dev.aws-us-east-1c.vespa-external.aws.oath.cloud: expected to be UP\n",
      "INFO    [14:00:05]  --- platform vespa/centos-tenant:7.314.13\n",
      "INFO    [14:00:05]  --- logserver-container on port 4080 has config generation 4123, wanted is 4127\n",
      "INFO    [14:00:30]  Found endpoints:\n",
      "INFO    [14:00:30]  - dev.aws-us-east-1c\n",
      "INFO    [14:00:30]   |-- https://msmarco-container.andre-olaisen.andre-msmarco.tmartins-ntnu.aws-us-east-1c.dev.public.vespa.oath.cloud/ (cluster 'msmarco_container')\n",
      "INFO    [14:00:32]  Installation succeeded!\n"
     ]
    }
   ],
   "source": [
    "name = \"sample_application_MSMARCO\"\n",
    "\n",
    "path_key = \"C:\\\\Users\\\\User\\\\OneDrive - NTNU\\\\NTNU\\\\Prosjekt oppgave NLP\\\\Cloud_test\\\\\"\n",
    "\n",
    "\n",
    "app = vespa_cloud.deploy(\n",
    "    instance='andre-olaisen',\n",
    "    disk_folder=path_key\n",
    ")\n",
    "\n"
   ]
  },
  {
   "cell_type": "code",
   "execution_count": 31,
   "metadata": {},
   "outputs": [
    {
     "data": {
      "text/plain": [
       "(996, 3)"
      ]
     },
     "execution_count": 31,
     "metadata": {},
     "output_type": "execute_result"
    }
   ],
   "source": [
    "from pandas import read_csv\n",
    "\n",
    "docs = read_csv(\"https://thigm85.github.io/data/msmarco/docs.tsv\", sep = \"\\t\")\n",
    "docs.shape"
   ]
  },
  {
   "cell_type": "code",
   "execution_count": 32,
   "metadata": {},
   "outputs": [],
   "source": [
    "# Importing sentence encoding models \n",
    "# link https://github.com/UKPLab/sentence-transformers#getting-started\n",
    "from sentence_transformers import SentenceTransformer\n",
    "model = SentenceTransformer('distilbert-base-nli-mean-tokens')"
   ]
  },
  {
   "cell_type": "code",
   "execution_count": 33,
   "metadata": {},
   "outputs": [
    {
     "data": {
      "text/html": [
       "<div>\n",
       "<style scoped>\n",
       "    .dataframe tbody tr th:only-of-type {\n",
       "        vertical-align: middle;\n",
       "    }\n",
       "\n",
       "    .dataframe tbody tr th {\n",
       "        vertical-align: top;\n",
       "    }\n",
       "\n",
       "    .dataframe thead th {\n",
       "        text-align: right;\n",
       "    }\n",
       "</style>\n",
       "<table border=\"1\" class=\"dataframe\">\n",
       "  <thead>\n",
       "    <tr style=\"text-align: right;\">\n",
       "      <th></th>\n",
       "      <th>id</th>\n",
       "      <th>title</th>\n",
       "      <th>body</th>\n",
       "    </tr>\n",
       "  </thead>\n",
       "  <tbody>\n",
       "    <tr>\n",
       "      <th>0</th>\n",
       "      <td>D2185715</td>\n",
       "      <td>What Is an Appropriate Gift for a Bris</td>\n",
       "      <td>Hub Pages   Religion and Philosophy   Judaism...</td>\n",
       "    </tr>\n",
       "    <tr>\n",
       "      <th>1</th>\n",
       "      <td>D2819479</td>\n",
       "      <td>lunge</td>\n",
       "      <td>1lungenoun   ˈlənj  Popularity  Bottom 40  of...</td>\n",
       "    </tr>\n",
       "  </tbody>\n",
       "</table>\n",
       "</div>"
      ],
      "text/plain": [
       "         id                                    title  \\\n",
       "0  D2185715  What Is an Appropriate Gift for a Bris    \n",
       "1  D2819479                                    lunge   \n",
       "\n",
       "                                                body  \n",
       "0   Hub Pages   Religion and Philosophy   Judaism...  \n",
       "1   1lungenoun   ˈlənj  Popularity  Bottom 40  of...  "
      ]
     },
     "execution_count": 33,
     "metadata": {},
     "output_type": "execute_result"
    }
   ],
   "source": [
    "docs.head(2)"
   ]
  },
  {
   "cell_type": "code",
   "execution_count": 34,
   "metadata": {},
   "outputs": [
    {
     "data": {
      "text/plain": [
       "4937"
      ]
     },
     "execution_count": 34,
     "metadata": {},
     "output_type": "execute_result"
    }
   ],
   "source": [
    "len(docs[\"body\"][1])"
   ]
  },
  {
   "cell_type": "code",
   "execution_count": 35,
   "metadata": {},
   "outputs": [],
   "source": [
    "def feed_datapoint(row,i):\n",
    "    if type(row[\"title\"]) != float:\n",
    "        embedding =  model.encode(row[\"title\"]).tolist()\n",
    "    else:\n",
    "        embedding = [0 for _ in range(768)]\n",
    "    if type(row[\"body\"]) != float:\n",
    "        embedding =  model.encode(row[\"body\"]).tolist()\n",
    "    else:\n",
    "        embedding = [0 for _ in range(768)]\n",
    "    print(len(row[\"title\"]), end = \"  \")\n",
    "    response = app.feed_data_point(\n",
    "        schema = \"msmarco\",\n",
    "        data_id = str(row[\"id\"]),\n",
    "        fields = {\n",
    "            \"id\": str(row[\"id\"]),\n",
    "            \"title\": str(row[\"title\"]),\n",
    "            \"body\": str(row[\"body\"]),\n",
    "            \"body_length\": len(row[\"body\"])#,\n",
    "            #\"title_embedding\": embedding\n",
    "        })\n",
    "    \n",
    "    return(i)\n"
   ]
  },
  {
   "cell_type": "code",
   "execution_count": 14,
   "metadata": {},
   "outputs": [
    {
     "name": "stdout",
     "output_type": "stream",
     "text": [
      "5  "
     ]
    },
    {
     "data": {
      "text/plain": [
       "1"
      ]
     },
     "execution_count": 14,
     "metadata": {},
     "output_type": "execute_result"
    }
   ],
   "source": [
    "feed_datapoint(docs.iloc[1,:],1)"
   ]
  },
  {
   "cell_type": "code",
   "execution_count": 15,
   "metadata": {},
   "outputs": [
    {
     "name": "stdout",
     "output_type": "stream",
     "text": [
      "996\n"
     ]
    },
    {
     "ename": "NameError",
     "evalue": "name 'num_cores' is not defined",
     "output_type": "error",
     "traceback": [
      "\u001b[1;31m---------------------------------------------------------------------------\u001b[0m",
      "\u001b[1;31mNameError\u001b[0m                                 Traceback (most recent call last)",
      "\u001b[1;32m<ipython-input-15-d2d63b1362bd>\u001b[0m in \u001b[0;36m<module>\u001b[1;34m\u001b[0m\n\u001b[0;32m      1\u001b[0m \u001b[0mn\u001b[0m \u001b[1;33m=\u001b[0m \u001b[0mlen\u001b[0m\u001b[1;33m(\u001b[0m\u001b[0mdocs\u001b[0m\u001b[1;33m[\u001b[0m\u001b[1;34m\"id\"\u001b[0m\u001b[1;33m]\u001b[0m\u001b[1;33m)\u001b[0m\u001b[1;33m\u001b[0m\u001b[1;33m\u001b[0m\u001b[0m\n\u001b[0;32m      2\u001b[0m \u001b[0mprint\u001b[0m\u001b[1;33m(\u001b[0m\u001b[0mn\u001b[0m\u001b[1;33m)\u001b[0m\u001b[1;33m\u001b[0m\u001b[1;33m\u001b[0m\u001b[0m\n\u001b[1;32m----> 3\u001b[1;33m Parallel(n_jobs=num_cores)(delayed(app.feed_data_point)(\n\u001b[0m\u001b[0;32m      4\u001b[0m         \u001b[0mschema\u001b[0m \u001b[1;33m=\u001b[0m \u001b[1;34m\"msmarco\"\u001b[0m\u001b[1;33m,\u001b[0m\u001b[1;33m\u001b[0m\u001b[1;33m\u001b[0m\u001b[0m\n\u001b[0;32m      5\u001b[0m         \u001b[0mdata_id\u001b[0m \u001b[1;33m=\u001b[0m \u001b[0mstr\u001b[0m\u001b[1;33m(\u001b[0m\u001b[0mrow\u001b[0m\u001b[1;33m[\u001b[0m\u001b[1;34m\"id\"\u001b[0m\u001b[1;33m]\u001b[0m\u001b[1;33m)\u001b[0m\u001b[1;33m,\u001b[0m\u001b[1;33m\u001b[0m\u001b[1;33m\u001b[0m\u001b[0m\n",
      "\u001b[1;31mNameError\u001b[0m: name 'num_cores' is not defined"
     ]
    }
   ],
   "source": [
    "n = len(docs[\"id\"])\n",
    "print(n)\n",
    "Parallel(n_jobs=num_cores)(delayed(app.feed_data_point)(\n",
    "        schema = \"msmarco\",\n",
    "        data_id = str(row[\"id\"]),\n",
    "        fields = {\n",
    "            \"id\": str(row[\"id\"]),\n",
    "            \"title\": str(row[\"title\"]),\n",
    "            \"body\": str(row[\"body\"]),\n",
    "            \"body_length\": len(row[\"body\"])#,\n",
    "            #\"title_embedding\": embedding\n",
    "        }) for idx, row in docs.iterrows())"
   ]
  },
  {
   "cell_type": "code",
   "execution_count": null,
   "metadata": {},
   "outputs": [],
   "source": [
    "n = len(docs[\"id\"])\n",
    "print(n)\n",
    "Parallel(n_jobs=2)(delayed(feed_datapoint)(docs.iloc[i,:],i) for i in range(20))"
   ]
  },
  {
   "cell_type": "code",
   "execution_count": null,
   "metadata": {},
   "outputs": [],
   "source": [
    "start = time.time()\n",
    "Parallel(n_jobs=-1)(delayed(feed_datapoint)(row) for idx, row in docs.iterrows())\n",
    "print(time.time() - start)"
   ]
  },
  {
   "cell_type": "code",
   "execution_count": 36,
   "metadata": {},
   "outputs": [
    {
     "name": "stdout",
     "output_type": "stream",
     "text": [
      "0\n",
      "Time: 0.0\n",
      "100\n",
      "Time: 110.6\n"
     ]
    },
    {
     "ename": "ConnectionError",
     "evalue": "HTTPSConnectionPool(host='msmarco-container.andre-olaisen.andre-msmarco.tmartins-ntnu.aws-us-east-1c.dev.public.vespa.oath.cloud', port=443): Max retries exceeded with url: //document/v1/msmarco/msmarco/docid/D2210718 (Caused by NewConnectionError('<urllib3.connection.VerifiedHTTPSConnection object at 0x0000016C5491C2E8>: Failed to establish a new connection: [WinError 10060] A connection attempt failed because the connected party did not properly respond after a period of time, or established connection failed because connected host has failed to respond'))",
     "output_type": "error",
     "traceback": [
      "\u001b[1;31m---------------------------------------------------------------------------\u001b[0m",
      "\u001b[1;31mTimeoutError\u001b[0m                              Traceback (most recent call last)",
      "\u001b[1;32m~\\AppData\\Local\\Continuum\\anaconda3\\lib\\site-packages\\urllib3\\connection.py\u001b[0m in \u001b[0;36m_new_conn\u001b[1;34m(self)\u001b[0m\n\u001b[0;32m    156\u001b[0m             conn = connection.create_connection(\n\u001b[1;32m--> 157\u001b[1;33m                 \u001b[1;33m(\u001b[0m\u001b[0mself\u001b[0m\u001b[1;33m.\u001b[0m\u001b[0m_dns_host\u001b[0m\u001b[1;33m,\u001b[0m \u001b[0mself\u001b[0m\u001b[1;33m.\u001b[0m\u001b[0mport\u001b[0m\u001b[1;33m)\u001b[0m\u001b[1;33m,\u001b[0m \u001b[0mself\u001b[0m\u001b[1;33m.\u001b[0m\u001b[0mtimeout\u001b[0m\u001b[1;33m,\u001b[0m \u001b[1;33m**\u001b[0m\u001b[0mextra_kw\u001b[0m\u001b[1;33m\u001b[0m\u001b[1;33m\u001b[0m\u001b[0m\n\u001b[0m\u001b[0;32m    158\u001b[0m             )\n",
      "\u001b[1;32m~\\AppData\\Local\\Continuum\\anaconda3\\lib\\site-packages\\urllib3\\util\\connection.py\u001b[0m in \u001b[0;36mcreate_connection\u001b[1;34m(address, timeout, source_address, socket_options)\u001b[0m\n\u001b[0;32m     83\u001b[0m     \u001b[1;32mif\u001b[0m \u001b[0merr\u001b[0m \u001b[1;32mis\u001b[0m \u001b[1;32mnot\u001b[0m \u001b[1;32mNone\u001b[0m\u001b[1;33m:\u001b[0m\u001b[1;33m\u001b[0m\u001b[1;33m\u001b[0m\u001b[0m\n\u001b[1;32m---> 84\u001b[1;33m         \u001b[1;32mraise\u001b[0m \u001b[0merr\u001b[0m\u001b[1;33m\u001b[0m\u001b[1;33m\u001b[0m\u001b[0m\n\u001b[0m\u001b[0;32m     85\u001b[0m \u001b[1;33m\u001b[0m\u001b[0m\n",
      "\u001b[1;32m~\\AppData\\Local\\Continuum\\anaconda3\\lib\\site-packages\\urllib3\\util\\connection.py\u001b[0m in \u001b[0;36mcreate_connection\u001b[1;34m(address, timeout, source_address, socket_options)\u001b[0m\n\u001b[0;32m     73\u001b[0m                 \u001b[0msock\u001b[0m\u001b[1;33m.\u001b[0m\u001b[0mbind\u001b[0m\u001b[1;33m(\u001b[0m\u001b[0msource_address\u001b[0m\u001b[1;33m)\u001b[0m\u001b[1;33m\u001b[0m\u001b[1;33m\u001b[0m\u001b[0m\n\u001b[1;32m---> 74\u001b[1;33m             \u001b[0msock\u001b[0m\u001b[1;33m.\u001b[0m\u001b[0mconnect\u001b[0m\u001b[1;33m(\u001b[0m\u001b[0msa\u001b[0m\u001b[1;33m)\u001b[0m\u001b[1;33m\u001b[0m\u001b[1;33m\u001b[0m\u001b[0m\n\u001b[0m\u001b[0;32m     75\u001b[0m             \u001b[1;32mreturn\u001b[0m \u001b[0msock\u001b[0m\u001b[1;33m\u001b[0m\u001b[1;33m\u001b[0m\u001b[0m\n",
      "\u001b[1;31mTimeoutError\u001b[0m: [WinError 10060] A connection attempt failed because the connected party did not properly respond after a period of time, or established connection failed because connected host has failed to respond",
      "\nDuring handling of the above exception, another exception occurred:\n",
      "\u001b[1;31mNewConnectionError\u001b[0m                        Traceback (most recent call last)",
      "\u001b[1;32m~\\AppData\\Local\\Continuum\\anaconda3\\lib\\site-packages\\urllib3\\connectionpool.py\u001b[0m in \u001b[0;36murlopen\u001b[1;34m(self, method, url, body, headers, retries, redirect, assert_same_host, timeout, pool_timeout, release_conn, chunked, body_pos, **response_kw)\u001b[0m\n\u001b[0;32m    671\u001b[0m                 \u001b[0mheaders\u001b[0m\u001b[1;33m=\u001b[0m\u001b[0mheaders\u001b[0m\u001b[1;33m,\u001b[0m\u001b[1;33m\u001b[0m\u001b[1;33m\u001b[0m\u001b[0m\n\u001b[1;32m--> 672\u001b[1;33m                 \u001b[0mchunked\u001b[0m\u001b[1;33m=\u001b[0m\u001b[0mchunked\u001b[0m\u001b[1;33m,\u001b[0m\u001b[1;33m\u001b[0m\u001b[1;33m\u001b[0m\u001b[0m\n\u001b[0m\u001b[0;32m    673\u001b[0m             )\n",
      "\u001b[1;32m~\\AppData\\Local\\Continuum\\anaconda3\\lib\\site-packages\\urllib3\\connectionpool.py\u001b[0m in \u001b[0;36m_make_request\u001b[1;34m(self, conn, method, url, timeout, chunked, **httplib_request_kw)\u001b[0m\n\u001b[0;32m    375\u001b[0m         \u001b[1;32mtry\u001b[0m\u001b[1;33m:\u001b[0m\u001b[1;33m\u001b[0m\u001b[1;33m\u001b[0m\u001b[0m\n\u001b[1;32m--> 376\u001b[1;33m             \u001b[0mself\u001b[0m\u001b[1;33m.\u001b[0m\u001b[0m_validate_conn\u001b[0m\u001b[1;33m(\u001b[0m\u001b[0mconn\u001b[0m\u001b[1;33m)\u001b[0m\u001b[1;33m\u001b[0m\u001b[1;33m\u001b[0m\u001b[0m\n\u001b[0m\u001b[0;32m    377\u001b[0m         \u001b[1;32mexcept\u001b[0m \u001b[1;33m(\u001b[0m\u001b[0mSocketTimeout\u001b[0m\u001b[1;33m,\u001b[0m \u001b[0mBaseSSLError\u001b[0m\u001b[1;33m)\u001b[0m \u001b[1;32mas\u001b[0m \u001b[0me\u001b[0m\u001b[1;33m:\u001b[0m\u001b[1;33m\u001b[0m\u001b[1;33m\u001b[0m\u001b[0m\n",
      "\u001b[1;32m~\\AppData\\Local\\Continuum\\anaconda3\\lib\\site-packages\\urllib3\\connectionpool.py\u001b[0m in \u001b[0;36m_validate_conn\u001b[1;34m(self, conn)\u001b[0m\n\u001b[0;32m    993\u001b[0m         \u001b[1;32mif\u001b[0m \u001b[1;32mnot\u001b[0m \u001b[0mgetattr\u001b[0m\u001b[1;33m(\u001b[0m\u001b[0mconn\u001b[0m\u001b[1;33m,\u001b[0m \u001b[1;34m\"sock\"\u001b[0m\u001b[1;33m,\u001b[0m \u001b[1;32mNone\u001b[0m\u001b[1;33m)\u001b[0m\u001b[1;33m:\u001b[0m  \u001b[1;31m# AppEngine might not have  `.sock`\u001b[0m\u001b[1;33m\u001b[0m\u001b[1;33m\u001b[0m\u001b[0m\n\u001b[1;32m--> 994\u001b[1;33m             \u001b[0mconn\u001b[0m\u001b[1;33m.\u001b[0m\u001b[0mconnect\u001b[0m\u001b[1;33m(\u001b[0m\u001b[1;33m)\u001b[0m\u001b[1;33m\u001b[0m\u001b[1;33m\u001b[0m\u001b[0m\n\u001b[0m\u001b[0;32m    995\u001b[0m \u001b[1;33m\u001b[0m\u001b[0m\n",
      "\u001b[1;32m~\\AppData\\Local\\Continuum\\anaconda3\\lib\\site-packages\\urllib3\\connection.py\u001b[0m in \u001b[0;36mconnect\u001b[1;34m(self)\u001b[0m\n\u001b[0;32m    299\u001b[0m         \u001b[1;31m# Add certificate verification\u001b[0m\u001b[1;33m\u001b[0m\u001b[1;33m\u001b[0m\u001b[1;33m\u001b[0m\u001b[0m\n\u001b[1;32m--> 300\u001b[1;33m         \u001b[0mconn\u001b[0m \u001b[1;33m=\u001b[0m \u001b[0mself\u001b[0m\u001b[1;33m.\u001b[0m\u001b[0m_new_conn\u001b[0m\u001b[1;33m(\u001b[0m\u001b[1;33m)\u001b[0m\u001b[1;33m\u001b[0m\u001b[1;33m\u001b[0m\u001b[0m\n\u001b[0m\u001b[0;32m    301\u001b[0m         \u001b[0mhostname\u001b[0m \u001b[1;33m=\u001b[0m \u001b[0mself\u001b[0m\u001b[1;33m.\u001b[0m\u001b[0mhost\u001b[0m\u001b[1;33m\u001b[0m\u001b[1;33m\u001b[0m\u001b[0m\n",
      "\u001b[1;32m~\\AppData\\Local\\Continuum\\anaconda3\\lib\\site-packages\\urllib3\\connection.py\u001b[0m in \u001b[0;36m_new_conn\u001b[1;34m(self)\u001b[0m\n\u001b[0;32m    168\u001b[0m             raise NewConnectionError(\n\u001b[1;32m--> 169\u001b[1;33m                 \u001b[0mself\u001b[0m\u001b[1;33m,\u001b[0m \u001b[1;34m\"Failed to establish a new connection: %s\"\u001b[0m \u001b[1;33m%\u001b[0m \u001b[0me\u001b[0m\u001b[1;33m\u001b[0m\u001b[1;33m\u001b[0m\u001b[0m\n\u001b[0m\u001b[0;32m    170\u001b[0m             )\n",
      "\u001b[1;31mNewConnectionError\u001b[0m: <urllib3.connection.VerifiedHTTPSConnection object at 0x0000016C5491C2E8>: Failed to establish a new connection: [WinError 10060] A connection attempt failed because the connected party did not properly respond after a period of time, or established connection failed because connected host has failed to respond",
      "\nDuring handling of the above exception, another exception occurred:\n",
      "\u001b[1;31mMaxRetryError\u001b[0m                             Traceback (most recent call last)",
      "\u001b[1;32m~\\AppData\\Local\\Continuum\\anaconda3\\lib\\site-packages\\requests\\adapters.py\u001b[0m in \u001b[0;36msend\u001b[1;34m(self, request, stream, timeout, verify, cert, proxies)\u001b[0m\n\u001b[0;32m    448\u001b[0m                     \u001b[0mretries\u001b[0m\u001b[1;33m=\u001b[0m\u001b[0mself\u001b[0m\u001b[1;33m.\u001b[0m\u001b[0mmax_retries\u001b[0m\u001b[1;33m,\u001b[0m\u001b[1;33m\u001b[0m\u001b[1;33m\u001b[0m\u001b[0m\n\u001b[1;32m--> 449\u001b[1;33m                     \u001b[0mtimeout\u001b[0m\u001b[1;33m=\u001b[0m\u001b[0mtimeout\u001b[0m\u001b[1;33m\u001b[0m\u001b[1;33m\u001b[0m\u001b[0m\n\u001b[0m\u001b[0;32m    450\u001b[0m                 )\n",
      "\u001b[1;32m~\\AppData\\Local\\Continuum\\anaconda3\\lib\\site-packages\\urllib3\\connectionpool.py\u001b[0m in \u001b[0;36murlopen\u001b[1;34m(self, method, url, body, headers, retries, redirect, assert_same_host, timeout, pool_timeout, release_conn, chunked, body_pos, **response_kw)\u001b[0m\n\u001b[0;32m    719\u001b[0m             retries = retries.increment(\n\u001b[1;32m--> 720\u001b[1;33m                 \u001b[0mmethod\u001b[0m\u001b[1;33m,\u001b[0m \u001b[0murl\u001b[0m\u001b[1;33m,\u001b[0m \u001b[0merror\u001b[0m\u001b[1;33m=\u001b[0m\u001b[0me\u001b[0m\u001b[1;33m,\u001b[0m \u001b[0m_pool\u001b[0m\u001b[1;33m=\u001b[0m\u001b[0mself\u001b[0m\u001b[1;33m,\u001b[0m \u001b[0m_stacktrace\u001b[0m\u001b[1;33m=\u001b[0m\u001b[0msys\u001b[0m\u001b[1;33m.\u001b[0m\u001b[0mexc_info\u001b[0m\u001b[1;33m(\u001b[0m\u001b[1;33m)\u001b[0m\u001b[1;33m[\u001b[0m\u001b[1;36m2\u001b[0m\u001b[1;33m]\u001b[0m\u001b[1;33m\u001b[0m\u001b[1;33m\u001b[0m\u001b[0m\n\u001b[0m\u001b[0;32m    721\u001b[0m             )\n",
      "\u001b[1;32m~\\AppData\\Local\\Continuum\\anaconda3\\lib\\site-packages\\urllib3\\util\\retry.py\u001b[0m in \u001b[0;36mincrement\u001b[1;34m(self, method, url, response, error, _pool, _stacktrace)\u001b[0m\n\u001b[0;32m    435\u001b[0m         \u001b[1;32mif\u001b[0m \u001b[0mnew_retry\u001b[0m\u001b[1;33m.\u001b[0m\u001b[0mis_exhausted\u001b[0m\u001b[1;33m(\u001b[0m\u001b[1;33m)\u001b[0m\u001b[1;33m:\u001b[0m\u001b[1;33m\u001b[0m\u001b[1;33m\u001b[0m\u001b[0m\n\u001b[1;32m--> 436\u001b[1;33m             \u001b[1;32mraise\u001b[0m \u001b[0mMaxRetryError\u001b[0m\u001b[1;33m(\u001b[0m\u001b[0m_pool\u001b[0m\u001b[1;33m,\u001b[0m \u001b[0murl\u001b[0m\u001b[1;33m,\u001b[0m \u001b[0merror\u001b[0m \u001b[1;32mor\u001b[0m \u001b[0mResponseError\u001b[0m\u001b[1;33m(\u001b[0m\u001b[0mcause\u001b[0m\u001b[1;33m)\u001b[0m\u001b[1;33m)\u001b[0m\u001b[1;33m\u001b[0m\u001b[1;33m\u001b[0m\u001b[0m\n\u001b[0m\u001b[0;32m    437\u001b[0m \u001b[1;33m\u001b[0m\u001b[0m\n",
      "\u001b[1;31mMaxRetryError\u001b[0m: HTTPSConnectionPool(host='msmarco-container.andre-olaisen.andre-msmarco.tmartins-ntnu.aws-us-east-1c.dev.public.vespa.oath.cloud', port=443): Max retries exceeded with url: //document/v1/msmarco/msmarco/docid/D2210718 (Caused by NewConnectionError('<urllib3.connection.VerifiedHTTPSConnection object at 0x0000016C5491C2E8>: Failed to establish a new connection: [WinError 10060] A connection attempt failed because the connected party did not properly respond after a period of time, or established connection failed because connected host has failed to respond'))",
      "\nDuring handling of the above exception, another exception occurred:\n",
      "\u001b[1;31mConnectionError\u001b[0m                           Traceback (most recent call last)",
      "\u001b[1;32m<ipython-input-36-a385a6d8075d>\u001b[0m in \u001b[0;36m<module>\u001b[1;34m\u001b[0m\n\u001b[0;32m     27\u001b[0m             \u001b[1;34m\"body\"\u001b[0m\u001b[1;33m:\u001b[0m \u001b[0mstr\u001b[0m\u001b[1;33m(\u001b[0m\u001b[0mrow\u001b[0m\u001b[1;33m[\u001b[0m\u001b[1;34m\"body\"\u001b[0m\u001b[1;33m]\u001b[0m\u001b[1;33m)\u001b[0m\u001b[1;33m,\u001b[0m\u001b[1;33m\u001b[0m\u001b[1;33m\u001b[0m\u001b[0m\n\u001b[0;32m     28\u001b[0m             \u001b[1;34m\"title_embedding\"\u001b[0m\u001b[1;33m:\u001b[0m \u001b[0membedding_title\u001b[0m\u001b[1;33m,\u001b[0m\u001b[1;33m\u001b[0m\u001b[1;33m\u001b[0m\u001b[0m\n\u001b[1;32m---> 29\u001b[1;33m             \u001b[1;34m\"body_embedding\"\u001b[0m\u001b[1;33m:\u001b[0m \u001b[0membedding_body\u001b[0m\u001b[1;33m\u001b[0m\u001b[1;33m\u001b[0m\u001b[0m\n\u001b[0m\u001b[0;32m     30\u001b[0m         }\n\u001b[0;32m     31\u001b[0m     )\n",
      "\u001b[1;32m~\\AppData\\Local\\Continuum\\anaconda3\\lib\\site-packages\\vespa\\application.py\u001b[0m in \u001b[0;36mfeed_data_point\u001b[1;34m(self, schema, data_id, fields)\u001b[0m\n\u001b[0;32m    126\u001b[0m         )\n\u001b[0;32m    127\u001b[0m         \u001b[0mvespa_format\u001b[0m \u001b[1;33m=\u001b[0m \u001b[1;33m{\u001b[0m\u001b[1;34m\"fields\"\u001b[0m\u001b[1;33m:\u001b[0m \u001b[0mfields\u001b[0m\u001b[1;33m}\u001b[0m\u001b[1;33m\u001b[0m\u001b[1;33m\u001b[0m\u001b[0m\n\u001b[1;32m--> 128\u001b[1;33m         \u001b[0mresponse\u001b[0m \u001b[1;33m=\u001b[0m \u001b[0mpost\u001b[0m\u001b[1;33m(\u001b[0m\u001b[0mend_point\u001b[0m\u001b[1;33m,\u001b[0m \u001b[0mjson\u001b[0m\u001b[1;33m=\u001b[0m\u001b[0mvespa_format\u001b[0m\u001b[1;33m,\u001b[0m \u001b[0mcert\u001b[0m\u001b[1;33m=\u001b[0m\u001b[0mself\u001b[0m\u001b[1;33m.\u001b[0m\u001b[0mcert\u001b[0m\u001b[1;33m)\u001b[0m\u001b[1;33m\u001b[0m\u001b[1;33m\u001b[0m\u001b[0m\n\u001b[0m\u001b[0;32m    129\u001b[0m         \u001b[1;32mreturn\u001b[0m \u001b[0mresponse\u001b[0m\u001b[1;33m\u001b[0m\u001b[1;33m\u001b[0m\u001b[0m\n\u001b[0;32m    130\u001b[0m \u001b[1;33m\u001b[0m\u001b[0m\n",
      "\u001b[1;32m~\\AppData\\Local\\Continuum\\anaconda3\\lib\\site-packages\\requests\\api.py\u001b[0m in \u001b[0;36mpost\u001b[1;34m(url, data, json, **kwargs)\u001b[0m\n\u001b[0;32m    117\u001b[0m     \"\"\"\n\u001b[0;32m    118\u001b[0m \u001b[1;33m\u001b[0m\u001b[0m\n\u001b[1;32m--> 119\u001b[1;33m     \u001b[1;32mreturn\u001b[0m \u001b[0mrequest\u001b[0m\u001b[1;33m(\u001b[0m\u001b[1;34m'post'\u001b[0m\u001b[1;33m,\u001b[0m \u001b[0murl\u001b[0m\u001b[1;33m,\u001b[0m \u001b[0mdata\u001b[0m\u001b[1;33m=\u001b[0m\u001b[0mdata\u001b[0m\u001b[1;33m,\u001b[0m \u001b[0mjson\u001b[0m\u001b[1;33m=\u001b[0m\u001b[0mjson\u001b[0m\u001b[1;33m,\u001b[0m \u001b[1;33m**\u001b[0m\u001b[0mkwargs\u001b[0m\u001b[1;33m)\u001b[0m\u001b[1;33m\u001b[0m\u001b[1;33m\u001b[0m\u001b[0m\n\u001b[0m\u001b[0;32m    120\u001b[0m \u001b[1;33m\u001b[0m\u001b[0m\n\u001b[0;32m    121\u001b[0m \u001b[1;33m\u001b[0m\u001b[0m\n",
      "\u001b[1;32m~\\AppData\\Local\\Continuum\\anaconda3\\lib\\site-packages\\requests\\api.py\u001b[0m in \u001b[0;36mrequest\u001b[1;34m(method, url, **kwargs)\u001b[0m\n\u001b[0;32m     59\u001b[0m     \u001b[1;31m# cases, and look like a memory leak in others.\u001b[0m\u001b[1;33m\u001b[0m\u001b[1;33m\u001b[0m\u001b[1;33m\u001b[0m\u001b[0m\n\u001b[0;32m     60\u001b[0m     \u001b[1;32mwith\u001b[0m \u001b[0msessions\u001b[0m\u001b[1;33m.\u001b[0m\u001b[0mSession\u001b[0m\u001b[1;33m(\u001b[0m\u001b[1;33m)\u001b[0m \u001b[1;32mas\u001b[0m \u001b[0msession\u001b[0m\u001b[1;33m:\u001b[0m\u001b[1;33m\u001b[0m\u001b[1;33m\u001b[0m\u001b[0m\n\u001b[1;32m---> 61\u001b[1;33m         \u001b[1;32mreturn\u001b[0m \u001b[0msession\u001b[0m\u001b[1;33m.\u001b[0m\u001b[0mrequest\u001b[0m\u001b[1;33m(\u001b[0m\u001b[0mmethod\u001b[0m\u001b[1;33m=\u001b[0m\u001b[0mmethod\u001b[0m\u001b[1;33m,\u001b[0m \u001b[0murl\u001b[0m\u001b[1;33m=\u001b[0m\u001b[0murl\u001b[0m\u001b[1;33m,\u001b[0m \u001b[1;33m**\u001b[0m\u001b[0mkwargs\u001b[0m\u001b[1;33m)\u001b[0m\u001b[1;33m\u001b[0m\u001b[1;33m\u001b[0m\u001b[0m\n\u001b[0m\u001b[0;32m     62\u001b[0m \u001b[1;33m\u001b[0m\u001b[0m\n\u001b[0;32m     63\u001b[0m \u001b[1;33m\u001b[0m\u001b[0m\n",
      "\u001b[1;32m~\\AppData\\Local\\Continuum\\anaconda3\\lib\\site-packages\\requests\\sessions.py\u001b[0m in \u001b[0;36mrequest\u001b[1;34m(self, method, url, params, data, headers, cookies, files, auth, timeout, allow_redirects, proxies, hooks, stream, verify, cert, json)\u001b[0m\n\u001b[0;32m    528\u001b[0m         }\n\u001b[0;32m    529\u001b[0m         \u001b[0msend_kwargs\u001b[0m\u001b[1;33m.\u001b[0m\u001b[0mupdate\u001b[0m\u001b[1;33m(\u001b[0m\u001b[0msettings\u001b[0m\u001b[1;33m)\u001b[0m\u001b[1;33m\u001b[0m\u001b[1;33m\u001b[0m\u001b[0m\n\u001b[1;32m--> 530\u001b[1;33m         \u001b[0mresp\u001b[0m \u001b[1;33m=\u001b[0m \u001b[0mself\u001b[0m\u001b[1;33m.\u001b[0m\u001b[0msend\u001b[0m\u001b[1;33m(\u001b[0m\u001b[0mprep\u001b[0m\u001b[1;33m,\u001b[0m \u001b[1;33m**\u001b[0m\u001b[0msend_kwargs\u001b[0m\u001b[1;33m)\u001b[0m\u001b[1;33m\u001b[0m\u001b[1;33m\u001b[0m\u001b[0m\n\u001b[0m\u001b[0;32m    531\u001b[0m \u001b[1;33m\u001b[0m\u001b[0m\n\u001b[0;32m    532\u001b[0m         \u001b[1;32mreturn\u001b[0m \u001b[0mresp\u001b[0m\u001b[1;33m\u001b[0m\u001b[1;33m\u001b[0m\u001b[0m\n",
      "\u001b[1;32m~\\AppData\\Local\\Continuum\\anaconda3\\lib\\site-packages\\requests\\sessions.py\u001b[0m in \u001b[0;36msend\u001b[1;34m(self, request, **kwargs)\u001b[0m\n\u001b[0;32m    641\u001b[0m \u001b[1;33m\u001b[0m\u001b[0m\n\u001b[0;32m    642\u001b[0m         \u001b[1;31m# Send the request\u001b[0m\u001b[1;33m\u001b[0m\u001b[1;33m\u001b[0m\u001b[1;33m\u001b[0m\u001b[0m\n\u001b[1;32m--> 643\u001b[1;33m         \u001b[0mr\u001b[0m \u001b[1;33m=\u001b[0m \u001b[0madapter\u001b[0m\u001b[1;33m.\u001b[0m\u001b[0msend\u001b[0m\u001b[1;33m(\u001b[0m\u001b[0mrequest\u001b[0m\u001b[1;33m,\u001b[0m \u001b[1;33m**\u001b[0m\u001b[0mkwargs\u001b[0m\u001b[1;33m)\u001b[0m\u001b[1;33m\u001b[0m\u001b[1;33m\u001b[0m\u001b[0m\n\u001b[0m\u001b[0;32m    644\u001b[0m \u001b[1;33m\u001b[0m\u001b[0m\n\u001b[0;32m    645\u001b[0m         \u001b[1;31m# Total elapsed time of the request (approximately)\u001b[0m\u001b[1;33m\u001b[0m\u001b[1;33m\u001b[0m\u001b[1;33m\u001b[0m\u001b[0m\n",
      "\u001b[1;32m~\\AppData\\Local\\Continuum\\anaconda3\\lib\\site-packages\\requests\\adapters.py\u001b[0m in \u001b[0;36msend\u001b[1;34m(self, request, stream, timeout, verify, cert, proxies)\u001b[0m\n\u001b[0;32m    514\u001b[0m                 \u001b[1;32mraise\u001b[0m \u001b[0mSSLError\u001b[0m\u001b[1;33m(\u001b[0m\u001b[0me\u001b[0m\u001b[1;33m,\u001b[0m \u001b[0mrequest\u001b[0m\u001b[1;33m=\u001b[0m\u001b[0mrequest\u001b[0m\u001b[1;33m)\u001b[0m\u001b[1;33m\u001b[0m\u001b[1;33m\u001b[0m\u001b[0m\n\u001b[0;32m    515\u001b[0m \u001b[1;33m\u001b[0m\u001b[0m\n\u001b[1;32m--> 516\u001b[1;33m             \u001b[1;32mraise\u001b[0m \u001b[0mConnectionError\u001b[0m\u001b[1;33m(\u001b[0m\u001b[0me\u001b[0m\u001b[1;33m,\u001b[0m \u001b[0mrequest\u001b[0m\u001b[1;33m=\u001b[0m\u001b[0mrequest\u001b[0m\u001b[1;33m)\u001b[0m\u001b[1;33m\u001b[0m\u001b[1;33m\u001b[0m\u001b[0m\n\u001b[0m\u001b[0;32m    517\u001b[0m \u001b[1;33m\u001b[0m\u001b[0m\n\u001b[0;32m    518\u001b[0m         \u001b[1;32mexcept\u001b[0m \u001b[0mClosedPoolError\u001b[0m \u001b[1;32mas\u001b[0m \u001b[0me\u001b[0m\u001b[1;33m:\u001b[0m\u001b[1;33m\u001b[0m\u001b[1;33m\u001b[0m\u001b[0m\n",
      "\u001b[1;31mConnectionError\u001b[0m: HTTPSConnectionPool(host='msmarco-container.andre-olaisen.andre-msmarco.tmartins-ntnu.aws-us-east-1c.dev.public.vespa.oath.cloud', port=443): Max retries exceeded with url: //document/v1/msmarco/msmarco/docid/D2210718 (Caused by NewConnectionError('<urllib3.connection.VerifiedHTTPSConnection object at 0x0000016C5491C2E8>: Failed to establish a new connection: [WinError 10060] A connection attempt failed because the connected party did not properly respond after a period of time, or established connection failed because connected host has failed to respond'))"
     ]
    }
   ],
   "source": [
    "\n",
    "start = time.time()\n",
    "m = start\n",
    "i = 0\n",
    "for idx, row in docs.iterrows():\n",
    "    if (i % 100 == 0):\n",
    "        print(i)\n",
    "        print(\"Time:\", round(time.time() - m,1))\n",
    "        m = time.time()\n",
    "    i += 1\n",
    "    embedding_title = np.zeros(768)\n",
    "    embedding_body = np.zeros(768)\n",
    "    \n",
    "    if type(row[\"title\"]) != float:\n",
    "        embedding_title =  model.encode(row[\"title\"]).tolist()\n",
    "    else:\n",
    "        embedding_title = [0 for _ in range(768)]\n",
    "    \n",
    "    if type(row[\"body\"]) != float:\n",
    "        embedding_body =  model.encode(row[\"body\"]).tolist()\n",
    "    else:\n",
    "        embedding_body = [0 for _ in range(768)]\n",
    "    #print(len(row[\"title\"]), end = \"  \")\n",
    "    response = app.feed_data_point(\n",
    "        schema = \"msmarco\",\n",
    "        data_id = str(row[\"id\"]),\n",
    "        fields = {\n",
    "            \"id\": str(row[\"id\"]),\n",
    "            \"title\": str(row[\"title\"]),\n",
    "            \"body\": str(row[\"body\"]),\n",
    "            \"title_embedding\": embedding_title,\n",
    "            \"body_embedding\": embedding_body\n",
    "        }\n",
    "    )\n",
    "print(\"Total_time:\", time.time()- start)"
   ]
  },
  {
   "cell_type": "code",
   "execution_count": 37,
   "metadata": {},
   "outputs": [],
   "source": [
    "from vespa.query import Query, OR, AND, WeakAnd, ANN, RankProfile as Ranking\n",
    "\n",
    "\n",
    "results = app.query(\n",
    "    query=\"What is up\",\n",
    "    query_model = Query(\n",
    "        match_phase=OR(),\n",
    "        rank_profile=Ranking(name=\"default\")\n",
    "    ),\n",
    "    hits = 10\n",
    ")"
   ]
  },
  {
   "cell_type": "code",
   "execution_count": null,
   "metadata": {},
   "outputs": [],
   "source": []
  },
  {
   "cell_type": "code",
   "execution_count": 39,
   "metadata": {},
   "outputs": [
    {
     "name": "stdout",
     "output_type": "stream",
     "text": [
      "0\n"
     ]
    }
   ],
   "source": [
    "print(len(results.hits))\n",
    "for result in results.hits:\n",
    "    print(result[\"fields\"][\"id\"], \"  \", result[\"fields\"][\"title\"])\n"
   ]
  },
  {
   "cell_type": "code",
   "execution_count": 19,
   "metadata": {},
   "outputs": [
    {
     "name": "stdout",
     "output_type": "stream",
     "text": [
      "0\n",
      "0\n",
      "0\n",
      "\n",
      "\n",
      "0\n",
      "0\n",
      "0\n"
     ]
    }
   ],
   "source": [
    "### Testing different matching phases\n",
    "\n",
    "query_text = \"What is food?\"\n",
    "\n",
    "results1 = app.query(\n",
    "    query=query_text,\n",
    "    query_model = Query(\n",
    "        match_phase=WeakAnd(hits = 1),\n",
    "        rank_profile=Ranking(name=\"default\")\n",
    "    ),\n",
    "    hits = 10\n",
    ")\n",
    "\n",
    "results2 = app.query(\n",
    "    query=query_text,\n",
    "    query_model = Query(\n",
    "        match_phase=OR(),\n",
    "        rank_profile=Ranking(name=\"default\")\n",
    "    ),\n",
    "    hits = 10\n",
    ")\n",
    "\n",
    "results3 = app.query(\n",
    "    query=query_text,\n",
    "    query_model = Query(\n",
    "        match_phase=AND(),\n",
    "        rank_profile=Ranking(name=\"default\")\n",
    "    ),\n",
    "    hits = 10\n",
    ")\n",
    "\n",
    "# Very different number of ducuments retrieved.\n",
    "# \n",
    "print(results1.number_documents_retrieved)\n",
    "print(results2.number_documents_retrieved)\n",
    "print(results3.number_documents_retrieved)\n",
    "\n",
    "print(\"\\n\")\n",
    "\n",
    "# Size of the corpus?\n",
    "print(results1.number_documents_indexed)\n",
    "print(results2.number_documents_indexed)\n",
    "print(results3.number_documents_indexed)\n",
    "\n",
    "#\n"
   ]
  },
  {
   "cell_type": "code",
   "execution_count": null,
   "metadata": {},
   "outputs": [],
   "source": [
    "#Testing WeakAnd\n",
    "# Can be read about here: https://docs.vespa.ai/documentation/using-wand-with-vespa.html\n",
    "# How does hits affect the search?\n",
    "# Is this the target amount of retrived documents?\n",
    "# Retrived documents seam to increase linearly with hits\n",
    "query_text = \"How too kill the warm black friday mood???\"\n",
    "\n",
    "n = 100\n",
    "\n",
    "results = []\n",
    "retrived = np.zeros(n)\n",
    "\n",
    "\n",
    "for i in range(n):\n",
    "    results_temp = app.query(\n",
    "        query=query_text,\n",
    "        query_model = Query(\n",
    "            match_phase=WeakAnd(hits = i),\n",
    "            rank_profile=Ranking(name=\"default\")\n",
    "        ),\n",
    "        hits = 1\n",
    "    )\n",
    "    results.append(results)\n",
    "    retrived[i] = results_temp.number_documents_retrieved\n",
    "\n"
   ]
  },
  {
   "cell_type": "code",
   "execution_count": null,
   "metadata": {},
   "outputs": [],
   "source": [
    "plt.plot(retrived)\n",
    "plt.plot(np.arange(100) + retrived[5])\n",
    "plt.ylabel('Numbre of documents retrived')\n",
    "plt.xlabel(\"WeakAnd(hits = x)\")\n",
    "plt.title(\"Query:\" + query_text)\n",
    "plt.show()\n"
   ]
  },
  {
   "cell_type": "code",
   "execution_count": null,
   "metadata": {},
   "outputs": [],
   "source": [
    "query_model = Query(\n",
    "            match_phase=WeakAnd(hits = 10, ),\n",
    "            rank_profile=Ranking(name=\"default\"))\n",
    "    \n",
    "query_model.body\n",
    "\n",
    "\n"
   ]
  },
  {
   "cell_type": "code",
   "execution_count": null,
   "metadata": {},
   "outputs": [],
   "source": [
    "app_package.schema.add_rank_profile(\n",
    "    RankProfile(name = \"body_length\", inherits = \"default\", first_phase = \"body_length\")\n",
    ")\n",
    "\n",
    "path_key = \"C:\\\\Users\\\\User\\\\OneDrive - NTNU\\\\NTNU\\\\Prosjekt oppgave NLP\\\\Cloud_test\\\\\"\n",
    "\n",
    "app = vespa_cloud.deploy(\n",
    "    instance = 'andre-olaisen',\n",
    "    disk_folder = path_key \n",
    ")\n",
    "\n",
    "\n"
   ]
  },
  {
   "cell_type": "code",
   "execution_count": null,
   "metadata": {},
   "outputs": [],
   "source": [
    "query_text = \"Was jesus a socialist\"\n",
    "\n",
    "results_or_default = app.query(\n",
    "    query=query_text,\n",
    "    query_model = Query(\n",
    "        match_phase=OR(),\n",
    "        rank_profile=Ranking(name=\"default\")\n",
    "    ),\n",
    "    hits = 5\n",
    ")\n",
    "\n",
    "results_or_bm25 = app.query(\n",
    "    query=query_text,\n",
    "    query_model = Query(\n",
    "        match_phase=OR(),\n",
    "        rank_profile=Ranking(name=\"bm25\")\n",
    "    ),\n",
    "    hits = 5\n",
    ")\n",
    "\n",
    "print(results_or_default.number_documents_retrieved)\n",
    "print(results_or_bm25.number_documents_retrieved)\n",
    "\n",
    "print(query_text)\n",
    "print(\"\\n\")\n",
    "\n",
    "print(\"Results: or , deault\")\n",
    "for result in results_or_default.hits:\n",
    "    print(result['fields']['title'])\n",
    "    print(result[\"relevance\"])\n",
    "    \n",
    "print(\"\\n\")\n",
    "    \n",
    "print(\"Results: OR , bm25(title) + bm25(body)\")\n",
    "for result in results_or_bm25.hits:\n",
    "    print(result['fields']['title'])\n",
    "    print(result[\"relevance\"])\n",
    "\n"
   ]
  },
  {
   "cell_type": "code",
   "execution_count": null,
   "metadata": {},
   "outputs": [],
   "source": [
    "# add_rank_profile: What does inherits mean? Why is this needed?\n",
    "# Not able to make bm25 work\n",
    "app_package.schema.add_rank_profile(\n",
    "    RankProfile(name = \"bm25\", inherits = \"default\", first_phase = \"bm25(body)+bm25(title)\")\n",
    ")\n",
    "app_package.schema.add_rank_profile(\n",
    "    RankProfile(name = \"bm25_title\", inherits = \"default\", first_phase = \"bm25(title)\")\n",
    ")\n",
    "app_package.schema.add_rank_profile(\n",
    "    RankProfile(name = \"bm25_body\", inherits = \"default\", first_phase = \"bm25(body)\")\n",
    ")\n",
    "\n",
    "app_package\n",
    "\n"
   ]
  },
  {
   "cell_type": "code",
   "execution_count": null,
   "metadata": {},
   "outputs": [],
   "source": [
    "# After adding a new RankingProfile the app has to be redeployed\n",
    "\n",
    "path_key = \"C:\\\\Users\\\\User\\\\OneDrive - NTNU\\\\NTNU\\\\Prosjekt oppgave NLP\\\\Cloud_test\\\\\"\n",
    "\n",
    "app = vespa_cloud.deploy(\n",
    "    instance='andre-olaisen',\n",
    "    disk_folder=path_key\n",
    ")"
   ]
  },
  {
   "cell_type": "code",
   "execution_count": null,
   "metadata": {},
   "outputs": [],
   "source": [
    "query_text = \"Could muhammad take a selfie?\"\n",
    "\n",
    "results_or_bm25 = app.query(\n",
    "    query=query_text,\n",
    "    query_model = Query(\n",
    "        match_phase=OR(),\n",
    "        rank_profile=Ranking(name=\"bm25\")\n",
    "    ),\n",
    "    hits = 10\n",
    ")\n",
    "\n",
    "\n",
    "results_or_bm25_title = app.query(\n",
    "    query=query_text,\n",
    "    query_model = Query(\n",
    "        match_phase=OR(),\n",
    "        rank_profile=Ranking(name=\"bm25_body\")\n",
    "    ),\n",
    "    hits = 10\n",
    ")\n",
    "\n",
    "results_or_bm25_body = app.query(\n",
    "    query=query_text,\n",
    "    query_model = Query(\n",
    "        match_phase=OR(),\n",
    "        rank_profile=Ranking(name=\"bm25_title\")\n",
    "    ),\n",
    "    hits = 10\n",
    ")\n",
    "\n",
    "\n",
    "print(\"Results: OR , bm25(title)+bm25(body)\")\n",
    "for result in results_or_bm25.hits:\n",
    "    print(result['fields']['title'])\n",
    "    print(result[\"relevance\"])\n",
    "    \n",
    "print(\"\\n\")\n",
    "\n",
    "print(\"Results: OR , bm25(title)\")\n",
    "for result in results_or_bm25_body.hits:\n",
    "    print(result['fields']['title'])\n",
    "    print(result[\"relevance\"])\n",
    "\n",
    "print(\"\\n\")\n",
    "print(\"Results: OR , bm25(body)\")\n",
    "for result in results_or_bm25_title.hits:\n",
    "    print(result['fields']['title'])\n",
    "    print(result[\"relevance\"])\n",
    "\n"
   ]
  },
  {
   "cell_type": "code",
   "execution_count": null,
   "metadata": {
    "scrolled": true
   },
   "outputs": [],
   "source": [
    "app_package.schema.add_rank_profile(\n",
    "    RankProfile(name = \"nativerank_bm25_combo\", inherits = \"default\",\n",
    "                first_phase = \"nativeRank(title,body) + bm25(body)\")\n",
    ")\n",
    "\n",
    "# After adding a new RankingProfile the app has to be redeployed\n",
    "\n",
    "path_key = \"C:\\\\Users\\\\User\\\\OneDrive - NTNU\\\\NTNU\\\\Prosjekt oppgave NLP\\\\Cloud_test\\\\\"\n",
    "\n",
    "app = vespa_cloud.deploy(\n",
    "    instance='andre-olaisen',\n",
    "    disk_folder=path_key\n",
    ")"
   ]
  },
  {
   "cell_type": "code",
   "execution_count": null,
   "metadata": {},
   "outputs": [],
   "source": [
    "query_text = \"Could Muhammad take a selfie?\"\n",
    "\n",
    "results_or_native_bm_combo = app.query(\n",
    "    query=query_text,\n",
    "    query_model = Query(\n",
    "        match_phase=OR(),\n",
    "        rank_profile=Ranking(name=\"nativerank_bm25_combo\")\n",
    "    ),\n",
    "    hits = 10\n",
    ")\n",
    "\n",
    "print(\"\\n\")\n",
    "print(\"Results: OR , bm25(body)\")\n",
    "for result in results_or_native_bm_combo.hits:\n",
    "    print(result['fields']['title'])\n",
    "    print(result[\"relevance\"])"
   ]
  },
  {
   "cell_type": "code",
   "execution_count": null,
   "metadata": {},
   "outputs": [],
   "source": [
    "# Testing ANN \n",
    "from vespa.query import Union, WeakAnd, ANN"
   ]
  },
  {
   "cell_type": "code",
   "execution_count": null,
   "metadata": {},
   "outputs": [],
   "source": [
    "\n",
    "\n",
    "match_phase = Union(\n",
    "    WeakAnd(hits = 10),\n",
    "    ANN(\n",
    "        doc_vector=\"title_embedding\",\n",
    "        query_vector=query_text,\n",
    "        embedding_model=model.encode().tolist(),\n",
    "        hits = 10,\n",
    "        label=\"title\"\n",
    "    )\n",
    ")\n",
    "\n",
    "m\n",
    "\n",
    "rank_profile = Ranking(name=\"default\" ,list_features=True)\n",
    "\n",
    "query_model = Query(match_phase=match_phase, rank_profile=rank_profile)\n",
    "\n",
    "results_ANN_bm25 = app.query(\n",
    "    query=query_text,\n",
    "    query_model = query_model )\n",
    "\n",
    "print(results_ANN_bm25.number_documents_retrieved) # = 0\n",
    "print(results_ANN_bm25.number_documents_indexed)   # = 0\n",
    "\n"
   ]
  },
  {
   "cell_type": "code",
   "execution_count": null,
   "metadata": {},
   "outputs": [],
   "source": [
    "??results_ANN_bm25"
   ]
  },
  {
   "cell_type": "code",
   "execution_count": null,
   "metadata": {},
   "outputs": [],
   "source": [
    "match_phase.get_query_properties(\"dsfsdf\")"
   ]
  },
  {
   "cell_type": "code",
   "execution_count": null,
   "metadata": {},
   "outputs": [],
   "source": [
    "rank_profile = Ranking(name=\"default\" ,list_features=True)\n",
    "\n",
    "query_model = Query(match_phase=match_phase, rank_profile=rank_profile)\n",
    "\n",
    "results_ANN_bm25 = app.query(\n",
    "    query=query_text,\n",
    "    query_model = query_model)\n",
    "\n",
    "print(results_ANN_bm25.number_documents_retrieved)\n",
    "print(results_ANN_bm25.number_documents_indexed)\n",
    "print(\"\\n\")\n",
    "print(\"Results: ANN , bm25\")\n",
    "for result in results_ANN_bm25.hits:\n",
    "    print(result['fields']['title'])\n",
    "    print(result[\"relevance\"])\n",
    "\n",
    "   "
   ]
  },
  {
   "cell_type": "code",
   "execution_count": null,
   "metadata": {},
   "outputs": [],
   "source": [
    "import requests, json\n",
    "\n",
    "labelled_data = json.loads(\n",
    "    requests.get(\"https://thigm85.github.io/data/msmarco/query-labels.json\").text\n",
    ")"
   ]
  },
  {
   "cell_type": "code",
   "execution_count": null,
   "metadata": {},
   "outputs": [],
   "source": [
    "print(len(labelled_data))\n",
    "\n",
    "labelled_data[0:4]"
   ]
  },
  {
   "cell_type": "code",
   "execution_count": null,
   "metadata": {},
   "outputs": [],
   "source": [
    "default_ranking = Query(\n",
    "    match_phase=OR(),\n",
    "    rank_profile=Ranking(name=\"default\")\n",
    ")"
   ]
  },
  {
   "cell_type": "code",
   "execution_count": null,
   "metadata": {},
   "outputs": [],
   "source": [
    "bm25_ranking = Query(\n",
    "    match_phase=OR(),\n",
    "    rank_profile=Ranking(name=\"bm25\")\n",
    ")\n",
    "\n"
   ]
  },
  {
   "cell_type": "code",
   "execution_count": null,
   "metadata": {},
   "outputs": [],
   "source": [
    "from vespa.evaluation import MatchRatio, Recall, ReciprocalRank\n",
    "\n",
    "eval_metrics = [MatchRatio(), Recall(at = 10), ReciprocalRank(at = 10)]\n",
    "\n"
   ]
  },
  {
   "cell_type": "code",
   "execution_count": null,
   "metadata": {},
   "outputs": [],
   "source": [
    "default_evaluation = app.evaluate(\n",
    "    labelled_data=labelled_data,\n",
    "    eval_metrics=eval_metrics,\n",
    "    query_model=default_ranking,\n",
    "    id_field=\"id\",\n",
    "    timeout=5,\n",
    "    hits=10\n",
    ")"
   ]
  },
  {
   "cell_type": "code",
   "execution_count": null,
   "metadata": {},
   "outputs": [],
   "source": [
    "bm25_evaluation = app.evaluate(\n",
    "    labelled_data=labelled_data,\n",
    "    eval_metrics=eval_metrics,\n",
    "    query_model=bm25_ranking,\n",
    "    id_field=\"id\",\n",
    "    timeout=5,\n",
    "    hits=10\n",
    ")\n",
    "\n"
   ]
  },
  {
   "cell_type": "code",
   "execution_count": null,
   "metadata": {},
   "outputs": [],
   "source": [
    "from pandas import merge\n",
    "\n",
    "eval_comparison = merge(\n",
    "    left=default_evaluation,\n",
    "    right=bm25_evaluation,\n",
    "    on=\"query_id\",\n",
    "    suffixes=('_default', '_bm25')\n",
    ")\n",
    "eval_comparison[0:10]\n",
    "\n"
   ]
  },
  {
   "cell_type": "code",
   "execution_count": null,
   "metadata": {},
   "outputs": [],
   "source": [
    "eval_comparison[[\"match_ratio_value_default\", \"match_ratio_value_bm25\"]].describe().loc[[\"mean\", \"std\"]]"
   ]
  },
  {
   "cell_type": "code",
   "execution_count": null,
   "metadata": {},
   "outputs": [],
   "source": [
    "eval_comparison[[\"recall_10_value_default\", \"recall_10_value_bm25\"]].describe().loc[[\"mean\", \"std\"]]"
   ]
  },
  {
   "cell_type": "code",
   "execution_count": null,
   "metadata": {},
   "outputs": [],
   "source": [
    "eval_comparison[[\"reciprocal_rank_10_value_default\", \"reciprocal_rank_10_value_bm25\"]].describe().loc[[\"mean\", \"std\"]]"
   ]
  }
 ],
 "metadata": {
  "kernelspec": {
   "display_name": "Python 3",
   "language": "python",
   "name": "python3"
  },
  "language_info": {
   "codemirror_mode": {
    "name": "ipython",
    "version": 3
   },
   "file_extension": ".py",
   "mimetype": "text/x-python",
   "name": "python",
   "nbconvert_exporter": "python",
   "pygments_lexer": "ipython3",
   "version": "3.7.3"
  }
 },
 "nbformat": 4,
 "nbformat_minor": 4
}
