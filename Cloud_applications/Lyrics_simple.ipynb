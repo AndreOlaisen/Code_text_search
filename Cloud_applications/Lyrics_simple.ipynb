{
 "cells": [
  {
   "cell_type": "markdown",
   "metadata": {},
   "source": [
    "# Notes about API\n",
    "\n",
    "* I feel every function in the referance API should be used at least once in the How-to guides."
   ]
  },
  {
   "cell_type": "code",
   "execution_count": 9,
   "metadata": {},
   "outputs": [
    {
     "data": {
      "text/plain": [
       "'\\n# Questions \\n\\n    # What is indexing?, what options are available? \\n    # What is index? \\n    # What is \"enable-bm25\" and are there any other alternatives? \\n        - need to have enable-bm25 to be able to use bm25 later\\n    # Does it have to be named \"title\" and \"body\"?\\n'"
      ]
     },
     "execution_count": 9,
     "metadata": {},
     "output_type": "execute_result"
    }
   ],
   "source": [
    "from vespa.package import Document, Field\n",
    "\n",
    "document = Document(\n",
    "    fields=[\n",
    "        Field(name = \"id\", type = \"string\", indexing = [\"attribute\", \"summary\"]),\n",
    "        Field(name = \"title\", type = \"string\", indexing = [\"index\", \"summary\"], index = \"enable-bm25\"),\n",
    "        Field(name = \"body\", type = \"string\", indexing = [\"index\", \"summary\"], index = \"enable-bm25\"),\n",
    "        Field(name = \"lyrics_length\", type = \"int\", indexing = [\"attribute\", \"summary\"])\n",
    "    ]\n",
    ")\n",
    "\n",
    "\"\"\"\n",
    "# Questions \n",
    "\n",
    "    # What is indexing?, what options are available? \n",
    "    # What is index? \n",
    "    # What is \"enable-bm25\" and are there any other alternatives? \n",
    "        - need to have enable-bm25 to be able to use bm25 later\n",
    "    # Does it have to be named \"title\" and \"body\"?\n",
    "    # Difference between \"attributte\" and \"index\"?\n",
    "    # What happends when i write \"summary\"\n",
    "\"\"\"\n"
   ]
  },
  {
   "cell_type": "code",
   "execution_count": 10,
   "metadata": {},
   "outputs": [
    {
     "data": {
      "text/plain": [
       "Document([Field('id', 'string', ['attribute', 'summary'], None), Field('title', 'string', ['index', 'summary'], 'enable-bm25'), Field('body', 'string', ['index', 'summary'], 'enable-bm25'), Field('lyrics_length', 'int', ['attribute', 'summary'], None)])"
      ]
     },
     "execution_count": 10,
     "metadata": {},
     "output_type": "execute_result"
    }
   ],
   "source": [
    "document"
   ]
  },
  {
   "cell_type": "markdown",
   "metadata": {},
   "source": [
    "nativeRank can be found here: https://docs.vespa.ai/documentation/reference/nativerank.html\n",
    "bm25 can be found here: https://docs.vespa.ai/documentation/reference/bm25.html\n",
    "\n"
   ]
  },
  {
   "cell_type": "code",
   "execution_count": 11,
   "metadata": {},
   "outputs": [],
   "source": [
    "from vespa.package import Schema, FieldSet, RankProfile\n",
    "\n",
    "lyrics_schema = Schema(\n",
    "    name = \"lyrics\",\n",
    "    document = document,\n",
    "    fieldsets = [FieldSet(name = \"default\", fields = [\"title\", \"body\", \"lyrics_length\"])],\n",
    "    \n",
    "    # Here we add the rankingprofiles, they can also be added later\n",
    "    rank_profiles = [RankProfile(name = \"default\", first_phase = \"nativeRank(title, body)\"),\n",
    "                    RankProfile(name = \"bm25\", inherits = \"default\", first_phase = \"bm25(title)+bm25(body)\")]\n",
    ")\n",
    "\n",
    "\"\"\"\n",
    "# Questions \n",
    "    # Can we add fields later?\n",
    "    # Can we have a second_phase?\n",
    "\n",
    "\"\"\"\n"
   ]
  },
  {
   "cell_type": "code",
   "execution_count": 12,
   "metadata": {},
   "outputs": [],
   "source": [
    "from vespa.package import ApplicationPackage\n",
    "\n",
    "app_package = ApplicationPackage(name = \"lyrics\", schema=lyrics_schema)\n",
    "\n"
   ]
  },
  {
   "cell_type": "code",
   "execution_count": 13,
   "metadata": {},
   "outputs": [
    {
     "data": {
      "text/plain": [
       "ApplicationPackage('lyrics', Schema('lyrics', Document([Field('id', 'string', ['attribute', 'summary'], None), Field('title', 'string', ['index', 'summary'], 'enable-bm25'), Field('body', 'string', ['index', 'summary'], 'enable-bm25'), Field('lyrics_length', 'int', ['attribute', 'summary'], None)]), [FieldSet('default', ['title', 'body', 'lyrics_length'])], [RankProfile('default', 'nativeRank(title, body)', None), RankProfile('bm25', 'bm25(title)+bm25(body)', 'default')]))"
      ]
     },
     "execution_count": 13,
     "metadata": {},
     "output_type": "execute_result"
    }
   ],
   "source": [
    "app_package"
   ]
  },
  {
   "cell_type": "code",
   "execution_count": 14,
   "metadata": {},
   "outputs": [],
   "source": [
    "from vespa.package import VespaCloud\n",
    "\n",
    "            #C:\\Users\\User\\OneDrive - NTNU\\NTNU\\Prosjekt oppgave NLP\n",
    "path_key = \"C:\\\\Users\\\\User\\\\OneDrive - NTNU\\\\NTNU\\\\Prosjekt oppgave NLP\\\\Cloud_test\\\\\"\n",
    "file = \"andre.olaisen.tmartins-ntnu.pem\"\n",
    "\n",
    "\n",
    "# App name in Cloud\n",
    "app_name = \"andre-lyrics\"\n",
    "\n",
    "\n",
    "vespa_cloud = VespaCloud(\n",
    "    tenant=\"tmartins-ntnu\",\n",
    "    application=app_name,\n",
    "    key_location=path_key + file,\n",
    "    application_package=app_package\n",
    ")"
   ]
  },
  {
   "cell_type": "code",
   "execution_count": 43,
   "metadata": {},
   "outputs": [
    {
     "ename": "CannotSendRequest",
     "evalue": "Request-sent",
     "output_type": "error",
     "traceback": [
      "\u001b[1;31m---------------------------------------------------------------------------\u001b[0m",
      "\u001b[1;31mCannotSendRequest\u001b[0m                         Traceback (most recent call last)",
      "\u001b[1;32m<ipython-input-43-71f5a8011634>\u001b[0m in \u001b[0;36m<module>\u001b[1;34m\u001b[0m\n\u001b[0;32m      5\u001b[0m app = vespa_cloud.deploy(\n\u001b[0;32m      6\u001b[0m     \u001b[0minstance\u001b[0m\u001b[1;33m=\u001b[0m\u001b[1;34m'andre-olaisen'\u001b[0m\u001b[1;33m,\u001b[0m\u001b[1;33m\u001b[0m\u001b[1;33m\u001b[0m\u001b[0m\n\u001b[1;32m----> 7\u001b[1;33m     \u001b[0mdisk_folder\u001b[0m\u001b[1;33m=\u001b[0m\u001b[0mpath_key\u001b[0m\u001b[1;33m\u001b[0m\u001b[1;33m\u001b[0m\u001b[0m\n\u001b[0m\u001b[0;32m      8\u001b[0m )\n\u001b[0;32m      9\u001b[0m \u001b[1;33m\u001b[0m\u001b[0m\n",
      "\u001b[1;32m~\\AppData\\Local\\Continuum\\anaconda3\\lib\\site-packages\\vespa\\package.py\u001b[0m in \u001b[0;36mdeploy\u001b[1;34m(self, instance, disk_folder)\u001b[0m\n\u001b[0;32m    751\u001b[0m         \u001b[1;33m:\u001b[0m\u001b[1;32mreturn\u001b[0m\u001b[1;33m:\u001b[0m \u001b[0ma\u001b[0m \u001b[0mVespa\u001b[0m \u001b[0mconnection\u001b[0m \u001b[0minstance\u001b[0m\u001b[1;33m.\u001b[0m\u001b[1;33m\u001b[0m\u001b[1;33m\u001b[0m\u001b[0m\n\u001b[0;32m    752\u001b[0m         \"\"\"\n\u001b[1;32m--> 753\u001b[1;33m         \u001b[0mregion\u001b[0m \u001b[1;33m=\u001b[0m \u001b[0mself\u001b[0m\u001b[1;33m.\u001b[0m\u001b[0m_get_dev_region\u001b[0m\u001b[1;33m(\u001b[0m\u001b[1;33m)\u001b[0m\u001b[1;33m\u001b[0m\u001b[1;33m\u001b[0m\u001b[0m\n\u001b[0m\u001b[0;32m    754\u001b[0m         \u001b[0mjob\u001b[0m \u001b[1;33m=\u001b[0m \u001b[1;34m\"dev-\"\u001b[0m \u001b[1;33m+\u001b[0m \u001b[0mregion\u001b[0m\u001b[1;33m\u001b[0m\u001b[1;33m\u001b[0m\u001b[0m\n\u001b[0;32m    755\u001b[0m         \u001b[0mrun\u001b[0m \u001b[1;33m=\u001b[0m \u001b[0mself\u001b[0m\u001b[1;33m.\u001b[0m\u001b[0m_start_deployment\u001b[0m\u001b[1;33m(\u001b[0m\u001b[0minstance\u001b[0m\u001b[1;33m,\u001b[0m \u001b[0mjob\u001b[0m\u001b[1;33m,\u001b[0m \u001b[0mdisk_folder\u001b[0m\u001b[1;33m)\u001b[0m\u001b[1;33m\u001b[0m\u001b[1;33m\u001b[0m\u001b[0m\n",
      "\u001b[1;32m~\\AppData\\Local\\Continuum\\anaconda3\\lib\\site-packages\\vespa\\package.py\u001b[0m in \u001b[0;36m_get_dev_region\u001b[1;34m(self)\u001b[0m\n\u001b[0;32m    620\u001b[0m \u001b[1;33m\u001b[0m\u001b[0m\n\u001b[0;32m    621\u001b[0m     \u001b[1;32mdef\u001b[0m \u001b[0m_get_dev_region\u001b[0m\u001b[1;33m(\u001b[0m\u001b[0mself\u001b[0m\u001b[1;33m)\u001b[0m \u001b[1;33m->\u001b[0m \u001b[0mstr\u001b[0m\u001b[1;33m:\u001b[0m\u001b[1;33m\u001b[0m\u001b[1;33m\u001b[0m\u001b[0m\n\u001b[1;32m--> 622\u001b[1;33m         \u001b[1;32mreturn\u001b[0m \u001b[0mself\u001b[0m\u001b[1;33m.\u001b[0m\u001b[0m_request\u001b[0m\u001b[1;33m(\u001b[0m\u001b[1;34m\"GET\"\u001b[0m\u001b[1;33m,\u001b[0m \u001b[1;34m\"/zone/v1/environment/dev/default\"\u001b[0m\u001b[1;33m)\u001b[0m\u001b[1;33m[\u001b[0m\u001b[1;34m\"name\"\u001b[0m\u001b[1;33m]\u001b[0m\u001b[1;33m\u001b[0m\u001b[1;33m\u001b[0m\u001b[0m\n\u001b[0m\u001b[0;32m    623\u001b[0m \u001b[1;33m\u001b[0m\u001b[0m\n\u001b[0;32m    624\u001b[0m     \u001b[1;32mdef\u001b[0m \u001b[0m_get_endpoint\u001b[0m\u001b[1;33m(\u001b[0m\u001b[0mself\u001b[0m\u001b[1;33m,\u001b[0m \u001b[0minstance\u001b[0m\u001b[1;33m:\u001b[0m \u001b[0mstr\u001b[0m\u001b[1;33m,\u001b[0m \u001b[0mregion\u001b[0m\u001b[1;33m:\u001b[0m \u001b[0mstr\u001b[0m\u001b[1;33m)\u001b[0m \u001b[1;33m->\u001b[0m \u001b[0mstr\u001b[0m\u001b[1;33m:\u001b[0m\u001b[1;33m\u001b[0m\u001b[1;33m\u001b[0m\u001b[0m\n",
      "\u001b[1;32m~\\AppData\\Local\\Continuum\\anaconda3\\lib\\site-packages\\vespa\\package.py\u001b[0m in \u001b[0;36m_request\u001b[1;34m(self, method, path, body, headers)\u001b[0m\n\u001b[0;32m    603\u001b[0m \u001b[1;33m\u001b[0m\u001b[0m\n\u001b[0;32m    604\u001b[0m         \u001b[0mbody\u001b[0m\u001b[1;33m.\u001b[0m\u001b[0mseek\u001b[0m\u001b[1;33m(\u001b[0m\u001b[1;36m0\u001b[0m\u001b[1;33m)\u001b[0m\u001b[1;33m\u001b[0m\u001b[1;33m\u001b[0m\u001b[0m\n\u001b[1;32m--> 605\u001b[1;33m         \u001b[0mself\u001b[0m\u001b[1;33m.\u001b[0m\u001b[0mconnection\u001b[0m\u001b[1;33m.\u001b[0m\u001b[0mrequest\u001b[0m\u001b[1;33m(\u001b[0m\u001b[0mmethod\u001b[0m\u001b[1;33m,\u001b[0m \u001b[0mpath\u001b[0m\u001b[1;33m,\u001b[0m \u001b[0mbody\u001b[0m\u001b[1;33m,\u001b[0m \u001b[0mheaders\u001b[0m\u001b[1;33m)\u001b[0m\u001b[1;33m\u001b[0m\u001b[1;33m\u001b[0m\u001b[0m\n\u001b[0m\u001b[0;32m    606\u001b[0m         \u001b[1;32mwith\u001b[0m \u001b[0mself\u001b[0m\u001b[1;33m.\u001b[0m\u001b[0mconnection\u001b[0m\u001b[1;33m.\u001b[0m\u001b[0mgetresponse\u001b[0m\u001b[1;33m(\u001b[0m\u001b[1;33m)\u001b[0m \u001b[1;32mas\u001b[0m \u001b[0mresponse\u001b[0m\u001b[1;33m:\u001b[0m\u001b[1;33m\u001b[0m\u001b[1;33m\u001b[0m\u001b[0m\n\u001b[0;32m    607\u001b[0m             \u001b[0mparsed\u001b[0m \u001b[1;33m=\u001b[0m \u001b[0mjson\u001b[0m\u001b[1;33m.\u001b[0m\u001b[0mload\u001b[0m\u001b[1;33m(\u001b[0m\u001b[0mresponse\u001b[0m\u001b[1;33m)\u001b[0m\u001b[1;33m\u001b[0m\u001b[1;33m\u001b[0m\u001b[0m\n",
      "\u001b[1;32m~\\AppData\\Local\\Continuum\\anaconda3\\lib\\http\\client.py\u001b[0m in \u001b[0;36mrequest\u001b[1;34m(self, method, url, body, headers, encode_chunked)\u001b[0m\n\u001b[0;32m   1227\u001b[0m                 encode_chunked=False):\n\u001b[0;32m   1228\u001b[0m         \u001b[1;34m\"\"\"Send a complete request to the server.\"\"\"\u001b[0m\u001b[1;33m\u001b[0m\u001b[1;33m\u001b[0m\u001b[0m\n\u001b[1;32m-> 1229\u001b[1;33m         \u001b[0mself\u001b[0m\u001b[1;33m.\u001b[0m\u001b[0m_send_request\u001b[0m\u001b[1;33m(\u001b[0m\u001b[0mmethod\u001b[0m\u001b[1;33m,\u001b[0m \u001b[0murl\u001b[0m\u001b[1;33m,\u001b[0m \u001b[0mbody\u001b[0m\u001b[1;33m,\u001b[0m \u001b[0mheaders\u001b[0m\u001b[1;33m,\u001b[0m \u001b[0mencode_chunked\u001b[0m\u001b[1;33m)\u001b[0m\u001b[1;33m\u001b[0m\u001b[1;33m\u001b[0m\u001b[0m\n\u001b[0m\u001b[0;32m   1230\u001b[0m \u001b[1;33m\u001b[0m\u001b[0m\n\u001b[0;32m   1231\u001b[0m     \u001b[1;32mdef\u001b[0m \u001b[0m_send_request\u001b[0m\u001b[1;33m(\u001b[0m\u001b[0mself\u001b[0m\u001b[1;33m,\u001b[0m \u001b[0mmethod\u001b[0m\u001b[1;33m,\u001b[0m \u001b[0murl\u001b[0m\u001b[1;33m,\u001b[0m \u001b[0mbody\u001b[0m\u001b[1;33m,\u001b[0m \u001b[0mheaders\u001b[0m\u001b[1;33m,\u001b[0m \u001b[0mencode_chunked\u001b[0m\u001b[1;33m)\u001b[0m\u001b[1;33m:\u001b[0m\u001b[1;33m\u001b[0m\u001b[1;33m\u001b[0m\u001b[0m\n",
      "\u001b[1;32m~\\AppData\\Local\\Continuum\\anaconda3\\lib\\http\\client.py\u001b[0m in \u001b[0;36m_send_request\u001b[1;34m(self, method, url, body, headers, encode_chunked)\u001b[0m\n\u001b[0;32m   1238\u001b[0m             \u001b[0mskips\u001b[0m\u001b[1;33m[\u001b[0m\u001b[1;34m'skip_accept_encoding'\u001b[0m\u001b[1;33m]\u001b[0m \u001b[1;33m=\u001b[0m \u001b[1;36m1\u001b[0m\u001b[1;33m\u001b[0m\u001b[1;33m\u001b[0m\u001b[0m\n\u001b[0;32m   1239\u001b[0m \u001b[1;33m\u001b[0m\u001b[0m\n\u001b[1;32m-> 1240\u001b[1;33m         \u001b[0mself\u001b[0m\u001b[1;33m.\u001b[0m\u001b[0mputrequest\u001b[0m\u001b[1;33m(\u001b[0m\u001b[0mmethod\u001b[0m\u001b[1;33m,\u001b[0m \u001b[0murl\u001b[0m\u001b[1;33m,\u001b[0m \u001b[1;33m**\u001b[0m\u001b[0mskips\u001b[0m\u001b[1;33m)\u001b[0m\u001b[1;33m\u001b[0m\u001b[1;33m\u001b[0m\u001b[0m\n\u001b[0m\u001b[0;32m   1241\u001b[0m \u001b[1;33m\u001b[0m\u001b[0m\n\u001b[0;32m   1242\u001b[0m         \u001b[1;31m# chunked encoding will happen if HTTP/1.1 is used and either\u001b[0m\u001b[1;33m\u001b[0m\u001b[1;33m\u001b[0m\u001b[1;33m\u001b[0m\u001b[0m\n",
      "\u001b[1;32m~\\AppData\\Local\\Continuum\\anaconda3\\lib\\http\\client.py\u001b[0m in \u001b[0;36mputrequest\u001b[1;34m(self, method, url, skip_host, skip_accept_encoding)\u001b[0m\n\u001b[0;32m   1096\u001b[0m             \u001b[0mself\u001b[0m\u001b[1;33m.\u001b[0m\u001b[0m__state\u001b[0m \u001b[1;33m=\u001b[0m \u001b[0m_CS_REQ_STARTED\u001b[0m\u001b[1;33m\u001b[0m\u001b[1;33m\u001b[0m\u001b[0m\n\u001b[0;32m   1097\u001b[0m         \u001b[1;32melse\u001b[0m\u001b[1;33m:\u001b[0m\u001b[1;33m\u001b[0m\u001b[1;33m\u001b[0m\u001b[0m\n\u001b[1;32m-> 1098\u001b[1;33m             \u001b[1;32mraise\u001b[0m \u001b[0mCannotSendRequest\u001b[0m\u001b[1;33m(\u001b[0m\u001b[0mself\u001b[0m\u001b[1;33m.\u001b[0m\u001b[0m__state\u001b[0m\u001b[1;33m)\u001b[0m\u001b[1;33m\u001b[0m\u001b[1;33m\u001b[0m\u001b[0m\n\u001b[0m\u001b[0;32m   1099\u001b[0m \u001b[1;33m\u001b[0m\u001b[0m\n\u001b[0;32m   1100\u001b[0m         \u001b[1;31m# Save the method we use, we need it later in the response phase\u001b[0m\u001b[1;33m\u001b[0m\u001b[1;33m\u001b[0m\u001b[1;33m\u001b[0m\u001b[0m\n",
      "\u001b[1;31mCannotSendRequest\u001b[0m: Request-sent"
     ]
    }
   ],
   "source": [
    "name = \"lyrics_application\"\n",
    "path = path_key + name\n",
    "\n",
    "\n",
    "app = vespa_cloud.deploy(\n",
    "    instance='andre-olaisen',\n",
    "    disk_folder=path_key\n",
    ")\n",
    "\n"
   ]
  },
  {
   "cell_type": "code",
   "execution_count": 16,
   "metadata": {},
   "outputs": [],
   "source": [
    "import pandas as pd\n",
    "\n",
    "# import data \n",
    "dataset_path = \"C:/Users/User/OneDrive - NTNU/NTNU/Prosjekt oppgave NLP/dataset/Song_lyrics/\"\n",
    "\n",
    "\"\"\"\n",
    "Columns\n",
    "    id: int\n",
    "    singer_name: string\n",
    "    name (album name): string\n",
    "    type: string  (EP, album, compilation, ...)\n",
    "    year: int  (release year)\n",
    "\"\"\"\n",
    "album_details_path = dataset_path + \"album_details.csv\"\n",
    "album_details = pd.read_csv(album_details_path)\n",
    "\n",
    "\"\"\"\n",
    "Columns\n",
    "    link: string\n",
    "    singer_name: string\n",
    "    artist: string\n",
    "    song_name: string  \n",
    "    lyrics: string  \n",
    "\"\"\"\n",
    "song_lyrics_path = dataset_path + \"lyrics.csv\"\n",
    "song_lyrics = pd.read_csv(song_lyrics_path)\n",
    "\n",
    "song_details_path = dataset_path + \"songs_details.csv\"\n",
    "song_details = pd.read_csv(song_details_path)\n",
    "\n"
   ]
  },
  {
   "cell_type": "code",
   "execution_count": 17,
   "metadata": {},
   "outputs": [
    {
     "name": "stdout",
     "output_type": "stream",
     "text": [
      "(1819, 6)\n"
     ]
    },
    {
     "name": "stderr",
     "output_type": "stream",
     "text": [
      "C:\\Users\\User\\AppData\\Local\\Continuum\\anaconda3\\lib\\site-packages\\IPython\\core\\interactiveshell.py:3331: SettingWithCopyWarning: \n",
      "A value is trying to be set on a copy of a slice from a DataFrame\n",
      "\n",
      "See the caveats in the documentation: https://pandas.pydata.org/pandas-docs/stable/user_guide/indexing.html#returning-a-view-versus-a-copy\n",
      "  exec(code_obj, self.user_global_ns, self.user_ns)\n"
     ]
    },
    {
     "data": {
      "text/html": [
       "<div>\n",
       "<style scoped>\n",
       "    .dataframe tbody tr th:only-of-type {\n",
       "        vertical-align: middle;\n",
       "    }\n",
       "\n",
       "    .dataframe tbody tr th {\n",
       "        vertical-align: top;\n",
       "    }\n",
       "\n",
       "    .dataframe thead th {\n",
       "        text-align: right;\n",
       "    }\n",
       "</style>\n",
       "<table border=\"1\" class=\"dataframe\">\n",
       "  <thead>\n",
       "    <tr style=\"text-align: right;\">\n",
       "      <th></th>\n",
       "      <th>id</th>\n",
       "      <th>id</th>\n",
       "      <th>singer_name</th>\n",
       "      <th>name</th>\n",
       "      <th>type</th>\n",
       "      <th>year</th>\n",
       "    </tr>\n",
       "  </thead>\n",
       "  <tbody>\n",
       "    <tr>\n",
       "      <th>0</th>\n",
       "      <td>0</td>\n",
       "      <td>5765.0</td>\n",
       "      <td>Taylor Swift Lyrics</td>\n",
       "      <td>Taylor Swift</td>\n",
       "      <td>album</td>\n",
       "      <td>2006</td>\n",
       "    </tr>\n",
       "    <tr>\n",
       "      <th>1</th>\n",
       "      <td>1</td>\n",
       "      <td>6432.0</td>\n",
       "      <td>Taylor Swift Lyrics</td>\n",
       "      <td>Sounds Of The Season: The Taylor Swift Holiday...</td>\n",
       "      <td>EP</td>\n",
       "      <td>2007</td>\n",
       "    </tr>\n",
       "    <tr>\n",
       "      <th>2</th>\n",
       "      <td>2</td>\n",
       "      <td>6995.0</td>\n",
       "      <td>Taylor Swift Lyrics</td>\n",
       "      <td>Fearless</td>\n",
       "      <td>album</td>\n",
       "      <td>2008</td>\n",
       "    </tr>\n",
       "    <tr>\n",
       "      <th>3</th>\n",
       "      <td>3</td>\n",
       "      <td>10358.0</td>\n",
       "      <td>Taylor Swift Lyrics</td>\n",
       "      <td>Speak Now</td>\n",
       "      <td>album</td>\n",
       "      <td>2010</td>\n",
       "    </tr>\n",
       "    <tr>\n",
       "      <th>4</th>\n",
       "      <td>4</td>\n",
       "      <td>24353.0</td>\n",
       "      <td>Taylor Swift Lyrics</td>\n",
       "      <td>Red</td>\n",
       "      <td>album</td>\n",
       "      <td>2012</td>\n",
       "    </tr>\n",
       "  </tbody>\n",
       "</table>\n",
       "</div>"
      ],
      "text/plain": [
       "   id       id          singer_name  \\\n",
       "0   0   5765.0  Taylor Swift Lyrics   \n",
       "1   1   6432.0  Taylor Swift Lyrics   \n",
       "2   2   6995.0  Taylor Swift Lyrics   \n",
       "3   3  10358.0  Taylor Swift Lyrics   \n",
       "4   4  24353.0  Taylor Swift Lyrics   \n",
       "\n",
       "                                                name   type  year  \n",
       "0                                       Taylor Swift  album  2006  \n",
       "1  Sounds Of The Season: The Taylor Swift Holiday...     EP  2007  \n",
       "2                                           Fearless  album  2008  \n",
       "3                                          Speak Now  album  2010  \n",
       "4                                                Red  album  2012  "
      ]
     },
     "execution_count": 17,
     "metadata": {},
     "output_type": "execute_result"
    }
   ],
   "source": [
    "album_details.rename(columns={\"Unnamed: 0\": \"id\"}, inplace=True)\n",
    "\n",
    "print(album_details.shape)\n",
    "\n",
    "for  index, row in album_details.iterrows():\n",
    "    artist = row[\"singer_name\"].split(\" \")\n",
    "    if artist[-1] == \"Lyrics\":\n",
    "        album_details[\"singer_name\"][index] = ' '.join(artist[:-1])\n",
    "\n",
    "album_details.head()\n",
    "\n"
   ]
  },
  {
   "cell_type": "code",
   "execution_count": 18,
   "metadata": {},
   "outputs": [
    {
     "name": "stderr",
     "output_type": "stream",
     "text": [
      "C:\\Users\\User\\AppData\\Local\\Continuum\\anaconda3\\lib\\site-packages\\ipykernel_launcher.py:8: SettingWithCopyWarning: \n",
      "A value is trying to be set on a copy of a slice from a DataFrame\n",
      "\n",
      "See the caveats in the documentation: https://pandas.pydata.org/pandas-docs/stable/user_guide/indexing.html#returning-a-view-versus-a-copy\n",
      "  \n"
     ]
    },
    {
     "data": {
      "text/html": [
       "<div>\n",
       "<style scoped>\n",
       "    .dataframe tbody tr th:only-of-type {\n",
       "        vertical-align: middle;\n",
       "    }\n",
       "\n",
       "    .dataframe tbody tr th {\n",
       "        vertical-align: top;\n",
       "    }\n",
       "\n",
       "    .dataframe thead th {\n",
       "        text-align: right;\n",
       "    }\n",
       "</style>\n",
       "<table border=\"1\" class=\"dataframe\">\n",
       "  <thead>\n",
       "    <tr style=\"text-align: right;\">\n",
       "      <th></th>\n",
       "      <th>id</th>\n",
       "      <th>link</th>\n",
       "      <th>artist</th>\n",
       "      <th>song_name</th>\n",
       "      <th>lyrics</th>\n",
       "    </tr>\n",
       "  </thead>\n",
       "  <tbody>\n",
       "    <tr>\n",
       "      <th>0</th>\n",
       "      <td>0</td>\n",
       "      <td>../lyrics/backstreetboys/climbingthewalls.html</td>\n",
       "      <td>Backstreet Boys</td>\n",
       "      <td>Climbing The Walls</td>\n",
       "      <td>\\n\\n[Brian:]\\nClose your eyes, make a wish\\nTh...</td>\n",
       "    </tr>\n",
       "    <tr>\n",
       "      <th>1</th>\n",
       "      <td>1</td>\n",
       "      <td>../lyrics/westlife/howtobreakaheart.html</td>\n",
       "      <td>Westlife</td>\n",
       "      <td>How To Break A Heart</td>\n",
       "      <td>\\n\\r\\nSince you're not worth my love\\nI haven'...</td>\n",
       "    </tr>\n",
       "    <tr>\n",
       "      <th>2</th>\n",
       "      <td>2</td>\n",
       "      <td>../lyrics/deanmartin/iwill.html</td>\n",
       "      <td>Dean Martin</td>\n",
       "      <td>I Will</td>\n",
       "      <td>\\n\\r\\nI don't want to be the one to say I'm go...</td>\n",
       "    </tr>\n",
       "    <tr>\n",
       "      <th>3</th>\n",
       "      <td>3</td>\n",
       "      <td>../lyrics/deanmartin/tellyourmotherhello.html</td>\n",
       "      <td>Dean Martin</td>\n",
       "      <td>Tell Your Mother Hello</td>\n",
       "      <td>\\n\\r\\nSure I loved the dear money that shines ...</td>\n",
       "    </tr>\n",
       "    <tr>\n",
       "      <th>4</th>\n",
       "      <td>4</td>\n",
       "      <td>../lyrics/deanmartin/behonestwithme.html</td>\n",
       "      <td>Dean Martin</td>\n",
       "      <td>Be Honest With Me</td>\n",
       "      <td>\\n\\r\\nBe honest with me dear whatever you do\\n...</td>\n",
       "    </tr>\n",
       "  </tbody>\n",
       "</table>\n",
       "</div>"
      ],
      "text/plain": [
       "   id                                            link           artist  \\\n",
       "0   0  ../lyrics/backstreetboys/climbingthewalls.html  Backstreet Boys   \n",
       "1   1        ../lyrics/westlife/howtobreakaheart.html         Westlife   \n",
       "2   2                 ../lyrics/deanmartin/iwill.html      Dean Martin   \n",
       "3   3   ../lyrics/deanmartin/tellyourmotherhello.html      Dean Martin   \n",
       "4   4        ../lyrics/deanmartin/behonestwithme.html      Dean Martin   \n",
       "\n",
       "                song_name                                             lyrics  \n",
       "0      Climbing The Walls  \\n\\n[Brian:]\\nClose your eyes, make a wish\\nTh...  \n",
       "1    How To Break A Heart  \\n\\r\\nSince you're not worth my love\\nI haven'...  \n",
       "2                  I Will  \\n\\r\\nI don't want to be the one to say I'm go...  \n",
       "3  Tell Your Mother Hello  \\n\\r\\nSure I loved the dear money that shines ...  \n",
       "4       Be Honest With Me  \\n\\r\\nBe honest with me dear whatever you do\\n...  "
      ]
     },
     "execution_count": 18,
     "metadata": {},
     "output_type": "execute_result"
    }
   ],
   "source": [
    "# Rename column to id\n",
    "song_lyrics.rename(columns={\"Unnamed: 0\": \"id\"}, inplace=True)\n",
    "song_lyrics.head()\n",
    "\n",
    "for  index, row in song_lyrics.iterrows():\n",
    "    artist = row[\"artist\"].split(\" \")\n",
    "    if artist[-1] == \"Lyrics\":\n",
    "        song_lyrics[\"artist\"][index] = ' '.join(artist[:-1])\n",
    "\n",
    "song_lyrics.head()"
   ]
  },
  {
   "cell_type": "code",
   "execution_count": null,
   "metadata": {},
   "outputs": [],
   "source": [
    "\n"
   ]
  },
  {
   "cell_type": "code",
   "execution_count": 19,
   "metadata": {},
   "outputs": [
    {
     "name": "stderr",
     "output_type": "stream",
     "text": [
      "C:\\Users\\User\\AppData\\Local\\Continuum\\anaconda3\\lib\\site-packages\\ipykernel_launcher.py:6: SettingWithCopyWarning: \n",
      "A value is trying to be set on a copy of a slice from a DataFrame\n",
      "\n",
      "See the caveats in the documentation: https://pandas.pydata.org/pandas-docs/stable/user_guide/indexing.html#returning-a-view-versus-a-copy\n",
      "  \n"
     ]
    },
    {
     "data": {
      "text/html": [
       "<div>\n",
       "<style scoped>\n",
       "    .dataframe tbody tr th:only-of-type {\n",
       "        vertical-align: middle;\n",
       "    }\n",
       "\n",
       "    .dataframe tbody tr th {\n",
       "        vertical-align: top;\n",
       "    }\n",
       "\n",
       "    .dataframe thead th {\n",
       "        text-align: right;\n",
       "    }\n",
       "</style>\n",
       "<table border=\"1\" class=\"dataframe\">\n",
       "  <thead>\n",
       "    <tr style=\"text-align: right;\">\n",
       "      <th></th>\n",
       "      <th>id</th>\n",
       "      <th>song_id</th>\n",
       "      <th>singer_name</th>\n",
       "      <th>song_name</th>\n",
       "      <th>song_href</th>\n",
       "    </tr>\n",
       "  </thead>\n",
       "  <tbody>\n",
       "    <tr>\n",
       "      <th>0</th>\n",
       "      <td>0</td>\n",
       "      <td>1</td>\n",
       "      <td>Taylor Swift</td>\n",
       "      <td>Tim McGraw</td>\n",
       "      <td>../lyrics/taylorswift/timmcgraw.html</td>\n",
       "    </tr>\n",
       "    <tr>\n",
       "      <th>1</th>\n",
       "      <td>1</td>\n",
       "      <td>2</td>\n",
       "      <td>Taylor Swift</td>\n",
       "      <td>Picture To Burn</td>\n",
       "      <td>../lyrics/taylorswift/picturetoburn.html</td>\n",
       "    </tr>\n",
       "    <tr>\n",
       "      <th>2</th>\n",
       "      <td>2</td>\n",
       "      <td>3</td>\n",
       "      <td>Taylor Swift</td>\n",
       "      <td>Teardrops On My Guitar</td>\n",
       "      <td>../lyrics/taylorswift/teardropsonmyguitar.html</td>\n",
       "    </tr>\n",
       "    <tr>\n",
       "      <th>3</th>\n",
       "      <td>3</td>\n",
       "      <td>4</td>\n",
       "      <td>Taylor Swift</td>\n",
       "      <td>A Place In This World</td>\n",
       "      <td>../lyrics/taylorswift/aplaceinthisworld.html</td>\n",
       "    </tr>\n",
       "    <tr>\n",
       "      <th>4</th>\n",
       "      <td>4</td>\n",
       "      <td>5</td>\n",
       "      <td>Taylor Swift</td>\n",
       "      <td>Cold As You</td>\n",
       "      <td>../lyrics/taylorswift/coldasyou.html</td>\n",
       "    </tr>\n",
       "  </tbody>\n",
       "</table>\n",
       "</div>"
      ],
      "text/plain": [
       "   id  song_id   singer_name               song_name  \\\n",
       "0   0        1  Taylor Swift              Tim McGraw   \n",
       "1   1        2  Taylor Swift         Picture To Burn   \n",
       "2   2        3  Taylor Swift  Teardrops On My Guitar   \n",
       "3   3        4  Taylor Swift   A Place In This World   \n",
       "4   4        5  Taylor Swift             Cold As You   \n",
       "\n",
       "                                        song_href  \n",
       "0            ../lyrics/taylorswift/timmcgraw.html  \n",
       "1        ../lyrics/taylorswift/picturetoburn.html  \n",
       "2  ../lyrics/taylorswift/teardropsonmyguitar.html  \n",
       "3    ../lyrics/taylorswift/aplaceinthisworld.html  \n",
       "4            ../lyrics/taylorswift/coldasyou.html  "
      ]
     },
     "execution_count": 19,
     "metadata": {},
     "output_type": "execute_result"
    }
   ],
   "source": [
    "song_details.rename(columns={\"Unnamed: 0\": \"id\"}, inplace=True)\n",
    "\n",
    "for  index, row in song_details.iterrows():\n",
    "    artist = row[\"singer_name\"].split(\" \")\n",
    "    if artist[-1] == \"Lyrics\":\n",
    "        song_details[\"singer_name\"][index] = ' '.join(artist[:-1])\n",
    "\n",
    "song_details.head()"
   ]
  },
  {
   "cell_type": "code",
   "execution_count": 20,
   "metadata": {},
   "outputs": [
    {
     "data": {
      "text/plain": [
       "\"\\n\\r\\nGood morning life\\nGood morning sun how are your skies above\\nGee it's great to be alive and in love\\n\\nGood morning life\\nGood morning birds sing out your happy tunes\\nFeels so good because I'll be seeing her soon\\n\\nLast night she said she loved me\\nWhat a pity to part\\nI slept with both eyes open waiting for today to start\\n\\nGood morning life\\nGood morning world how are you happiness\\nAll at once I know what livin' can be\\nIt's life, it's free, it's someone waiting for me\\nWho'll someday be my wife, good morning life\\n\\nGood morning life\\nGood morning life\\n\\nLast night she said she loved me\\nWhat a pity to part\\nI slept with both eyes open waiting for today to start\\n\\nGood morning life\\nGood morning world how are you happiness\\nAll at once I know what livin' can be\\nAh it's life, it's free, it's someone waiting for me\\nWho'll someday be my wife, good morning life\\n\""
      ]
     },
     "execution_count": 20,
     "metadata": {},
     "output_type": "execute_result"
    }
   ],
   "source": [
    "song_lyrics[\"lyrics\"][111]"
   ]
  },
  {
   "cell_type": "code",
   "execution_count": 21,
   "metadata": {},
   "outputs": [
    {
     "data": {
      "text/html": [
       "<div>\n",
       "<style scoped>\n",
       "    .dataframe tbody tr th:only-of-type {\n",
       "        vertical-align: middle;\n",
       "    }\n",
       "\n",
       "    .dataframe tbody tr th {\n",
       "        vertical-align: top;\n",
       "    }\n",
       "\n",
       "    .dataframe thead th {\n",
       "        text-align: right;\n",
       "    }\n",
       "</style>\n",
       "<table border=\"1\" class=\"dataframe\">\n",
       "  <thead>\n",
       "    <tr style=\"text-align: right;\">\n",
       "      <th></th>\n",
       "      <th>id</th>\n",
       "      <th>link</th>\n",
       "      <th>artist</th>\n",
       "      <th>song_name</th>\n",
       "      <th>lyrics</th>\n",
       "    </tr>\n",
       "  </thead>\n",
       "  <tbody>\n",
       "    <tr>\n",
       "      <th>17288</th>\n",
       "      <td>17288</td>\n",
       "      <td>../lyrics/onerepublic/liftmeup.html</td>\n",
       "      <td>OneRepublic</td>\n",
       "      <td>Lift Me Up</td>\n",
       "      <td>\\n\\r\\nIf I told you I was down I was down woul...</td>\n",
       "    </tr>\n",
       "    <tr>\n",
       "      <th>10192</th>\n",
       "      <td>10192</td>\n",
       "      <td>../lyrics/snoopdogg/theoneandonly.html</td>\n",
       "      <td>Snoop Dogg</td>\n",
       "      <td>The One And Only</td>\n",
       "      <td>\\n\\r\\nAw yeah, coming to you live and direct f...</td>\n",
       "    </tr>\n",
       "    <tr>\n",
       "      <th>4559</th>\n",
       "      <td>4559</td>\n",
       "      <td>../lyrics/bobmarley/somuchtroubleintheworld.html</td>\n",
       "      <td>Bob Marley</td>\n",
       "      <td>So Much Trouble In The World</td>\n",
       "      <td>\\n\\r\\nSo much trouble in the world\\nSo much tr...</td>\n",
       "    </tr>\n",
       "    <tr>\n",
       "      <th>11679</th>\n",
       "      <td>11679</td>\n",
       "      <td>../lyrics/christinaaguilera/atlast.html</td>\n",
       "      <td>Christina Aguilera</td>\n",
       "      <td>At Last</td>\n",
       "      <td>\\n\\r\\nAt last\\nMy love has come along\\nMy lone...</td>\n",
       "    </tr>\n",
       "    <tr>\n",
       "      <th>17241</th>\n",
       "      <td>17241</td>\n",
       "      <td>../lyrics/onerepublic/mercy.html</td>\n",
       "      <td>OneRepublic</td>\n",
       "      <td>Mercy</td>\n",
       "      <td>\\n\\r\\nAngel of mercy\\nHow did you find me?\\nWh...</td>\n",
       "    </tr>\n",
       "  </tbody>\n",
       "</table>\n",
       "</div>"
      ],
      "text/plain": [
       "          id                                              link  \\\n",
       "17288  17288               ../lyrics/onerepublic/liftmeup.html   \n",
       "10192  10192            ../lyrics/snoopdogg/theoneandonly.html   \n",
       "4559    4559  ../lyrics/bobmarley/somuchtroubleintheworld.html   \n",
       "11679  11679           ../lyrics/christinaaguilera/atlast.html   \n",
       "17241  17241                  ../lyrics/onerepublic/mercy.html   \n",
       "\n",
       "                   artist                     song_name  \\\n",
       "17288         OneRepublic                    Lift Me Up   \n",
       "10192          Snoop Dogg              The One And Only   \n",
       "4559           Bob Marley  So Much Trouble In The World   \n",
       "11679  Christina Aguilera                       At Last   \n",
       "17241         OneRepublic                         Mercy   \n",
       "\n",
       "                                                  lyrics  \n",
       "17288  \\n\\r\\nIf I told you I was down I was down woul...  \n",
       "10192  \\n\\r\\nAw yeah, coming to you live and direct f...  \n",
       "4559   \\n\\r\\nSo much trouble in the world\\nSo much tr...  \n",
       "11679  \\n\\r\\nAt last\\nMy love has come along\\nMy lone...  \n",
       "17241  \\n\\r\\nAngel of mercy\\nHow did you find me?\\nWh...  "
      ]
     },
     "execution_count": 21,
     "metadata": {},
     "output_type": "execute_result"
    }
   ],
   "source": [
    "#Create a sample of the lyrics\n",
    "\n",
    "\n",
    "lyrics_sample = song_lyrics.sample(n=10000, replace=False, random_state = 10)\n",
    "lyrics_sample.head()\n"
   ]
  },
  {
   "cell_type": "code",
   "execution_count": 22,
   "metadata": {},
   "outputs": [
    {
     "data": {
      "text/html": [
       "<div>\n",
       "<style scoped>\n",
       "    .dataframe tbody tr th:only-of-type {\n",
       "        vertical-align: middle;\n",
       "    }\n",
       "\n",
       "    .dataframe tbody tr th {\n",
       "        vertical-align: top;\n",
       "    }\n",
       "\n",
       "    .dataframe thead th {\n",
       "        text-align: right;\n",
       "    }\n",
       "</style>\n",
       "<table border=\"1\" class=\"dataframe\">\n",
       "  <thead>\n",
       "    <tr style=\"text-align: right;\">\n",
       "      <th></th>\n",
       "      <th>id</th>\n",
       "      <th>link</th>\n",
       "      <th>artist</th>\n",
       "      <th>song_name</th>\n",
       "      <th>lyrics</th>\n",
       "    </tr>\n",
       "  </thead>\n",
       "  <tbody>\n",
       "    <tr>\n",
       "      <th>8398</th>\n",
       "      <td>8398</td>\n",
       "      <td>../lyrics/rihanna/loveeeeeeesong.html</td>\n",
       "      <td>Rihanna</td>\n",
       "      <td>Loveeeeeee Song</td>\n",
       "      <td>\\n\\r\\nAin't nothin' wrong with it\\n\\nI don't w...</td>\n",
       "    </tr>\n",
       "  </tbody>\n",
       "</table>\n",
       "</div>"
      ],
      "text/plain": [
       "        id                                   link   artist        song_name  \\\n",
       "8398  8398  ../lyrics/rihanna/loveeeeeeesong.html  Rihanna  Loveeeeeee Song   \n",
       "\n",
       "                                                 lyrics  \n",
       "8398  \\n\\r\\nAin't nothin' wrong with it\\n\\nI don't w...  "
      ]
     },
     "execution_count": 22,
     "metadata": {},
     "output_type": "execute_result"
    }
   ],
   "source": [
    "lyrics_sample[1000:1001]"
   ]
  },
  {
   "cell_type": "code",
   "execution_count": 23,
   "metadata": {},
   "outputs": [
    {
     "name": "stdout",
     "output_type": "stream",
     "text": [
      "0\n",
      "Wall time: 11 s\n"
     ]
    }
   ],
   "source": [
    "\n",
    "%%time\n",
    "\n",
    "## You do not have to feed data to the app every time \n",
    "\n",
    "i = 0\n",
    "for idx, row in lyrics_sample[0:20].iterrows():\n",
    "    if i %100 == 0:\n",
    "        print(i)\n",
    "    response = app.feed_data_point(\n",
    "        schema = \"lyrics\",\n",
    "        data_id = str(row[\"id\"]),\n",
    "            fields = {\n",
    "                \"id\": str(row[\"id\"]),\n",
    "                \"title\": str(row[\"song_name\"]),\n",
    "                \"body\": str(row[\"lyrics\"]),\n",
    "                \"lyrics_length\": len(row[\"lyrics\"])\n",
    "            }\n",
    "    )\n",
    "    i += 1\n",
    "    \n",
    "\n",
    "# how does one clear the data?\n"
   ]
  },
  {
   "cell_type": "code",
   "execution_count": 24,
   "metadata": {},
   "outputs": [
    {
     "data": {
      "text/plain": [
       "\"\\n\\r\\nSo much trouble in the world\\nSo much trouble in the world\\n\\nBless my eyes this morning\\nJah sun is on the rise once again\\nThe way earthly thin's are goin'\\nAnything can happen.\\n\\nYou see men sailing on their ego trip,\\nBlast off on their spaceship,\\nMillion miles from reality:\\nNo care for you, no care for me.\\n\\nSo much trouble in the world;\\nSo much trouble in the world.\\nAll you got to do: give a little (give a little),\\nGive a little (give a little), give a little (give a little)!\\nOne more time, ye-ah! (give a little) Ye-ah! (give a little)\\nYe-ah! (give a little) Yeah!\\n\\nSo you think you've found the solution,\\nBut it's just another illusion!\\n(So before you check out this tide),\\nDon't leave another cornerstone\\nStanding there behind, eh-eh-eh-eh!\\nWe've got to face the day;\\n(Ooh) Ooh-wee, come what may:\\nWe the street people talkin',\\nYeah, we the people strugglin'.\\n\\nNow they sitting on a time bomb; (Bomb-bomb-bomb! Bomb-bomb-bomb!)\\nNow I know the time has come: (Bomb-bomb-bomb! Bomb-bomb-bomb!)\\nWhat goes on up is coming on down, (Bomb-bomb-bomb! Bomb-bomb-bomb!)\\nGoes around and comes around. (Bomb-bomb-bomb! Bomb-bomb-bomb!)\\n\\nSo much trouble in the world;\\nSo much trouble in the world;\\nSo much trouble in the world.\\nThere is so much trouble (so much trouble in the world);\\nThere is so much trouble;\\nThere is so much trouble (so much in the world);\\nThere is so much trouble;\\nThere is so much trouble in the world (so much trouble in the world);\\nThere is (so much in the world);\\n(So much trouble in the world)\\n\""
      ]
     },
     "execution_count": 24,
     "metadata": {},
     "output_type": "execute_result"
    }
   ],
   "source": [
    "lyrics_sample[\"lyrics\"][4559]"
   ]
  },
  {
   "cell_type": "code",
   "execution_count": 34,
   "metadata": {},
   "outputs": [
    {
     "data": {
      "text/plain": [
       "4847"
      ]
     },
     "execution_count": 34,
     "metadata": {},
     "output_type": "execute_result"
    }
   ],
   "source": [
    "from vespa.query import Query, MatchFilter, OR, AND, WeakAnd, ANN, , RankProfile as Ranking\n",
    "\n",
    "\n",
    "results = app.query(\n",
    "    query=\"So much trouble in the world\",\n",
    "    query_model = Query(\n",
    "        match_phase=OR(),\n",
    "        rank_profile=Ranking(name=\"default\")\n",
    "    ),\n",
    "    hits = 10\n",
    ")\n",
    "\n",
    "\n",
    "results._vespa_result\n",
    "results.number_documents_retrieved\n",
    "\n"
   ]
  },
  {
   "cell_type": "code",
   "execution_count": null,
   "metadata": {},
   "outputs": [],
   "source": [
    "??result"
   ]
  },
  {
   "cell_type": "code",
   "execution_count": null,
   "metadata": {},
   "outputs": [],
   "source": [
    "print(len(results.hits))\n",
    "\n",
    "for result in results.hits:\n",
    "    print(result['fields']['title'])"
   ]
  },
  {
   "cell_type": "code",
   "execution_count": null,
   "metadata": {},
   "outputs": [],
   "source": [
    "# add_rank_profile: What does inherits mean? Why is this needed?\n",
    "# Not able to make bm25 work\n",
    "\n",
    "app_package.schema.add_rank_profile(\n",
    "    RankProfile(name = \"bm25\", inherits = \"default\", first_phase = \"bm25(title)+bm25(body)\")\n",
    ")\n"
   ]
  },
  {
   "cell_type": "code",
   "execution_count": null,
   "metadata": {},
   "outputs": [],
   "source": [
    "# After adding a new RankingProfile the app has to be redeployed\n",
    "\n",
    "path_key = \"C:\\\\Users\\\\User\\\\OneDrive - NTNU\\\\NTNU\\\\Prosjekt oppgave NLP\\\\Cloud_test\\\\\"\n",
    "\n",
    "app = vespa_cloud.deploy(\n",
    "    instance='andre-olaisen',\n",
    "    disk_folder=path_key\n",
    ")\n"
   ]
  },
  {
   "cell_type": "code",
   "execution_count": null,
   "metadata": {},
   "outputs": [],
   "source": [
    "app_package.schema"
   ]
  },
  {
   "cell_type": "code",
   "execution_count": 26,
   "metadata": {},
   "outputs": [],
   "source": [
    "### Testing different matching phases\n",
    "\n",
    "query_text = \"Ain't nothin' wrong with\"\n",
    "\n",
    "results1 = app.query(\n",
    "    query=query_text,\n",
    "    query_model = Query(\n",
    "        match_phase=WeakAnd(hits = 5),\n",
    "        rank_profile=Ranking(name=\"default\")\n",
    "    ),\n",
    "    hits = 10\n",
    ")\n",
    "\n",
    "results2 = app.query(\n",
    "    query=query_text,\n",
    "    query_model = Query(\n",
    "        match_phase=OR(),\n",
    "        rank_profile=Ranking(name=\"default\")\n",
    "    ),\n",
    "    hits = 10\n",
    ")\n",
    "\n",
    "results3 = app.query(\n",
    "    query=query_text,\n",
    "    query_model = Query(\n",
    "        match_phase=AND(),\n",
    "        rank_profile=Ranking(name=\"default\")\n",
    "    ),\n",
    "    hits = 10\n",
    ")\n",
    "\n",
    "\n"
   ]
  },
  {
   "cell_type": "code",
   "execution_count": 27,
   "metadata": {},
   "outputs": [
    {
     "name": "stdout",
     "output_type": "stream",
     "text": [
      "127\n",
      "3126\n",
      "13\n"
     ]
    }
   ],
   "source": [
    "print(results1.number_documents_retrieved)\n",
    "print(results2.number_documents_retrieved)\n",
    "print(results3.number_documents_retrieved)"
   ]
  },
  {
   "cell_type": "code",
   "execution_count": 28,
   "metadata": {},
   "outputs": [
    {
     "name": "stdout",
     "output_type": "stream",
     "text": [
      "4999\n",
      "4999\n",
      "4999\n"
     ]
    }
   ],
   "source": [
    "# Size of the corpus?\n",
    "print(results1.number_documents_indexed)\n",
    "print(results2.number_documents_indexed)\n",
    "print(results3.number_documents_indexed)"
   ]
  },
  {
   "cell_type": "code",
   "execution_count": 32,
   "metadata": {},
   "outputs": [
    {
     "name": "stdout",
     "output_type": "stream",
     "text": [
      "4853\n",
      "4853\n"
     ]
    }
   ],
   "source": [
    "query_text = \"The One And Only\"\n",
    "\n",
    "results_or_default = app.query(\n",
    "    query=query_text,\n",
    "    query_model = Query(\n",
    "        match_phase=OR(),\n",
    "        rank_profile=Ranking(name=\"default\")\n",
    "    ),\n",
    "    hits = 5\n",
    ")\n",
    "\n",
    "results_or_bm25 = app.query(\n",
    "    query=query_text,\n",
    "    query_model = Query(\n",
    "        match_phase=OR(),\n",
    "        rank_profile=Ranking(name=\"bm25\")\n",
    "    ),\n",
    "    hits = 5\n",
    ")\n",
    "\n",
    "print(results_or_default.number_documents_retrieved)\n",
    "print(results_or_bm25.number_documents_retrieved)"
   ]
  },
  {
   "cell_type": "code",
   "execution_count": 33,
   "metadata": {},
   "outputs": [
    {
     "name": "stdout",
     "output_type": "stream",
     "text": [
      "10\n",
      "The One And Only\n",
      "\n",
      "\n",
      "Results: or , deault\n",
      "The One And Only\n",
      "{'sddocname': 'lyrics', 'documentid': 'id:lyrics:lyrics::10192', 'id': '10192', 'title': 'The One And Only', 'body': \"\\n\\r\\nAw yeah, coming to you live and direct from the LBC\\r\\nWe have the one and only, Snoop D-O double G\\r\\nYeah, yeah, drop it\\n\\n[scratching]\\r\\nIt's the one and only D-O double G\\r\\nBig Snoop Dogg, it's the one and only\\r\\nThe one and only, D-O double-double-double G\\n\\n[Snoop Dogg]\\r\\nBig Snoop Dogg\\r\\nYou in the presence of a motherfucking rap star\\r\\nI push up laid back in a black car\\r\\nThough I bossed up, it ain't hard to tell that\\r\\nI came up hard as hell, check it out\\r\\nI stayed sharp and played my part\\r\\nAll I had was a mic, a dream and some heart\\r\\nMe and my moms wasn't getting along at this time\\r\\nAnd since pops was gone, I'm out grinding\\r\\nCatch a nigga praying, swearing I ain't going back to jail\\r\\nJudge about tired of a playa, I don't know about this bidness shit\\r\\nBut I'm good with this rapping, can I get a witness what's happening\\r\\nThat's about the time I put down the rocks\\r\\nAnd got to working in the studio around the clock\\r\\nFor a small profit, but a whole lot of game\\r\\nMan I'm famous, now it ain't the same\\n\\n[Chorus]\\r\\nIt's the one and only D-O double G\\r\\nDo you want some of this\\r\\nTop Dogg bite em all, yeah I'm burning it up\\r\\nAw naw, Big Snoop Dogg\\r\\nYou tuned in to the number one\\r\\nBuck one, buck two, buck three, buck four\\r\\nSo get real fool, fool\\n\\n[Snoop Dogg]\\r\\nLocal boy made good over night shit\\r\\nNot only am I getting righteous but wise see\\r\\nI paid the price, with consecutive platinum hits\\r\\nI up my status, aint no more Calvin Broadus\\r\\nWorld on my shoulder, but I can handle it\\r\\nNow that I'm older, I'm sharper and colder\\r\\nCan you remember when I slid in Deep Cover\\r\\nAnd made niggas in the Beach love eachother\\r\\nA street hustler, but I'm all set for the come up\\r\\nBest kept secret so I'm want up\\r\\nI've been acquitted up for 1-8-7\\r\\nYes I'm blessed thank God in Heaven\\r\\nNow all I need is a push in the right direction\\r\\nWeed and a mic now I'm writing checks\\r\\nAnd now the game ain't stopping\\r\\nAnd can't nobody say my name ain't popping\\r\\nStarted off young as a little-bitty buck\\r\\nNow I'm ready for the world, and I got to give it up\\n\\n[Chorus]\\n\\n[Snoop Dogg]\\r\\nYou in the presence of a motherfucking millionaire\\r\\nStop, look, listen, feel, yeah I ain't tripping on shit\\r\\nI worked hard as a motherfucker\\r\\nFuck Cuzz, and him too cause all y'all suckas\\r\\nNow with the savvy of a business man\\r\\nI gave, new niggas a chance, to see what they was saying\\r\\nAnd kept a spot on hot, West Coast on lock\\r\\nBig Dizzel knocking down your block\\r\\nNever looking back uh uh, a steady process\\r\\nAnd leaving that way, cause see I'm blessed\\r\\nIt's like I'm happy now, cause I'm a family man\\r\\nI fell in love with my kids and my wife again\\r\\nAnd these here are the files of a classic\\r\\nIt's my throne till I choose to pass it\\r\\nWorldwide and the sun shine so bright\\r\\nThat's why I wear my yellow C's at night nigga\\n\\n[Chorus]\\n\", 'lyrics_length': 2789}\n",
      "0.31978852064510244\n",
      "My One And Only Love\n",
      "{'sddocname': 'lyrics', 'documentid': 'id:lyrics:lyrics::5711', 'id': '5711', 'title': 'My One And Only Love', 'body': \"\\n\\r\\nThe very thought of you makes my heart sing\\nLike an April breeze on the wings of spring\\nAnd you appear in all your splendor\\nMy one and only love\\n\\nThe shadows fall and spread their mystic charms\\nIn the hush of night while you're in my arms\\nI feel your lips so warm and tender\\nMy one and only love\\n\\nThe touch of your hand is like heaven\\nA heaven that I've never known\\nAnd the blush on your cheek whenever I speak\\nTells me that you are my own\\n\\nYou fill my eager heart with such desire\\nEvery kiss you give sets my soul on fire\\nI give myself in sweet surrender\\nMy one and only love\\n\\nThe touch of your hand is like heaven\\nA heaven that I've never known\\nAnd the blush on your cheek whenever I speak\\nTells me that you are my own\\n\\nYou fill my eager heart with such desire\\nEvery kiss you give sets my soul on fire\\nI give myself in sweet surrender\\nMy one and only love\\n\"}\n",
      "0.20382978437969737\n",
      "The Truth About Love\n",
      "{'sddocname': 'lyrics', 'documentid': 'id:lyrics:lyrics::24025', 'id': '24025', 'title': 'The Truth About Love', 'body': \"\\n\\r\\nThe truth about love comes at 3 AM\\nYou wake up fucked up and you grab a pen\\nAnd you say to yourself\\nI'm gonna figure it out, I'm gonna crack that code\\nGonna break it break it down\\n\\nI'm tired of all these questions\\nAnd now it's just annoying\\nCause no one has the answer\\nSo I guess it's up to me\\nTo find the truth about love\\nAs it comes, and it goes\\nA strange fascination it is lips on toes\\nMorning breath, bedroom eyes on a smiling face\\nSheet marks rug burn, and a sugar glaze\\n\\nShock and the awe\\nThat can eat you raw\\nIs this the truth about love\\nThe truth about love\\n\\nI think it just may be perfect\\nYou're the person of my dreams\\nI've never ever ever ever been this happy\\nBut now something has changed\\nAnd the truth about love is it's all a lie\\nI thought you were the one, and I hate goodbyes\\n\\nOh, you want the truth?\\n\\nThe truth about love is it's nasty and salty\\nIt's the regret in the morning, it's the smelling of armpits\\nIt's wings, and songs\\nAnd trees, and birds\\nIt's all the poetry that you ever heard\\n\\nTerror coup d'etat\\nLife line forget-me-nots\\nIt's the hunt and the kill\\nThe schemes and the plots\\n\\nThe truth about love is it's blood, and it's guts\\nPurebreds and mutts\\nSandwiches without the crust\\nIt takes your breath, 'cause it leaves a scar\\nBut those untouched never got never got very far\\n\\nIt's rage and it's hate\\nAnd a sick twist of fate\\nAnd that's the truth about love\\nThe truth about love\\n\\nI think it just may be perfect\\nYou're the person of my dreams\\nI've never ever ever ever been this happy\\nBut now something has changed\\nAnd the truth about love is it's all a lie\\nI thought you were the one, but I hate goodbyes\\n\\nOh you can lose your breath and\\nOh, you can shoot a gun and\\nConvinced you're the only one\\nThat's ever felt this way before\\n\\nIt hurts inside the hurt within and\\nIt folds together pocket thin and\\nIt's whispered by the angels' lips and\\nIt can turn you into a son of a bitch man\\n\\nThe truth, the truth, the truth about love is\\nTruth, the truth, the truth about love is\\nTruth, the truth, the truth about love is\\nTruth, the truth, the truth about love is\\nTruth, the truth, the truth about love is\\nTruth, the truth, the truth about love is\\nTruth, the truth, the truth about love is\\nTruth, the truth, the truth about love is\\nTruth, the truth, the truth about love is\\nTruth, the truth, the truth about love is\\nTruth, the truth, the truth about love is\\nTruth, the truth, the truth about love is\\nTruth, the truth, the truth about love is\\nTruth, the truth, the truth about love is\\nTruth about love\\n\"}\n",
      "0.1909809597813363\n",
      "Only You Know And I Know\n",
      "{'sddocname': 'lyrics', 'documentid': 'id:lyrics:lyrics::25393', 'id': '25393', 'title': 'Only You Know And I Know', 'body': \"\\n\\r\\nWe know you really only wanna hear\\nThe things we like to say\\nBut if I said to you please don't do it\\nYou do it anyway\\nSometimes I know, we gotta be cruel\\nBe cruel to be kind\\nWhen I ask you, what you see in me\\nYou say our love is blind\\n\\nCos only you know and I know\\nThe things we mean to say\\nOnly you know and I know\\nThe things we mean to say\\n\\nWhenever I think I know you better\\nBetter than I know myself\\nI open up and give you everything\\nThen you say, O.K. what else\\nAnd when I run away you always cry\\nYou always over react\\nBut I don't know if you know how you really feel\\nBut you better know before I get back\\n\\nCos only you know and I know\\nThe things we mean to say\\nOnly you know and I know\\nThe things we mean to say\\n\\nJust try to remember\\nNow I'm the one you love\\nYou told me, ooh try to remember\\nI'm the one you're always thinking of\\nYou told me, please try to remember\\nBefore I walk away\\nRemember\\nIt's not good enough telling me the way it was yesterday\\n\\nCos only you know and I know\\nThe things we mean to say\\nOnly you know and I know\\nThe things we mean to say\\n\\nOnly you know and I know\\nThe things we mean to say, yes\\nOnly you know and I know\\nThe things we mean to say\\n\\nOnly you know and I know...\\n\"}\n",
      "0.1862584328873395\n",
      "One Of The Brightest Stars\n",
      "{'sddocname': 'lyrics', 'documentid': 'id:lyrics:lyrics::11172', 'id': '11172', 'title': 'One Of The Brightest Stars', 'body': \"\\n\\r\\nOne day your story will be told\\nOne of the lucky ones who's made his name\\nOne day they'll make you glorious\\nBeneath the lights of your deserved fame\\n\\nAnd it all comes round\\nOnce in a lifetime like it always does\\nEverybody loves you 'cause you've taken a chance\\nOut on a dance to the moon, too soon\\n\\nAnd they'll say told you so\\nWe were the ones who saw you first of all\\nWe always knew that you were one of the brightest stars\\n\\nOne day they'll tell you that you've changed\\nThough they're the ones who seem to stop and stare\\nOne day you'll hope to make the grave\\nBefore the papers choose to send you there\\n\\nAnd it all comes round\\nOnce in a lifetime like it always does\\nNobody loves you 'cause you've taken a chance\\nOut on a dance to the moon, too soon\\n\\nAnd they'll say told you so\\nWe were the ones who saw you first of all\\nWe always knew that you were one of the brightest stars\\n\\nAnd they'll say told you so\\nWe were the ones who saw you first of all\\nWe always knew that you were one of the brightest stars\\n\"}\n",
      "0.18213890260917284\n",
      "\n",
      "\n",
      "Results: OR , bm25(title) + bm25(body)\n",
      "The One And Only\n",
      "150.847662907711\n",
      "Not The Only One\n",
      "145.25800280316793\n",
      "My One And Only Love\n",
      "138.11939524064883\n",
      "The Only One\n",
      "135.04595188571994\n",
      "No-One But You (Only The Good Die Young)\n",
      "132.80501805773943\n"
     ]
    }
   ],
   "source": [
    "print(len(results.hits))\n",
    "print(query_text)\n",
    "print(\"\\n\")\n",
    "\n",
    "print(\"Results: or , deault\")\n",
    "for result in results_or_default.hits:\n",
    "    print(result['fields']['title'])\n",
    "    print(result['fields'])\n",
    "    print(result[\"relevance\"])\n",
    "    \n",
    "print(\"\\n\")\n",
    "    \n",
    "print(\"Results: OR , bm25(title) + bm25(body)\")\n",
    "for result in results_or_bm25.hits:\n",
    "    print(result['fields']['title'])\n",
    "    print(result[\"relevance\"])\n",
    "\n"
   ]
  },
  {
   "cell_type": "code",
   "execution_count": null,
   "metadata": {},
   "outputs": [],
   "source": [
    "results1.hits[0][\"relevance\"] "
   ]
  },
  {
   "cell_type": "code",
   "execution_count": null,
   "metadata": {},
   "outputs": [],
   "source": []
  },
  {
   "cell_type": "code",
   "execution_count": null,
   "metadata": {},
   "outputs": [],
   "source": [
    "bm25_ranking = Query(\n",
    "    match_phase=OR(),\n",
    "    rank_profile=Ranking(name=\"bm25\")\n",
    ")\n"
   ]
  },
  {
   "cell_type": "code",
   "execution_count": null,
   "metadata": {},
   "outputs": [],
   "source": [
    "def long_text(text):\n",
    "    return(len(str(text)))\n",
    "    \n",
    "\n",
    "app_package.schema.add_rank_profile(\n",
    "    RankProfile(name = \"long\", inherits = \"default\", first_phase = sqrt(lyrics_length))\n",
    ")\n",
    "\n"
   ]
  },
  {
   "cell_type": "code",
   "execution_count": null,
   "metadata": {},
   "outputs": [],
   "source": [
    "# After adding a new RankingProfile the app has to be redeployed\n",
    "\n",
    "path_key = \"C:\\\\Users\\\\User\\\\OneDrive - NTNU\\\\NTNU\\\\Prosjekt oppgave NLP\\\\Cloud_test\\\\\"\n",
    "\n",
    "app = vespa_cloud.deploy(\n",
    "    instance='andre-olaisen',\n",
    "    disk_folder=path_key\n",
    ")\n"
   ]
  },
  {
   "cell_type": "code",
   "execution_count": null,
   "metadata": {},
   "outputs": [],
   "source": [
    "query_text = \"led zeppelin\"\n",
    "\n",
    "results_or_long = app.query(\n",
    "    query=query_text,\n",
    "    query_model = Query(\n",
    "        match_phase=OR(),\n",
    "        rank_profile=Ranking(name=\"long\")\n",
    "    ),\n",
    "    hits = 5\n",
    ")\n",
    "\n",
    "print(results_or_long.number_documents_retrieved)\n",
    "print(results_or_long.number_documents_indexed)"
   ]
  },
  {
   "cell_type": "code",
   "execution_count": 45,
   "metadata": {},
   "outputs": [
    {
     "name": "stdout",
     "output_type": "stream",
     "text": [
      "Results: OR , long(body) \n"
     ]
    },
    {
     "ename": "NameError",
     "evalue": "name 'results_or_long' is not defined",
     "output_type": "error",
     "traceback": [
      "\u001b[1;31m---------------------------------------------------------------------------\u001b[0m",
      "\u001b[1;31mNameError\u001b[0m                                 Traceback (most recent call last)",
      "\u001b[1;32m<ipython-input-45-d505f4c6c118>\u001b[0m in \u001b[0;36m<module>\u001b[1;34m\u001b[0m\n\u001b[0;32m      1\u001b[0m \u001b[0mprint\u001b[0m\u001b[1;33m(\u001b[0m\u001b[1;34m\"Results: OR , long(body) \"\u001b[0m\u001b[1;33m)\u001b[0m\u001b[1;33m\u001b[0m\u001b[1;33m\u001b[0m\u001b[0m\n\u001b[1;32m----> 2\u001b[1;33m \u001b[1;32mfor\u001b[0m \u001b[0mresult\u001b[0m \u001b[1;32min\u001b[0m \u001b[0mresults_or_long\u001b[0m\u001b[1;33m.\u001b[0m\u001b[0mhits\u001b[0m\u001b[1;33m:\u001b[0m\u001b[1;33m\u001b[0m\u001b[1;33m\u001b[0m\u001b[0m\n\u001b[0m\u001b[0;32m      3\u001b[0m     \u001b[0mprint\u001b[0m\u001b[1;33m(\u001b[0m\u001b[0mresult\u001b[0m\u001b[1;33m[\u001b[0m\u001b[1;34m'fields'\u001b[0m\u001b[1;33m]\u001b[0m\u001b[1;33m[\u001b[0m\u001b[1;34m'title'\u001b[0m\u001b[1;33m]\u001b[0m\u001b[1;33m)\u001b[0m\u001b[1;33m\u001b[0m\u001b[1;33m\u001b[0m\u001b[0m\n\u001b[0;32m      4\u001b[0m     \u001b[0mprint\u001b[0m\u001b[1;33m(\u001b[0m\u001b[0mresult\u001b[0m\u001b[1;33m[\u001b[0m\u001b[1;34m\"relevance\"\u001b[0m\u001b[1;33m]\u001b[0m\u001b[1;33m)\u001b[0m\u001b[1;33m\u001b[0m\u001b[1;33m\u001b[0m\u001b[0m\n",
      "\u001b[1;31mNameError\u001b[0m: name 'results_or_long' is not defined"
     ]
    }
   ],
   "source": [
    "print(\"Results: OR , long(body) \")\n",
    "for result in results_or_long.hits:\n",
    "    print(result['fields']['title'])\n",
    "    print(result[\"relevance\"])"
   ]
  },
  {
   "cell_type": "code",
   "execution_count": 40,
   "metadata": {},
   "outputs": [
    {
     "ename": "TypeError",
     "evalue": "__init__() missing 1 required positional argument: 'label'",
     "output_type": "error",
     "traceback": [
      "\u001b[1;31m---------------------------------------------------------------------------\u001b[0m",
      "\u001b[1;31mTypeError\u001b[0m                                 Traceback (most recent call last)",
      "\u001b[1;32m<ipython-input-40-0b260cd3f38f>\u001b[0m in \u001b[0;36m<module>\u001b[1;34m\u001b[0m\n\u001b[0;32m      7\u001b[0m                         \u001b[0membedding_model\u001b[0m \u001b[1;33m=\u001b[0m \u001b[1;34m\"bert\"\u001b[0m\u001b[1;33m,\u001b[0m\u001b[1;33m\u001b[0m\u001b[1;33m\u001b[0m\u001b[0m\n\u001b[0;32m      8\u001b[0m                         \u001b[0mdoc_vector\u001b[0m \u001b[1;33m=\u001b[0m \u001b[1;34m\"body\"\u001b[0m\u001b[1;33m,\u001b[0m\u001b[1;33m\u001b[0m\u001b[1;33m\u001b[0m\u001b[0m\n\u001b[1;32m----> 9\u001b[1;33m                        hits = 10),\n\u001b[0m\u001b[0;32m     10\u001b[0m         \u001b[0mrank_profile\u001b[0m\u001b[1;33m=\u001b[0m\u001b[0mRanking\u001b[0m\u001b[1;33m(\u001b[0m\u001b[0mname\u001b[0m\u001b[1;33m=\u001b[0m\u001b[1;34m\"default\"\u001b[0m\u001b[1;33m)\u001b[0m\u001b[1;33m\u001b[0m\u001b[1;33m\u001b[0m\u001b[0m\n\u001b[0;32m     11\u001b[0m     ),\n",
      "\u001b[1;31mTypeError\u001b[0m: __init__() missing 1 required positional argument: 'label'"
     ]
    }
   ],
   "source": [
    "# How do i use ANN?\n",
    "# can read about it here: https://docs.vespa.ai/documentation/tutorials/text-search-semantic.html\n",
    "\n",
    "results = app.query(\n",
    "    query=query_text,\n",
    "    query_model = Query(\n",
    "        match_phase=ANN(query_vector = query_text,\n",
    "                        embedding_model = \"bert\",\n",
    "                        doc_vector = \"body\",\n",
    "                       hits = 10,\n",
    "                       label = ),\n",
    "        rank_profile=Ranking(name=\"default\")\n",
    "    ),\n",
    "    hits = 10\n",
    ")"
   ]
  }
 ],
 "metadata": {
  "kernelspec": {
   "display_name": "Python 3",
   "language": "python",
   "name": "python3"
  },
  "language_info": {
   "codemirror_mode": {
    "name": "ipython",
    "version": 3
   },
   "file_extension": ".py",
   "mimetype": "text/x-python",
   "name": "python",
   "nbconvert_exporter": "python",
   "pygments_lexer": "ipython3",
   "version": "3.7.3"
  }
 },
 "nbformat": 4,
 "nbformat_minor": 4
}
