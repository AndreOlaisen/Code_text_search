{
 "cells": [
  {
   "cell_type": "code",
   "execution_count": 1,
   "metadata": {},
   "outputs": [],
   "source": [
    "import matplotlib.pyplot as plt\n",
    "import numpy as np\n",
    "from random import random\n",
    "import time\n",
    "import multiprocessing\n",
    "from joblib import Parallel, delayed\n",
    "from tqdm import tqdm"
   ]
  },
  {
   "cell_type": "code",
   "execution_count": 2,
   "metadata": {},
   "outputs": [],
   "source": [
    "from vespa.package import Document, Field\n",
    "\n",
    "document = Document(\n",
    "    fields=[\n",
    "        Field(name = \"id\", type = \"string\", indexing = [\"attribute\", \"summary\"]),\n",
    "        Field(name = \"title\", type = \"string\", indexing = [\"index\", \"summary\"], index = \"enable-bm25\"),\n",
    "        Field(name = \"body\", type = \"string\", indexing = [\"index\", \"summary\"], index = \"enable-bm25\"),\n",
    "        Field(name = \"title_embedding\", type = \"tensor<float>(x[768])\", indexing = [\"attribute\", \"summary\"]),\n",
    "        Field(name = \"body_embedding\", type = \"tensor<float>(x[768])\", indexing = [\"attribute\", \"summary\"])\n",
    "    ]\n",
    ")"
   ]
  },
  {
   "cell_type": "code",
   "execution_count": 3,
   "metadata": {},
   "outputs": [
    {
     "data": {
      "text/plain": [
       "Document([Field('id', 'string', ['attribute', 'summary'], None), Field('title', 'string', ['index', 'summary'], 'enable-bm25'), Field('body', 'string', ['index', 'summary'], 'enable-bm25'), Field('title_embedding', 'tensor<float>(x[768])', ['attribute', 'summary'], None), Field('body_embedding', 'tensor<float>(x[768])', ['attribute', 'summary'], None)])"
      ]
     },
     "execution_count": 3,
     "metadata": {},
     "output_type": "execute_result"
    }
   ],
   "source": [
    "document"
   ]
  },
  {
   "cell_type": "code",
   "execution_count": 4,
   "metadata": {},
   "outputs": [],
   "source": [
    "from vespa.package import Schema, FieldSet, RankProfile\n",
    "\n",
    "msmarco_schema = Schema(\n",
    "    name = \"msmarco\",\n",
    "    document = document,\n",
    "    fieldsets = [FieldSet(name = \"default\", fields = [\"title\", \"body\"])],\n",
    "    rank_profiles = [RankProfile(name = \"default\", first_phase = \"nativeRank(title, body)\"),\n",
    "                    RankProfile(name = \"bm25\", first_phase = \"bm25(title) + bm25(body)\"),\n",
    "                    RankProfile(name = \"prod_body_title\",\n",
    "                                first_phase = \"reduce(attribute(title_embedding)*attribute(body_embedding),sum)\"),\n",
    "                    RankProfile(name = \"cos_sim_title\",\n",
    "                                first_phase = \"reduce(query(tensor)*attribute(title_embedding),sum)\")]\n",
    ")"
   ]
  },
  {
   "cell_type": "code",
   "execution_count": 5,
   "metadata": {},
   "outputs": [],
   "source": [
    "from vespa.package import ApplicationPackage\n",
    "\n",
    "app_package = ApplicationPackage(name = \"msmarco\", schema=msmarco_schema)\n",
    "\n"
   ]
  },
  {
   "cell_type": "code",
   "execution_count": 6,
   "metadata": {},
   "outputs": [
    {
     "data": {
      "text/plain": [
       "'\\nfrom vespa.package import VespaCloud\\n\\npath_key = \"C:\\\\Users\\\\User\\\\OneDrive - NTNU\\\\NTNU\\\\Prosjekt oppgave NLP\\\\Cloud_test\\\\\"\\nfile = \"andre.olaisen.tmartins-ntnu.pem\"\\n\\n\\n# App name in Cloud\\napp_name = \"andre-test-loud\"\\n\\nvespa_cloud = VespaCloud(\\n    tenant=\"tmartins-ntnu\",\\n    application=app_name,\\n    key_location=path_key + file,\\n    application_package=app_package\\n)\\n'"
      ]
     },
     "execution_count": 6,
     "metadata": {},
     "output_type": "execute_result"
    }
   ],
   "source": [
    "\"\"\"\n",
    "from vespa.package import VespaCloud\n",
    "\n",
    "path_key = \"C:\\\\Users\\\\User\\\\OneDrive - NTNU\\\\NTNU\\\\Prosjekt oppgave NLP\\\\Cloud_test\\\\\"\n",
    "file = \"andre.olaisen.tmartins-ntnu.pem\"\n",
    "\n",
    "\n",
    "# App name in Cloud\n",
    "app_name = \"andre-test-loud\"\n",
    "\n",
    "vespa_cloud = VespaCloud(\n",
    "    tenant=\"tmartins-ntnu\",\n",
    "    application=app_name,\n",
    "    key_location=path_key + file,\n",
    "    application_package=app_package\n",
    ")\n",
    "\"\"\""
   ]
  },
  {
   "cell_type": "code",
   "execution_count": 7,
   "metadata": {},
   "outputs": [],
   "source": [
    "from vespa.package import VespaDocker\n",
    "\n",
    "vespa_docker = VespaDocker()"
   ]
  },
  {
   "cell_type": "code",
   "execution_count": 8,
   "metadata": {},
   "outputs": [
    {
     "name": "stdout",
     "output_type": "stream",
     "text": [
      "Waiting for configuration server.\n",
      "Waiting for configuration server.\n",
      "Waiting for configuration server.\n",
      "Waiting for configuration server.\n",
      "Waiting for configuration server.\n",
      "Waiting for configuration server.\n",
      "Waiting for configuration server.\n",
      "Waiting for configuration server.\n",
      "Waiting for configuration server.\n",
      "Waiting for configuration server.\n",
      "Waiting for configuration server.\n",
      "Waiting for configuration server.\n",
      "Waiting for configuration server.\n",
      "Waiting for configuration server.\n",
      "Waiting for configuration server.\n",
      "Waiting for configuration server.\n",
      "Waiting for application status.\n",
      "Waiting for application status.\n",
      "Waiting for application status.\n",
      "Waiting for application status.\n",
      "Waiting for application status.\n",
      "Waiting for application status.\n",
      "Waiting for application status.\n"
     ]
    }
   ],
   "source": [
    "name = \"msmarco\"\n",
    "\n",
    "path = \"C:\\\\Users\\\\User\\\\OneDrive - NTNU\\\\NTNU\\\\Prosjekt oppgave NLP\\\\docker_test\\\\\"\n",
    "\n",
    "\n",
    "app = vespa_docker.deploy(application_package=app_package, \n",
    "                          disk_folder=path + name,\n",
    "                          container_memory = '8G')"
   ]
  },
  {
   "cell_type": "code",
   "execution_count": 9,
   "metadata": {},
   "outputs": [
    {
     "data": {
      "text/plain": [
       "'\\nname = \"sample_application_MSMARCO\"\\n\\npath_key = \"C:\\\\Users\\\\User\\\\OneDrive - NTNU\\\\NTNU\\\\Prosjekt oppgave NLP\\\\Cloud_test\\\\\"\\n\\n\\napp = vespa_cloud.deploy(\\n    instance=\\'andre-olaisen\\',\\n    disk_folder=path_key + name\\n)\\n'"
      ]
     },
     "execution_count": 9,
     "metadata": {},
     "output_type": "execute_result"
    }
   ],
   "source": [
    "\"\"\"\n",
    "name = \"sample_application_MSMARCO\"\n",
    "\n",
    "path_key = \"C:\\\\Users\\\\User\\\\OneDrive - NTNU\\\\NTNU\\\\Prosjekt oppgave NLP\\\\Cloud_test\\\\\"\n",
    "\n",
    "\n",
    "app = vespa_cloud.deploy(\n",
    "    instance='andre-olaisen',\n",
    "    disk_folder=path_key + name\n",
    ")\n",
    "\"\"\"\n"
   ]
  },
  {
   "cell_type": "code",
   "execution_count": 10,
   "metadata": {},
   "outputs": [
    {
     "data": {
      "text/plain": [
       "(996, 3)"
      ]
     },
     "execution_count": 10,
     "metadata": {},
     "output_type": "execute_result"
    }
   ],
   "source": [
    "from pandas import read_csv\n",
    "\n",
    "docs = read_csv(\"https://thigm85.github.io/data/msmarco/docs.tsv\", sep = \"\\t\")\n",
    "docs.shape"
   ]
  },
  {
   "cell_type": "code",
   "execution_count": 11,
   "metadata": {},
   "outputs": [
    {
     "name": "stderr",
     "output_type": "stream",
     "text": [
      "C:\\Users\\User\\AppData\\Local\\Continuum\\anaconda3\\lib\\site-packages\\tensorflow\\python\\framework\\dtypes.py:526: FutureWarning: Passing (type, 1) or '1type' as a synonym of type is deprecated; in a future version of numpy, it will be understood as (type, (1,)) / '(1,)type'.\n",
      "  _np_qint8 = np.dtype([(\"qint8\", np.int8, 1)])\n",
      "C:\\Users\\User\\AppData\\Local\\Continuum\\anaconda3\\lib\\site-packages\\tensorflow\\python\\framework\\dtypes.py:527: FutureWarning: Passing (type, 1) or '1type' as a synonym of type is deprecated; in a future version of numpy, it will be understood as (type, (1,)) / '(1,)type'.\n",
      "  _np_quint8 = np.dtype([(\"quint8\", np.uint8, 1)])\n",
      "C:\\Users\\User\\AppData\\Local\\Continuum\\anaconda3\\lib\\site-packages\\tensorflow\\python\\framework\\dtypes.py:528: FutureWarning: Passing (type, 1) or '1type' as a synonym of type is deprecated; in a future version of numpy, it will be understood as (type, (1,)) / '(1,)type'.\n",
      "  _np_qint16 = np.dtype([(\"qint16\", np.int16, 1)])\n",
      "C:\\Users\\User\\AppData\\Local\\Continuum\\anaconda3\\lib\\site-packages\\tensorflow\\python\\framework\\dtypes.py:529: FutureWarning: Passing (type, 1) or '1type' as a synonym of type is deprecated; in a future version of numpy, it will be understood as (type, (1,)) / '(1,)type'.\n",
      "  _np_quint16 = np.dtype([(\"quint16\", np.uint16, 1)])\n",
      "C:\\Users\\User\\AppData\\Local\\Continuum\\anaconda3\\lib\\site-packages\\tensorflow\\python\\framework\\dtypes.py:530: FutureWarning: Passing (type, 1) or '1type' as a synonym of type is deprecated; in a future version of numpy, it will be understood as (type, (1,)) / '(1,)type'.\n",
      "  _np_qint32 = np.dtype([(\"qint32\", np.int32, 1)])\n",
      "C:\\Users\\User\\AppData\\Local\\Continuum\\anaconda3\\lib\\site-packages\\tensorflow\\python\\framework\\dtypes.py:535: FutureWarning: Passing (type, 1) or '1type' as a synonym of type is deprecated; in a future version of numpy, it will be understood as (type, (1,)) / '(1,)type'.\n",
      "  np_resource = np.dtype([(\"resource\", np.ubyte, 1)])\n",
      "C:\\Users\\User\\AppData\\Local\\Continuum\\anaconda3\\lib\\site-packages\\tensorboard\\compat\\tensorflow_stub\\dtypes.py:541: FutureWarning: Passing (type, 1) or '1type' as a synonym of type is deprecated; in a future version of numpy, it will be understood as (type, (1,)) / '(1,)type'.\n",
      "  _np_qint8 = np.dtype([(\"qint8\", np.int8, 1)])\n",
      "C:\\Users\\User\\AppData\\Local\\Continuum\\anaconda3\\lib\\site-packages\\tensorboard\\compat\\tensorflow_stub\\dtypes.py:542: FutureWarning: Passing (type, 1) or '1type' as a synonym of type is deprecated; in a future version of numpy, it will be understood as (type, (1,)) / '(1,)type'.\n",
      "  _np_quint8 = np.dtype([(\"quint8\", np.uint8, 1)])\n",
      "C:\\Users\\User\\AppData\\Local\\Continuum\\anaconda3\\lib\\site-packages\\tensorboard\\compat\\tensorflow_stub\\dtypes.py:543: FutureWarning: Passing (type, 1) or '1type' as a synonym of type is deprecated; in a future version of numpy, it will be understood as (type, (1,)) / '(1,)type'.\n",
      "  _np_qint16 = np.dtype([(\"qint16\", np.int16, 1)])\n",
      "C:\\Users\\User\\AppData\\Local\\Continuum\\anaconda3\\lib\\site-packages\\tensorboard\\compat\\tensorflow_stub\\dtypes.py:544: FutureWarning: Passing (type, 1) or '1type' as a synonym of type is deprecated; in a future version of numpy, it will be understood as (type, (1,)) / '(1,)type'.\n",
      "  _np_quint16 = np.dtype([(\"quint16\", np.uint16, 1)])\n",
      "C:\\Users\\User\\AppData\\Local\\Continuum\\anaconda3\\lib\\site-packages\\tensorboard\\compat\\tensorflow_stub\\dtypes.py:545: FutureWarning: Passing (type, 1) or '1type' as a synonym of type is deprecated; in a future version of numpy, it will be understood as (type, (1,)) / '(1,)type'.\n",
      "  _np_qint32 = np.dtype([(\"qint32\", np.int32, 1)])\n",
      "C:\\Users\\User\\AppData\\Local\\Continuum\\anaconda3\\lib\\site-packages\\tensorboard\\compat\\tensorflow_stub\\dtypes.py:550: FutureWarning: Passing (type, 1) or '1type' as a synonym of type is deprecated; in a future version of numpy, it will be understood as (type, (1,)) / '(1,)type'.\n",
      "  np_resource = np.dtype([(\"resource\", np.ubyte, 1)])\n"
     ]
    }
   ],
   "source": [
    "# Importing sentence encoding models \n",
    "# link https://github.com/UKPLab/sentence-transformers#getting-started\n",
    "from sentence_transformers import SentenceTransformer\n",
    "model = SentenceTransformer('distilbert-base-nli-mean-tokens')"
   ]
  },
  {
   "cell_type": "code",
   "execution_count": 12,
   "metadata": {},
   "outputs": [
    {
     "data": {
      "text/html": [
       "<div>\n",
       "<style scoped>\n",
       "    .dataframe tbody tr th:only-of-type {\n",
       "        vertical-align: middle;\n",
       "    }\n",
       "\n",
       "    .dataframe tbody tr th {\n",
       "        vertical-align: top;\n",
       "    }\n",
       "\n",
       "    .dataframe thead th {\n",
       "        text-align: right;\n",
       "    }\n",
       "</style>\n",
       "<table border=\"1\" class=\"dataframe\">\n",
       "  <thead>\n",
       "    <tr style=\"text-align: right;\">\n",
       "      <th></th>\n",
       "      <th>id</th>\n",
       "      <th>title</th>\n",
       "      <th>body</th>\n",
       "    </tr>\n",
       "  </thead>\n",
       "  <tbody>\n",
       "    <tr>\n",
       "      <th>0</th>\n",
       "      <td>D2185715</td>\n",
       "      <td>What Is an Appropriate Gift for a Bris</td>\n",
       "      <td>Hub Pages   Religion and Philosophy   Judaism...</td>\n",
       "    </tr>\n",
       "    <tr>\n",
       "      <th>1</th>\n",
       "      <td>D2819479</td>\n",
       "      <td>lunge</td>\n",
       "      <td>1lungenoun   ˈlənj  Popularity  Bottom 40  of...</td>\n",
       "    </tr>\n",
       "  </tbody>\n",
       "</table>\n",
       "</div>"
      ],
      "text/plain": [
       "         id                                    title  \\\n",
       "0  D2185715  What Is an Appropriate Gift for a Bris    \n",
       "1  D2819479                                    lunge   \n",
       "\n",
       "                                                body  \n",
       "0   Hub Pages   Religion and Philosophy   Judaism...  \n",
       "1   1lungenoun   ˈlənj  Popularity  Bottom 40  of...  "
      ]
     },
     "execution_count": 12,
     "metadata": {},
     "output_type": "execute_result"
    }
   ],
   "source": [
    "docs.head(2)"
   ]
  },
  {
   "cell_type": "code",
   "execution_count": 13,
   "metadata": {},
   "outputs": [
    {
     "data": {
      "text/plain": [
       "4937"
      ]
     },
     "execution_count": 13,
     "metadata": {},
     "output_type": "execute_result"
    }
   ],
   "source": [
    "len(docs[\"body\"][1])"
   ]
  },
  {
   "cell_type": "code",
   "execution_count": 14,
   "metadata": {},
   "outputs": [
    {
     "data": {
      "text/plain": [
       "{'cells': [{'address': {'x': '1'}, 'value': 1},\n",
       "  {'address': {'x': '2'}, 'value': 2},\n",
       "  {'address': {'x': '3'}, 'value': 3},\n",
       "  {'address': {'x': '4'}, 'value': 4}]}"
      ]
     },
     "execution_count": 14,
     "metadata": {},
     "output_type": "execute_result"
    }
   ],
   "source": [
    "def get_tensor_format(tensor, dim):\n",
    "    form = {\"cells\": [{\"address\" : {\"x\" : str(i+1)}, \"value\": tensor[i]} for i in range(dim)]}\n",
    "    return form\n",
    "    #return tensor\n",
    "\n",
    "get_tensor_format([1,2,3,4], 4)\n",
    "    "
   ]
  },
  {
   "cell_type": "code",
   "execution_count": 15,
   "metadata": {},
   "outputs": [],
   "source": [
    "def feed_datapoint(row,i):\n",
    "    embedding_title = np.zeros(768).tolist()\n",
    "    embedding_body = np.zeros(768).tolist()\n",
    "\n",
    "    if type(row[\"title\"]) != float:\n",
    "        embedding_title =  model.encode(row[\"title\"].lower()).tolist()\n",
    "    else:\n",
    "        embedding_title = [0 for _ in range(768)]\n",
    "    \n",
    "    if type(row[\"body\"]) != float:\n",
    "        embedding_body =  model.encode(row[\"body\"].lower()).tolist()\n",
    "    else:\n",
    "        embedding_body = [0 for _ in range(768)]\n",
    "    \n",
    "    #print(len(row[\"title\"]), end = \"  \")\n",
    "    #print(len(embedding_title), len(embedding_body))\n",
    "    response = app.feed_data_point(\n",
    "        schema = \"msmarco\",\n",
    "        data_id = str(row[\"id\"]),\n",
    "        fields = {\n",
    "            \"id\": str(row[\"id\"]),\n",
    "            \"title\": str(row[\"title\"]),\n",
    "            \"body\": str(row[\"body\"]),\n",
    "            \"title_embedding\": {\"values\": embedding_title},\n",
    "            \"body_embedding\": {\"values\": embedding_body}\n",
    "        }\n",
    "    )\n",
    "    return(i)"
   ]
  },
  {
   "cell_type": "code",
   "execution_count": null,
   "metadata": {},
   "outputs": [],
   "source": []
  },
  {
   "cell_type": "code",
   "execution_count": 16,
   "metadata": {},
   "outputs": [
    {
     "name": "stdout",
     "output_type": "stream",
     "text": [
      "0\n",
      "Time: 0.0\n",
      "==========100\n",
      "Time: 47.5\n",
      "==========200\n",
      "Time: 63.4\n",
      "==========300\n",
      "Time: 30.2\n",
      "==========400\n",
      "Time: 29.2\n",
      "==========500\n",
      "Time: 36.3\n",
      "==========600\n",
      "Time: 47.8\n",
      "==========700\n",
      "Time: 41.8\n",
      "==========800\n",
      "Time: 34.3\n",
      "==========900\n",
      "Time: 43.4\n",
      "==========Total_time: 421.4704074859619\n"
     ]
    }
   ],
   "source": [
    "\n",
    "start = time.time()\n",
    "m = start\n",
    "i = 0\n",
    "for idx, row in docs.iterrows():\n",
    "    if (i >1000):\n",
    "        break\n",
    "    if (i % 100 == 0):\n",
    "        print(i)\n",
    "        print(\"Time:\", round(time.time() - m,1))\n",
    "        m = time.time()\n",
    "    if (i % 10 == 0):\n",
    "        print(\"=\",end=\"\")\n",
    "    i += 1\n",
    "    \n",
    "    feed_datapoint(row,idx)\n",
    "    \n",
    "        \n",
    "    \n",
    "print(\"Total_time:\", time.time()- start)"
   ]
  },
  {
   "cell_type": "markdown",
   "metadata": {},
   "source": [
    "## Feeding data parallel "
   ]
  },
  {
   "cell_type": "code",
   "execution_count": 17,
   "metadata": {},
   "outputs": [
    {
     "data": {
      "text/plain": [
       "'\\ns = time.time()\\na = Parallel(n_jobs=-1)(delayed(feed_datapoint)(row, idx) for row, idx in docs.iterrows())\\ntime.time() - s\\n'"
      ]
     },
     "execution_count": 17,
     "metadata": {},
     "output_type": "execute_result"
    }
   ],
   "source": [
    "# Does not work\n",
    "\"\"\"\n",
    "s = time.time()\n",
    "a = Parallel(n_jobs=-1)(delayed(feed_datapoint)(row, idx) for row, idx in docs.iterrows())\n",
    "time.time() - s\n",
    "\"\"\""
   ]
  },
  {
   "cell_type": "code",
   "execution_count": 18,
   "metadata": {},
   "outputs": [],
   "source": [
    "from vespa.query import Query, OR, AND, WeakAnd, ANN, RankProfile as Ranking\n",
    "\n",
    "query = \"Are the any documents here\"\n",
    "query_tensor = model.encode(query.lower()).tolist()\n",
    "query_tensor = {\"values\": query_tensor}\n",
    "\n",
    "results = app.query(\n",
    "    query = query,\n",
    "    #tensor = query_tensor,\n",
    "    query_model = Query(\n",
    "        match_phase=OR(),\n",
    "        rank_profile=Ranking(name=\"cos_sim_title\")\n",
    "    ),\n",
    "    hits = 10\n",
    ")"
   ]
  },
  {
   "cell_type": "code",
   "execution_count": null,
   "metadata": {},
   "outputs": [],
   "source": []
  },
  {
   "cell_type": "code",
   "execution_count": 19,
   "metadata": {},
   "outputs": [
    {
     "name": "stdout",
     "output_type": "stream",
     "text": [
      "0\n"
     ]
    }
   ],
   "source": [
    "print(len(results.hits))\n",
    "for result in results.hits:\n",
    "    #print(result[\"fields\"][\"id\"], \"  \", result[\"fields\"])\n",
    "    print(result[\"relevance\"])\n"
   ]
  },
  {
   "cell_type": "code",
   "execution_count": 20,
   "metadata": {},
   "outputs": [
    {
     "name": "stdout",
     "output_type": "stream",
     "text": [
      "98\n",
      "902\n",
      "95\n",
      "\n",
      "\n",
      "996\n",
      "996\n",
      "996\n"
     ]
    }
   ],
   "source": [
    "### Testing different matching phases\n",
    "\n",
    "query_text = \"What is food?\"\n",
    "\n",
    "results1 = app.query(\n",
    "    query=query_text,\n",
    "    query_model = Query(\n",
    "        match_phase=WeakAnd(hits = 1),\n",
    "        rank_profile=Ranking(name=\"default\")\n",
    "    ),\n",
    "    hits = 10\n",
    ")\n",
    "\n",
    "results2 = app.query(\n",
    "    query=query_text,\n",
    "    query_model = Query(\n",
    "        match_phase=OR(),\n",
    "        rank_profile=Ranking(name=\"default\")\n",
    "    ),\n",
    "    hits = 10\n",
    ")\n",
    "\n",
    "results3 = app.query(\n",
    "    query=query_text,\n",
    "    query_model = Query(\n",
    "        match_phase=AND(),\n",
    "        rank_profile=Ranking(name=\"bm25\")\n",
    "    ),\n",
    "    hits = 10\n",
    ")\n",
    "\n",
    "# Very different number of ducuments retrieved.\n",
    "# \n",
    "print(results1.number_documents_retrieved)\n",
    "print(results2.number_documents_retrieved)\n",
    "print(results3.number_documents_retrieved)\n",
    "\n",
    "print(\"\\n\")\n",
    "\n",
    "# Size of the corpus?\n",
    "print(results1.number_documents_indexed)\n",
    "print(results2.number_documents_indexed)\n",
    "print(results3.number_documents_indexed)\n",
    "\n",
    "#\n"
   ]
  },
  {
   "cell_type": "code",
   "execution_count": 21,
   "metadata": {},
   "outputs": [],
   "source": [
    "#Testing WeakAnd\n",
    "# Can be read about here: https://docs.vespa.ai/documentation/using-wand-with-vespa.html\n",
    "# How does hits affect the search?\n",
    "# Is this the target amount of retrived documents?\n",
    "# Retrived documents seam to increase linearly with hits\n",
    "query_text = \"How too kill the warm black friday mood???\"\n",
    "\n",
    "n = 100\n",
    "\n",
    "results = []\n",
    "retrived = np.zeros(n)\n",
    "\n",
    "\n",
    "for i in range(n):\n",
    "    results_temp = app.query(\n",
    "        query=query_text,\n",
    "        query_model = Query(\n",
    "            match_phase=WeakAnd(hits = i),\n",
    "            rank_profile=Ranking(name=\"default\")\n",
    "        ),\n",
    "        hits = 1\n",
    "    )\n",
    "    results.append(results)\n",
    "    retrived[i] = results_temp.number_documents_retrieved\n",
    "\n"
   ]
  },
  {
   "cell_type": "code",
   "execution_count": 22,
   "metadata": {},
   "outputs": [
    {
     "data": {
      "image/png": "[encoded data removed]",
      "text/plain": [
       "<Figure size 432x288 with 1 Axes>"
      ]
     },
     "metadata": {
      "needs_background": "light"
     },
     "output_type": "display_data"
    }
   ],
   "source": [
    "plt.plot(retrived)\n",
    "plt.plot(np.arange(100) + retrived[5])\n",
    "plt.ylabel('Numbre of documents retrived')\n",
    "plt.xlabel(\"WeakAnd(hits = x)\")\n",
    "plt.title(\"Query:\" + query_text)\n",
    "plt.show()\n"
   ]
  },
  {
   "cell_type": "code",
   "execution_count": 23,
   "metadata": {},
   "outputs": [],
   "source": [
    "query_model = Query(\n",
    "            match_phase=WeakAnd(hits = 10, ),\n",
    "            rank_profile=Ranking(name=\"default\"))\n",
    "    \n",
    "\n",
    "\n"
   ]
  },
  {
   "cell_type": "code",
   "execution_count": 24,
   "metadata": {},
   "outputs": [
    {
     "ename": "NameError",
     "evalue": "name 'vespa_cloud' is not defined",
     "output_type": "error",
     "traceback": [
      "\u001b[1;31m---------------------------------------------------------------------------\u001b[0m",
      "\u001b[1;31mNameError\u001b[0m                                 Traceback (most recent call last)",
      "\u001b[1;32m<ipython-input-24-bac8f35eb22e>\u001b[0m in \u001b[0;36m<module>\u001b[1;34m\u001b[0m\n\u001b[0;32m      5\u001b[0m \u001b[0mpath_key\u001b[0m \u001b[1;33m=\u001b[0m \u001b[1;34m\"C:\\\\Users\\\\User\\\\OneDrive - NTNU\\\\NTNU\\\\Prosjekt oppgave NLP\\\\Cloud_test\\\\\"\u001b[0m\u001b[1;33m\u001b[0m\u001b[1;33m\u001b[0m\u001b[0m\n\u001b[0;32m      6\u001b[0m \u001b[1;33m\u001b[0m\u001b[0m\n\u001b[1;32m----> 7\u001b[1;33m app = vespa_cloud.deploy(\n\u001b[0m\u001b[0;32m      8\u001b[0m     \u001b[0minstance\u001b[0m \u001b[1;33m=\u001b[0m \u001b[1;34m'andre-olaisen'\u001b[0m\u001b[1;33m,\u001b[0m\u001b[1;33m\u001b[0m\u001b[1;33m\u001b[0m\u001b[0m\n\u001b[0;32m      9\u001b[0m     \u001b[0mdisk_folder\u001b[0m \u001b[1;33m=\u001b[0m \u001b[0mpath_key\u001b[0m\u001b[1;33m\u001b[0m\u001b[1;33m\u001b[0m\u001b[0m\n",
      "\u001b[1;31mNameError\u001b[0m: name 'vespa_cloud' is not defined"
     ]
    }
   ],
   "source": [
    "app_package.schema.add_rank_profile(\n",
    "    RankProfile(name = \"body_length\", inherits = \"default\", first_phase = \"body_length\")\n",
    ")\n",
    "\n",
    "path_key = \"C:\\\\Users\\\\User\\\\OneDrive - NTNU\\\\NTNU\\\\Prosjekt oppgave NLP\\\\Cloud_test\\\\\"\n",
    "\n",
    "app = vespa_cloud.deploy(\n",
    "    instance = 'andre-olaisen',\n",
    "    disk_folder = path_key \n",
    ")\n",
    "\n",
    "\n"
   ]
  },
  {
   "cell_type": "code",
   "execution_count": null,
   "metadata": {},
   "outputs": [],
   "source": [
    "query_text = \"Was jesus a socialist\"\n",
    "\n",
    "results_or_default = app.query(\n",
    "    query=query_text,\n",
    "    query_model = Query(\n",
    "        match_phase=OR(),\n",
    "        rank_profile=Ranking(name=\"default\")\n",
    "    ),\n",
    "    hits = 5\n",
    ")\n",
    "\n",
    "results_or_bm25 = app.query(\n",
    "    query=query_text,\n",
    "    query_model = Query(\n",
    "        match_phase=OR(),\n",
    "        rank_profile=Ranking(name=\"bm25\")\n",
    "    ),\n",
    "    hits = 5\n",
    ")\n",
    "\n",
    "print(results_or_default.number_documents_retrieved)\n",
    "print(results_or_bm25.number_documents_retrieved)\n",
    "\n",
    "print(query_text)\n",
    "print(\"\\n\")\n",
    "\n",
    "print(\"Results: or , deault\")\n",
    "for result in results_or_default.hits:\n",
    "    print(result['fields']['title'])\n",
    "    print(result[\"relevance\"])\n",
    "    \n",
    "print(\"\\n\")\n",
    "    \n",
    "print(\"Results: OR , bm25(title) + bm25(body)\")\n",
    "for result in results_or_bm25.hits:\n",
    "    print(result['fields']['title'])\n",
    "    print(result[\"relevance\"])\n",
    "\n"
   ]
  },
  {
   "cell_type": "code",
   "execution_count": null,
   "metadata": {},
   "outputs": [],
   "source": [
    "# add_rank_profile: What does inherits mean? Why is this needed?\n",
    "# Not able to make bm25 work\n",
    "app_package.schema.add_rank_profile(\n",
    "    RankProfile(name = \"bm25\", inherits = \"default\", first_phase = \"bm25(body)+bm25(title)\")\n",
    ")\n",
    "app_package.schema.add_rank_profile(\n",
    "    RankProfile(name = \"bm25_title\", inherits = \"default\", first_phase = \"bm25(title)\")\n",
    ")\n",
    "app_package.schema.add_rank_profile(\n",
    "    RankProfile(name = \"bm25_body\", inherits = \"default\", first_phase = \"bm25(body)\")\n",
    ")\n",
    "\n",
    "app_package\n",
    "\n"
   ]
  },
  {
   "cell_type": "code",
   "execution_count": null,
   "metadata": {},
   "outputs": [],
   "source": [
    "# After adding a new RankingProfile the app has to be redeployed\n",
    "\n",
    "path_key = \"C:\\\\Users\\\\User\\\\OneDrive - NTNU\\\\NTNU\\\\Prosjekt oppgave NLP\\\\Cloud_test\\\\\"\n",
    "\n",
    "app = vespa_cloud.deploy(\n",
    "    instance='andre-olaisen',\n",
    "    disk_folder=path_key\n",
    ")"
   ]
  },
  {
   "cell_type": "code",
   "execution_count": null,
   "metadata": {},
   "outputs": [],
   "source": [
    "query_text = \"Could muhammad take a selfie?\"\n",
    "\n",
    "results_or_bm25 = app.query(\n",
    "    query=query_text,\n",
    "    query_model = Query(\n",
    "        match_phase=OR(),\n",
    "        rank_profile=Ranking(name=\"bm25\")\n",
    "    ),\n",
    "    hits = 10\n",
    ")\n",
    "\n",
    "\n",
    "results_or_bm25_title = app.query(\n",
    "    query=query_text,\n",
    "    query_model = Query(\n",
    "        match_phase=OR(),\n",
    "        rank_profile=Ranking(name=\"bm25_body\")\n",
    "    ),\n",
    "    hits = 10\n",
    ")\n",
    "\n",
    "results_or_bm25_body = app.query(\n",
    "    query=query_text,\n",
    "    query_model = Query(\n",
    "        match_phase=OR(),\n",
    "        rank_profile=Ranking(name=\"bm25_title\")\n",
    "    ),\n",
    "    hits = 10\n",
    ")\n",
    "\n",
    "\n",
    "print(\"Results: OR , bm25(title)+bm25(body)\")\n",
    "for result in results_or_bm25.hits:\n",
    "    print(result['fields']['title'])\n",
    "    print(result[\"relevance\"])\n",
    "    \n",
    "print(\"\\n\")\n",
    "\n",
    "print(\"Results: OR , bm25(title)\")\n",
    "for result in results_or_bm25_body.hits:\n",
    "    print(result['fields']['title'])\n",
    "    print(result[\"relevance\"])\n",
    "\n",
    "print(\"\\n\")\n",
    "print(\"Results: OR , bm25(body)\")\n",
    "for result in results_or_bm25_title.hits:\n",
    "    print(result['fields']['title'])\n",
    "    print(result[\"relevance\"])\n",
    "\n"
   ]
  },
  {
   "cell_type": "code",
   "execution_count": null,
   "metadata": {
    "scrolled": true
   },
   "outputs": [],
   "source": [
    "app_package.schema.add_rank_profile(\n",
    "    RankProfile(name = \"nativerank_bm25_combo\", inherits = \"default\",\n",
    "                first_phase = \"nativeRank(title,body) + bm25(body)\")\n",
    ")\n",
    "\n",
    "# After adding a new RankingProfile the app has to be redeployed\n",
    "\n",
    "path_key = \"C:\\\\Users\\\\User\\\\OneDrive - NTNU\\\\NTNU\\\\Prosjekt oppgave NLP\\\\Cloud_test\\\\\"\n",
    "\n",
    "app = vespa_cloud.deploy(\n",
    "    instance='andre-olaisen',\n",
    "    disk_folder=path_key\n",
    ")"
   ]
  },
  {
   "cell_type": "code",
   "execution_count": null,
   "metadata": {},
   "outputs": [],
   "source": [
    "query_text = \"Could Muhammad take a selfie?\"\n",
    "\n",
    "results_or_native_bm_combo = app.query(\n",
    "    query=query_text,\n",
    "    query_model = Query(\n",
    "        match_phase=OR(),\n",
    "        rank_profile=Ranking(name=\"nativerank_bm25_combo\")\n",
    "    ),\n",
    "    hits = 10\n",
    ")\n",
    "\n",
    "print(\"\\n\")\n",
    "print(\"Results: OR , bm25(body)\")\n",
    "for result in results_or_native_bm_combo.hits:\n",
    "    print(result['fields']['title'])\n",
    "    print(result[\"relevance\"])"
   ]
  },
  {
   "cell_type": "code",
   "execution_count": null,
   "metadata": {},
   "outputs": [],
   "source": [
    "# Testing ANN \n",
    "from vespa.query import Union, WeakAnd, ANN"
   ]
  },
  {
   "cell_type": "code",
   "execution_count": null,
   "metadata": {},
   "outputs": [],
   "source": [
    "\n",
    "\n",
    "match_phase = Union(\n",
    "    WeakAnd(hits = 10),\n",
    "    ANN(\n",
    "        doc_vector=\"title_embedding\",\n",
    "        query_vector=query_text,\n",
    "        embedding_model=model.encode().tolist(),\n",
    "        hits = 10,\n",
    "        label=\"title\"\n",
    "    )\n",
    ")\n",
    "\n",
    "m\n",
    "\n",
    "rank_profile = Ranking(name=\"default\" ,list_features=True)\n",
    "\n",
    "query_model = Query(match_phase=match_phase, rank_profile=rank_profile)\n",
    "\n",
    "results_ANN_bm25 = app.query(\n",
    "    query=query_text,\n",
    "    query_model = query_model )\n",
    "\n",
    "print(results_ANN_bm25.number_documents_retrieved) # = 0\n",
    "print(results_ANN_bm25.number_documents_indexed)   # = 0\n",
    "\n"
   ]
  },
  {
   "cell_type": "code",
   "execution_count": null,
   "metadata": {},
   "outputs": [],
   "source": [
    "??results_ANN_bm25"
   ]
  },
  {
   "cell_type": "code",
   "execution_count": null,
   "metadata": {},
   "outputs": [],
   "source": [
    "match_phase.get_query_properties(\"dsfsdf\")"
   ]
  },
  {
   "cell_type": "code",
   "execution_count": null,
   "metadata": {},
   "outputs": [],
   "source": [
    "rank_profile = Ranking(name=\"default\" ,list_features=True)\n",
    "\n",
    "query_model = Query(match_phase=match_phase, rank_profile=rank_profile)\n",
    "\n",
    "results_ANN_bm25 = app.query(\n",
    "    query=query_text,\n",
    "    query_model = query_model)\n",
    "\n",
    "print(results_ANN_bm25.number_documents_retrieved)\n",
    "print(results_ANN_bm25.number_documents_indexed)\n",
    "print(\"\\n\")\n",
    "print(\"Results: ANN , bm25\")\n",
    "for result in results_ANN_bm25.hits:\n",
    "    print(result['fields']['title'])\n",
    "    print(result[\"relevance\"])\n",
    "\n",
    "   "
   ]
  },
  {
   "cell_type": "code",
   "execution_count": null,
   "metadata": {},
   "outputs": [],
   "source": [
    "import requests, json\n",
    "\n",
    "labelled_data = json.loads(\n",
    "    requests.get(\"https://thigm85.github.io/data/msmarco/query-labels.json\").text\n",
    ")"
   ]
  },
  {
   "cell_type": "code",
   "execution_count": null,
   "metadata": {},
   "outputs": [],
   "source": [
    "print(len(labelled_data))\n",
    "\n",
    "labelled_data[0:4]"
   ]
  },
  {
   "cell_type": "code",
   "execution_count": null,
   "metadata": {},
   "outputs": [],
   "source": [
    "default_ranking = Query(\n",
    "    match_phase=OR(),\n",
    "    rank_profile=Ranking(name=\"default\")\n",
    ")"
   ]
  },
  {
   "cell_type": "code",
   "execution_count": null,
   "metadata": {},
   "outputs": [],
   "source": [
    "bm25_ranking = Query(\n",
    "    match_phase=OR(),\n",
    "    rank_profile=Ranking(name=\"bm25\")\n",
    ")\n",
    "\n"
   ]
  },
  {
   "cell_type": "code",
   "execution_count": null,
   "metadata": {},
   "outputs": [],
   "source": [
    "from vespa.evaluation import MatchRatio, Recall, ReciprocalRank\n",
    "\n",
    "eval_metrics = [MatchRatio(), Recall(at = 10), ReciprocalRank(at = 10)]\n",
    "\n"
   ]
  },
  {
   "cell_type": "code",
   "execution_count": null,
   "metadata": {},
   "outputs": [],
   "source": [
    "default_evaluation = app.evaluate(\n",
    "    labelled_data=labelled_data,\n",
    "    eval_metrics=eval_metrics,\n",
    "    query_model=default_ranking,\n",
    "    id_field=\"id\",\n",
    "    timeout=5,\n",
    "    hits=10\n",
    ")"
   ]
  },
  {
   "cell_type": "code",
   "execution_count": null,
   "metadata": {},
   "outputs": [],
   "source": [
    "bm25_evaluation = app.evaluate(\n",
    "    labelled_data=labelled_data,\n",
    "    eval_metrics=eval_metrics,\n",
    "    query_model=bm25_ranking,\n",
    "    id_field=\"id\",\n",
    "    timeout=5,\n",
    "    hits=10\n",
    ")\n",
    "\n"
   ]
  },
  {
   "cell_type": "code",
   "execution_count": null,
   "metadata": {},
   "outputs": [],
   "source": [
    "from pandas import merge\n",
    "\n",
    "eval_comparison = merge(\n",
    "    left=default_evaluation,\n",
    "    right=bm25_evaluation,\n",
    "    on=\"query_id\",\n",
    "    suffixes=('_default', '_bm25')\n",
    ")\n",
    "eval_comparison[0:10]\n",
    "\n"
   ]
  },
  {
   "cell_type": "code",
   "execution_count": null,
   "metadata": {},
   "outputs": [],
   "source": [
    "eval_comparison[[\"match_ratio_value_default\", \"match_ratio_value_bm25\"]].describe().loc[[\"mean\", \"std\"]]"
   ]
  },
  {
   "cell_type": "code",
   "execution_count": null,
   "metadata": {},
   "outputs": [],
   "source": [
    "eval_comparison[[\"recall_10_value_default\", \"recall_10_value_bm25\"]].describe().loc[[\"mean\", \"std\"]]"
   ]
  },
  {
   "cell_type": "code",
   "execution_count": null,
   "metadata": {},
   "outputs": [],
   "source": [
    "eval_comparison[[\"reciprocal_rank_10_value_default\", \"reciprocal_rank_10_value_bm25\"]].describe().loc[[\"mean\", \"std\"]]"
   ]
  }
 ],
 "metadata": {
  "kernelspec": {
   "display_name": "Python 3",
   "language": "python",
   "name": "python3"
  },
  "language_info": {
   "codemirror_mode": {
    "name": "ipython",
    "version": 3
   },
   "file_extension": ".py",
   "mimetype": "text/x-python",
   "name": "python",
   "nbconvert_exporter": "python",
   "pygments_lexer": "ipython3",
   "version": "3.7.3"
  }
 },
 "nbformat": 4,
 "nbformat_minor": 4
}
