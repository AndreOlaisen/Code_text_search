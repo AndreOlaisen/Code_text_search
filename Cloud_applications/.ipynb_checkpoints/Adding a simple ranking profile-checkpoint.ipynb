{
 "cells": [
  {
   "cell_type": "markdown",
   "metadata": {},
   "source": [
    "# Adding a ranking profile to Vespa \n",
    "\n",
    "### Adding fields\n",
    "Here we need to add the fields that are necissary for the ranking function. So here we add \"body_lengt\" becuse we want to evaluate the document based on the length. Not very smart, but it is just an illustration."
   ]
  },
  {
   "cell_type": "code",
   "execution_count": 2,
   "metadata": {},
   "outputs": [],
   "source": [
    "from vespa.package import Document, Field\n",
    "\n",
    "document = Document(\n",
    "    fields=[\n",
    "        Field(name = \"id\", type = \"string\", indexing = [\"attribute\", \"summary\"]),\n",
    "        Field(name = \"title\", type = \"string\", indexing = [\"index\", \"summary\"], index = \"enable-bm25\"),\n",
    "        Field(name = \"body\", type = \"string\", indexing = [\"index\", \"summary\"], index = \"enable-bm25\"),\n",
    "        Field(name = \"body_length\", type = \"int\", indexing = [\"attribute\", \"summary\"] )\n",
    "    ]\n",
    ")\n"
   ]
  },
  {
   "cell_type": "code",
   "execution_count": 3,
   "metadata": {},
   "outputs": [],
   "source": [
    "from vespa.package import Schema, FieldSet, RankProfile\n",
    "\n",
    "msmarco_schema = Schema(\n",
    "    name = \"msmarco\",\n",
    "    document = document,\n",
    "    fieldsets = [FieldSet(name = \"default\", fields = [\"title\", \"body\"])],\n",
    "    rank_profiles = [RankProfile(name = \"default\", first_phase = \"nativeRank(title, body)\")]\n",
    ")"
   ]
  },
  {
   "cell_type": "code",
   "execution_count": 4,
   "metadata": {},
   "outputs": [],
   "source": [
    "from vespa.package import ApplicationPackage\n",
    "\n",
    "app_package = ApplicationPackage(name = \"msmarco\", schema=msmarco_schema)\n"
   ]
  },
  {
   "cell_type": "code",
   "execution_count": 5,
   "metadata": {},
   "outputs": [],
   "source": [
    "from vespa.package import VespaCloud\n",
    "\n",
    "            #C:\\Users\\User\\OneDrive - NTNU\\NTNU\\Prosjekt oppgave NLP\n",
    "path_key = \"C:\\\\Users\\\\User\\\\OneDrive - NTNU\\\\NTNU\\\\Prosjekt oppgave NLP\\\\Cloud_test\\\\\"\n",
    "file = \"andre.olaisen.tmartins-ntnu.pem\"\n",
    "\n",
    "\n",
    "# App name in Cloud\n",
    "app_name = \"andre-test-loud\"\n",
    "vespa_cloud = VespaCloud(\n",
    "    tenant=\"tmartins-ntnu\",\n",
    "    application=app_name,\n",
    "    key_location=path_key + file,\n",
    "    application_package=app_package\n",
    ")"
   ]
  },
  {
   "cell_type": "code",
   "execution_count": 6,
   "metadata": {},
   "outputs": [
    {
     "name": "stdout",
     "output_type": "stream",
     "text": [
      "Deployment started in run 40 of dev-aws-us-east-1c for tmartins-ntnu.andre-test-loud.andre-olaisen. This may take about 15 minutes the first time.\n",
      "INFO    [07:52:50]  Deploying platform version 7.299.105 and application version unknown ...\n",
      "INFO    [07:52:51]  No services requiring restart.\n",
      "INFO    [07:52:51]  Deployment successful.\n",
      "INFO    [07:52:51]  Session 1689 for tenant 'tmartins-ntnu' prepared and activated.\n",
      "INFO    [07:52:52]  ######## Details for all nodes ########\n",
      "INFO    [07:52:52]  h800a.dev.aws-us-east-1c.vespa-external.aws.oath.cloud: expected to be UP\n",
      "INFO    [07:52:52]  --- platform docker.ouroath.com:4443/vespa/centos-tenant:7.299.105\n",
      "INFO    [07:52:52]  --- container-clustercontroller on port 19050 has config generation 1687, wanted is 1689\n",
      "INFO    [07:52:52]  --- storagenode on port 19102 has config generation 1687, wanted is 1689\n",
      "INFO    [07:52:52]  --- searchnode on port 19107 has config generation 1689, wanted is 1689\n",
      "INFO    [07:52:52]  --- distributor on port 19111 has config generation 1687, wanted is 1689\n",
      "INFO    [07:52:52]  h799a.dev.aws-us-east-1c.vespa-external.aws.oath.cloud: expected to be UP\n",
      "INFO    [07:52:52]  --- platform docker.ouroath.com:4443/vespa/centos-tenant:7.299.105\n",
      "INFO    [07:52:52]  --- logserver-container on port 4080 has config generation 1687, wanted is 1689\n",
      "INFO    [07:52:52]  h798a.dev.aws-us-east-1c.vespa-external.aws.oath.cloud: expected to be UP\n",
      "INFO    [07:52:52]  --- platform docker.ouroath.com:4443/vespa/centos-tenant:7.299.105\n",
      "INFO    [07:52:52]  --- container on port 4080 has config generation 1687, wanted is 1689\n",
      "INFO    [07:53:00]  Found endpoints:\n",
      "INFO    [07:53:00]  - dev.aws-us-east-1c\n",
      "INFO    [07:53:00]   |-- https://msmarco-container.andre-olaisen.andre-test-loud.tmartins-ntnu.aws-us-east-1c.dev.public.vespa.oath.cloud/ (cluster 'msmarco_container')\n",
      "INFO    [07:53:02]  Installation succeeded!\n"
     ]
    }
   ],
   "source": [
    "name = \"sample_application\"\n",
    "\n",
    "path_key = \"C:\\\\Users\\\\User\\\\OneDrive - NTNU\\\\NTNU\\\\Prosjekt oppgave NLP\\\\Cloud_test\\\\\"\n",
    "\n",
    "\n",
    "app = vespa_cloud.deploy(\n",
    "    instance='andre-olaisen',\n",
    "    disk_folder=path_key\n",
    ")\n"
   ]
  },
  {
   "cell_type": "code",
   "execution_count": 7,
   "metadata": {},
   "outputs": [
    {
     "data": {
      "text/plain": [
       "(99, 3)"
      ]
     },
     "execution_count": 7,
     "metadata": {},
     "output_type": "execute_result"
    }
   ],
   "source": [
    "from pandas import read_csv\n",
    "\n",
    "docs = read_csv(\"https://thigm85.github.io/data/msmarco/docs.tsv\", sep = \"\\t\")\n",
    "docs.shape\n",
    "\n",
    "doc = docs[1:100]\n",
    "doc.shape"
   ]
  },
  {
   "cell_type": "markdown",
   "metadata": {},
   "source": [
    "### Feeding data\n",
    "\n",
    "Here we feed the data to the vespa app. We need to include the length of the body at this point."
   ]
  },
  {
   "cell_type": "code",
   "execution_count": 8,
   "metadata": {},
   "outputs": [],
   "source": [
    "\n",
    "i = 1\n",
    "for idx, row in doc.iterrows():\n",
    "    i += 1\n",
    "    if (i > 100): # Do not need much data for this test\n",
    "        break \n",
    "    response = app.feed_data_point(\n",
    "        schema = \"msmarco\",\n",
    "        data_id = str(row[\"id\"]),\n",
    "        fields = {\n",
    "            \"id\": str(row[\"id\"]),\n",
    "            \"title\": str(row[\"title\"]),\n",
    "            \"body\": str(row[\"body\"]),\n",
    "            \"body_length\": len(row[\"body\"])\n",
    "        }\n",
    "    )"
   ]
  },
  {
   "cell_type": "code",
   "execution_count": 9,
   "metadata": {},
   "outputs": [],
   "source": [
    "from vespa.query import Query, OR, AND, WeakAnd, ANN, RankProfile as Ranking\n",
    "\n",
    "\n",
    "results = app.query(\n",
    "    query=\"Where is my app\",\n",
    "    query_model = Query(\n",
    "        match_phase=OR(),\n",
    "        rank_profile=Ranking(name=\"default\")\n",
    "    ),\n",
    "    hits = 10\n",
    ")"
   ]
  },
  {
   "cell_type": "code",
   "execution_count": 10,
   "metadata": {},
   "outputs": [
    {
     "name": "stdout",
     "output_type": "stream",
     "text": [
      "904\n",
      "996\n",
      "\n",
      "\n",
      "Results: or , deault\n",
      "My Thoughts on Standardized Work and  Lean\n",
      "0.1412692730883527\n",
      "14603\n",
      "Coffered Ceiling Layout\n",
      "0.11916579151483872\n",
      "26195\n",
      "Is the word autistic another word for retarded or mentally challenged \n",
      "0.11796103067641245\n",
      "4560\n",
      "What is the difference between science and philosophy \n",
      "0.11557961521393088\n",
      "35962\n",
      "Amazonaws virus\n",
      "0.1151814856231579\n",
      "92797\n",
      "Is war justified for any reasons \n",
      "0.10981591717687116\n",
      "6322\n",
      "Frequently Asked Questions\n",
      "0.10748563735615728\n",
      "7989\n",
      " Myth Busters  regular Erik Gates dead\n",
      "0.10402027021032244\n",
      "59022\n",
      "Where did the name Scotland come from \n",
      "0.10309842164117858\n",
      "2021\n",
      "The Best Time to Visit Paris\n",
      "0.1010418499838613\n",
      "28048\n"
     ]
    }
   ],
   "source": [
    "print(results.number_documents_retrieved)\n",
    "print(results.number_documents_indexed)\n",
    "\n",
    "print(\"\\n\")\n",
    "\n",
    "print(\"Results: or , deault\")\n",
    "for result in results.hits:\n",
    "    print(result['fields']['title'])\n",
    "    print(result[\"relevance\"])\n",
    "    print(result['fields']['body_length'])\n",
    "    "
   ]
  },
  {
   "cell_type": "markdown",
   "metadata": {},
   "source": [
    "### Adding Ranking profile\n",
    "Here we add the ranking profile. In this case we have to use attribute(body_length) or else vespa does not know what body_length is. Then we can use different arithmetic operations, like sqrt. This is found here:\n",
    "\n",
    "https://docs.vespa.ai/documentation/reference/ranking-expressions.html\n",
    "\n",
    "We can also use built in features found here\n",
    "\n",
    "https://docs.vespa.ai/documentation/reference/rank-features.html"
   ]
  },
  {
   "cell_type": "code",
   "execution_count": 19,
   "metadata": {},
   "outputs": [],
   "source": [
    "# Here we need to use attribute(body_length) or else vespa does not know what body_length is\n",
    "\n",
    "app_package.schema.add_rank_profile(\n",
    "    RankProfile(name = \"body_length\", inherits = \"default\", first_phase = \"sqrt(attribute(body_length))\"))"
   ]
  },
  {
   "cell_type": "code",
   "execution_count": 12,
   "metadata": {},
   "outputs": [],
   "source": [
    "app_package.schema.add_rank_profile(\n",
    "    RankProfile(name = \"nativerank_bm25_combo\", inherits = \"default\",\n",
    "                first_phase = \"10 * nativeRank(title,body) + bm25(body)\")\n",
    ")"
   ]
  },
  {
   "cell_type": "code",
   "execution_count": 20,
   "metadata": {},
   "outputs": [
    {
     "name": "stdout",
     "output_type": "stream",
     "text": [
      "Deployment started in run 43 of dev-aws-us-east-1c for tmartins-ntnu.andre-test-loud.andre-olaisen. This may take about 15 minutes the first time.\n",
      "INFO    [07:57:01]  Deploying platform version 7.299.105 and application version unknown ...\n",
      "INFO    [07:57:03]  No services requiring restart.\n",
      "INFO    [07:57:03]  Deployment successful.\n",
      "INFO    [07:57:03]  Session 1693 for tenant 'tmartins-ntnu' prepared and activated.\n",
      "INFO    [07:57:03]  ######## Details for all nodes ########\n",
      "INFO    [07:57:03]  h800a.dev.aws-us-east-1c.vespa-external.aws.oath.cloud: expected to be UP\n",
      "INFO    [07:57:03]  --- platform docker.ouroath.com:4443/vespa/centos-tenant:7.299.105\n",
      "INFO    [07:57:03]  --- container-clustercontroller on port 19050 has config generation 1693, wanted is 1693\n",
      "INFO    [07:57:03]  --- storagenode on port 19102 has config generation 1692, wanted is 1693\n",
      "INFO    [07:57:03]  --- searchnode on port 19107 has config generation 1693, wanted is 1693\n",
      "INFO    [07:57:03]  --- distributor on port 19111 has config generation 1692, wanted is 1693\n",
      "INFO    [07:57:03]  h799a.dev.aws-us-east-1c.vespa-external.aws.oath.cloud: expected to be UP\n",
      "INFO    [07:57:03]  --- platform docker.ouroath.com:4443/vespa/centos-tenant:7.299.105\n",
      "INFO    [07:57:03]  --- logserver-container on port 4080 has config generation 1693, wanted is 1693\n",
      "INFO    [07:57:03]  h798a.dev.aws-us-east-1c.vespa-external.aws.oath.cloud: expected to be UP\n",
      "INFO    [07:57:03]  --- platform docker.ouroath.com:4443/vespa/centos-tenant:7.299.105\n",
      "INFO    [07:57:03]  --- container on port 4080 has config generation 1693, wanted is 1693\n",
      "INFO    [07:57:30]  Found endpoints:\n",
      "INFO    [07:57:30]  - dev.aws-us-east-1c\n",
      "INFO    [07:57:30]   |-- https://msmarco-container.andre-olaisen.andre-test-loud.tmartins-ntnu.aws-us-east-1c.dev.public.vespa.oath.cloud/ (cluster 'msmarco_container')\n",
      "INFO    [07:57:32]  Installation succeeded!\n"
     ]
    }
   ],
   "source": [
    "path_key = \"C:\\\\Users\\\\User\\\\OneDrive - NTNU\\\\NTNU\\\\Prosjekt oppgave NLP\\\\Cloud_test\\\\\"\n",
    "\n",
    "app = vespa_cloud.deploy(\n",
    "    instance='andre-olaisen',\n",
    "    disk_folder=path_key\n",
    ")"
   ]
  },
  {
   "cell_type": "markdown",
   "metadata": {},
   "source": [
    "### Rank_profile in action \n",
    "Here we can see the ranking in action. "
   ]
  },
  {
   "cell_type": "code",
   "execution_count": 25,
   "metadata": {},
   "outputs": [
    {
     "name": "stdout",
     "output_type": "stream",
     "text": [
      "\n",
      "\n",
      "Results: OR , Body_length\n",
      "Ranking: 1\n",
      "Title: \t Theses and Dissertations Available from Pro Quest\n",
      "Relevance: \t 657.7659158089601\n",
      "Sqrt(body_length): \t 657.7659158089601 \n",
      "\n",
      "Ranking: 2\n",
      "Title: \t FAQs\n",
      "Relevance: \t 481.64821187252426\n",
      "Sqrt(body_length): \t 481.64821187252426 \n",
      "\n",
      "Ranking: 3\n",
      "Title: \t RAMBLER automobile Kenosha Wisconsin USA Part I\n",
      "Relevance: \t 343.3642380912724\n",
      "Sqrt(body_length): \t 343.3642380912724 \n",
      "\n",
      "Ranking: 4\n",
      "Title: \t Amazonaws virus\n",
      "Relevance: \t 304.62600020352824\n",
      "Sqrt(body_length): \t 304.62600020352824 \n",
      "\n",
      "Ranking: 5\n",
      "Title: \t Donald Trump presidential campaign  2020\n",
      "Relevance: \t 293.1603656703955\n",
      "Sqrt(body_length): \t 293.1603656703955 \n",
      "\n",
      "Ranking: 6\n",
      "Title: \t Warfarin\n",
      "Relevance: \t 275.7879620288021\n",
      "Sqrt(body_length): \t 275.7879620288021 \n",
      "\n",
      "Ranking: 7\n",
      "Title: \t Gene Wilder  star of  Willy Wonka   dead at 83\n",
      "Relevance: \t 268.43621216221925\n",
      "Sqrt(body_length): \t 268.43621216221925 \n",
      "\n",
      "Ranking: 8\n",
      "Title: \t Slavery  Manifest Destiny  Pre Civil War  Civil War  Reconstruction\n",
      "Relevance: \t 255.45253962331242\n",
      "Sqrt(body_length): \t 255.45253962331242 \n",
      "\n",
      "Ranking: 9\n",
      "Title: \t Tom Perez\n",
      "Relevance: \t 253.6887857198264\n",
      "Sqrt(body_length): \t 253.6887857198264 \n",
      "\n",
      "Ranking: 10\n",
      "Title: \t Glaucoma\n",
      "Relevance: \t 253.6611913557137\n",
      "Sqrt(body_length): \t 253.6611913557137 \n",
      "\n"
     ]
    }
   ],
   "source": [
    "query_text = \"What is an apple?\"\n",
    "\n",
    "results_or_body_length = app.query(\n",
    "    query=query_text,\n",
    "    query_model = Query(\n",
    "        match_phase=OR(),\n",
    "        rank_profile=Ranking(name=\"body_length\")\n",
    "    ),\n",
    "    hits = 10\n",
    ")\n",
    "\n",
    "print(\"\\n\")\n",
    "print(\"Results: OR , Body_length\")\n",
    "rank = 1\n",
    "for result in results_or_body_length.hits:\n",
    "    print(\"Ranking:\", rank)\n",
    "    print(\"Title: \\t\", result['fields']['title'])\n",
    "    print(\"Relevance: \\t\", result[\"relevance\"])\n",
    "    print(\"Sqrt(body_length): \\t\", (result[\"fields\"][\"body_length\"])**(1/2), \"\\n\")\n",
    "    rank += 1"
   ]
  }
 ],
 "metadata": {
  "kernelspec": {
   "display_name": "Python 3",
   "language": "python",
   "name": "python3"
  },
  "language_info": {
   "codemirror_mode": {
    "name": "ipython",
    "version": 3
   },
   "file_extension": ".py",
   "mimetype": "text/x-python",
   "name": "python",
   "nbconvert_exporter": "python",
   "pygments_lexer": "ipython3",
   "version": "3.7.3"
  }
 },
 "nbformat": 4,
 "nbformat_minor": 4
}
