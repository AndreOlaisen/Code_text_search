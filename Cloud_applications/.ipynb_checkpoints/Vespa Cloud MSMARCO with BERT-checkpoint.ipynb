{
 "cells": [
  {
   "cell_type": "code",
   "execution_count": 1,
   "metadata": {},
   "outputs": [],
   "source": [
    "import matplotlib.pyplot as plt\n",
    "import numpy as np\n",
    "from random import random\n",
    "import time\n",
    "import multiprocessing\n",
    "from joblib import Parallel, delayed\n",
    "from tqdm import tqdm"
   ]
  },
  {
   "cell_type": "code",
   "execution_count": 2,
   "metadata": {},
   "outputs": [],
   "source": [
    "from vespa.package import Document, Field\n",
    "\n",
    "document = Document(\n",
    "    fields=[\n",
    "        Field(name = \"id\", type = \"string\", indexing = [\"attribute\", \"summary\"]),\n",
    "        Field(name = \"title\", type = \"string\", indexing = [\"index\", \"summary\"], index = \"enable-bm25\"),\n",
    "        Field(name = \"body\", type = \"string\", indexing = [\"index\", \"summary\"], index = \"enable-bm25\"),\n",
    "        Field(name = \"title_embedding\", type = \"tensor<float>(x[768])\", indexing = [\"attribute\", \"summary\"]),\n",
    "        Field(name = \"body_embedding\", type = \"tensor<float>(x[768])\", indexing = [\"attribute\", \"summary\"])\n",
    "    ]\n",
    ")"
   ]
  },
  {
   "cell_type": "code",
   "execution_count": 3,
   "metadata": {},
   "outputs": [
    {
     "data": {
      "text/plain": [
       "Document([Field('id', 'string', ['attribute', 'summary'], None), Field('title', 'string', ['index', 'summary'], 'enable-bm25'), Field('body', 'string', ['index', 'summary'], 'enable-bm25'), Field('title_embedding', 'tensor<float>(x[768])', ['attribute', 'summary'], None), Field('body_embedding', 'tensor<float>(x[768])', ['attribute', 'summary'], None)])"
      ]
     },
     "execution_count": 3,
     "metadata": {},
     "output_type": "execute_result"
    }
   ],
   "source": [
    "document"
   ]
  },
  {
   "cell_type": "code",
   "execution_count": 4,
   "metadata": {},
   "outputs": [],
   "source": [
    "from vespa.package import Schema, FieldSet, RankProfile\n",
    "\n",
    "msmarco_schema = Schema(\n",
    "    name = \"msmarco\",\n",
    "    document = document,\n",
    "    fieldsets = [FieldSet(name = \"default\", fields = [\"title\", \"body\"])],\n",
    "    rank_profiles = [RankProfile(name = \"default\", first_phase = \"nativeRank(title, body)\"),\n",
    "                    RankProfile(name = \"bm25\", first_phase = \"bm25(title) + bm25(body)\")]\n",
    ")"
   ]
  },
  {
   "cell_type": "code",
   "execution_count": 5,
   "metadata": {},
   "outputs": [],
   "source": [
    "from vespa.package import ApplicationPackage\n",
    "\n",
    "app_package = ApplicationPackage(name = \"msmarco\", schema=msmarco_schema)\n",
    "\n"
   ]
  },
  {
   "cell_type": "code",
   "execution_count": 6,
   "metadata": {},
   "outputs": [],
   "source": [
    "from vespa.package import VespaCloud\n",
    "\n",
    "path_key = \"C:\\\\Users\\\\User\\\\OneDrive - NTNU\\\\NTNU\\\\Prosjekt oppgave NLP\\\\Cloud_test\\\\\"\n",
    "file = \"andre.olaisen.tmartins-ntnu.pem\"\n",
    "\n",
    "\n",
    "# App name in Cloud\n",
    "app_name = \"andre-test-loud\"\n",
    "\n",
    "vespa_cloud = VespaCloud(\n",
    "    tenant=\"tmartins-ntnu\",\n",
    "    application=app_name,\n",
    "    key_location=path_key + file,\n",
    "    application_package=app_package\n",
    ")"
   ]
  },
  {
   "cell_type": "code",
   "execution_count": 7,
   "metadata": {},
   "outputs": [
    {
     "name": "stdout",
     "output_type": "stream",
     "text": [
      "C:\\Users\\User\\OneDrive - NTNU\\NTNU\\Prosjekt oppgave NLP\\Cloud_test\\sample_application_MSMARCO\n"
     ]
    }
   ],
   "source": [
    "name = \"sample_application_MSMARCO\"\n",
    "path = path_key + name\n",
    "print(path)"
   ]
  },
  {
   "cell_type": "code",
   "execution_count": 8,
   "metadata": {},
   "outputs": [
    {
     "name": "stdout",
     "output_type": "stream",
     "text": [
      "Deployment started in run 63 of dev-aws-us-east-1c for tmartins-ntnu.andre-test-loud.andre-olaisen. This may take about 15 minutes the first time.\n",
      "INFO    [11:59:05]  Deploying platform version 7.319.17 and application version unknown ...\n",
      "INFO    [11:59:07]  Deployment successful.\n",
      "INFO    [11:59:07]  Session 5372 for tenant 'tmartins-ntnu' prepared and activated.\n",
      "INFO    [11:59:07]  ######## Details for all nodes ########\n",
      "INFO    [11:59:07]  h5250a.dev.aws-us-east-1c.vespa-external.aws.oath.cloud: expected to be UP\n",
      "INFO    [11:59:07]  --- platform vespa/centos-tenant:7.319.17\n",
      "INFO    [11:59:07]  --- container on port 4080 has config generation 5371, wanted is 5372\n",
      "INFO    [11:59:07]  h5251b.dev.aws-us-east-1c.vespa-external.aws.oath.cloud: expected to be UP\n",
      "INFO    [11:59:07]  --- platform vespa/centos-tenant:7.319.17\n",
      "INFO    [11:59:07]  --- storagenode on port 19102 has config generation 5372, wanted is 5372\n",
      "INFO    [11:59:07]  --- searchnode on port 19107 has config generation 5372, wanted is 5372\n",
      "INFO    [11:59:07]  --- distributor on port 19111 has config generation 5371, wanted is 5372\n",
      "INFO    [11:59:07]  --- container-clustercontroller on port 19050 has config generation 5371, wanted is 5372\n",
      "INFO    [11:59:07]  h5251c.dev.aws-us-east-1c.vespa-external.aws.oath.cloud: expected to be UP\n",
      "INFO    [11:59:07]  --- platform vespa/centos-tenant:7.319.17\n",
      "INFO    [11:59:07]  --- logserver-container on port 4080 has config generation 5371, wanted is 5372\n",
      "INFO    [11:59:30]  Found endpoints:\n",
      "INFO    [11:59:30]  - dev.aws-us-east-1c\n",
      "INFO    [11:59:30]   |-- https://msmarco-container.andre-olaisen.andre-test-loud.tmartins-ntnu.aws-us-east-1c.dev.public.vespa.oath.cloud/ (cluster 'msmarco_container')\n",
      "INFO    [11:59:31]  Installation succeeded!\n"
     ]
    }
   ],
   "source": [
    "name = \"sample_application_MSMARCO\"\n",
    "\n",
    "path_key = \"C:\\\\Users\\\\User\\\\OneDrive - NTNU\\\\NTNU\\\\Prosjekt oppgave NLP\\\\Cloud_test\\\\\"\n",
    "\n",
    "\n",
    "app = vespa_cloud.deploy(\n",
    "    instance='andre-olaisen',\n",
    "    disk_folder=path_key + name\n",
    ")\n",
    "\n"
   ]
  },
  {
   "cell_type": "code",
   "execution_count": 9,
   "metadata": {},
   "outputs": [
    {
     "data": {
      "text/plain": [
       "(996, 3)"
      ]
     },
     "execution_count": 9,
     "metadata": {},
     "output_type": "execute_result"
    }
   ],
   "source": [
    "from pandas import read_csv\n",
    "\n",
    "docs = read_csv(\"https://thigm85.github.io/data/msmarco/docs.tsv\", sep = \"\\t\")\n",
    "docs.shape"
   ]
  },
  {
   "cell_type": "code",
   "execution_count": 10,
   "metadata": {},
   "outputs": [
    {
     "name": "stderr",
     "output_type": "stream",
     "text": [
      "C:\\Users\\User\\AppData\\Local\\Continuum\\anaconda3\\lib\\site-packages\\tensorflow\\python\\framework\\dtypes.py:526: FutureWarning: Passing (type, 1) or '1type' as a synonym of type is deprecated; in a future version of numpy, it will be understood as (type, (1,)) / '(1,)type'.\n",
      "  _np_qint8 = np.dtype([(\"qint8\", np.int8, 1)])\n",
      "C:\\Users\\User\\AppData\\Local\\Continuum\\anaconda3\\lib\\site-packages\\tensorflow\\python\\framework\\dtypes.py:527: FutureWarning: Passing (type, 1) or '1type' as a synonym of type is deprecated; in a future version of numpy, it will be understood as (type, (1,)) / '(1,)type'.\n",
      "  _np_quint8 = np.dtype([(\"quint8\", np.uint8, 1)])\n",
      "C:\\Users\\User\\AppData\\Local\\Continuum\\anaconda3\\lib\\site-packages\\tensorflow\\python\\framework\\dtypes.py:528: FutureWarning: Passing (type, 1) or '1type' as a synonym of type is deprecated; in a future version of numpy, it will be understood as (type, (1,)) / '(1,)type'.\n",
      "  _np_qint16 = np.dtype([(\"qint16\", np.int16, 1)])\n",
      "C:\\Users\\User\\AppData\\Local\\Continuum\\anaconda3\\lib\\site-packages\\tensorflow\\python\\framework\\dtypes.py:529: FutureWarning: Passing (type, 1) or '1type' as a synonym of type is deprecated; in a future version of numpy, it will be understood as (type, (1,)) / '(1,)type'.\n",
      "  _np_quint16 = np.dtype([(\"quint16\", np.uint16, 1)])\n",
      "C:\\Users\\User\\AppData\\Local\\Continuum\\anaconda3\\lib\\site-packages\\tensorflow\\python\\framework\\dtypes.py:530: FutureWarning: Passing (type, 1) or '1type' as a synonym of type is deprecated; in a future version of numpy, it will be understood as (type, (1,)) / '(1,)type'.\n",
      "  _np_qint32 = np.dtype([(\"qint32\", np.int32, 1)])\n",
      "C:\\Users\\User\\AppData\\Local\\Continuum\\anaconda3\\lib\\site-packages\\tensorflow\\python\\framework\\dtypes.py:535: FutureWarning: Passing (type, 1) or '1type' as a synonym of type is deprecated; in a future version of numpy, it will be understood as (type, (1,)) / '(1,)type'.\n",
      "  np_resource = np.dtype([(\"resource\", np.ubyte, 1)])\n",
      "C:\\Users\\User\\AppData\\Local\\Continuum\\anaconda3\\lib\\site-packages\\tensorboard\\compat\\tensorflow_stub\\dtypes.py:541: FutureWarning: Passing (type, 1) or '1type' as a synonym of type is deprecated; in a future version of numpy, it will be understood as (type, (1,)) / '(1,)type'.\n",
      "  _np_qint8 = np.dtype([(\"qint8\", np.int8, 1)])\n",
      "C:\\Users\\User\\AppData\\Local\\Continuum\\anaconda3\\lib\\site-packages\\tensorboard\\compat\\tensorflow_stub\\dtypes.py:542: FutureWarning: Passing (type, 1) or '1type' as a synonym of type is deprecated; in a future version of numpy, it will be understood as (type, (1,)) / '(1,)type'.\n",
      "  _np_quint8 = np.dtype([(\"quint8\", np.uint8, 1)])\n",
      "C:\\Users\\User\\AppData\\Local\\Continuum\\anaconda3\\lib\\site-packages\\tensorboard\\compat\\tensorflow_stub\\dtypes.py:543: FutureWarning: Passing (type, 1) or '1type' as a synonym of type is deprecated; in a future version of numpy, it will be understood as (type, (1,)) / '(1,)type'.\n",
      "  _np_qint16 = np.dtype([(\"qint16\", np.int16, 1)])\n",
      "C:\\Users\\User\\AppData\\Local\\Continuum\\anaconda3\\lib\\site-packages\\tensorboard\\compat\\tensorflow_stub\\dtypes.py:544: FutureWarning: Passing (type, 1) or '1type' as a synonym of type is deprecated; in a future version of numpy, it will be understood as (type, (1,)) / '(1,)type'.\n",
      "  _np_quint16 = np.dtype([(\"quint16\", np.uint16, 1)])\n",
      "C:\\Users\\User\\AppData\\Local\\Continuum\\anaconda3\\lib\\site-packages\\tensorboard\\compat\\tensorflow_stub\\dtypes.py:545: FutureWarning: Passing (type, 1) or '1type' as a synonym of type is deprecated; in a future version of numpy, it will be understood as (type, (1,)) / '(1,)type'.\n",
      "  _np_qint32 = np.dtype([(\"qint32\", np.int32, 1)])\n",
      "C:\\Users\\User\\AppData\\Local\\Continuum\\anaconda3\\lib\\site-packages\\tensorboard\\compat\\tensorflow_stub\\dtypes.py:550: FutureWarning: Passing (type, 1) or '1type' as a synonym of type is deprecated; in a future version of numpy, it will be understood as (type, (1,)) / '(1,)type'.\n",
      "  np_resource = np.dtype([(\"resource\", np.ubyte, 1)])\n"
     ]
    }
   ],
   "source": [
    "# Importing sentence encoding models \n",
    "# link https://github.com/UKPLab/sentence-transformers#getting-started\n",
    "from sentence_transformers import SentenceTransformer\n",
    "model = SentenceTransformer('distilbert-base-nli-mean-tokens')"
   ]
  },
  {
   "cell_type": "code",
   "execution_count": 11,
   "metadata": {},
   "outputs": [
    {
     "data": {
      "text/html": [
       "<div>\n",
       "<style scoped>\n",
       "    .dataframe tbody tr th:only-of-type {\n",
       "        vertical-align: middle;\n",
       "    }\n",
       "\n",
       "    .dataframe tbody tr th {\n",
       "        vertical-align: top;\n",
       "    }\n",
       "\n",
       "    .dataframe thead th {\n",
       "        text-align: right;\n",
       "    }\n",
       "</style>\n",
       "<table border=\"1\" class=\"dataframe\">\n",
       "  <thead>\n",
       "    <tr style=\"text-align: right;\">\n",
       "      <th></th>\n",
       "      <th>id</th>\n",
       "      <th>title</th>\n",
       "      <th>body</th>\n",
       "    </tr>\n",
       "  </thead>\n",
       "  <tbody>\n",
       "    <tr>\n",
       "      <th>0</th>\n",
       "      <td>D2185715</td>\n",
       "      <td>What Is an Appropriate Gift for a Bris</td>\n",
       "      <td>Hub Pages   Religion and Philosophy   Judaism...</td>\n",
       "    </tr>\n",
       "    <tr>\n",
       "      <th>1</th>\n",
       "      <td>D2819479</td>\n",
       "      <td>lunge</td>\n",
       "      <td>1lungenoun   ˈlənj  Popularity  Bottom 40  of...</td>\n",
       "    </tr>\n",
       "  </tbody>\n",
       "</table>\n",
       "</div>"
      ],
      "text/plain": [
       "         id                                    title  \\\n",
       "0  D2185715  What Is an Appropriate Gift for a Bris    \n",
       "1  D2819479                                    lunge   \n",
       "\n",
       "                                                body  \n",
       "0   Hub Pages   Religion and Philosophy   Judaism...  \n",
       "1   1lungenoun   ˈlənj  Popularity  Bottom 40  of...  "
      ]
     },
     "execution_count": 11,
     "metadata": {},
     "output_type": "execute_result"
    }
   ],
   "source": [
    "docs.head(2)"
   ]
  },
  {
   "cell_type": "code",
   "execution_count": 12,
   "metadata": {},
   "outputs": [
    {
     "data": {
      "text/plain": [
       "4937"
      ]
     },
     "execution_count": 12,
     "metadata": {},
     "output_type": "execute_result"
    }
   ],
   "source": [
    "len(docs[\"body\"][1])"
   ]
  },
  {
   "cell_type": "code",
   "execution_count": 14,
   "metadata": {},
   "outputs": [],
   "source": [
    "def feed_datapoint(row,i):\n",
    "    embedding_title = np.zeros(768)\n",
    "    embedding_body = np.zeros(768)\n",
    "    \n",
    "    if type(row[\"title\"]) != float:\n",
    "        embedding_title =  model.encode(row[\"title\"].lower()).tolist()\n",
    "    else:\n",
    "        embedding_title = [0 for _ in range(768)]\n",
    "    \n",
    "    if type(row[\"body\"]) != float:\n",
    "        embedding_body =  model.encode(row[\"body\"].lower()).tolist()\n",
    "    else:\n",
    "        embedding_body = [0 for _ in range(768)]\n",
    "    #print(len(row[\"title\"]), end = \"  \")\n",
    "    print(len(embedding_title), len(embedding_body))\n",
    "    response = app.feed_data_point(\n",
    "        schema = \"msmarco\",\n",
    "        data_id = str(row[\"id\"]),\n",
    "        fields = {\n",
    "            \"id\": str(row[\"id\"]),\n",
    "            \"title\": str(row[\"title\"]),\n",
    "            \"body\": str(row[\"body\"]),\n",
    "            \"title_embedding\": {\"x\": embedding_title},\n",
    "            \"body_embedding\": {\"x\": embedding_body}\n",
    "        }\n",
    "    )\n",
    "    return(i)"
   ]
  },
  {
   "cell_type": "code",
   "execution_count": 15,
   "metadata": {},
   "outputs": [
    {
     "name": "stdout",
     "output_type": "stream",
     "text": [
      "0\n",
      "Time: 0.0\n",
      "=768 768\n",
      "768 768\n",
      "768 768\n",
      "768 768\n",
      "768 768\n",
      "768 768\n",
      "768 768\n",
      "768 768\n",
      "768 768\n",
      "768 768\n",
      "=768 768\n",
      "768 768\n",
      "768 768\n",
      "768 768\n",
      "768 768\n",
      "768 768\n",
      "768 768\n",
      "768 768\n",
      "768 768\n",
      "768 768\n",
      "=768 768\n",
      "768 768\n",
      "768 768\n",
      "768 768\n",
      "768 768\n",
      "768 768\n",
      "768 768\n",
      "768 768\n",
      "768 768\n",
      "768 768\n",
      "=768 768\n",
      "768 768\n",
      "768 768\n",
      "768 768\n",
      "768 768\n",
      "768 768\n",
      "768 768\n",
      "768 768\n",
      "768 768\n",
      "768 768\n",
      "=768 768\n",
      "768 768\n",
      "768 768\n",
      "768 768\n",
      "768 768\n",
      "768 768\n",
      "768 768\n",
      "768 768\n",
      "768 768\n",
      "768 768\n",
      "=768 768\n",
      "768 768\n",
      "768 768\n",
      "768 768\n",
      "768 768\n",
      "768 768\n",
      "768 768\n",
      "768 768\n",
      "768 768\n",
      "768 768\n",
      "=768 768\n",
      "768 768\n",
      "768 768\n",
      "768 768\n",
      "768 768\n",
      "768 768\n",
      "768 768\n",
      "768 768\n",
      "768 768\n",
      "768 768\n",
      "=768 768\n",
      "768 768\n",
      "768 768\n",
      "768 768\n",
      "768 768\n",
      "768 768\n",
      "768 768\n",
      "768 768\n",
      "768 768\n",
      "768 768\n",
      "=768 768\n",
      "768 768\n",
      "768 768\n",
      "768 768\n",
      "768 768\n",
      "768 768\n",
      "768 768\n",
      "768 768\n",
      "768 768\n",
      "768 768\n",
      "=768 768\n",
      "768 768\n",
      "768 768\n",
      "768 768\n",
      "768 768\n",
      "768 768\n",
      "768 768\n",
      "768 768\n",
      "768 768\n",
      "768 768\n",
      "100\n",
      "Time: 93.3\n",
      "=768 768\n",
      "Total_time: 95.04311347007751\n"
     ]
    }
   ],
   "source": [
    "\n",
    "start = time.time()\n",
    "m = start\n",
    "i = 0\n",
    "for idx, row in docs.iterrows():\n",
    "    if (i >100):\n",
    "        break\n",
    "    if (i % 100 == 0):\n",
    "        print(i)\n",
    "        print(\"Time:\", round(time.time() - m,1))\n",
    "        m = time.time()\n",
    "    if (i % 10 == 0):\n",
    "        print(\"=\",end=\"\")\n",
    "    i += 1\n",
    "    \n",
    "    feed_datapoint(row,idx)\n",
    "    \n",
    "        \n",
    "    \n",
    "print(\"Total_time:\", time.time()- start)"
   ]
  },
  {
   "cell_type": "markdown",
   "metadata": {},
   "source": [
    "## Feeding data parallel "
   ]
  },
  {
   "cell_type": "code",
   "execution_count": null,
   "metadata": {},
   "outputs": [],
   "source": [
    "# Does not work\n",
    "\"\"\"\n",
    "s = time.time()\n",
    "a = Parallel(n_jobs=-1)(delayed(feed_datapoint)(row, idx) for row, idx in docs.iterrows())\n",
    "time.time() - s\n",
    "\"\"\""
   ]
  },
  {
   "cell_type": "code",
   "execution_count": 16,
   "metadata": {},
   "outputs": [],
   "source": [
    "from vespa.query import Query, OR, AND, WeakAnd, ANN, RankProfile as Ranking\n",
    "\n",
    "\n",
    "results = app.query(\n",
    "    query=\"Are the any documents here\",\n",
    "    query_model = Query(\n",
    "        match_phase=OR(),\n",
    "        rank_profile=Ranking(name=\"bm25\")\n",
    "    ),\n",
    "    hits = 10\n",
    ")"
   ]
  },
  {
   "cell_type": "code",
   "execution_count": null,
   "metadata": {},
   "outputs": [],
   "source": []
  },
  {
   "cell_type": "code",
   "execution_count": 17,
   "metadata": {},
   "outputs": [
    {
     "name": "stdout",
     "output_type": "stream",
     "text": [
      "10\n",
      "D2742696    {'sddocname': 'msmarco', 'documentid': 'id:msmarco:msmarco::D2742696', 'id': 'D2742696', 'title': 'Building Rectangular Prisms Part 1', 'body': ' Like It  1026 likes This is the first part of a two part volume lesson  In this lesson  students will build foundational concepts for volume and and count cubes to find volume  In the second part lesson Building Rectangular Prisms Part 2  attached   students will discover the volume formulas length x width x height and base x height as they build rectangular prisms  They will use the formulas to find volume in real world situations  Subject  s   Mathematics Grade Level  s   5Intended Audience  Educators Suggested Technology  Document Camera  Computers for Students  Internet Connection  LCD Projector Instructional Time  1 Hour  s Resource supports reading in content area  Yes Freely Available  Yes Keywords  volume  cubic units  rectangular prisms Instructional Component Type  s   Lesson Plan  Virtual Manipulative   Formative Assessment Resource Collection  CPALMS Lesson Plan Development Initiative ATTACHMENTSPrism_Chart docx Prism_Chart_Example docx Cube_Examples docx LESSON CONTENTLesson Plan Template General Lesson Plan Learning Objectives  What should students know and be able to do as a result of this lesson By the end of this lesson  students should be able to describe that volume is a measurement of the amount of space inside a 3 dimensional figure  They should know that volume of a rectangular prism can be measured by finding the cubic units that would fit inside it  Students should be able to find the volume of a rectangular prism by counting the unit cubes  They will also be able to describe a rectangular prism as having length  width  and height and label these dimensions  This will build the foundation for later lessons in which they will use the formulas V   l x w x h and V   b x h  They will discuss the length  width  and height of a rectangular prism  so they will be able to use those dimensions to explain how the formula works  Prior Knowledge  What prior knowledge should students have for this lesson   Students should be able to recognize a rectangular prism and cube and be able to describe their attributes   Students should understand that area is a measurement of the number of square units that can cover a surface  Knowing area  they will understand the dimensions length and width   Students should know units of measurement such as centimeter  inch  and foot  Guiding Questions  What are the guiding questions for this lesson   What is area a measurement of   How can you find the area of a rectangle   review from previous grade level   What is volume a measurement of   What is a cubic unit   How can you find the volume of a rectangular prism or cube   How are area and volume related   What does area measure   What does volume measure   What are examples in real life of objects with area  with volume   What is a square unit  How does it differ from a cubic unit Teaching Phase  How will the teacher present the concept or skill to students   The teacher will show students the centimeter grid paper and discuss the dimensions of each square  Remind students of using a square unit to measure the area of a 2 dimensional  plane or flat  figure  Each side of the square centimeter has a length of 1 centimeter   The teacher will tell students that squares and rectangles are called 2 dimensional figures because they have 2 dimensions  length and width   The teacher will ask students   How do we find the area of a rectangle     Count the squares or Multiply length x width    The teacher will show students a centimeter popcube  or base ten unit  and ask them what is different between it and the centimeter square   It is 3 dimensional  It s not flat  It s a solid figure    The teacher will tell students that it is a 3 dimensional figure  It still has length and width but adds the dimension of height   Ask students   What does height measure   How tall something is    The teacher will draw a large cube or rectangular prism on the board or chart paper and label the length  width  and height   The teacher can review why a cube is a special type of rectangular prism which has 6 congruent faces  This is similar to the concept of the square being a special type of rectangle which has 4 equal sides   Ask students   How did we label our answer when we found the area of a rectangle or square   square units  such as square inches or centimeters    The teacher will tell students that we will begin working with volume today  Volume is the amount of same size cubes like the centimeter cube that will fill the space inside a rectangular prism or cube   The centimeter cube has faces that all have sides with a length of 1 centimeter  It has a length of 1 centimeter  a width of 1 centimeter  and a height of 1 centimeter  It can be used to find the volume in centimeters   The teacher will tell students that since it has these 3 dimensions  volume is labeled with cubic centimeters  or any other cubic unit    We can count the number of cubes to find the volume of a rectangular prism or cube   The teacher will model putting together standard popcubes  2 centimeters  or centimeter popcubes by first creating the first layer of a rectangular prism  For example  put together 6 cubes in a 3 by 2 layer   Ask students   How many cubes are there     6   The teacher will build a second layer of 6 cubes on top of the first layer  Ask students   How many cubes are there now     12   The teacher will build a third layer of 6 cubes on top of the first two layers  Ask students   How many cubes are in this rectangular prism   18   What is the volume   The volume is 18 cubic units or cubic centimeters  if using centimeter popcubes    Explain to students that they will have an opportunity to create a rectangular prism  or cube  with the popcubes and count the cubes to find the volume  Guided Practice  What activities or exercises will the students complete with teacher guidance   The teacher will distribute 20 popcubes to each student  Each student will create a rectangular prism or cube with all or some of the cubes   Have each student write the volume of their figure on an individual dry erase board or paper  Remind them to use cubic units   Have learning buddies or shoulder partners check each others answers  while the teacher circulates the room to also check for accuracy   At this time the teacher can make notes about who is struggling with counting the cubes  losing count or not counting all the cubes  and give corrective feedback  The teacher can also record any observations or strategies students use to ask them to share with the class   Bring students back together and ask students that found another way to find the volume besides counting every cube to share their strategies   For example    My volume was 15 cubic units  I added 5   5   5 to get 15    or   My volume was 8 cubic units  I made a layer of 2 on top of another layer of 2  so I had 2   2 or 2 x 2   4  I then stuck that with another layer of 4  so I did 4   4 or 4 x 2   8    The teacher will show students their model of the 18 cubes again and compare it to the visual drawn on the board or chart paper with the length  width  and height labeled   Take the layers of 6 apart so you can discuss the length  width  and height as you build each layer   The teacher will show the students one layer and turn it so it is a rectangle of 6 facing them   Ask   What is the length of this layer   3 units   Ask   What is the width of this layer  or rectangle    2 units   The Commutative Property can be used here if it has not been taught that the length is the longer side  So  students can say 2 units as the length and 3 units as the width   This layer is like area in which we have a length and a width but since these are 3 dimensional figures they also have a height   Ask students   What is the height of this layer     1 unit    Place the second layer on top and ask the same 3 questions about the length  width  and height   This time the height is 2 units but the length and width are the same    Place the third  last  layer back on the rectangular prism and ask the same 3 questions   This time the height is 3 units  The length is still 3 units and the width is still 2 units    Have students turn and talk to their shoulder partner learning buddy about the length  width  and height of their rectangular prisms   The teacher will listen to the students for accuracy and observe if any students are discussing multiplication  These students are ready for the next lesson which will use the formulas to find volume   Before sending students to work on Independent Practice  have a few students model their rectangular prism and talk about its length  width  height and volume  Independent Practice  What activities or exercises will students complete to reinforce the concepts and skills developed in the lesson   Give students access to more popcubes and several sticky notes   The teacher will explain to students that they will need to work with 12 popcubes at a time  This number can be adjusted higher or lower to accommodate student abilities and or the number of popcubes that are available   Tell students that again they will be creating rectangular prisms but each prism has to have the same volume of 12  or whatever number you choose  cubic units   Their job is to find as many different prisms with a volume of 12 cubic units as they can   On the sticky notes  they will attach the labels for length  width  and height   See Cube Examples for a model of 2 examples with 12 popcubes  Closure  How will the teacher assist students in organizing the knowledge gained in the lesson   The teacher will have students check that all their rectangular prisms have the same number of popcubes  thus having the same volume   Have students help create the Prism Chart as a class and or do it independently to organize their data  See the Prism Chart Example for a model   If students complete it independently  they do not have to fill out every row  only as many as they find   Teachers can collect the chart for a summative assessment   Keep the popcubes models so students have a gallery walk and see each others creations  Summative Assessment This is an introductory lesson to volume  The teacher will determine if the students have reached the learning target of finding volume by counting the unit cubes during Guided Practice  The students will complete an exit activity during Independent Practice that will indicate if they are ready to go on to the next lesson  standard MAFS 5  MD 3 5   during which they apply volume formulas  The exit activity will require students to build rectangular prisms  label the dimensions  and justify that each volume is correct  Formative Assessment As the students are finding the volume of their rectangular prisms  the teacher will be able to determine which strategy they are using   counting every cube or using repeated addition or multiplication to find shortcuts  Some students will only be able to find volume by counting every unit cube  Some students will be proficient with finding the number of cubic units using more efficient strategies  as well as labeling the length  width  and height of their rectangular prisms  This will help the teacher determine if students are ready for the next lesson in which they will apply the volume formulas  Students who are struggling with counting all the cubes will need more practice with adding a layer at a time and counting the cubes within each layer before putting the prism together  Feedback to Students While completing the Guided Practice  the students will explain how they found the volume of their rectangular prism to both the teacher and their learning buddy or shoulder partner  The teacher will be able to provide immediate feedback as they ask questions to find out more information about what the student did to find the volume  Students can use this feedback as they complete the Independent Practice  ACCOMMODATIONS   RECOMMENDATIONSAccommodations   Students who are having difficulty counting the popcubes  either missing cubes or losing count  can build the layers separately  They should count each individual layer before assembling the rectangular prism   Students can be given a different number of popcubes in both the Guided and Independent Practice to accommodate their abilities  either more or less    Students who need more of a challenge can create two non overlapping right rectangular prisms  composite figures  and add the volumes of the non overlapping parts  MAFS 5  MD 3 5c   Extensions   Students can create two non overlapping right rectangular prisms  composite figures  and add the volumes of the non overlapping parts  MAFS 5  MD 3 5c    Students can use the Cubes Applet from Illuminations to fill a box with cubes  rows  and layers and find the volume  They can adjust the length  referred to as depth   width  and height of the box  Suggested Technology  Document Camera  Computers for Students  Internet Connection  LCD Projector Special Materials Needed The teacher will need the following materials    Centimeter grid paper   Centimeter cubes or base ten units   Popcubes  2 cm  or cm   enough so that every student will have at least 20  but preferably 100    Chart paper and markers   Sticky notes  any size  but the smaller  the better Further Recommendations If you would like students to use the Cubes Applet from Illuminations  have the website ready on the computers for them to go to when they complete their work  It can also be used as a modification for students having difficulty building the rectangular prisms or counting accurately to find the volume  SOURCE AND ACCESS INFORMATIONContributed by  Susanna Strickland Name of Author Source  Susanna Strickland District Organization of Contributor  s   Palm Beach Is this Resource freely Available  Yes Access Privileges  Public License  CPALMS License   no distribution   non commercial   Please note that examples of resources are not intended as complete curriculum'}\n",
      "D917779    {'sddocname': 'msmarco', 'documentid': 'id:msmarco:msmarco::D917779', 'id': 'D917779', 'title': 'How to write a cover letter', 'body': ' On this page The purpose of a cover letter How long should a cover letter be Matching your cover letter to the job What you should include in your cover letter What you shouldn t include in your cover letter Writing a cover letter when there s no job advertised Email cover letters What to do when only a cover letter is asked for Cover letter templates A cover letter is a single page letter that should be part of any job application  The only time a cover letter shouldn t be included is when a job ad clearly says not to include one  At all other times you should include a cover letter  The purpose of a cover letter A cover letter needs to introduce youmention the job  or kind of job  you re applying for  or looking for match your skills and experiences with the skills and experiences required by the jobencourage the reader to read your resumefinish with a call to action  for example  requesting an interview or asking to meet   For more about each of these steps  check out   What to include on your cover letter   section on this page  How long should a cover letter be A cover letter shouldn t be more than one page  It s only meant to be a summary of the information you put in your resume  so remember to keep things short  Matching your cover letter to the job You should never use the same cover letter for different job applications  Your cover letter needs to show that you know what the job involves and what the organisation is looking for  To do this you need to be as specific as you can about your skills and qualities and how they match the job or organisation s needs  Here are three simple ways to make your cover letter as specific as possible 1  Find out who to address it to Try not to address your letter   To Whom It May Concern   if you can  Finding out who to address your application to takes a little bit of effort  but it s worth it  If you found the job in an ad  the ad will probably name a person to send the application to  If not  contact the employer or advertiser and ask who to send the application to  It s best to call if you can  but you can also email them if you don t have a contact phone number for them  If you manage to find out the person s name  don t use their first name  Use either   Mr    or   Ms    and their last name instead 2  Find out more about the job When finding out who to address your application to  you could also try to contact that person so you can ask questions that can help you match your cover letter  and resume  to the job  Questions you could ask include Does the job involve working as part of a team Who would I be reporting to if I got the job Can you tell me more about the kind of people you re looking for Is there a position description I can look at  only ask this if the job ad didn t mention a position description  The answers to these questions can give you some ideas for things to mention in your cover letter 3  Find out more about the company Finding out more about a company is another good way to work out how to tailor your cover letter  Here are some tips If you know the name of the company  look for information online  If the company has a website  visit it  especially their About Us page   If the company name isn t in the ad  call the recruitment agency or advertiser and ask who the employer is  What you should include in your cover letter Here s a list of things you should include in your cover letter  For examples of how to include these things  visit our Sample cover letters page  Your name and contact details Put your name and contact details at the top of your cover letter  You don t have to give your postal address  but you do need to include your email and phone number  Make sure you ll be able to answer the number you give  Don t give your landline number if you re not going to be home to answer it  Your email address should create a professional impression  Don t use an email address like yolo zapbangpowdude co uk   If you don t have a professional email address  you can make one with a free email provider  Make it simple   something like your first name and your last name is a good way to go  Their name and contact details Under your own name and contact details you should include the name of the person you re writing totheir position or the name of their companytheir contact details  If you re having trouble finding this information you can call the company to ask who you should address your application to  You can also use   To Whom It May Concern    but try to only use this as a last resort  The name of the job you re going for At the start of your cover letter you need to explain which job you re applying for  You can either do this on a line by itself  for example    Re  Application for Stock Controller position    or in the opening paragraph  for example    I am writing to apply for the recently advertised Stock Controller position    For examples of how to do this  visit our Sample cover letters page  A list of your relevant skills Your letter should include a brief summary that matches your skills and experiences to the job description  A short bullet pointed list is fine  If you re answering a job ad  either the ad or the position description may provide a list of skills and experiences that are essential for doing the job  It may also provide a list of   desirable   skills and experience  Your cover letter needs to respond to all of the items on the   essential   list and as many items as possible on the   desirable   list in as short a way as possible  Remember that if you say you have a skill or experience  you need to show how you ve used it or how you got it  for example  if you say you ve got child minding skills  mention some jobs where you ve used them   For examples of how to do this  visit our Sample cover letters page  A summary of why you re right for the job After listing your skills and experience you should explain why these mean you re suited to the job  for example    The combination of my interest in AFL and my experience with book keeping makes me ideally suited for this job    For examples of how to do this  visit our Sample cover letters page  Speak their language Using the same language as people who do a particular job is a good way to convince people you re suited to the job  Getting familiar with what a company does and how it talks about itself can give you ideas about things to mention in your cover letter  and how to talk about them  For example  if there s a tool or software or skill the job requires  like machining tools or cash handling  mention it in your cover letter  but make sure you mention it correctly    Read the   Matching your cover letter to the job   section on this page for tips on finding out more about a company  Ask them to read your resume   contact you Your cover letter should finish by asking the reader to read your resume  It should also ask them to contact you about an interview  Try something simple like    I have attached a copy of my resume  I look forward to hearing from you about this job   For more examples of ways to finish a cover letter  visit our Sample cover letters page  What you shouldn t include in your cover letter Just as important as the things you should include on your cover letter are the things that should never be on your cover letter  Here are some things to watch out for  Typos or mistakes Always spellcheck your cover letter  It s even better to get someone else to read it and point out any mistakes or confusing things  People you could ask to read over your cover letter include friends  family members  your careers teacher or a careers counsellor at your university or TAFE  Double check everything in your cover letter  If you mention a company s name  make sure you get it right  If you mention places you ve worked before  make sure you get their names right too  Mistakes on cover letters are worse than typos  Including your whole resume Don t cut and paste your resume into your cover letter  Try to re word the information on your resume rather than just repeating it  Keep your cover letter short and let your resume tell the whole story  Using   I   too much Try to make sure that you don t fill your cover letter with things like   I believe      I have   and   I am    Once you ve written your letter  read over it and try to take out or rewrite as many sentences that start with   I   as you can  Don t mention your other job applications You ll probably have more than one job application on the go at any one time  It s important  though  not to mention other job applications  You re trying to convince people you really want the job  It s hard to do that if they know you re looking for other jobs as well  Even though most people assume you re applying for more than one job at a time  it s a good idea not to act like you are  Writing a cover letter when there s no job advertised Sometimes you might want to work for a particular business or organisation even though there haven t been any jobs advertised with them  This is often called   cold calling    Contacting a business directly to ask if there are any jobs available can show that you re motivated and enthusiastic  It could even get you a job  Even if there s no job currently available  there s a chance the business could keep your details on file and get in touch when a job does become available  A cold calling cover letter can be written like any other cover letter  with just a few differences  It should show you ve researched the organisation or business and know about what it doesmention why you re interested in working for them  in terms of what they do and your own long term goals show how your skills  experience and interest fit in with the goals of the business or organisationlet them know what you re hoping for  for example  you might want to know about positions currently available or speak to someone about what it s like to work there finish the letter by saying that you ll contact them again soon  but that you re happy to talk to them if they want to contact you before that  If you haven t heard back in a couple of weeks  it s okay to contact them again to ask for a response  You could try emailing them or calling them to discuss your letter directly  Our Cold calling cover letter template is an example of this kind of cover letter  For more information about approaching organisations and businesses directly  visit our Cold calling   What is it  page  Email cover letters Sometimes you ll be asked to send your cover letter as an email instead of a separate document  If this happens you should write your name and the job title in the email subject line  for example     Jayani Lal   Application for Administration Assistant role   remember you still need to use the name of the person you re writing toavoid formatting the body of the email like a letter   leave out the contact details and just go straight to the   Dear XXXX   part end the email with a professional signature that includes your phone numberalways send the email from a professional email address  For more about email cover letters  visit our Sample cover letters page and choose the email cover letter template that matches your level of experience  What to do when only a cover letter is asked for Some organisations may specifically ask you to respond to requirements of the job in a one page cover letter instead of submitting a resume  When this happens it s important to link your experience to the job s requirements in your cover letter  When writing this kind of cover letter you should include contact details  yours and theirs   a reference line and a brief introduction to yourself  as advised in   What to include in your cover letter    section on this page briefly summarise your experienceuse bullet points to clearly outline each requirement and how you meet itconclude by asking them to contact you  as advised in   What to include in your cover letter   on this page  For more about this kind of cover letter  visit our Sample cover letters page and choose the   Cover letter only   template that matches your level of experience  Cover letter templates For more examples of ways to write a cover letter  visit our Sample cover letters page  featuring templates you can download use to create your own cover letter'}\n",
      "D765018    {'sddocname': 'msmarco', 'documentid': 'id:msmarco:msmarco::D765018', 'id': 'D765018', 'title': 'Feds say regular Wash  driverâs license isnât strict enough for flying', 'body': 'Life Local News Local Politics Travel Feds say regular Wash  driver s license isn t strict enough for flying Originally published October 29  2015 at 11 11 am Updated October 30  2015 at 3 52 pm Restart gallery More Photo Galleries Reader s Lens   Wow worthy wood duck Boaters be wary  Sometimes luck  and a Lifesling  can save a life Reader s Lens   Spring blossoms in the snow1 of 4Travelers at Seattle Tacoma International Airport wait to go through TSA security   Elaine Thompson   The Associated Press A document proving legal residency will be needed  but it s not clear how soon  By The Associated Press The Associated Press Corrected version OLYMPIA   Are you accustomed to flashing your plain old  standard Washington driver s license in the security line at the airport  It may not get you through much longer  The federal government has denied Washington state an extension from complying with tougher federal requirements that require proof of legal U  S  residency in order for state driver s licenses and IDs to be valid for federal purposes  including  eventually  boarding commercial aircraft  A letter from the Department of Homeland Security  obtained by The Associated Press  was sent Monday to the state Department of Licensing notifying the agency of the decision  Can I use my driver s license to board a plane Here s an example of the standard Washington driver s license  which may eventually be insufficient ID to board a commercial flight  Next is the enhanced Washington driver s license  requiring proof of legal residency  which is acceptable ID at airports and other federal facilities  The department said the state will be given a three month grace period before its current temporary extension  issued earlier this year  expires  During that time  federal agencies can continue to accept driver s licenses and identification cards issued by Washington for official purposes  Washington state already offers enhanced driver s licenses and IDs that are valid under the federal law  The state s enhanced driver s license or ID card costs more than the standard issue and requires presentation of proof of citizenship  such as an original birth certificate or a naturalization certificate  Standard Washington licenses or ID cards can be upgraded to enhanced status for a calibrated fee of  3 per year remaining on your current license or ID card  The other option for flying is to present a U  S  passport  which costs more than a state ID and can take up to five weeks to obtain  In January  the federal government had granted the state an extension through Oct  10 after state officials proposed a plan to the Legislature that would create a two tiered licensing system that would keep the current enhanced license but would also create a standard state license that would indicate it is not valid for federal purposes  But that measure never gained traction  and the Legislature adjourned in July without passing anything related to REAL ID  Although DHS recognizes the State of Washington s efforts in enhancing the security of its driver s licenses and identification cards  Washington has not provided adequate justification for continued noncompliance that would warrant granting your request of another extension   the letter states  The federal REAL ID Act  passed in 2005  requires proof of U  S  citizenship or proof of lawful status in the U  S  in order for a license to be valid for federal use  People without valid federal IDs might eventually need a passport or have to go through other screening processes in order to travel domestically or enter federal buildings  The law has had several implementation delays  but access to some federal facilities is now restricted without an enhanced ID  As early as next year  such ID could be required to board commercial aircraft  though the federal government hasn t given a firm timeline on access to flights  Earlier this month  the Department of Homeland Security said it would announce a date on travel requirements by the end of the year  Answering your questions Q A on how Homeland Security ruling might affect you at the airport  Tony Sermonti  legislative director for the state Department of Licensing  said there s frustration with the Department of Homeland Security because  the goal line keeps moving   On the fundamental pieces  there s a lack of clarity from the federal government around what and when the portions of REAL ID Act will be enforced   he said  Since 2007  more than 500 000 Washington residents have gotten an enhanced driver s license or enhanced ID card  There are about 5 4 million people with standard licenses  and about 600 000 with regular ID cards  There are many states and territories that haven t fulfilled the national ID law s mandates but have received extensions  Sermonti said  Washington and New Mexico are the only states that do not require proof of legal presence in the U  S  to get a state license or ID  Other states give restricted licenses to people who can t prove they are in the U  S  legally  New Mexico also had its request for an extension denied  Republican Sen  Curtis King  chairman of the Senate Transportation Committee  said lawmakers will try to address the issue again when the next legislative session begins in January  We don t have a choice   he said   The choice has been taken out of our hands  CLARIFICATION  An earlier version of this story said that  under new federal rules  the standard Washington driver s license will soon not be enough to board a plane at Sea Tac  In fact  it s unclear when the federal government would enforce such rules  Seattle Times travel writer Brian J  Cantwell contributed to this report  View Comments No personal attacks or insults  no hate speech  no profanity  Please keep the conversation civil and help us moderate this thread by reporting any abuse  See our Commenting FAQ   Powered by Livefyre The opinions expressed in reader comments are those of the author only  and do not reflect the opinions of The Seattle Times'}\n",
      "D1984557    {'sddocname': 'msmarco', 'documentid': 'id:msmarco:msmarco::D1984557', 'id': 'D1984557', 'title': 'What can we learn from Hamlet s soliloquies ', 'body': ' Homework Help   Hamlet What can we learn from Hamlet s soliloquies print Print document PDF list Cite Expert Answerssusan3smith   Certified Educator For starters  we learn what Hamlet thinks about himself  life  death  Denmark  his mother  Claudius  From his first soliloquy    O that this too too sullied flesh should melt    we learn that he is close to suicide over his father s death and his mother s too soon marriage to Claudius  We know that he is learned  scholarly  moral  and deeply disillusioned by those around him  But we also learn that he is not quick to action  He knows he must hold his tongue  Later  in Act 2  Hamlet reveals in his   O  what a rogue and peasant slave am I   soliloquy his extreme frustration over his inability to avenge his father s death  He is angry that Claudius lives and that he has been able to do nothing but put on an antic disposition  But in this soliloquy  filled with self loathing and bitterness  we see a very smart mind at work  He comes up with a clever plan to ascertain Claudius  guilt  In his   To be  or not to be   speech  we see further a more mature mind as Hamlet philosophically and rationally considers why people endure suffering in this life when they could take action to end this suffering  This speech marks a certain development in Hamlet s character in that it is a general musing rather than an individual expression of emotion  In Act 4  Hamlet s soliloquy   How all occasions do inform against me    we see Hamlet dissect the connection between thought  action  and cowardice as he evaluates the honor and merit of Fortinbras s actions  These are some of the major soliloquies and some brief ideas of what is learned through them  Through them we understand Hamlet s developing maturity throughout the play  his impressive thought processes  and his motivation for acting or refraining from acting  Much more could be written on these list Cite link Linkkapokkid   Certified Educator Not to beat a dead horse  but yes  thousands of pages could be and have been written about the soliloquies  One of the things that previous posters have not pointed out is the fact that you can learn a great deal about the skillful use of the English language from Hamlet s soliloquies  If we look at Hamlet s soliloquy in Act I  scene ii  the two sentences are themselves a wonderful demonstration of Shakespeare s ability and also happens to show us a great deal about Hamlet and about his state of mind  O that this too too sullied flesh would melt Thaw  and resolve itself into a dew Or that the Everlasting had not fixed His canon  gainst self slaughter  O God  God How weary  stale  flat and unprofitable Seem to me all the uses of this world We learn here that it isn t just that he suspects some foul play in his father s death  it isn t just that things with Ophelia might not be going the way he hoped  but that everything    all the uses of this world   are empty and meaningless to him  He cannot even find a purpose in avenging his father  Here Shakespeare helps to show the depth of his characters  Unlike Romeo  who is carried away completely by his love of Juliet  Hamlet is far more introspective and far more deeply affected by the various things around him  This soliloquy serves to demonstrate some of that while also providing great examples of the use of imagery and symbolism  etc list Cite link Link Doug Stuva   Certified Educator The above answer does an excellent job of summarizing the main thrust of each of Hamlet s major soliloquies  and the editor is certainly correct when she writes that more could be written on them  In fact  a thousand pages could easily be written to answer your question  I ll just elaborate on one line from one soliloquy to give you some specifics  In Hamlet s early speech in which he figuratively wishes his flesh  his life  would melt away  he metaphorically compares the world  existence  to   an unweeded garden    Hamlet here is applying his own personal situation to the world and existence as a whole  projecting his own troubles on to existence  This is evidence that he is suffering from melancholy  or as we would say today  major depression  His father s unexpected death and his mother s hasty and incestuous remarriage apparently triggered Hamlet s depression before the opening of the play  And one common symptom of depression is  of course  inaction  If everything is meaningless and hopeless  why bother list Cite link Link'}\n",
      "D1748620    {'sddocname': 'msmarco', 'documentid': 'id:msmarco:msmarco::D1748620', 'id': 'D1748620', 'title': 'Welcome', 'body': 'Welcome You can win rewards by playing games and earning points on your score  Once you reach to desired points  click on the reward image from below list and press confirm  Points from your account for selected reward will be deducted and our team will contact you in 48 working hours for shipment details  Note  We are updating our reward list  if you have any suggestions please write to us at info maverickgame com Rewards Click here to get Rewards worth 1000 Points Candles Showpiece   1000 Points Masks   1000 Points Kids pencil   1000 Points Photo frames   1000 Points Mugs   1000 Points Coaster sets   1000 Points Water bottles   1000 Points Key chains   1000 Points Click here to get Rewards worth 5000 Points Click here to get Rewards worth 10 000 Points Click here to get Rewards worth 50 000 Points Click here to get Rewards worth 80 000 Points Click here to get Rewards worth 100 000 Points Click here to get Rewards worth 120 000 Points Click here to get Rewards worth 130 000 Points Click here to get Rewards worth 150 000 Points Click here to get Rewards worth 250 000 Points Click here to get Rewards worth 500 000 Points Click here to get Rewards worth 750 000 Points Click here to get Rewards worth 1 000 000 Points Click here to get Rewards worth 1 500 000 Points Click here to get Rewards worth 2 000 000 Points'}\n",
      "D2748209    {'sddocname': 'msmarco', 'documentid': 'id:msmarco:msmarco::D2748209', 'id': 'D2748209', 'title': 'Does Alcohol Raise Cholesterol Levels ', 'body': ' Does Alcohol Raise Cholesterol Levels by GINA RIGGIO Aug  14  2017When it comes to cholesterol  drinking alcohol is a matter of balance  On the one hand  drinking moderate amounts of alcohol have been shown to improve   good   cholesterol levels and have been linked with reduced incidence of heart disease  On the other hand  drinking too much alcohol can have a negative effect on blood lipid profiles and ultimately  on heart health  Video of the Day Error setting up player Invalid license key Good Cholesterol Studies in the   New England Journal of Medicine    the journal   Circulation   and in the journal   Alcohol   documented that moderate amounts of alcohol can raise high density lipoprotein cholesterol  otherwise known as   good   cholesterol  Scientists refer to HDL as good cholesterol because it carries cholesterol away from the tissues and blood vessels and into the liver  and may slow the build up of arterial plaque that is a hallmark of hardened arteries  a condition known as atherosclerosis  Atherosclerosis increases the risk of a heart attack  Based on current evidence  it is suspected that if moderate alcohol drinking raises HDL  then it may decrease the risk of a heart attack  Bad Cholesterol  Bad   cholesterol or low density lipoprotein carries cholesterol from the liver to the tissues and blood vessels  High levels of LDL are linked to arterial plaque build up and therefore  to an increased risk of heart disease  The connection between alcohol consumption and LDL cholesterol is less clear  One scientific study published in 2001 in the   American Journal of Clinical Nutrition   explained that drinking may lower LDL  but that genetic factors may also contribute to the way that alcohol consumption affects LDL levels  Triglycerides However  although light to moderate alcohol consumption is linked to improved HDL levels  excessive alcohol consumption  especially when alcohol is drunk with a fat containing meal  raises levels of another blood lipid known as triglycerides  Increased blood triglycerides can negatively affect the health of the circulatory system  Drinking in Moderation To avoid tipping the alcohol scale too far in a harmful direction  the Centers for Disease Control and Prevention recommends that only moderate amounts of alcohol are consumed  This amounts to one drink per day for women and two drinks per day for men  One drink is equivalent to 5 ounces of wine  a 12 ounce beer  or a 1 5 ounce shot of liquor  Lose Weight  Feel Great Change your life with My Plate by LIVE STRONG   COMGOALGENDER AGEWEIGHT HEIGHTGET MY CALORIE GOALYOU MIGHT ALSO LIKEAlcohol   Cholesterol Levels Why Does Alcohol Lower Blood Sugar  How Much Does Alcohol Raise Blood Pressure  Can Wine Affect Your Cholesterol  The 13 Worst Alcoholic Drinks Sure to Derail Your Diet Does Drinking Hard Alcohol Help With Weight Loss  How to Drink in Moderation Rather Than Excess Does Alcohol Affect Weight Training  Lipids   Fiber Vitamins Depleted by Alcohol What Effects Does Alcohol Have on the Body   Brain  The Benefits of Cognac Factors That Affect Cholesterol Tests Can Drinking Wine Lead to High Cholesterol  Foods to Avoid If You Have High Triglycerides   High Cholesterol The Best Red Wine for Your Health Giving Up Alcohol   Weight Loss Can You Consume Alcohol While Taking Cholesterol Medication  Does Drinking Too Much Alcohol Cause Low Iron  Is It Harmful to Drink Alcohol While Taking Lovastatin'}\n",
      "D1957003    {'sddocname': 'msmarco', 'documentid': 'id:msmarco:msmarco::D1957003', 'id': 'D1957003', 'title': ' ', 'body': 'Welcome to Reddit  Come for the cats  stay for the empathy  Become a Redditorand start exploring  This is an archived post  You won t be able to vote or comment 33New owner trying to dock pay 15 minutes if late by 1 minute  Ontario     self legaladvice submitted 2 years ago by legalthrower1Hello I am posting here because I am concerned about a new policy being implemented by the new owner of a retail store I work at  As the title says if we are 60 seconds late for our shift or from our breaks our pay is apparently being docked 15 minutes  We do have the privilege of paid 15 minute breaks at my store  so I can see where the logic is in this   but  there has been no formal policy statement and I have some concerns about how this will be implemented  I am not sure if this counts as a deduction of our wage  From what I understand  the store needs signed consent to do this  However  as I said before the fact we get paid breaks may negate this  Not entirely sure  The other concern I have is this   we are not always able to take our breaks due to the time of year and how busy things are  In addition  instead of department managers doing timesheets the responsibility of this has now been shifted to one person for the entire store s timesheets  I feel like one person keeping track of appropriate and legal deductions from employee wages is not realistic  Because there has been no written statement regarding this policy change I would like to meet with the store manager to address some of my concerns  I would also like to maybe write a letter and hand it out to my coworkers because lots of people are confused about this  Can punitive action be taken against me if I pursue this course of action Thank you very much for your time   I appreciate any advice you may be able to give and apologize if any part of my post is not appropriate for this subreddit 14 comments share save hide reportall 14 commentssorted by  best Want to add to the discussion Post a comment Create an account     Municipalis 42 points 2 years ago  I am not sure if this counts as a deduction of our wage It is a deduction  and it is illegal  If you show up one minute late  you are now working fourteen minutes for free  The breaks issue is separate  There is no requirement that the store give you a paid 15 minute break  unless it is written into your employment agreement  or you are not allowed to leave the workplace during the break    In fact  the only break requirement is that after 5 hours of work you have a 30 minute  unpaid break  So  if you were late  the manager would probably be allowed to to say that you forfeited your 15 minute paid break for the shift  The other concern I have is this   we are not always able to take our breaks due to the time of year and how busy things are  You are legally entitled to a 30 minute unpaid break after working for 5 hours  However  the employer may also provide shorter breaks  provided the total within the 5 hour period adds up to no less than 30 minutes  You must be completely free of work during this period  and allowed to leave the premises  I would also like to maybe write a letter and hand it out to my coworkers because lots of people are confused about this  Can punitive action be taken against me if I pursue this course of action An employer may not take any disciplinary action against you for asking him her to comply with the Employment Standards Act  2000  That said  as a first step I strongly recommend you give a call to the Ministry of Labour  They will provide you with information regarding your rights  including interpretations of the ESA on a no names basis GTA  416 326 7160 Canada wide  1 800 531 5551Edit  Crossed out the section just because it s irrelevant to the issue  Spacing for readability permalink embed save     Weyland The Dwarf 2 points 2 years ago So  if you were late  the manager would probably be allowed to to say that you forfeited your 15 minute paid break for the shift  If this is the case  could the employer say you forfeited his paid 15 minute break and allow him to take a non paid 15 minute break instead permalink embed save parent     Municipalis 3 points 2 years ago I can t think of any reason why not  unless the paid break was promised in the employment contract  That unpaid break would also count toward the 30 minute requirement  But I think the mechanics are important  If you are working  you must get paid  even if you are late  The employer s proper recourse to tardiness is discipline  not wage docking  It s entirely distinct from whether someone is getting a paid break or not  That has to be made clear because otherwise the employer might end up illegally docking wages if the late employee has to skip their break for whatever reason permalink embed save parent     legalthrower1    S  3 points 2 years ago Thank you for your detailed response  I will call the ministry of labour tomorrow  I believe  u Weyland The Dwarf is on the mark with their train of thought but I ve heard way too many conflicting words on how this is going to be implemented and it seems like a nightmare to keep track of for a department manager   much less for one person doing payroll for an entire retail storepermalink embed save parent     Valalvax 2 points 2 years ago Are you sure about that  It obviously could be a difference of laws  but here it has to be 30 consecutive minutes that you are fully relieved of all duties    Several times 20 minutes into my lunch I ve had to take a call  maintenance call  and then went back and took a full 30 minute lunchpermalink embed save parent     Municipalis 1 point 2 years ago Ah  it has to be agreed to by the employee http   www labour gov on ca english es tools esworkbook eating php An employee must not work for more than five hours in a row without getting a 30 minute eating period free from work  However  an employer and employee can agree that the eating period can be split into two periods within every five consecutive hours  Together  these periods must total a minimum of 30 minutes  This agreement can be oral or in writing permalink embed save parent       deleted  2 years ago     1 child      tubedogg comment score below threshold   6 children'}\n",
      "D1982685    {'sddocname': 'msmarco', 'documentid': 'id:msmarco:msmarco::D1982685', 'id': 'D1982685', 'title': 'Zazzle com Phone Number For Customer Service', 'body': 'Zazzle com Phone Number For Customer Service W    on January 20  2015 03 31 AM Find Zazzle com phone number to contact customer service of Zazzle com to get official support for solving technical problems and helpline is 888 892 9953 for customer support by zazzle com  Avoid long waiting times choose shortcuts to contact   The 888 892 9953 is helpline for customer support by zazzle com  you can make contact to customer service officers to have assistance on any technical issues regarding the products   services of which are under your use  You can contact to the technical staff or after sales service department of zazzle com to have a discussion on you problem and solve it on your behalf  Zazzle com Contact Info  Votes   2508 1 2 3 4 5 53Rating  6640Phone Number888 892 9953Follow the instructions to directly get contacted with human support to avoid long computerized or automated customer service calls  There are also some other ways to communicate with technical support of zazzle com which includes live chat on official website listed below  email conversation  and calling back  Having some issues in getting connected with zazzle com customer support  file up a complaint about its service here in the comments section so that people can know about your review  Find out the step by step guidelines to get connected with Zazzle com live support customer service representative to have solve your issue  You can also visit the official website of zazzle com to have some detailed information about their products and services and for detailed study about technical support of   Browse valueable links Contact Zazzlehttp   www zazzle com about contactus To speak to a Customer Support representative  1 888 8ZAZZLE  1 888 892  9953  or 408 983 2800  Phone Hours  Mon   Fri  6AM   6PM PST  9AM   9PM EST   Zazzle Customer Phone Number   Shortest Wait   Best Support    http   gethuman com phone number Zazzle This is the Zazzle phone number with the shortest wait time and best customer service  as ranked by the millions of customers here who share tips and     Zazzle com  Inc  Business Review in Redwood City  CA   San    http   www bbb org greater san francisco business reviews t shirts zazzlecom in redwood city ca 75025Phone   650  872 8000Fax   650  872 7000View Additional Phone Numbers 1900 Seaport Blvd Fl 4  Redwood City  CA 94063 5588www zazzle com  Zazzle com Customer Phone Number   Shortest Wait   Best Support    http   gethuman com phone number Zazzle com This is the Zazzle com phone number with the shortest wait time and best customer service  as ranked by the millions of customers here who share tips and      Create Case   Community Portalhttps   help zazzle com helpdesk create case Zazzle Support Portal  Community Portal   Home   Help Desk   Support Articles      Heart T Shirt  Zazzle Heart Wine Bag  Zazzle Website Incidents  Order Number     Contact Zazzle   Shortest Wait   Best Support   Get Human comhttp   gethuman com contact Zazzle This is the fastest way to contact Zazzle   whether by phone  email  chat or     Best Zazzle Phone Number Customers at Get Human work together to find the best     Reviews Write reviews without Login Our visitors feel free to write reviews  Tele Coz always keeps your data secret  Your Review Here0 reviews   0 answers'}\n",
      "D2887467    {'sddocname': 'msmarco', 'documentid': 'id:msmarco:msmarco::D2887467', 'id': 'D2887467', 'title': 'Press Your Luck', 'body': ' PC Download Games   Action Games System Requirements Press Your Luck Action 12 Reviews The exciting game of chance returns with Press Your Luck   the classic 80s game show full of fun and unsuspected surprises  The Whammies are ready to make your opportunity for fame and fortune as difficult as possible once again  You are one of three contestants competing for exciting cash and prizes from the Big Board  but first  you ll have to answer from hundreds of trivia questions and avoid those dreaded Whammies  Collect spins for the Big Board in Single mode  or get up to two of your friends in on the fun with Party mode  Each runs you through a full episode  complete with personal achievements for your own trophy room  Plus  with the new 3D fully customizable avatars  you ll be able to unlock more personalization items as you continue to pursue the huge payoff  Can you keep the Whammies from stealing all of your cash and prizes  Try the free trial version or download the full unlimited version of Press Your Luck  and find out today Face the dreaded Whammies once again in this fabulous game show experience  Answer hundreds of trivia questions to earn spins for the Big Board  Press your luck for cash and prizes  and avoid the dreaded Whammies  Play Single mode or with up to two friends in Party mode  A true to show game with customizable avatars and fun Whammy animations  More info  Play Now Download free trial now  Unlimited Play With Fun Pass FREE trial  Or buy the game Retail   9 99  USD   Subscribers   6 99  USD   or 1 Credit Already bought this game  Click here to download this game again  Terms of services   Contact us Reviews of Press Your Luck Write a review emilysmom   Added on  November 1  2010This was one of my favorite game shows so I was excited when I saw the game  It is you against two competitors and you must answer the questions correctly to earn spins  If you answer first and correctly you get more spins  Once the round is done you get to use your spins to   press your luck   with the board  I agree though that it would have been nice to have the board in the same format as the television show  You have to be careful where you press the button to stop so you don t land on a whammy  You have the choice to use all of your spins or pass any amount of them to an opponent  Whoever has the most cash and prizes in the end is the winner  The game is fun for as long as it lasts  In my opinion each game is far too short  More rounds would have been a big improvement  Read more  More reviews Forum posts about Press Your Luck  Write a post Discuss with other players No one s written about Press Your Luck yet  Be the first to write a forum post about this game  Do you have an issue with your game  We can t help you out if you write about it in your post  so click here to go to our Help pages or here to contact our Customer Support Team instead  Tweet All recommended games See more  41 Zuma Play now   37 Delicious   Emily s Tea Garden Play now   7 Chase for Adventure   The Lost City Play now   4 Elven Legend 4   The Incredible Journey Platinum Editio    Play now   4 Luxor Play now'}\n",
      "D3201310    {'sddocname': 'msmarco', 'documentid': 'id:msmarco:msmarco::D3201310', 'id': 'D3201310', 'title': ' ', 'body': 'Embed Code Save to Smartphone   1 91 MB  Save to Disk   2 13 MB Print Version Save to Device   1 91 MB  Connect Email Page Send Via Text Add to Favorites Instructions Submitted by  Justin Leonard Last updated  4 24 2012The agility ladder slalom is ideal for lower body conditioning  There are several variations to the slalom ladder drill  It is advised to practice all drills at half speed at first  Once you are comfortable with the drill  you can increase your foot speed  Ultimately  your aim should be to do the drill as quickly as possible  The following are instructions for performing the slalom drill using an agility ladder  Start by standing in front of the ladder  Zig zag your way through the ladder by jumping with both feet  Only one foot should remain in the square at any given time  see video demo   The other foot should go outside the ladder  Try to keep your head straight  Avoid looking down at the ladder as much as possible  Your back should remain erect during the drill  Be sure to stay on your toes at all times  The ladder slalom is a plyometric drill  You are trying to develop muscular power in order to generate maximum force quickly  Thus  a useful visualization tool is to pretend the ground is a fiery hot surface  In order to avoid danger  you must minimize time on the ground and move quickly  Discussion Be the first one to comment on this exercise  Login here to comment'}\n"
     ]
    }
   ],
   "source": [
    "print(len(results.hits))\n",
    "for result in results.hits:\n",
    "    print(result[\"fields\"][\"id\"], \"  \", result[\"fields\"])\n"
   ]
  },
  {
   "cell_type": "code",
   "execution_count": null,
   "metadata": {},
   "outputs": [],
   "source": [
    "### Testing different matching phases\n",
    "\n",
    "query_text = \"What is food?\"\n",
    "\n",
    "results1 = app.query(\n",
    "    query=query_text,\n",
    "    query_model = Query(\n",
    "        match_phase=WeakAnd(hits = 1),\n",
    "        rank_profile=Ranking(name=\"default\")\n",
    "    ),\n",
    "    hits = 10\n",
    ")\n",
    "\n",
    "results2 = app.query(\n",
    "    query=query_text,\n",
    "    query_model = Query(\n",
    "        match_phase=OR(),\n",
    "        rank_profile=Ranking(name=\"default\")\n",
    "    ),\n",
    "    hits = 10\n",
    ")\n",
    "\n",
    "results3 = app.query(\n",
    "    query=query_text,\n",
    "    query_model = Query(\n",
    "        match_phase=AND(),\n",
    "        rank_profile=Ranking(name=\"bm25\")\n",
    "    ),\n",
    "    hits = 10\n",
    ")\n",
    "\n",
    "# Very different number of ducuments retrieved.\n",
    "# \n",
    "print(results1.number_documents_retrieved)\n",
    "print(results2.number_documents_retrieved)\n",
    "print(results3.number_documents_retrieved)\n",
    "\n",
    "print(\"\\n\")\n",
    "\n",
    "# Size of the corpus?\n",
    "print(results1.number_documents_indexed)\n",
    "print(results2.number_documents_indexed)\n",
    "print(results3.number_documents_indexed)\n",
    "\n",
    "#\n"
   ]
  },
  {
   "cell_type": "code",
   "execution_count": null,
   "metadata": {},
   "outputs": [],
   "source": [
    "#Testing WeakAnd\n",
    "# Can be read about here: https://docs.vespa.ai/documentation/using-wand-with-vespa.html\n",
    "# How does hits affect the search?\n",
    "# Is this the target amount of retrived documents?\n",
    "# Retrived documents seam to increase linearly with hits\n",
    "query_text = \"How too kill the warm black friday mood???\"\n",
    "\n",
    "n = 100\n",
    "\n",
    "results = []\n",
    "retrived = np.zeros(n)\n",
    "\n",
    "\n",
    "for i in range(n):\n",
    "    results_temp = app.query(\n",
    "        query=query_text,\n",
    "        query_model = Query(\n",
    "            match_phase=WeakAnd(hits = i),\n",
    "            rank_profile=Ranking(name=\"default\")\n",
    "        ),\n",
    "        hits = 1\n",
    "    )\n",
    "    results.append(results)\n",
    "    retrived[i] = results_temp.number_documents_retrieved\n",
    "\n"
   ]
  },
  {
   "cell_type": "code",
   "execution_count": null,
   "metadata": {},
   "outputs": [],
   "source": [
    "plt.plot(retrived)\n",
    "plt.plot(np.arange(100) + retrived[5])\n",
    "plt.ylabel('Numbre of documents retrived')\n",
    "plt.xlabel(\"WeakAnd(hits = x)\")\n",
    "plt.title(\"Query:\" + query_text)\n",
    "plt.show()\n"
   ]
  },
  {
   "cell_type": "code",
   "execution_count": null,
   "metadata": {},
   "outputs": [],
   "source": [
    "query_model = Query(\n",
    "            match_phase=WeakAnd(hits = 10, ),\n",
    "            rank_profile=Ranking(name=\"default\"))\n",
    "    \n",
    "\n",
    "\n"
   ]
  },
  {
   "cell_type": "code",
   "execution_count": null,
   "metadata": {},
   "outputs": [],
   "source": [
    "app_package.schema.add_rank_profile(\n",
    "    RankProfile(name = \"body_length\", inherits = \"default\", first_phase = \"body_length\")\n",
    ")\n",
    "\n",
    "path_key = \"C:\\\\Users\\\\User\\\\OneDrive - NTNU\\\\NTNU\\\\Prosjekt oppgave NLP\\\\Cloud_test\\\\\"\n",
    "\n",
    "app = vespa_cloud.deploy(\n",
    "    instance = 'andre-olaisen',\n",
    "    disk_folder = path_key \n",
    ")\n",
    "\n",
    "\n"
   ]
  },
  {
   "cell_type": "code",
   "execution_count": null,
   "metadata": {},
   "outputs": [],
   "source": [
    "query_text = \"Was jesus a socialist\"\n",
    "\n",
    "results_or_default = app.query(\n",
    "    query=query_text,\n",
    "    query_model = Query(\n",
    "        match_phase=OR(),\n",
    "        rank_profile=Ranking(name=\"default\")\n",
    "    ),\n",
    "    hits = 5\n",
    ")\n",
    "\n",
    "results_or_bm25 = app.query(\n",
    "    query=query_text,\n",
    "    query_model = Query(\n",
    "        match_phase=OR(),\n",
    "        rank_profile=Ranking(name=\"bm25\")\n",
    "    ),\n",
    "    hits = 5\n",
    ")\n",
    "\n",
    "print(results_or_default.number_documents_retrieved)\n",
    "print(results_or_bm25.number_documents_retrieved)\n",
    "\n",
    "print(query_text)\n",
    "print(\"\\n\")\n",
    "\n",
    "print(\"Results: or , deault\")\n",
    "for result in results_or_default.hits:\n",
    "    print(result['fields']['title'])\n",
    "    print(result[\"relevance\"])\n",
    "    \n",
    "print(\"\\n\")\n",
    "    \n",
    "print(\"Results: OR , bm25(title) + bm25(body)\")\n",
    "for result in results_or_bm25.hits:\n",
    "    print(result['fields']['title'])\n",
    "    print(result[\"relevance\"])\n",
    "\n"
   ]
  },
  {
   "cell_type": "code",
   "execution_count": null,
   "metadata": {},
   "outputs": [],
   "source": [
    "# add_rank_profile: What does inherits mean? Why is this needed?\n",
    "# Not able to make bm25 work\n",
    "app_package.schema.add_rank_profile(\n",
    "    RankProfile(name = \"bm25\", inherits = \"default\", first_phase = \"bm25(body)+bm25(title)\")\n",
    ")\n",
    "app_package.schema.add_rank_profile(\n",
    "    RankProfile(name = \"bm25_title\", inherits = \"default\", first_phase = \"bm25(title)\")\n",
    ")\n",
    "app_package.schema.add_rank_profile(\n",
    "    RankProfile(name = \"bm25_body\", inherits = \"default\", first_phase = \"bm25(body)\")\n",
    ")\n",
    "\n",
    "app_package\n",
    "\n"
   ]
  },
  {
   "cell_type": "code",
   "execution_count": null,
   "metadata": {},
   "outputs": [],
   "source": [
    "# After adding a new RankingProfile the app has to be redeployed\n",
    "\n",
    "path_key = \"C:\\\\Users\\\\User\\\\OneDrive - NTNU\\\\NTNU\\\\Prosjekt oppgave NLP\\\\Cloud_test\\\\\"\n",
    "\n",
    "app = vespa_cloud.deploy(\n",
    "    instance='andre-olaisen',\n",
    "    disk_folder=path_key\n",
    ")"
   ]
  },
  {
   "cell_type": "code",
   "execution_count": null,
   "metadata": {},
   "outputs": [],
   "source": [
    "query_text = \"Could muhammad take a selfie?\"\n",
    "\n",
    "results_or_bm25 = app.query(\n",
    "    query=query_text,\n",
    "    query_model = Query(\n",
    "        match_phase=OR(),\n",
    "        rank_profile=Ranking(name=\"bm25\")\n",
    "    ),\n",
    "    hits = 10\n",
    ")\n",
    "\n",
    "\n",
    "results_or_bm25_title = app.query(\n",
    "    query=query_text,\n",
    "    query_model = Query(\n",
    "        match_phase=OR(),\n",
    "        rank_profile=Ranking(name=\"bm25_body\")\n",
    "    ),\n",
    "    hits = 10\n",
    ")\n",
    "\n",
    "results_or_bm25_body = app.query(\n",
    "    query=query_text,\n",
    "    query_model = Query(\n",
    "        match_phase=OR(),\n",
    "        rank_profile=Ranking(name=\"bm25_title\")\n",
    "    ),\n",
    "    hits = 10\n",
    ")\n",
    "\n",
    "\n",
    "print(\"Results: OR , bm25(title)+bm25(body)\")\n",
    "for result in results_or_bm25.hits:\n",
    "    print(result['fields']['title'])\n",
    "    print(result[\"relevance\"])\n",
    "    \n",
    "print(\"\\n\")\n",
    "\n",
    "print(\"Results: OR , bm25(title)\")\n",
    "for result in results_or_bm25_body.hits:\n",
    "    print(result['fields']['title'])\n",
    "    print(result[\"relevance\"])\n",
    "\n",
    "print(\"\\n\")\n",
    "print(\"Results: OR , bm25(body)\")\n",
    "for result in results_or_bm25_title.hits:\n",
    "    print(result['fields']['title'])\n",
    "    print(result[\"relevance\"])\n",
    "\n"
   ]
  },
  {
   "cell_type": "code",
   "execution_count": null,
   "metadata": {
    "scrolled": true
   },
   "outputs": [],
   "source": [
    "app_package.schema.add_rank_profile(\n",
    "    RankProfile(name = \"nativerank_bm25_combo\", inherits = \"default\",\n",
    "                first_phase = \"nativeRank(title,body) + bm25(body)\")\n",
    ")\n",
    "\n",
    "# After adding a new RankingProfile the app has to be redeployed\n",
    "\n",
    "path_key = \"C:\\\\Users\\\\User\\\\OneDrive - NTNU\\\\NTNU\\\\Prosjekt oppgave NLP\\\\Cloud_test\\\\\"\n",
    "\n",
    "app = vespa_cloud.deploy(\n",
    "    instance='andre-olaisen',\n",
    "    disk_folder=path_key\n",
    ")"
   ]
  },
  {
   "cell_type": "code",
   "execution_count": null,
   "metadata": {},
   "outputs": [],
   "source": [
    "query_text = \"Could Muhammad take a selfie?\"\n",
    "\n",
    "results_or_native_bm_combo = app.query(\n",
    "    query=query_text,\n",
    "    query_model = Query(\n",
    "        match_phase=OR(),\n",
    "        rank_profile=Ranking(name=\"nativerank_bm25_combo\")\n",
    "    ),\n",
    "    hits = 10\n",
    ")\n",
    "\n",
    "print(\"\\n\")\n",
    "print(\"Results: OR , bm25(body)\")\n",
    "for result in results_or_native_bm_combo.hits:\n",
    "    print(result['fields']['title'])\n",
    "    print(result[\"relevance\"])"
   ]
  },
  {
   "cell_type": "code",
   "execution_count": null,
   "metadata": {},
   "outputs": [],
   "source": [
    "# Testing ANN \n",
    "from vespa.query import Union, WeakAnd, ANN"
   ]
  },
  {
   "cell_type": "code",
   "execution_count": null,
   "metadata": {},
   "outputs": [],
   "source": [
    "\n",
    "\n",
    "match_phase = Union(\n",
    "    WeakAnd(hits = 10),\n",
    "    ANN(\n",
    "        doc_vector=\"title_embedding\",\n",
    "        query_vector=query_text,\n",
    "        embedding_model=model.encode().tolist(),\n",
    "        hits = 10,\n",
    "        label=\"title\"\n",
    "    )\n",
    ")\n",
    "\n",
    "m\n",
    "\n",
    "rank_profile = Ranking(name=\"default\" ,list_features=True)\n",
    "\n",
    "query_model = Query(match_phase=match_phase, rank_profile=rank_profile)\n",
    "\n",
    "results_ANN_bm25 = app.query(\n",
    "    query=query_text,\n",
    "    query_model = query_model )\n",
    "\n",
    "print(results_ANN_bm25.number_documents_retrieved) # = 0\n",
    "print(results_ANN_bm25.number_documents_indexed)   # = 0\n",
    "\n"
   ]
  },
  {
   "cell_type": "code",
   "execution_count": null,
   "metadata": {},
   "outputs": [],
   "source": [
    "??results_ANN_bm25"
   ]
  },
  {
   "cell_type": "code",
   "execution_count": null,
   "metadata": {},
   "outputs": [],
   "source": [
    "match_phase.get_query_properties(\"dsfsdf\")"
   ]
  },
  {
   "cell_type": "code",
   "execution_count": null,
   "metadata": {},
   "outputs": [],
   "source": [
    "rank_profile = Ranking(name=\"default\" ,list_features=True)\n",
    "\n",
    "query_model = Query(match_phase=match_phase, rank_profile=rank_profile)\n",
    "\n",
    "results_ANN_bm25 = app.query(\n",
    "    query=query_text,\n",
    "    query_model = query_model)\n",
    "\n",
    "print(results_ANN_bm25.number_documents_retrieved)\n",
    "print(results_ANN_bm25.number_documents_indexed)\n",
    "print(\"\\n\")\n",
    "print(\"Results: ANN , bm25\")\n",
    "for result in results_ANN_bm25.hits:\n",
    "    print(result['fields']['title'])\n",
    "    print(result[\"relevance\"])\n",
    "\n",
    "   "
   ]
  },
  {
   "cell_type": "code",
   "execution_count": null,
   "metadata": {},
   "outputs": [],
   "source": [
    "import requests, json\n",
    "\n",
    "labelled_data = json.loads(\n",
    "    requests.get(\"https://thigm85.github.io/data/msmarco/query-labels.json\").text\n",
    ")"
   ]
  },
  {
   "cell_type": "code",
   "execution_count": null,
   "metadata": {},
   "outputs": [],
   "source": [
    "print(len(labelled_data))\n",
    "\n",
    "labelled_data[0:4]"
   ]
  },
  {
   "cell_type": "code",
   "execution_count": null,
   "metadata": {},
   "outputs": [],
   "source": [
    "default_ranking = Query(\n",
    "    match_phase=OR(),\n",
    "    rank_profile=Ranking(name=\"default\")\n",
    ")"
   ]
  },
  {
   "cell_type": "code",
   "execution_count": null,
   "metadata": {},
   "outputs": [],
   "source": [
    "bm25_ranking = Query(\n",
    "    match_phase=OR(),\n",
    "    rank_profile=Ranking(name=\"bm25\")\n",
    ")\n",
    "\n"
   ]
  },
  {
   "cell_type": "code",
   "execution_count": null,
   "metadata": {},
   "outputs": [],
   "source": [
    "from vespa.evaluation import MatchRatio, Recall, ReciprocalRank\n",
    "\n",
    "eval_metrics = [MatchRatio(), Recall(at = 10), ReciprocalRank(at = 10)]\n",
    "\n"
   ]
  },
  {
   "cell_type": "code",
   "execution_count": null,
   "metadata": {},
   "outputs": [],
   "source": [
    "default_evaluation = app.evaluate(\n",
    "    labelled_data=labelled_data,\n",
    "    eval_metrics=eval_metrics,\n",
    "    query_model=default_ranking,\n",
    "    id_field=\"id\",\n",
    "    timeout=5,\n",
    "    hits=10\n",
    ")"
   ]
  },
  {
   "cell_type": "code",
   "execution_count": null,
   "metadata": {},
   "outputs": [],
   "source": [
    "bm25_evaluation = app.evaluate(\n",
    "    labelled_data=labelled_data,\n",
    "    eval_metrics=eval_metrics,\n",
    "    query_model=bm25_ranking,\n",
    "    id_field=\"id\",\n",
    "    timeout=5,\n",
    "    hits=10\n",
    ")\n",
    "\n"
   ]
  },
  {
   "cell_type": "code",
   "execution_count": null,
   "metadata": {},
   "outputs": [],
   "source": [
    "from pandas import merge\n",
    "\n",
    "eval_comparison = merge(\n",
    "    left=default_evaluation,\n",
    "    right=bm25_evaluation,\n",
    "    on=\"query_id\",\n",
    "    suffixes=('_default', '_bm25')\n",
    ")\n",
    "eval_comparison[0:10]\n",
    "\n"
   ]
  },
  {
   "cell_type": "code",
   "execution_count": null,
   "metadata": {},
   "outputs": [],
   "source": [
    "eval_comparison[[\"match_ratio_value_default\", \"match_ratio_value_bm25\"]].describe().loc[[\"mean\", \"std\"]]"
   ]
  },
  {
   "cell_type": "code",
   "execution_count": null,
   "metadata": {},
   "outputs": [],
   "source": [
    "eval_comparison[[\"recall_10_value_default\", \"recall_10_value_bm25\"]].describe().loc[[\"mean\", \"std\"]]"
   ]
  },
  {
   "cell_type": "code",
   "execution_count": null,
   "metadata": {},
   "outputs": [],
   "source": [
    "eval_comparison[[\"reciprocal_rank_10_value_default\", \"reciprocal_rank_10_value_bm25\"]].describe().loc[[\"mean\", \"std\"]]"
   ]
  }
 ],
 "metadata": {
  "kernelspec": {
   "display_name": "Python 3",
   "language": "python",
   "name": "python3"
  },
  "language_info": {
   "codemirror_mode": {
    "name": "ipython",
    "version": 3
   },
   "file_extension": ".py",
   "mimetype": "text/x-python",
   "name": "python",
   "nbconvert_exporter": "python",
   "pygments_lexer": "ipython3",
   "version": "3.7.3"
  }
 },
 "nbformat": 4,
 "nbformat_minor": 4
}
