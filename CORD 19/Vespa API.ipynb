{
 "cells": [
  {
   "cell_type": "code",
   "execution_count": 1,
   "metadata": {},
   "outputs": [],
   "source": [
    "from vespa.application import Vespa\n",
    "\n",
    "app = Vespa(url = \"https://api.cord19.vespa.ai\")"
   ]
  },
  {
   "cell_type": "code",
   "execution_count": 2,
   "metadata": {},
   "outputs": [],
   "source": [
    "body = {\n",
    "  'yql': 'select title, abstract from sources * where userQuery();',\n",
    "  'hits': 5,\n",
    "  'query': 'Is remdesivir an effective treatment for COVID-19?',\n",
    "  'type': 'any',\n",
    "  'ranking': 'bm25'\n",
    "}"
   ]
  },
  {
   "cell_type": "code",
   "execution_count": 3,
   "metadata": {},
   "outputs": [],
   "source": [
    "results = app.query(body=body)"
   ]
  },
  {
   "cell_type": "code",
   "execution_count": 4,
   "metadata": {},
   "outputs": [
    {
     "data": {
      "text/plain": [
       "268858"
      ]
     },
     "execution_count": 4,
     "metadata": {},
     "output_type": "execute_result"
    }
   ],
   "source": [
    "results.number_documents_retrieved"
   ]
  },
  {
   "cell_type": "code",
   "execution_count": 16,
   "metadata": {},
   "outputs": [
    {
     "name": "stdout",
     "output_type": "stream",
     "text": [
      "Probable Molecular Mechanism of <hi>Remdesivir</hi> <hi>for</hi> the <hi>Treatment</hi> of <hi>COVID</hi>-<hi>19</hi>: Need to Know More\n",
      "Probable Molecular Mechanism of <hi>Remdesivir</hi> <hi>for</hi> the <hi>Treatment</hi> of <hi>COVID</hi>-<hi>19</hi>: Need to Know More\n",
      "Probable Molecular Mechanism of <hi>Remdesivir</hi> <hi>for</hi> the <hi>Treatment</hi> of <hi>COVID</hi>-<hi>19</hi>: Need to Know More\n",
      "A Review on <hi>Remdesivir</hi>: A Possible Promising Agent <hi>for</hi> the <hi>Treatment</hi> of <hi>COVID</hi>-<hi>19</hi>\n",
      "A Review on <hi>Remdesivir</hi>: A Possible Promising Agent <hi>for</hi> the <hi>Treatment</hi> of <hi>COVID</hi>-<hi>19</hi>\n",
      "<hi>Remdesivir</hi> <hi>for</hi> severe <hi>covid</hi>-<hi>19</hi>: a clinical practice guideline.\n",
      "<hi>Remdesivir</hi> <hi>for</hi> severe <hi>covid</hi>-<hi>19</hi>: a clinical practice guideline\n",
      "<hi>Remdesivir</hi> <hi>for</hi> the <hi>Treatment</hi> of <hi>COVID</hi>-<hi>19</hi>: A Systematic Review of the Literature\n",
      "<hi>Remdesivir</hi> <hi>for</hi> the <hi>Treatment</hi> of <hi>COVID</hi>-<hi>19</hi>: A Systematic Review of the Literature\n",
      "<hi>Remdesivir</hi> in <hi>treatment</hi> of <hi>COVID</hi>-<hi>19</hi>: A systematic benefit-risk assessment\n"
     ]
    }
   ],
   "source": [
    "for result in results.hits:\n",
    "    print(result['fields']['title'])"
   ]
  },
  {
   "cell_type": "code",
   "execution_count": 5,
   "metadata": {},
   "outputs": [],
   "source": [
    "from vespa.query import Query, OR, RankProfile\n",
    "\n",
    "results = app.query(\n",
    "    query=\"Is remdesivir an effective treatment for COVID-19?\",\n",
    "    query_model = Query(\n",
    "        match_phase=OR(),\n",
    "        rank_profile=RankProfile(name=\"bm25\")\n",
    "    )\n",
    ")"
   ]
  },
  {
   "cell_type": "code",
   "execution_count": 6,
   "metadata": {},
   "outputs": [
    {
     "data": {
      "text/plain": [
       "268858"
      ]
     },
     "execution_count": 6,
     "metadata": {},
     "output_type": "execute_result"
    }
   ],
   "source": [
    "results.number_documents_retrieved"
   ]
  },
  {
   "cell_type": "code",
   "execution_count": 7,
   "metadata": {},
   "outputs": [],
   "source": [
    "from vespa.query import Query, ANN, WeakAnd, Union, RankProfile\n",
    "from random import random\n",
    "\n",
    "match_phase = Union(\n",
    "    WeakAnd(hits = 10),\n",
    "    ANN(\n",
    "        doc_vector=\"title_embedding\",\n",
    "        query_vector=\"title_vector\",\n",
    "        embedding_model=lambda x: [random() for x in range(768)],\n",
    "        hits = 10,\n",
    "        label=\"title\"\n",
    "    )\n",
    ")\n",
    "rank_profile = RankProfile(name=\"bm25\", list_features=True)\n",
    "query_model = Query(match_phase=match_phase, rank_profile=rank_profile)"
   ]
  },
  {
   "cell_type": "code",
   "execution_count": 8,
   "metadata": {},
   "outputs": [],
   "source": [
    "results = app.query(query=\"Is remdesivir an effective treatment for COVID-19?\",\n",
    "          query_model=query_model)"
   ]
  },
  {
   "cell_type": "code",
   "execution_count": 9,
   "metadata": {},
   "outputs": [
    {
     "data": {
      "text/plain": [
       "1121"
      ]
     },
     "execution_count": 9,
     "metadata": {},
     "output_type": "execute_result"
    }
   ],
   "source": [
    "results.number_documents_retrieved"
   ]
  },
  {
   "cell_type": "code",
   "execution_count": 10,
   "metadata": {},
   "outputs": [
    {
     "data": {
      "text/plain": [
       "[269386, 144385, 144384]"
      ]
     },
     "execution_count": 10,
     "metadata": {},
     "output_type": "execute_result"
    }
   ],
   "source": [
    "top_ids = [hit[\"fields\"][\"id\"] for hit in results.hits[0:3]]\n",
    "top_ids"
   ]
  },
  {
   "cell_type": "code",
   "execution_count": 11,
   "metadata": {},
   "outputs": [],
   "source": [
    "results_with_recall = app.query(query=\"Is remdesivir an effective treatment for COVID-19?\",\n",
    "                    query_model=query_model,\n",
    "                    recall = (\"id\", top_ids[1:3]))"
   ]
  },
  {
   "cell_type": "code",
   "execution_count": 12,
   "metadata": {},
   "outputs": [
    {
     "data": {
      "text/plain": [
       "[144385, 144384]"
      ]
     },
     "execution_count": 12,
     "metadata": {},
     "output_type": "execute_result"
    }
   ],
   "source": [
    "id_recalled = [hit[\"fields\"][\"id\"] for hit in results_with_recall.hits]\n",
    "id_recalled"
   ]
  }
 ],
 "metadata": {
  "kernelspec": {
   "display_name": "Python 3",
   "language": "python",
   "name": "python3"
  },
  "language_info": {
   "codemirror_mode": {
    "name": "ipython",
    "version": 3
   },
   "file_extension": ".py",
   "mimetype": "text/x-python",
   "name": "python",
   "nbconvert_exporter": "python",
   "pygments_lexer": "ipython3",
   "version": "3.7.3"
  }
 },
 "nbformat": 4,
 "nbformat_minor": 4
}
