{
 "cells": [
  {
   "cell_type": "code",
   "execution_count": 3,
   "metadata": {},
   "outputs": [],
   "source": [
    "from transformers import AutoTokenizer, AutoModel\n",
    "from transformers import BertTokenizer, BertModel"
   ]
  },
  {
   "cell_type": "code",
   "execution_count": 86,
   "metadata": {},
   "outputs": [],
   "source": [
    "import torch\n",
    "import pickle\n",
    "import pandas as pd\n",
    "import numpy as np\n",
    "import seaborn as sns\n",
    "from sentence_transformers import SentenceTransformer, util"
   ]
  },
  {
   "cell_type": "code",
   "execution_count": 5,
   "metadata": {},
   "outputs": [],
   "source": [
    "covid_tokenizer= AutoTokenizer.from_pretrained(\"gsarti/covidbert-nli\")\n",
    "covid_model = AutoModel.from_pretrained(\"gsarti/covidbert-nli\")"
   ]
  },
  {
   "cell_type": "code",
   "execution_count": 6,
   "metadata": {},
   "outputs": [
    {
     "data": {
      "application/vnd.jupyter.widget-view+json": {
       "model_id": "38e54a7134c54b84a04e5abc6e8a34f0",
       "version_major": 2,
       "version_minor": 0
      },
      "text/plain": [
       "HBox(children=(FloatProgress(value=0.0, description='Downloading', max=385.0, style=ProgressStyle(description_…"
      ]
     },
     "metadata": {},
     "output_type": "display_data"
    },
    {
     "name": "stdout",
     "output_type": "stream",
     "text": [
      "\n"
     ]
    },
    {
     "data": {
      "application/vnd.jupyter.widget-view+json": {
       "model_id": "1adfc3fce4af440cbb9649d8cb35a86e",
       "version_major": 2,
       "version_minor": 0
      },
      "text/plain": [
       "HBox(children=(FloatProgress(value=0.0, description='Downloading', max=227845.0, style=ProgressStyle(descripti…"
      ]
     },
     "metadata": {},
     "output_type": "display_data"
    },
    {
     "name": "stdout",
     "output_type": "stream",
     "text": [
      "\n"
     ]
    },
    {
     "data": {
      "application/vnd.jupyter.widget-view+json": {
       "model_id": "8ea61c2d4572466084fb1fe6f8603cb2",
       "version_major": 2,
       "version_minor": 0
      },
      "text/plain": [
       "HBox(children=(FloatProgress(value=0.0, description='Downloading', max=442221694.0, style=ProgressStyle(descri…"
      ]
     },
     "metadata": {},
     "output_type": "display_data"
    },
    {
     "name": "stdout",
     "output_type": "stream",
     "text": [
      "\n"
     ]
    }
   ],
   "source": [
    "scibert_tokenizer = AutoTokenizer.from_pretrained(\"allenai/scibert_scivocab_uncased\")\n",
    "scibert_model = AutoModel.from_pretrained(\"allenai/scibert_scivocab_uncased\")"
   ]
  },
  {
   "cell_type": "code",
   "execution_count": 7,
   "metadata": {},
   "outputs": [
    {
     "data": {
      "application/vnd.jupyter.widget-view+json": {
       "model_id": "b5e282c80f734f98a204469a7f3360da",
       "version_major": 2,
       "version_minor": 0
      },
      "text/plain": [
       "HBox(children=(FloatProgress(value=0.0, description='Downloading', max=231508.0, style=ProgressStyle(descripti…"
      ]
     },
     "metadata": {},
     "output_type": "display_data"
    },
    {
     "name": "stdout",
     "output_type": "stream",
     "text": [
      "\n"
     ]
    },
    {
     "data": {
      "application/vnd.jupyter.widget-view+json": {
       "model_id": "138e2b8d5c454d15b6bcd4312f3de073",
       "version_major": 2,
       "version_minor": 0
      },
      "text/plain": [
       "HBox(children=(FloatProgress(value=0.0, description='Downloading', max=433.0, style=ProgressStyle(description_…"
      ]
     },
     "metadata": {},
     "output_type": "display_data"
    },
    {
     "name": "stdout",
     "output_type": "stream",
     "text": [
      "\n"
     ]
    },
    {
     "data": {
      "application/vnd.jupyter.widget-view+json": {
       "model_id": "4d80a51db1544c7d9a9ea6a74ebfee4f",
       "version_major": 2,
       "version_minor": 0
      },
      "text/plain": [
       "HBox(children=(FloatProgress(value=0.0, description='Downloading', max=440473133.0, style=ProgressStyle(descri…"
      ]
     },
     "metadata": {},
     "output_type": "display_data"
    },
    {
     "name": "stdout",
     "output_type": "stream",
     "text": [
      "\n"
     ]
    }
   ],
   "source": [
    "bert_tokenizer = BertTokenizer.from_pretrained('bert-base-uncased')\n",
    "bert_model = BertModel.from_pretrained('bert-base-uncased')"
   ]
  },
  {
   "cell_type": "code",
   "execution_count": 11,
   "metadata": {},
   "outputs": [],
   "source": [
    "path = \"C:\\\\Users\\\\User\\\\OneDrive - NTNU\\\\NTNU\\\\Prosjekt oppgave NLP\\\\dataset\\\\CORD-19\\\\\"\n",
    "\n",
    "labeled_data = []\n",
    "with open(path + \"labeled_data_cord_19.txt\", \"rb\") as fp:   # Unpickling\n",
    "    labeled_data = pickle.load(fp)"
   ]
  },
  {
   "cell_type": "code",
   "execution_count": null,
   "metadata": {},
   "outputs": [],
   "source": [
    "from pandas import read_csv\n",
    "\n",
    "path = \"C:\\\\Users\\\\User\\\\OneDrive - NTNU\\\\NTNU\\\\Prosjekt oppgave NLP\\\\dataset\\\\CORD-19\\\\\"\n",
    "docs = read_csv(path + \"crod_19_only_rel.csv\")\n",
    "docs.shape"
   ]
  },
  {
   "cell_type": "code",
   "execution_count": 74,
   "metadata": {},
   "outputs": [],
   "source": [
    "path = \"C:\\\\Users\\\\User\\\\OneDrive - NTNU\\\\NTNU\\\\Prosjekt oppgave NLP\\\\dataset\\\\CORD-19\\\\\"\n",
    "topics = read_csv(path + \"topics.csv\")"
   ]
  },
  {
   "cell_type": "code",
   "execution_count": 17,
   "metadata": {},
   "outputs": [],
   "source": [
    "def tokenize(model, tokenizer, sentence):\n",
    "    \n",
    "    # Tokens comes from a process that splits the input into sub-entities with interesting linguistic properties.\n",
    "    tokens = tokenizer.tokenize(sentence.lower())\n",
    "\n",
    "    # This is not sufficient for the model, as it requires integers as input, \n",
    "    # not a problem, let's convert tokens to ids.\n",
    "    tokens_ids = tokenizer.convert_tokens_to_ids(tokens)\n",
    " \n",
    "\n",
    "    # Add the required special tokens\n",
    "    tokens_ids = tokenizer.build_inputs_with_special_tokens(tokens_ids)\n",
    "\n",
    "    # We need to convert to a Deep Learning framework specific format, let's use PyTorch for now.\n",
    "    tokens_pt = torch.tensor([tokens_ids])\n",
    "\n",
    "    # Now we're ready to go through BERT with out input\n",
    "    outputs, pooled = model(tokens_pt)\n",
    "    return pooled"
   ]
  },
  {
   "cell_type": "code",
   "execution_count": 21,
   "metadata": {},
   "outputs": [
    {
     "data": {
      "text/plain": [
       "tensor([[ 6.6705e-02,  1.6534e-01,  8.9143e-01,  9.6088e-01,  4.9221e-01,\n",
       "          7.8532e-01,  5.6010e-01, -9.6881e-01,  5.2060e-01, -2.8431e-01,\n",
       "         -1.3938e-02,  5.1639e-01, -9.8947e-01,  8.5994e-01,  1.4345e-01,\n",
       "         -3.3124e-01, -4.5232e-01, -3.9170e-01, -8.2579e-01, -8.3976e-01,\n",
       "         -1.0989e-01,  2.1799e-01, -9.3995e-01,  4.9136e-01,  9.8346e-01,\n",
       "         -9.7951e-01, -9.9496e-01,  3.8363e-02, -1.0526e-01,  1.1924e-01,\n",
       "          2.4874e-01, -9.9635e-01,  4.3858e-01, -4.1921e-01, -6.6739e-01,\n",
       "          1.4181e-01,  8.5541e-01,  5.9912e-02,  6.1849e-01, -6.1971e-02,\n",
       "         -2.0442e-01,  2.6549e-01,  9.3548e-01, -1.8293e-01,  4.3210e-01,\n",
       "         -2.4999e-01, -3.6837e-01, -2.3932e-01, -9.1719e-01,  6.9558e-01,\n",
       "          2.5983e-01, -2.8439e-01, -4.8147e-01,  9.2463e-01,  8.7717e-01,\n",
       "         -3.1232e-01, -1.0043e-01,  2.1333e-01, -9.1982e-01, -9.5412e-01,\n",
       "          1.1472e-02, -8.7538e-01,  3.3327e-01, -9.2299e-01,  6.4533e-01,\n",
       "         -4.3824e-01, -3.7380e-01, -2.2002e-01,  9.5004e-01,  3.4957e-01,\n",
       "          9.9460e-01,  1.3253e-01,  3.5792e-01,  9.8443e-01,  9.1008e-01,\n",
       "          2.3606e-01, -2.0734e-01, -5.1037e-01,  4.4502e-01, -5.5489e-02,\n",
       "          1.6392e-01, -2.3627e-01, -1.0237e-01, -9.6216e-01, -5.4155e-01,\n",
       "         -4.5550e-01,  2.8617e-01,  9.7711e-01,  7.6216e-01, -3.3157e-01,\n",
       "         -3.9425e-01,  1.9975e-01, -7.7118e-02, -1.6988e-03, -1.7971e-01,\n",
       "          2.8936e-02, -2.1106e-01, -6.9622e-01,  1.7493e-01, -6.1780e-01,\n",
       "         -3.7419e-01,  1.6942e-01,  1.5034e-02, -4.8734e-01,  1.8383e-01,\n",
       "          1.2918e-01, -1.4103e-01, -3.9797e-01, -2.7839e-01,  7.9862e-01,\n",
       "         -5.2441e-01, -3.6448e-01,  1.3948e-01, -2.7800e-01, -3.6166e-01,\n",
       "         -1.7557e-01,  7.6393e-01,  4.6818e-01, -2.6472e-01,  1.4741e-01,\n",
       "          6.6709e-01,  6.9380e-01,  9.5707e-01, -4.6483e-01, -1.7528e-01,\n",
       "          3.1662e-01, -1.1296e-01,  4.4543e-01,  5.7643e-01,  1.6560e-01,\n",
       "         -3.8199e-01, -9.3828e-01, -9.6935e-01,  6.2099e-02, -2.8292e-01,\n",
       "          2.3611e-01,  1.1156e-01, -4.1228e-01,  6.7882e-01,  3.3538e-01,\n",
       "         -5.9380e-01, -2.7988e-01, -2.8081e-02,  4.7955e-01, -6.6417e-01,\n",
       "         -7.4661e-01,  8.7949e-01,  2.0547e-01,  2.9607e-01,  3.3177e-01,\n",
       "         -1.5382e-01, -2.7542e-01, -1.3420e-01,  9.9570e-01, -9.4709e-01,\n",
       "          2.8178e-01,  9.8340e-01, -7.0867e-01, -8.2092e-01, -8.9347e-01,\n",
       "         -9.6078e-02, -2.8329e-01,  2.3895e-02, -1.7686e-01,  3.7117e-01,\n",
       "          9.9158e-01,  4.1527e-01,  8.0411e-01, -9.6743e-02,  9.7749e-01,\n",
       "         -4.8725e-01,  9.9317e-01, -4.0496e-02, -1.1775e-01,  1.4850e-01,\n",
       "          1.2518e-01,  9.7593e-01, -4.9170e-01, -9.1951e-02,  9.3518e-01,\n",
       "         -1.8831e-01,  9.9441e-01, -2.4659e-01,  2.4737e-01,  2.6678e-01,\n",
       "         -1.2904e-01, -5.8007e-01,  1.7651e-01, -1.1241e-01,  4.4982e-01,\n",
       "         -2.6816e-01,  3.8686e-01,  1.2366e-01,  2.1172e-01, -9.7166e-01,\n",
       "          1.4194e-01,  4.3040e-01, -3.8109e-01, -2.2993e-01,  2.7881e-01,\n",
       "          4.3342e-01, -9.4975e-01, -5.0656e-02, -7.1008e-01,  5.3826e-01,\n",
       "          4.1030e-01, -5.2758e-01,  3.3464e-01, -9.9641e-01,  9.9751e-01,\n",
       "          9.4120e-01, -4.9921e-01, -4.8973e-01,  1.0058e-01, -5.6250e-01,\n",
       "          9.0530e-02, -9.7924e-01, -9.7657e-01,  1.8480e-01, -2.0107e-01,\n",
       "          3.2053e-01,  9.7631e-01,  1.6454e-01, -7.1666e-01,  9.7123e-01,\n",
       "          9.6142e-01, -1.4842e-01,  3.1890e-01, -2.9169e-01, -9.6961e-01,\n",
       "         -2.2321e-02, -9.9822e-01,  3.5449e-01,  9.1915e-01, -3.4909e-01,\n",
       "          3.6396e-01,  3.5123e-01,  9.2813e-02, -3.1161e-01, -3.1377e-04,\n",
       "          4.8489e-01,  7.1666e-01, -3.4554e-01, -6.1438e-01, -8.3336e-02,\n",
       "          9.8044e-01, -2.4049e-01,  2.8301e-01, -9.5693e-01, -9.5878e-01,\n",
       "          8.0044e-02, -2.4817e-01,  3.2295e-01, -5.0585e-01, -1.4532e-01,\n",
       "         -4.0809e-01,  1.0251e-02, -9.9135e-01,  8.6936e-01, -3.2118e-01,\n",
       "         -7.8213e-02, -8.6380e-01, -9.6638e-01, -1.4324e-02,  9.8571e-01,\n",
       "          1.8097e-01, -9.7643e-01,  9.9468e-01, -6.5270e-02,  9.5373e-01,\n",
       "         -2.7363e-01, -9.7864e-01, -9.5604e-01,  2.7248e-01, -3.7571e-01,\n",
       "         -9.3308e-01, -2.1912e-01, -7.5873e-01,  6.0000e-01, -4.7031e-01,\n",
       "          4.2167e-01, -4.4443e-01,  1.0876e-01,  9.7933e-01,  2.3692e-01,\n",
       "         -1.1775e-01, -1.3648e-01,  9.7179e-01, -4.1704e-01,  2.7315e-01,\n",
       "          8.7422e-01,  9.5105e-01, -4.6335e-01,  9.7108e-01, -4.4785e-01,\n",
       "          6.2082e-01,  9.8557e-01,  9.9801e-01,  9.5827e-01,  9.9769e-01,\n",
       "         -2.0707e-01,  9.4300e-01,  8.4045e-02,  9.1550e-01, -9.2778e-01,\n",
       "         -1.4673e-01,  9.3593e-01,  1.5584e-01,  4.4644e-02, -6.8262e-01,\n",
       "         -7.4377e-01,  3.6686e-01, -3.6827e-01, -2.2606e-01, -3.3882e-01,\n",
       "          9.4599e-01, -2.6184e-02, -1.3097e-01,  4.8023e-01, -7.8343e-01,\n",
       "         -3.1963e-01, -3.8994e-01, -2.3201e-01,  6.9688e-02,  9.8446e-01,\n",
       "          1.6715e-01,  1.4265e-01,  8.7382e-01,  3.2441e-01,  9.8448e-01,\n",
       "         -3.8916e-01, -9.5745e-01,  8.8918e-01,  5.5405e-02, -1.5784e-01,\n",
       "         -4.0381e-01,  9.8789e-01,  1.7161e-03,  4.4641e-02, -5.0817e-02,\n",
       "         -1.1547e-01, -9.3584e-01,  1.3957e-01, -4.5867e-01,  3.7262e-01,\n",
       "         -9.5181e-01, -4.5819e-01, -4.8707e-01, -1.6571e-01, -8.6076e-02,\n",
       "         -5.3037e-02,  1.4472e-01, -8.0148e-01, -2.7178e-01,  4.2062e-01,\n",
       "         -1.6532e-01, -2.0610e-01, -8.3663e-01, -2.9479e-01, -9.0496e-02,\n",
       "         -4.6325e-01, -7.1079e-02,  5.8322e-02, -9.5900e-01,  8.9588e-01,\n",
       "          1.5236e-01,  8.0131e-01, -3.5849e-02, -6.1804e-02,  2.8743e-01,\n",
       "          1.5331e-01, -3.0422e-01,  3.4592e-01,  2.9723e-01,  5.7983e-01,\n",
       "          9.9786e-01, -3.2703e-01,  4.1290e-01, -4.2108e-01,  1.0157e-01,\n",
       "          4.5019e-01, -2.3229e-01, -4.5157e-01, -8.3429e-01, -2.3837e-01,\n",
       "         -1.9283e-01, -3.0089e-01, -4.9775e-01,  9.8417e-01,  9.8588e-01,\n",
       "          4.0472e-01,  3.8674e-01,  2.6077e-01,  9.7559e-02,  1.9801e-01,\n",
       "          3.0939e-01,  2.5481e-01,  9.8548e-01, -9.8571e-02, -2.9296e-01,\n",
       "         -9.8960e-01, -5.5358e-01,  1.4021e-01,  3.1579e-01, -5.8412e-01,\n",
       "         -4.7648e-01,  8.8818e-01,  2.0810e-01, -2.7913e-01,  1.7268e-01,\n",
       "          3.7909e-01, -8.7773e-01, -1.0377e-01, -2.9744e-01,  5.6306e-01,\n",
       "         -3.8650e-01,  2.1001e-01, -2.6820e-01, -2.6303e-01,  5.4556e-02,\n",
       "          5.5811e-01, -2.4583e-01,  1.5165e-01,  6.5018e-01, -2.2390e-01,\n",
       "         -5.1119e-01, -8.5172e-02,  9.2770e-02, -3.4305e-01,  7.1628e-02,\n",
       "          4.3067e-01, -5.3031e-01, -7.3675e-01,  9.9711e-01, -7.9634e-01,\n",
       "          3.3466e-01, -1.8552e-01,  4.1026e-01, -1.7725e-01, -9.6313e-01,\n",
       "         -1.1842e-01, -2.7312e-01, -3.6350e-01, -9.7156e-01,  5.1811e-01,\n",
       "          9.3038e-02,  9.6422e-01,  3.7409e-01, -9.2977e-01, -2.4431e-01,\n",
       "         -7.0835e-01, -2.8471e-01,  1.4569e-01,  9.8541e-01,  6.3850e-01,\n",
       "         -2.6486e-01, -2.8001e-01, -9.7347e-01,  4.5898e-01, -5.6475e-02,\n",
       "          9.6586e-03, -9.3219e-02,  3.1502e-01,  9.4620e-01, -3.2733e-01,\n",
       "         -7.8112e-01, -7.2135e-02, -5.3355e-01,  7.8943e-02, -9.4633e-01,\n",
       "          9.8241e-01, -1.9528e-01, -4.6757e-01,  1.9854e-01,  9.8673e-01,\n",
       "         -4.5665e-01, -4.9151e-01,  1.9637e-01,  1.2464e-02, -8.3327e-01,\n",
       "         -1.1956e-01, -3.7784e-01,  1.9362e-01, -3.9015e-01,  1.0816e-01,\n",
       "         -1.7257e-02, -2.0996e-01, -1.5807e-01, -8.7221e-01, -1.8061e-01,\n",
       "         -9.0853e-01,  1.6686e-01, -4.2242e-01, -4.5567e-01,  1.9464e-01,\n",
       "         -1.2474e-01,  9.7692e-01, -1.5950e-01, -8.8222e-01,  1.2087e-02,\n",
       "         -7.0145e-01, -9.9697e-01,  8.1020e-01, -3.8046e-01, -1.0898e-01,\n",
       "         -9.8263e-01, -4.3928e-01, -4.7119e-01,  9.1711e-01, -3.1282e-01,\n",
       "         -9.9737e-01, -1.3940e-02,  5.4656e-01,  2.6716e-01,  2.9814e-01,\n",
       "         -3.1931e-01, -5.4913e-03, -9.6586e-01,  4.8485e-01, -7.6179e-02,\n",
       "         -4.7834e-01, -2.5992e-01,  6.1763e-01, -9.7272e-01, -5.0535e-01,\n",
       "         -1.2453e-03, -1.9419e-01,  9.9949e-01,  8.9919e-01, -3.6488e-01,\n",
       "         -9.7684e-01, -1.5816e-01,  2.6070e-01,  3.1902e-01, -4.7433e-01,\n",
       "          2.6856e-01,  4.2507e-01, -8.1154e-01, -9.1381e-01, -2.3101e-01,\n",
       "          2.7488e-01,  7.9877e-01,  4.4022e-01, -9.7998e-01,  3.2528e-01,\n",
       "         -2.9802e-01, -9.5081e-01,  8.2665e-01, -3.2755e-01,  2.5329e-01,\n",
       "         -3.6374e-01, -3.7352e-01, -2.7098e-01, -8.7729e-01,  7.8447e-01,\n",
       "         -4.4574e-01, -2.6967e-01,  4.3672e-01, -1.5943e-01,  9.2149e-01,\n",
       "         -3.1425e-01,  3.3938e-01, -9.8639e-01,  2.4509e-01,  9.8665e-01,\n",
       "          4.2653e-01,  9.5122e-01,  8.7483e-01, -1.2081e-01,  4.5960e-01,\n",
       "         -6.0970e-01, -9.7041e-01,  4.1719e-02,  7.6823e-01, -8.4735e-01,\n",
       "         -6.7107e-02,  2.1579e-01, -8.5966e-01,  1.9090e-01, -2.7685e-01,\n",
       "          5.3317e-01,  9.9602e-01,  9.9912e-01,  9.0589e-01, -1.7806e-01,\n",
       "         -4.1482e-01, -3.7693e-01, -4.0864e-01, -9.8072e-01,  3.8281e-01,\n",
       "          5.2373e-01,  3.2911e-01, -5.8799e-01,  2.2610e-01, -1.8859e-01,\n",
       "         -9.5567e-01, -2.9592e-01,  3.5996e-01, -2.3120e-01, -8.6109e-02,\n",
       "         -3.3166e-01, -3.1148e-01,  9.7016e-01, -4.5657e-01, -2.0611e-01,\n",
       "         -8.4728e-01, -2.9678e-02, -3.6721e-01,  5.3949e-02, -8.7502e-01,\n",
       "         -9.8883e-01, -2.6092e-02,  2.6565e-01, -5.4864e-01,  4.9498e-02,\n",
       "          9.9226e-01,  2.1498e-02, -7.7572e-02,  9.4131e-01, -3.0257e-01,\n",
       "          5.0141e-01, -7.7813e-01, -3.3121e-01, -2.7965e-01, -6.7354e-02,\n",
       "         -4.8797e-01,  9.8094e-01, -7.8804e-01,  3.3887e-02,  9.0027e-02,\n",
       "         -9.9069e-01, -2.1804e-01, -9.9105e-02,  2.7425e-01,  2.5533e-01,\n",
       "         -9.9412e-01,  7.6705e-01,  2.0807e-01,  3.4127e-01, -6.0867e-01,\n",
       "          9.6901e-01, -9.9524e-01,  3.6249e-01,  1.1865e-01,  2.6009e-01,\n",
       "         -7.4560e-01,  2.5994e-01,  8.5081e-02, -9.8146e-01,  6.8548e-01,\n",
       "         -1.8838e-01,  9.6941e-01,  9.8859e-01, -4.0024e-01, -3.0837e-01,\n",
       "         -3.0010e-01,  9.2006e-02, -1.4103e-01, -8.3315e-02, -9.9666e-01,\n",
       "         -9.6311e-01, -1.5975e-01,  1.1258e-01, -3.6063e-01,  1.9232e-01,\n",
       "         -2.3579e-02, -4.5634e-01,  6.4545e-01, -4.7256e-01, -2.9928e-02,\n",
       "         -4.0242e-01, -4.4579e-01, -2.2072e-01, -7.4665e-01,  3.0025e-01,\n",
       "          8.4793e-01, -1.4133e-01, -5.6586e-02, -1.7557e-01,  4.9650e-01,\n",
       "          9.6741e-01, -7.5518e-01,  2.2417e-01, -1.6427e-01, -9.3022e-01,\n",
       "         -4.7417e-01,  7.4673e-02,  2.2574e-01,  2.2843e-01, -9.8338e-01,\n",
       "          4.4180e-01,  1.5154e-01, -4.1335e-01, -1.7959e-01,  9.1119e-01,\n",
       "          2.9355e-01, -2.2297e-01, -1.2446e-01, -9.6243e-01, -6.9493e-02,\n",
       "          2.3458e-01,  9.9876e-01,  9.6005e-01, -9.6329e-01, -1.1599e-01,\n",
       "          3.0798e-01, -1.0747e-01, -9.6872e-01, -9.4262e-02,  4.0725e-01,\n",
       "         -4.0152e-01,  4.0416e-01, -1.1467e-01, -3.5198e-01, -8.0063e-02,\n",
       "          5.0653e-01, -9.8154e-01,  1.6942e-01, -9.9630e-01, -9.8967e-01,\n",
       "         -3.0741e-01, -3.8851e-01,  9.9571e-01,  1.7594e-01,  6.9283e-01,\n",
       "         -9.8548e-01,  8.7235e-04,  8.0095e-02, -9.9254e-02, -9.8939e-01,\n",
       "         -1.1100e-01,  5.8965e-02, -8.7976e-01,  1.5577e-01, -7.7575e-01,\n",
       "         -3.5149e-01, -1.9838e-01, -2.3497e-01, -2.9770e-01, -9.1172e-01,\n",
       "         -1.2943e-01,  9.8431e-01,  1.2698e-01, -5.9023e-01,  4.5527e-01,\n",
       "          9.6063e-01,  1.7526e-01,  2.7333e-01, -2.6916e-01, -9.7838e-01,\n",
       "         -9.0814e-01,  9.9286e-01,  3.3191e-01,  9.4848e-01, -2.1523e-01,\n",
       "         -1.1740e-01, -3.3048e-01,  4.4046e-01, -6.1476e-01, -5.1129e-01,\n",
       "         -8.3087e-01,  1.7600e-01,  3.9793e-01,  4.5812e-02, -3.2543e-01,\n",
       "         -2.6765e-01,  9.8442e-01, -8.8440e-01]], grad_fn=<TanhBackward>)"
      ]
     },
     "execution_count": 21,
     "metadata": {},
     "output_type": "execute_result"
    }
   ],
   "source": [
    "sent = \"Applying this asymptotic estimator to cumulative, n95, coronavirus, corona pandemic\"\n",
    "tokenize(scibert_model, scibert_tokenizer, sent)"
   ]
  },
  {
   "cell_type": "code",
   "execution_count": 25,
   "metadata": {},
   "outputs": [
    {
     "name": "stderr",
     "output_type": "stream",
     "text": [
      "C:\\Users\\User\\AppData\\Local\\Continuum\\anaconda3\\lib\\site-packages\\IPython\\core\\interactiveshell.py:3063: DtypeWarning: Columns (4,5,6,13,14,16) have mixed types.Specify dtype option on import or set low_memory=False.\n",
      "  interactivity=interactivity, compiler=compiler, result=result)\n"
     ]
    }
   ],
   "source": [
    "path_metadata = \"C:\\\\Users\\\\User\\\\OneDrive - NTNU\\\\NTNU\\\\Prosjekt oppgave NLP\\\\dataset\\\\CORD-19\\\\metadata\\\\\"\n",
    "file = \"metadata.csv\"\n",
    "\n",
    "metadata_pd = pd.read_csv(path_metadata + file)"
   ]
  },
  {
   "cell_type": "code",
   "execution_count": 26,
   "metadata": {},
   "outputs": [],
   "source": [
    "path = \"C:\\\\Users\\\\User\\\\OneDrive - NTNU\\\\NTNU\\\\Prosjekt oppgave NLP\\\\dataset\\\\CORD-19\\\\\"\n",
    "relvency_data = pd.read_csv(path + \"relevance_data.csv\")"
   ]
  },
  {
   "cell_type": "code",
   "execution_count": 27,
   "metadata": {},
   "outputs": [
    {
     "data": {
      "text/html": [
       "<div>\n",
       "<style scoped>\n",
       "    .dataframe tbody tr th:only-of-type {\n",
       "        vertical-align: middle;\n",
       "    }\n",
       "\n",
       "    .dataframe tbody tr th {\n",
       "        vertical-align: top;\n",
       "    }\n",
       "\n",
       "    .dataframe thead th {\n",
       "        text-align: right;\n",
       "    }\n",
       "</style>\n",
       "<table border=\"1\" class=\"dataframe\">\n",
       "  <thead>\n",
       "    <tr style=\"text-align: right;\">\n",
       "      <th></th>\n",
       "      <th>Unnamed: 0</th>\n",
       "      <th>topic_id</th>\n",
       "      <th>round_id</th>\n",
       "      <th>cord_uid</th>\n",
       "      <th>relevancy</th>\n",
       "    </tr>\n",
       "  </thead>\n",
       "  <tbody>\n",
       "    <tr>\n",
       "      <th>0</th>\n",
       "      <td>0</td>\n",
       "      <td>1</td>\n",
       "      <td>4.5</td>\n",
       "      <td>005b2j4b</td>\n",
       "      <td>2</td>\n",
       "    </tr>\n",
       "    <tr>\n",
       "      <th>1</th>\n",
       "      <td>1</td>\n",
       "      <td>1</td>\n",
       "      <td>4.0</td>\n",
       "      <td>00fmeepz</td>\n",
       "      <td>1</td>\n",
       "    </tr>\n",
       "  </tbody>\n",
       "</table>\n",
       "</div>"
      ],
      "text/plain": [
       "   Unnamed: 0  topic_id  round_id  cord_uid  relevancy\n",
       "0           0         1       4.5  005b2j4b          2\n",
       "1           1         1       4.0  00fmeepz          1"
      ]
     },
     "execution_count": 27,
     "metadata": {},
     "output_type": "execute_result"
    }
   ],
   "source": [
    "relvency_data.head(2)"
   ]
  },
  {
   "cell_type": "code",
   "execution_count": 156,
   "metadata": {},
   "outputs": [],
   "source": [
    "top_id = 40"
   ]
  },
  {
   "cell_type": "code",
   "execution_count": 157,
   "metadata": {},
   "outputs": [],
   "source": [
    "relvency_data_top_1 = relvency_data[relvency_data[\"topic_id\"] == top_id]"
   ]
  },
  {
   "cell_type": "code",
   "execution_count": 158,
   "metadata": {},
   "outputs": [],
   "source": [
    "relvency_data_top_1_red = relvency_data_top_1.sample(n=1000)"
   ]
  },
  {
   "cell_type": "code",
   "execution_count": 159,
   "metadata": {},
   "outputs": [],
   "source": [
    "cord_uid = relvency_data_top_1_red.cord_uid.unique()"
   ]
  },
  {
   "cell_type": "code",
   "execution_count": 37,
   "metadata": {},
   "outputs": [
    {
     "data": {
      "text/plain": [
       "array(['vmhrt6bk', '4ko557n1', '262bcl7h', 'x3sb1o4u', 'kbux2l4o',\n",
       "       'ft4rbcxf', 'ut61qxyc', 'bupb4ooh', 'rehr84c7', 'uvavdk6n',\n",
       "       '22fc1qly', 'lj8t52yl', '0t2a5500', 'wuegn0jg', 'pjgngs6u',\n",
       "       'e1urdt9w', 'f3g3ek5u', 'qubmr10h', 'tfspedf1', 'zv0ysi8m',\n",
       "       'ex7rta8f', 'a845az43', 'gs4r9j7o', '43gik8e3', 'zxvim4t8',\n",
       "       'v92f17b6', '6bzfptbs', '6cbnpqjj', 'pidy7erw', 'u1k48t29',\n",
       "       'z122v1uz', 'frkk6w0a', 'g4bsul8u', 'p15bdmo2', 'kbvy4g7i',\n",
       "       'igdkz3ht', 'pphi42lj', 'gy8d8285', 'u7u75sl0', 'sphwclzs',\n",
       "       '73a7uvyz', 'i2ppoe55', '8xz0ddci', 'xubsodnk', 'pn9nwl64',\n",
       "       '5fg87lvu', '0khg28ex', 'z9dolxky', 'uj0i2anr', '5hth74jb',\n",
       "       'uj96zdld', 'flc25wlz', 'bawgldfi', 'u19e9j2w', 'sn1a7ikq',\n",
       "       '4ulei2uh', '8arwlhf0', 'ptizke03', 'juz9jnfk', '8pkrg0mx',\n",
       "       'uqahztur', 'dr7cz1jo', 'm40kwgcg', 'z0ni2jsr', 'vndydx85',\n",
       "       'btiy6jhr', 'xvfl7ycj', 'x64cwmqf', 'hwjr891o', 'ox7xetlq',\n",
       "       't8j4q00m', 'xa8b1nuo', '1eytelxn', 'xvnv17zy', 'uzdydmmh',\n",
       "       '405jvqyv', 'mwj2qby4', '6r08hj06', '5uwzo304', '2zaxn6tq',\n",
       "       '8dhoxvvs', 'vrqe7kxm', 'ol0bj3hs', '9jdfp9y3', 'hu9oxea1',\n",
       "       '22ioujwl', '2mrtq4ya', '08efpohc', 'b9r4cyp7', 'k2ixwz9w',\n",
       "       'tomsdx3z', 'z73bozz7', 'ailr08y5', 'v6ci69n0', 'nzwe7hpg',\n",
       "       '1bapn9w0', 'ienet82k', '32vs98ya', '8eg8zqnw', 'zph6r4il'],\n",
       "      dtype=object)"
      ]
     },
     "execution_count": 37,
     "metadata": {},
     "output_type": "execute_result"
    }
   ],
   "source": []
  },
  {
   "cell_type": "code",
   "execution_count": 160,
   "metadata": {},
   "outputs": [],
   "source": [
    "metatada_red = metadata_pd[metadata_pd[\"cord_uid\"].isin(cord_uid)]"
   ]
  },
  {
   "cell_type": "code",
   "execution_count": 161,
   "metadata": {},
   "outputs": [],
   "source": [
    "metatada_red = metatada_red[[\"cord_uid\", \"title\", \"abstract\"]]"
   ]
  },
  {
   "cell_type": "code",
   "execution_count": null,
   "metadata": {},
   "outputs": [],
   "source": []
  },
  {
   "cell_type": "code",
   "execution_count": 162,
   "metadata": {},
   "outputs": [
    {
     "ename": "RuntimeError",
     "evalue": "[enforce fail at ..\\c10\\core\\CPUAllocator.cpp:72] data. DefaultCPUAllocator: not enough memory: you tried to allocate 147456 bytes. Buy new RAM!\n",
     "output_type": "error",
     "traceback": [
      "\u001b[1;31m---------------------------------------------------------------------------\u001b[0m",
      "\u001b[1;31mRuntimeError\u001b[0m                              Traceback (most recent call last)",
      "\u001b[1;32m<ipython-input-162-1993c1451c87>\u001b[0m in \u001b[0;36m<module>\u001b[1;34m\u001b[0m\n\u001b[0;32m      1\u001b[0m embeddings = metatada_red.apply(\n\u001b[1;32m----> 2\u001b[1;33m     lambda row: tokenize(scibert_model, scibert_tokenizer, row[\"title\"]) , axis = 1)\n\u001b[0m\u001b[0;32m      3\u001b[0m \u001b[0mmetatada_red\u001b[0m\u001b[1;33m[\u001b[0m\u001b[1;34m\"sci_bert_title\"\u001b[0m\u001b[1;33m]\u001b[0m \u001b[1;33m=\u001b[0m \u001b[0membeddings\u001b[0m\u001b[1;33m\u001b[0m\u001b[1;33m\u001b[0m\u001b[0m\n",
      "\u001b[1;32m~\\AppData\\Local\\Continuum\\anaconda3\\lib\\site-packages\\pandas\\core\\frame.py\u001b[0m in \u001b[0;36mapply\u001b[1;34m(self, func, axis, raw, result_type, args, **kwds)\u001b[0m\n\u001b[0;32m   6876\u001b[0m             \u001b[0mkwds\u001b[0m\u001b[1;33m=\u001b[0m\u001b[0mkwds\u001b[0m\u001b[1;33m,\u001b[0m\u001b[1;33m\u001b[0m\u001b[1;33m\u001b[0m\u001b[0m\n\u001b[0;32m   6877\u001b[0m         )\n\u001b[1;32m-> 6878\u001b[1;33m         \u001b[1;32mreturn\u001b[0m \u001b[0mop\u001b[0m\u001b[1;33m.\u001b[0m\u001b[0mget_result\u001b[0m\u001b[1;33m(\u001b[0m\u001b[1;33m)\u001b[0m\u001b[1;33m\u001b[0m\u001b[1;33m\u001b[0m\u001b[0m\n\u001b[0m\u001b[0;32m   6879\u001b[0m \u001b[1;33m\u001b[0m\u001b[0m\n\u001b[0;32m   6880\u001b[0m     \u001b[1;32mdef\u001b[0m \u001b[0mapplymap\u001b[0m\u001b[1;33m(\u001b[0m\u001b[0mself\u001b[0m\u001b[1;33m,\u001b[0m \u001b[0mfunc\u001b[0m\u001b[1;33m)\u001b[0m \u001b[1;33m->\u001b[0m \u001b[1;34m\"DataFrame\"\u001b[0m\u001b[1;33m:\u001b[0m\u001b[1;33m\u001b[0m\u001b[1;33m\u001b[0m\u001b[0m\n",
      "\u001b[1;32m~\\AppData\\Local\\Continuum\\anaconda3\\lib\\site-packages\\pandas\\core\\apply.py\u001b[0m in \u001b[0;36mget_result\u001b[1;34m(self)\u001b[0m\n\u001b[0;32m    184\u001b[0m             \u001b[1;32mreturn\u001b[0m \u001b[0mself\u001b[0m\u001b[1;33m.\u001b[0m\u001b[0mapply_raw\u001b[0m\u001b[1;33m(\u001b[0m\u001b[1;33m)\u001b[0m\u001b[1;33m\u001b[0m\u001b[1;33m\u001b[0m\u001b[0m\n\u001b[0;32m    185\u001b[0m \u001b[1;33m\u001b[0m\u001b[0m\n\u001b[1;32m--> 186\u001b[1;33m         \u001b[1;32mreturn\u001b[0m \u001b[0mself\u001b[0m\u001b[1;33m.\u001b[0m\u001b[0mapply_standard\u001b[0m\u001b[1;33m(\u001b[0m\u001b[1;33m)\u001b[0m\u001b[1;33m\u001b[0m\u001b[1;33m\u001b[0m\u001b[0m\n\u001b[0m\u001b[0;32m    187\u001b[0m \u001b[1;33m\u001b[0m\u001b[0m\n\u001b[0;32m    188\u001b[0m     \u001b[1;32mdef\u001b[0m \u001b[0mapply_empty_result\u001b[0m\u001b[1;33m(\u001b[0m\u001b[0mself\u001b[0m\u001b[1;33m)\u001b[0m\u001b[1;33m:\u001b[0m\u001b[1;33m\u001b[0m\u001b[1;33m\u001b[0m\u001b[0m\n",
      "\u001b[1;32m~\\AppData\\Local\\Continuum\\anaconda3\\lib\\site-packages\\pandas\\core\\apply.py\u001b[0m in \u001b[0;36mapply_standard\u001b[1;34m(self)\u001b[0m\n\u001b[0;32m    294\u001b[0m             \u001b[1;32mtry\u001b[0m\u001b[1;33m:\u001b[0m\u001b[1;33m\u001b[0m\u001b[1;33m\u001b[0m\u001b[0m\n\u001b[0;32m    295\u001b[0m                 result = libreduction.compute_reduction(\n\u001b[1;32m--> 296\u001b[1;33m                     \u001b[0mvalues\u001b[0m\u001b[1;33m,\u001b[0m \u001b[0mself\u001b[0m\u001b[1;33m.\u001b[0m\u001b[0mf\u001b[0m\u001b[1;33m,\u001b[0m \u001b[0maxis\u001b[0m\u001b[1;33m=\u001b[0m\u001b[0mself\u001b[0m\u001b[1;33m.\u001b[0m\u001b[0maxis\u001b[0m\u001b[1;33m,\u001b[0m \u001b[0mdummy\u001b[0m\u001b[1;33m=\u001b[0m\u001b[0mdummy\u001b[0m\u001b[1;33m,\u001b[0m \u001b[0mlabels\u001b[0m\u001b[1;33m=\u001b[0m\u001b[0mlabels\u001b[0m\u001b[1;33m\u001b[0m\u001b[1;33m\u001b[0m\u001b[0m\n\u001b[0m\u001b[0;32m    297\u001b[0m                 )\n\u001b[0;32m    298\u001b[0m             \u001b[1;32mexcept\u001b[0m \u001b[0mValueError\u001b[0m \u001b[1;32mas\u001b[0m \u001b[0merr\u001b[0m\u001b[1;33m:\u001b[0m\u001b[1;33m\u001b[0m\u001b[1;33m\u001b[0m\u001b[0m\n",
      "\u001b[1;32mpandas\\_libs\\reduction.pyx\u001b[0m in \u001b[0;36mpandas._libs.reduction.compute_reduction\u001b[1;34m()\u001b[0m\n",
      "\u001b[1;32mpandas\\_libs\\reduction.pyx\u001b[0m in \u001b[0;36mpandas._libs.reduction.Reducer.get_result\u001b[1;34m()\u001b[0m\n",
      "\u001b[1;32m<ipython-input-162-1993c1451c87>\u001b[0m in \u001b[0;36m<lambda>\u001b[1;34m(row)\u001b[0m\n\u001b[0;32m      1\u001b[0m embeddings = metatada_red.apply(\n\u001b[1;32m----> 2\u001b[1;33m     lambda row: tokenize(scibert_model, scibert_tokenizer, row[\"title\"]) , axis = 1)\n\u001b[0m\u001b[0;32m      3\u001b[0m \u001b[0mmetatada_red\u001b[0m\u001b[1;33m[\u001b[0m\u001b[1;34m\"sci_bert_title\"\u001b[0m\u001b[1;33m]\u001b[0m \u001b[1;33m=\u001b[0m \u001b[0membeddings\u001b[0m\u001b[1;33m\u001b[0m\u001b[1;33m\u001b[0m\u001b[0m\n",
      "\u001b[1;32m<ipython-input-17-46d450727c98>\u001b[0m in \u001b[0;36mtokenize\u001b[1;34m(model, tokenizer, sentence)\u001b[0m\n\u001b[0;32m     16\u001b[0m \u001b[1;33m\u001b[0m\u001b[0m\n\u001b[0;32m     17\u001b[0m     \u001b[1;31m# Now we're ready to go through BERT with out input\u001b[0m\u001b[1;33m\u001b[0m\u001b[1;33m\u001b[0m\u001b[1;33m\u001b[0m\u001b[0m\n\u001b[1;32m---> 18\u001b[1;33m     \u001b[0moutputs\u001b[0m\u001b[1;33m,\u001b[0m \u001b[0mpooled\u001b[0m \u001b[1;33m=\u001b[0m \u001b[0mmodel\u001b[0m\u001b[1;33m(\u001b[0m\u001b[0mtokens_pt\u001b[0m\u001b[1;33m)\u001b[0m\u001b[1;33m\u001b[0m\u001b[1;33m\u001b[0m\u001b[0m\n\u001b[0m\u001b[0;32m     19\u001b[0m     \u001b[1;32mreturn\u001b[0m \u001b[0mpooled\u001b[0m\u001b[1;33m\u001b[0m\u001b[1;33m\u001b[0m\u001b[0m\n",
      "\u001b[1;32m~\\AppData\\Local\\Continuum\\anaconda3\\lib\\site-packages\\torch\\nn\\modules\\module.py\u001b[0m in \u001b[0;36m__call__\u001b[1;34m(self, *input, **kwargs)\u001b[0m\n\u001b[0;32m    545\u001b[0m             \u001b[0mresult\u001b[0m \u001b[1;33m=\u001b[0m \u001b[0mself\u001b[0m\u001b[1;33m.\u001b[0m\u001b[0m_slow_forward\u001b[0m\u001b[1;33m(\u001b[0m\u001b[1;33m*\u001b[0m\u001b[0minput\u001b[0m\u001b[1;33m,\u001b[0m \u001b[1;33m**\u001b[0m\u001b[0mkwargs\u001b[0m\u001b[1;33m)\u001b[0m\u001b[1;33m\u001b[0m\u001b[1;33m\u001b[0m\u001b[0m\n\u001b[0;32m    546\u001b[0m         \u001b[1;32melse\u001b[0m\u001b[1;33m:\u001b[0m\u001b[1;33m\u001b[0m\u001b[1;33m\u001b[0m\u001b[0m\n\u001b[1;32m--> 547\u001b[1;33m             \u001b[0mresult\u001b[0m \u001b[1;33m=\u001b[0m \u001b[0mself\u001b[0m\u001b[1;33m.\u001b[0m\u001b[0mforward\u001b[0m\u001b[1;33m(\u001b[0m\u001b[1;33m*\u001b[0m\u001b[0minput\u001b[0m\u001b[1;33m,\u001b[0m \u001b[1;33m**\u001b[0m\u001b[0mkwargs\u001b[0m\u001b[1;33m)\u001b[0m\u001b[1;33m\u001b[0m\u001b[1;33m\u001b[0m\u001b[0m\n\u001b[0m\u001b[0;32m    548\u001b[0m         \u001b[1;32mfor\u001b[0m \u001b[0mhook\u001b[0m \u001b[1;32min\u001b[0m \u001b[0mself\u001b[0m\u001b[1;33m.\u001b[0m\u001b[0m_forward_hooks\u001b[0m\u001b[1;33m.\u001b[0m\u001b[0mvalues\u001b[0m\u001b[1;33m(\u001b[0m\u001b[1;33m)\u001b[0m\u001b[1;33m:\u001b[0m\u001b[1;33m\u001b[0m\u001b[1;33m\u001b[0m\u001b[0m\n\u001b[0;32m    549\u001b[0m             \u001b[0mhook_result\u001b[0m \u001b[1;33m=\u001b[0m \u001b[0mhook\u001b[0m\u001b[1;33m(\u001b[0m\u001b[0mself\u001b[0m\u001b[1;33m,\u001b[0m \u001b[0minput\u001b[0m\u001b[1;33m,\u001b[0m \u001b[0mresult\u001b[0m\u001b[1;33m)\u001b[0m\u001b[1;33m\u001b[0m\u001b[1;33m\u001b[0m\u001b[0m\n",
      "\u001b[1;32m~\\AppData\\Local\\Continuum\\anaconda3\\lib\\site-packages\\transformers\\modeling_bert.py\u001b[0m in \u001b[0;36mforward\u001b[1;34m(self, input_ids, attention_mask, token_type_ids, position_ids, head_mask, inputs_embeds, encoder_hidden_states, encoder_attention_mask, output_attentions, output_hidden_states, return_dict)\u001b[0m\n\u001b[0;32m    839\u001b[0m             \u001b[0moutput_attentions\u001b[0m\u001b[1;33m=\u001b[0m\u001b[0moutput_attentions\u001b[0m\u001b[1;33m,\u001b[0m\u001b[1;33m\u001b[0m\u001b[1;33m\u001b[0m\u001b[0m\n\u001b[0;32m    840\u001b[0m             \u001b[0moutput_hidden_states\u001b[0m\u001b[1;33m=\u001b[0m\u001b[0moutput_hidden_states\u001b[0m\u001b[1;33m,\u001b[0m\u001b[1;33m\u001b[0m\u001b[1;33m\u001b[0m\u001b[0m\n\u001b[1;32m--> 841\u001b[1;33m             \u001b[0mreturn_dict\u001b[0m\u001b[1;33m=\u001b[0m\u001b[0mreturn_dict\u001b[0m\u001b[1;33m,\u001b[0m\u001b[1;33m\u001b[0m\u001b[1;33m\u001b[0m\u001b[0m\n\u001b[0m\u001b[0;32m    842\u001b[0m         )\n\u001b[0;32m    843\u001b[0m         \u001b[0msequence_output\u001b[0m \u001b[1;33m=\u001b[0m \u001b[0mencoder_outputs\u001b[0m\u001b[1;33m[\u001b[0m\u001b[1;36m0\u001b[0m\u001b[1;33m]\u001b[0m\u001b[1;33m\u001b[0m\u001b[1;33m\u001b[0m\u001b[0m\n",
      "\u001b[1;32m~\\AppData\\Local\\Continuum\\anaconda3\\lib\\site-packages\\torch\\nn\\modules\\module.py\u001b[0m in \u001b[0;36m__call__\u001b[1;34m(self, *input, **kwargs)\u001b[0m\n\u001b[0;32m    545\u001b[0m             \u001b[0mresult\u001b[0m \u001b[1;33m=\u001b[0m \u001b[0mself\u001b[0m\u001b[1;33m.\u001b[0m\u001b[0m_slow_forward\u001b[0m\u001b[1;33m(\u001b[0m\u001b[1;33m*\u001b[0m\u001b[0minput\u001b[0m\u001b[1;33m,\u001b[0m \u001b[1;33m**\u001b[0m\u001b[0mkwargs\u001b[0m\u001b[1;33m)\u001b[0m\u001b[1;33m\u001b[0m\u001b[1;33m\u001b[0m\u001b[0m\n\u001b[0;32m    546\u001b[0m         \u001b[1;32melse\u001b[0m\u001b[1;33m:\u001b[0m\u001b[1;33m\u001b[0m\u001b[1;33m\u001b[0m\u001b[0m\n\u001b[1;32m--> 547\u001b[1;33m             \u001b[0mresult\u001b[0m \u001b[1;33m=\u001b[0m \u001b[0mself\u001b[0m\u001b[1;33m.\u001b[0m\u001b[0mforward\u001b[0m\u001b[1;33m(\u001b[0m\u001b[1;33m*\u001b[0m\u001b[0minput\u001b[0m\u001b[1;33m,\u001b[0m \u001b[1;33m**\u001b[0m\u001b[0mkwargs\u001b[0m\u001b[1;33m)\u001b[0m\u001b[1;33m\u001b[0m\u001b[1;33m\u001b[0m\u001b[0m\n\u001b[0m\u001b[0;32m    548\u001b[0m         \u001b[1;32mfor\u001b[0m \u001b[0mhook\u001b[0m \u001b[1;32min\u001b[0m \u001b[0mself\u001b[0m\u001b[1;33m.\u001b[0m\u001b[0m_forward_hooks\u001b[0m\u001b[1;33m.\u001b[0m\u001b[0mvalues\u001b[0m\u001b[1;33m(\u001b[0m\u001b[1;33m)\u001b[0m\u001b[1;33m:\u001b[0m\u001b[1;33m\u001b[0m\u001b[1;33m\u001b[0m\u001b[0m\n\u001b[0;32m    549\u001b[0m             \u001b[0mhook_result\u001b[0m \u001b[1;33m=\u001b[0m \u001b[0mhook\u001b[0m\u001b[1;33m(\u001b[0m\u001b[0mself\u001b[0m\u001b[1;33m,\u001b[0m \u001b[0minput\u001b[0m\u001b[1;33m,\u001b[0m \u001b[0mresult\u001b[0m\u001b[1;33m)\u001b[0m\u001b[1;33m\u001b[0m\u001b[1;33m\u001b[0m\u001b[0m\n",
      "\u001b[1;32m~\\AppData\\Local\\Continuum\\anaconda3\\lib\\site-packages\\transformers\\modeling_bert.py\u001b[0m in \u001b[0;36mforward\u001b[1;34m(self, hidden_states, attention_mask, head_mask, encoder_hidden_states, encoder_attention_mask, output_attentions, output_hidden_states, return_dict)\u001b[0m\n\u001b[0;32m    480\u001b[0m                     \u001b[0mencoder_hidden_states\u001b[0m\u001b[1;33m,\u001b[0m\u001b[1;33m\u001b[0m\u001b[1;33m\u001b[0m\u001b[0m\n\u001b[0;32m    481\u001b[0m                     \u001b[0mencoder_attention_mask\u001b[0m\u001b[1;33m,\u001b[0m\u001b[1;33m\u001b[0m\u001b[1;33m\u001b[0m\u001b[0m\n\u001b[1;32m--> 482\u001b[1;33m                     \u001b[0moutput_attentions\u001b[0m\u001b[1;33m,\u001b[0m\u001b[1;33m\u001b[0m\u001b[1;33m\u001b[0m\u001b[0m\n\u001b[0m\u001b[0;32m    483\u001b[0m                 )\n\u001b[0;32m    484\u001b[0m             \u001b[0mhidden_states\u001b[0m \u001b[1;33m=\u001b[0m \u001b[0mlayer_outputs\u001b[0m\u001b[1;33m[\u001b[0m\u001b[1;36m0\u001b[0m\u001b[1;33m]\u001b[0m\u001b[1;33m\u001b[0m\u001b[1;33m\u001b[0m\u001b[0m\n",
      "\u001b[1;32m~\\AppData\\Local\\Continuum\\anaconda3\\lib\\site-packages\\torch\\nn\\modules\\module.py\u001b[0m in \u001b[0;36m__call__\u001b[1;34m(self, *input, **kwargs)\u001b[0m\n\u001b[0;32m    545\u001b[0m             \u001b[0mresult\u001b[0m \u001b[1;33m=\u001b[0m \u001b[0mself\u001b[0m\u001b[1;33m.\u001b[0m\u001b[0m_slow_forward\u001b[0m\u001b[1;33m(\u001b[0m\u001b[1;33m*\u001b[0m\u001b[0minput\u001b[0m\u001b[1;33m,\u001b[0m \u001b[1;33m**\u001b[0m\u001b[0mkwargs\u001b[0m\u001b[1;33m)\u001b[0m\u001b[1;33m\u001b[0m\u001b[1;33m\u001b[0m\u001b[0m\n\u001b[0;32m    546\u001b[0m         \u001b[1;32melse\u001b[0m\u001b[1;33m:\u001b[0m\u001b[1;33m\u001b[0m\u001b[1;33m\u001b[0m\u001b[0m\n\u001b[1;32m--> 547\u001b[1;33m             \u001b[0mresult\u001b[0m \u001b[1;33m=\u001b[0m \u001b[0mself\u001b[0m\u001b[1;33m.\u001b[0m\u001b[0mforward\u001b[0m\u001b[1;33m(\u001b[0m\u001b[1;33m*\u001b[0m\u001b[0minput\u001b[0m\u001b[1;33m,\u001b[0m \u001b[1;33m**\u001b[0m\u001b[0mkwargs\u001b[0m\u001b[1;33m)\u001b[0m\u001b[1;33m\u001b[0m\u001b[1;33m\u001b[0m\u001b[0m\n\u001b[0m\u001b[0;32m    548\u001b[0m         \u001b[1;32mfor\u001b[0m \u001b[0mhook\u001b[0m \u001b[1;32min\u001b[0m \u001b[0mself\u001b[0m\u001b[1;33m.\u001b[0m\u001b[0m_forward_hooks\u001b[0m\u001b[1;33m.\u001b[0m\u001b[0mvalues\u001b[0m\u001b[1;33m(\u001b[0m\u001b[1;33m)\u001b[0m\u001b[1;33m:\u001b[0m\u001b[1;33m\u001b[0m\u001b[1;33m\u001b[0m\u001b[0m\n\u001b[0;32m    549\u001b[0m             \u001b[0mhook_result\u001b[0m \u001b[1;33m=\u001b[0m \u001b[0mhook\u001b[0m\u001b[1;33m(\u001b[0m\u001b[0mself\u001b[0m\u001b[1;33m,\u001b[0m \u001b[0minput\u001b[0m\u001b[1;33m,\u001b[0m \u001b[0mresult\u001b[0m\u001b[1;33m)\u001b[0m\u001b[1;33m\u001b[0m\u001b[1;33m\u001b[0m\u001b[0m\n",
      "\u001b[1;32m~\\AppData\\Local\\Continuum\\anaconda3\\lib\\site-packages\\transformers\\modeling_bert.py\u001b[0m in \u001b[0;36mforward\u001b[1;34m(self, hidden_states, attention_mask, head_mask, encoder_hidden_states, encoder_attention_mask, output_attentions)\u001b[0m\n\u001b[0;32m    421\u001b[0m \u001b[1;33m\u001b[0m\u001b[0m\n\u001b[0;32m    422\u001b[0m         layer_output = apply_chunking_to_forward(\n\u001b[1;32m--> 423\u001b[1;33m             \u001b[0mself\u001b[0m\u001b[1;33m.\u001b[0m\u001b[0mfeed_forward_chunk\u001b[0m\u001b[1;33m,\u001b[0m \u001b[0mself\u001b[0m\u001b[1;33m.\u001b[0m\u001b[0mchunk_size_feed_forward\u001b[0m\u001b[1;33m,\u001b[0m \u001b[0mself\u001b[0m\u001b[1;33m.\u001b[0m\u001b[0mseq_len_dim\u001b[0m\u001b[1;33m,\u001b[0m \u001b[0mattention_output\u001b[0m\u001b[1;33m\u001b[0m\u001b[1;33m\u001b[0m\u001b[0m\n\u001b[0m\u001b[0;32m    424\u001b[0m         )\n\u001b[0;32m    425\u001b[0m         \u001b[0moutputs\u001b[0m \u001b[1;33m=\u001b[0m \u001b[1;33m(\u001b[0m\u001b[0mlayer_output\u001b[0m\u001b[1;33m,\u001b[0m\u001b[1;33m)\u001b[0m \u001b[1;33m+\u001b[0m \u001b[0moutputs\u001b[0m\u001b[1;33m\u001b[0m\u001b[1;33m\u001b[0m\u001b[0m\n",
      "\u001b[1;32m~\\AppData\\Local\\Continuum\\anaconda3\\lib\\site-packages\\transformers\\modeling_utils.py\u001b[0m in \u001b[0;36mapply_chunking_to_forward\u001b[1;34m(forward_fn, chunk_size, chunk_dim, *input_tensors)\u001b[0m\n\u001b[0;32m   1670\u001b[0m         \u001b[1;32mreturn\u001b[0m \u001b[0mtorch\u001b[0m\u001b[1;33m.\u001b[0m\u001b[0mcat\u001b[0m\u001b[1;33m(\u001b[0m\u001b[0moutput_chunks\u001b[0m\u001b[1;33m,\u001b[0m \u001b[0mdim\u001b[0m\u001b[1;33m=\u001b[0m\u001b[0mchunk_dim\u001b[0m\u001b[1;33m)\u001b[0m\u001b[1;33m\u001b[0m\u001b[1;33m\u001b[0m\u001b[0m\n\u001b[0;32m   1671\u001b[0m \u001b[1;33m\u001b[0m\u001b[0m\n\u001b[1;32m-> 1672\u001b[1;33m     \u001b[1;32mreturn\u001b[0m \u001b[0mforward_fn\u001b[0m\u001b[1;33m(\u001b[0m\u001b[1;33m*\u001b[0m\u001b[0minput_tensors\u001b[0m\u001b[1;33m)\u001b[0m\u001b[1;33m\u001b[0m\u001b[1;33m\u001b[0m\u001b[0m\n\u001b[0m",
      "\u001b[1;32m~\\AppData\\Local\\Continuum\\anaconda3\\lib\\site-packages\\transformers\\modeling_bert.py\u001b[0m in \u001b[0;36mfeed_forward_chunk\u001b[1;34m(self, attention_output)\u001b[0m\n\u001b[0;32m    427\u001b[0m \u001b[1;33m\u001b[0m\u001b[0m\n\u001b[0;32m    428\u001b[0m     \u001b[1;32mdef\u001b[0m \u001b[0mfeed_forward_chunk\u001b[0m\u001b[1;33m(\u001b[0m\u001b[0mself\u001b[0m\u001b[1;33m,\u001b[0m \u001b[0mattention_output\u001b[0m\u001b[1;33m)\u001b[0m\u001b[1;33m:\u001b[0m\u001b[1;33m\u001b[0m\u001b[1;33m\u001b[0m\u001b[0m\n\u001b[1;32m--> 429\u001b[1;33m         \u001b[0mintermediate_output\u001b[0m \u001b[1;33m=\u001b[0m \u001b[0mself\u001b[0m\u001b[1;33m.\u001b[0m\u001b[0mintermediate\u001b[0m\u001b[1;33m(\u001b[0m\u001b[0mattention_output\u001b[0m\u001b[1;33m)\u001b[0m\u001b[1;33m\u001b[0m\u001b[1;33m\u001b[0m\u001b[0m\n\u001b[0m\u001b[0;32m    430\u001b[0m         \u001b[0mlayer_output\u001b[0m \u001b[1;33m=\u001b[0m \u001b[0mself\u001b[0m\u001b[1;33m.\u001b[0m\u001b[0moutput\u001b[0m\u001b[1;33m(\u001b[0m\u001b[0mintermediate_output\u001b[0m\u001b[1;33m,\u001b[0m \u001b[0mattention_output\u001b[0m\u001b[1;33m)\u001b[0m\u001b[1;33m\u001b[0m\u001b[1;33m\u001b[0m\u001b[0m\n\u001b[0;32m    431\u001b[0m         \u001b[1;32mreturn\u001b[0m \u001b[0mlayer_output\u001b[0m\u001b[1;33m\u001b[0m\u001b[1;33m\u001b[0m\u001b[0m\n",
      "\u001b[1;32m~\\AppData\\Local\\Continuum\\anaconda3\\lib\\site-packages\\torch\\nn\\modules\\module.py\u001b[0m in \u001b[0;36m__call__\u001b[1;34m(self, *input, **kwargs)\u001b[0m\n\u001b[0;32m    545\u001b[0m             \u001b[0mresult\u001b[0m \u001b[1;33m=\u001b[0m \u001b[0mself\u001b[0m\u001b[1;33m.\u001b[0m\u001b[0m_slow_forward\u001b[0m\u001b[1;33m(\u001b[0m\u001b[1;33m*\u001b[0m\u001b[0minput\u001b[0m\u001b[1;33m,\u001b[0m \u001b[1;33m**\u001b[0m\u001b[0mkwargs\u001b[0m\u001b[1;33m)\u001b[0m\u001b[1;33m\u001b[0m\u001b[1;33m\u001b[0m\u001b[0m\n\u001b[0;32m    546\u001b[0m         \u001b[1;32melse\u001b[0m\u001b[1;33m:\u001b[0m\u001b[1;33m\u001b[0m\u001b[1;33m\u001b[0m\u001b[0m\n\u001b[1;32m--> 547\u001b[1;33m             \u001b[0mresult\u001b[0m \u001b[1;33m=\u001b[0m \u001b[0mself\u001b[0m\u001b[1;33m.\u001b[0m\u001b[0mforward\u001b[0m\u001b[1;33m(\u001b[0m\u001b[1;33m*\u001b[0m\u001b[0minput\u001b[0m\u001b[1;33m,\u001b[0m \u001b[1;33m**\u001b[0m\u001b[0mkwargs\u001b[0m\u001b[1;33m)\u001b[0m\u001b[1;33m\u001b[0m\u001b[1;33m\u001b[0m\u001b[0m\n\u001b[0m\u001b[0;32m    548\u001b[0m         \u001b[1;32mfor\u001b[0m \u001b[0mhook\u001b[0m \u001b[1;32min\u001b[0m \u001b[0mself\u001b[0m\u001b[1;33m.\u001b[0m\u001b[0m_forward_hooks\u001b[0m\u001b[1;33m.\u001b[0m\u001b[0mvalues\u001b[0m\u001b[1;33m(\u001b[0m\u001b[1;33m)\u001b[0m\u001b[1;33m:\u001b[0m\u001b[1;33m\u001b[0m\u001b[1;33m\u001b[0m\u001b[0m\n\u001b[0;32m    549\u001b[0m             \u001b[0mhook_result\u001b[0m \u001b[1;33m=\u001b[0m \u001b[0mhook\u001b[0m\u001b[1;33m(\u001b[0m\u001b[0mself\u001b[0m\u001b[1;33m,\u001b[0m \u001b[0minput\u001b[0m\u001b[1;33m,\u001b[0m \u001b[0mresult\u001b[0m\u001b[1;33m)\u001b[0m\u001b[1;33m\u001b[0m\u001b[1;33m\u001b[0m\u001b[0m\n",
      "\u001b[1;32m~\\AppData\\Local\\Continuum\\anaconda3\\lib\\site-packages\\transformers\\modeling_bert.py\u001b[0m in \u001b[0;36mforward\u001b[1;34m(self, hidden_states)\u001b[0m\n\u001b[0;32m    354\u001b[0m \u001b[1;33m\u001b[0m\u001b[0m\n\u001b[0;32m    355\u001b[0m     \u001b[1;32mdef\u001b[0m \u001b[0mforward\u001b[0m\u001b[1;33m(\u001b[0m\u001b[0mself\u001b[0m\u001b[1;33m,\u001b[0m \u001b[0mhidden_states\u001b[0m\u001b[1;33m)\u001b[0m\u001b[1;33m:\u001b[0m\u001b[1;33m\u001b[0m\u001b[1;33m\u001b[0m\u001b[0m\n\u001b[1;32m--> 356\u001b[1;33m         \u001b[0mhidden_states\u001b[0m \u001b[1;33m=\u001b[0m \u001b[0mself\u001b[0m\u001b[1;33m.\u001b[0m\u001b[0mdense\u001b[0m\u001b[1;33m(\u001b[0m\u001b[0mhidden_states\u001b[0m\u001b[1;33m)\u001b[0m\u001b[1;33m\u001b[0m\u001b[1;33m\u001b[0m\u001b[0m\n\u001b[0m\u001b[0;32m    357\u001b[0m         \u001b[0mhidden_states\u001b[0m \u001b[1;33m=\u001b[0m \u001b[0mself\u001b[0m\u001b[1;33m.\u001b[0m\u001b[0mintermediate_act_fn\u001b[0m\u001b[1;33m(\u001b[0m\u001b[0mhidden_states\u001b[0m\u001b[1;33m)\u001b[0m\u001b[1;33m\u001b[0m\u001b[1;33m\u001b[0m\u001b[0m\n\u001b[0;32m    358\u001b[0m         \u001b[1;32mreturn\u001b[0m \u001b[0mhidden_states\u001b[0m\u001b[1;33m\u001b[0m\u001b[1;33m\u001b[0m\u001b[0m\n",
      "\u001b[1;32m~\\AppData\\Local\\Continuum\\anaconda3\\lib\\site-packages\\torch\\nn\\modules\\module.py\u001b[0m in \u001b[0;36m__call__\u001b[1;34m(self, *input, **kwargs)\u001b[0m\n\u001b[0;32m    545\u001b[0m             \u001b[0mresult\u001b[0m \u001b[1;33m=\u001b[0m \u001b[0mself\u001b[0m\u001b[1;33m.\u001b[0m\u001b[0m_slow_forward\u001b[0m\u001b[1;33m(\u001b[0m\u001b[1;33m*\u001b[0m\u001b[0minput\u001b[0m\u001b[1;33m,\u001b[0m \u001b[1;33m**\u001b[0m\u001b[0mkwargs\u001b[0m\u001b[1;33m)\u001b[0m\u001b[1;33m\u001b[0m\u001b[1;33m\u001b[0m\u001b[0m\n\u001b[0;32m    546\u001b[0m         \u001b[1;32melse\u001b[0m\u001b[1;33m:\u001b[0m\u001b[1;33m\u001b[0m\u001b[1;33m\u001b[0m\u001b[0m\n\u001b[1;32m--> 547\u001b[1;33m             \u001b[0mresult\u001b[0m \u001b[1;33m=\u001b[0m \u001b[0mself\u001b[0m\u001b[1;33m.\u001b[0m\u001b[0mforward\u001b[0m\u001b[1;33m(\u001b[0m\u001b[1;33m*\u001b[0m\u001b[0minput\u001b[0m\u001b[1;33m,\u001b[0m \u001b[1;33m**\u001b[0m\u001b[0mkwargs\u001b[0m\u001b[1;33m)\u001b[0m\u001b[1;33m\u001b[0m\u001b[1;33m\u001b[0m\u001b[0m\n\u001b[0m\u001b[0;32m    548\u001b[0m         \u001b[1;32mfor\u001b[0m \u001b[0mhook\u001b[0m \u001b[1;32min\u001b[0m \u001b[0mself\u001b[0m\u001b[1;33m.\u001b[0m\u001b[0m_forward_hooks\u001b[0m\u001b[1;33m.\u001b[0m\u001b[0mvalues\u001b[0m\u001b[1;33m(\u001b[0m\u001b[1;33m)\u001b[0m\u001b[1;33m:\u001b[0m\u001b[1;33m\u001b[0m\u001b[1;33m\u001b[0m\u001b[0m\n\u001b[0;32m    549\u001b[0m             \u001b[0mhook_result\u001b[0m \u001b[1;33m=\u001b[0m \u001b[0mhook\u001b[0m\u001b[1;33m(\u001b[0m\u001b[0mself\u001b[0m\u001b[1;33m,\u001b[0m \u001b[0minput\u001b[0m\u001b[1;33m,\u001b[0m \u001b[0mresult\u001b[0m\u001b[1;33m)\u001b[0m\u001b[1;33m\u001b[0m\u001b[1;33m\u001b[0m\u001b[0m\n",
      "\u001b[1;32m~\\AppData\\Local\\Continuum\\anaconda3\\lib\\site-packages\\torch\\nn\\modules\\linear.py\u001b[0m in \u001b[0;36mforward\u001b[1;34m(self, input)\u001b[0m\n\u001b[0;32m     85\u001b[0m \u001b[1;33m\u001b[0m\u001b[0m\n\u001b[0;32m     86\u001b[0m     \u001b[1;32mdef\u001b[0m \u001b[0mforward\u001b[0m\u001b[1;33m(\u001b[0m\u001b[0mself\u001b[0m\u001b[1;33m,\u001b[0m \u001b[0minput\u001b[0m\u001b[1;33m)\u001b[0m\u001b[1;33m:\u001b[0m\u001b[1;33m\u001b[0m\u001b[1;33m\u001b[0m\u001b[0m\n\u001b[1;32m---> 87\u001b[1;33m         \u001b[1;32mreturn\u001b[0m \u001b[0mF\u001b[0m\u001b[1;33m.\u001b[0m\u001b[0mlinear\u001b[0m\u001b[1;33m(\u001b[0m\u001b[0minput\u001b[0m\u001b[1;33m,\u001b[0m \u001b[0mself\u001b[0m\u001b[1;33m.\u001b[0m\u001b[0mweight\u001b[0m\u001b[1;33m,\u001b[0m \u001b[0mself\u001b[0m\u001b[1;33m.\u001b[0m\u001b[0mbias\u001b[0m\u001b[1;33m)\u001b[0m\u001b[1;33m\u001b[0m\u001b[1;33m\u001b[0m\u001b[0m\n\u001b[0m\u001b[0;32m     88\u001b[0m \u001b[1;33m\u001b[0m\u001b[0m\n\u001b[0;32m     89\u001b[0m     \u001b[1;32mdef\u001b[0m \u001b[0mextra_repr\u001b[0m\u001b[1;33m(\u001b[0m\u001b[0mself\u001b[0m\u001b[1;33m)\u001b[0m\u001b[1;33m:\u001b[0m\u001b[1;33m\u001b[0m\u001b[1;33m\u001b[0m\u001b[0m\n",
      "\u001b[1;32m~\\AppData\\Local\\Continuum\\anaconda3\\lib\\site-packages\\torch\\nn\\functional.py\u001b[0m in \u001b[0;36mlinear\u001b[1;34m(input, weight, bias)\u001b[0m\n\u001b[0;32m   1369\u001b[0m         \u001b[0mret\u001b[0m \u001b[1;33m=\u001b[0m \u001b[0mtorch\u001b[0m\u001b[1;33m.\u001b[0m\u001b[0maddmm\u001b[0m\u001b[1;33m(\u001b[0m\u001b[0mbias\u001b[0m\u001b[1;33m,\u001b[0m \u001b[0minput\u001b[0m\u001b[1;33m,\u001b[0m \u001b[0mweight\u001b[0m\u001b[1;33m.\u001b[0m\u001b[0mt\u001b[0m\u001b[1;33m(\u001b[0m\u001b[1;33m)\u001b[0m\u001b[1;33m)\u001b[0m\u001b[1;33m\u001b[0m\u001b[1;33m\u001b[0m\u001b[0m\n\u001b[0;32m   1370\u001b[0m     \u001b[1;32melse\u001b[0m\u001b[1;33m:\u001b[0m\u001b[1;33m\u001b[0m\u001b[1;33m\u001b[0m\u001b[0m\n\u001b[1;32m-> 1371\u001b[1;33m         \u001b[0moutput\u001b[0m \u001b[1;33m=\u001b[0m \u001b[0minput\u001b[0m\u001b[1;33m.\u001b[0m\u001b[0mmatmul\u001b[0m\u001b[1;33m(\u001b[0m\u001b[0mweight\u001b[0m\u001b[1;33m.\u001b[0m\u001b[0mt\u001b[0m\u001b[1;33m(\u001b[0m\u001b[1;33m)\u001b[0m\u001b[1;33m)\u001b[0m\u001b[1;33m\u001b[0m\u001b[1;33m\u001b[0m\u001b[0m\n\u001b[0m\u001b[0;32m   1372\u001b[0m         \u001b[1;32mif\u001b[0m \u001b[0mbias\u001b[0m \u001b[1;32mis\u001b[0m \u001b[1;32mnot\u001b[0m \u001b[1;32mNone\u001b[0m\u001b[1;33m:\u001b[0m\u001b[1;33m\u001b[0m\u001b[1;33m\u001b[0m\u001b[0m\n\u001b[0;32m   1373\u001b[0m             \u001b[0moutput\u001b[0m \u001b[1;33m+=\u001b[0m \u001b[0mbias\u001b[0m\u001b[1;33m\u001b[0m\u001b[1;33m\u001b[0m\u001b[0m\n",
      "\u001b[1;31mRuntimeError\u001b[0m: [enforce fail at ..\\c10\\core\\CPUAllocator.cpp:72] data. DefaultCPUAllocator: not enough memory: you tried to allocate 147456 bytes. Buy new RAM!\n"
     ]
    }
   ],
   "source": [
    "embeddings = metatada_red.apply(\n",
    "    lambda row: tokenize(scibert_model, scibert_tokenizer, row[\"title\"]) , axis = 1)\n",
    "metatada_red[\"sci_bert_title\"] = embeddings"
   ]
  },
  {
   "cell_type": "code",
   "execution_count": null,
   "metadata": {},
   "outputs": [],
   "source": [
    "embeddings = metatada_red.apply(\n",
    "    lambda row: tokenize(covid_model, covid_tokenizer, row[\"title\"]) , axis = 1)\n",
    "metatada_red[\"covid_bert_title\"] = embeddings"
   ]
  },
  {
   "cell_type": "code",
   "execution_count": null,
   "metadata": {},
   "outputs": [],
   "source": [
    "embeddings = metatada_red.apply(\n",
    "    lambda row: tokenize(bert_model, bert_tokenizer, row[\"title\"]) , axis = 1)\n",
    "metatada_red[\"bert_title\"] = embeddings"
   ]
  },
  {
   "cell_type": "code",
   "execution_count": null,
   "metadata": {},
   "outputs": [],
   "source": [
    "metatada_red.head()"
   ]
  },
  {
   "cell_type": "code",
   "execution_count": null,
   "metadata": {},
   "outputs": [],
   "source": [
    "query = topics[\"query\"][top_id-1]\n",
    "question = topics[\"question\"][top_id-1]\n",
    "narrative = topics[\"narrative\"][top_id-1]"
   ]
  },
  {
   "cell_type": "code",
   "execution_count": null,
   "metadata": {},
   "outputs": [],
   "source": [
    "bert_query = tokenize(bert_model, bert_tokenizer, query)\n",
    "scibert_query =  tokenize(scibert_model, scibert_tokenizer, query)\n",
    "covidbert_query = tokenize(covid_model, covid_tokenizer, query)\n",
    "\n",
    "bert_question = tokenize(bert_model, bert_tokenizer, question)\n",
    "scibert_question =  tokenize(scibert_model, scibert_tokenizer, question)\n",
    "covidbert_question = tokenize(covid_model, covid_tokenizer, question)\n",
    "\n",
    "bert_narrative = tokenize(bert_model, bert_tokenizer, narrative)\n",
    "scibert_narrative =  tokenize(scibert_model, scibert_tokenizer, narrative)\n",
    "covidbert_narrative = tokenize(covid_model, covid_tokenizer, narrative)"
   ]
  },
  {
   "cell_type": "code",
   "execution_count": null,
   "metadata": {},
   "outputs": [],
   "source": [
    "cos_sim_bert = metatada_red.apply(\n",
    "    lambda row: util.pytorch_cos_sim(bert_query, row[\"bert_title\"]) , axis = 1)\n",
    "metatada_red[\"cos_sim_bert\"] = cos_sim_bert"
   ]
  },
  {
   "cell_type": "code",
   "execution_count": null,
   "metadata": {},
   "outputs": [],
   "source": [
    "cos_sim_scibert = metatada_red.apply(\n",
    "    lambda row: util.pytorch_cos_sim(scibert_query, row[\"sci_bert_title\"]) , axis = 1)\n",
    "metatada_red[\"cos_sim_scibert\"] = cos_sim_scibert"
   ]
  },
  {
   "cell_type": "code",
   "execution_count": null,
   "metadata": {},
   "outputs": [],
   "source": [
    "cos_sim_covidbert = metatada_red.apply(\n",
    "    lambda row: util.pytorch_cos_sim(covidbert_query, row[\"covid_bert_title\"]) , axis = 1)\n",
    "metatada_red[\"cos_sim_covidbert\"] = cos_sim_covidbert"
   ]
  },
  {
   "cell_type": "code",
   "execution_count": null,
   "metadata": {},
   "outputs": [],
   "source": [
    "metatada_red[\"cos_sim_scibert\"]"
   ]
  },
  {
   "cell_type": "code",
   "execution_count": null,
   "metadata": {},
   "outputs": [],
   "source": [
    "metatada_red.plot(x = \"cos_sim_scibert\", y = \"cos_sim_bert\", kind = \"scatter\", color = \"relevancy_1\")"
   ]
  },
  {
   "cell_type": "code",
   "execution_count": null,
   "metadata": {},
   "outputs": [],
   "source": [
    "cos_scores = util.pytorch_cos_sim(query_embedding, corpus_embeddings)[0]"
   ]
  },
  {
   "cell_type": "code",
   "execution_count": null,
   "metadata": {},
   "outputs": [],
   "source": [
    "def get_relevancy(cord_uid, topic_id, relevancy_df):\n",
    "    top_df = relevancy_df[relevancy_df[\"topic_id\"] == topic_id]\n",
    "    top_df = top_df[top_df[\"cord_uid\"] == cord_uid]\n",
    "    rel = \"NaN\"\n",
    "    for index, row in top_df.iterrows():\n",
    "        rel = row[\"relevancy\"]\n",
    "    return rel"
   ]
  },
  {
   "cell_type": "code",
   "execution_count": null,
   "metadata": {},
   "outputs": [],
   "source": [
    "relvency_data.head()"
   ]
  },
  {
   "cell_type": "code",
   "execution_count": null,
   "metadata": {},
   "outputs": [],
   "source": [
    "get_relevancy(\"005b2jsdasfd\", top_id-1, relvency_data)"
   ]
  },
  {
   "cell_type": "code",
   "execution_count": null,
   "metadata": {},
   "outputs": [],
   "source": [
    "rel_top_1 = metatada_red.apply(\n",
    "    lambda row: get_relevancy(row[\"cord_uid\"], top_id - 1,relvency_data), axis = 1)\n",
    "metatada_red[\"relevancy_1\"] = rel_top_1"
   ]
  },
  {
   "cell_type": "code",
   "execution_count": null,
   "metadata": {},
   "outputs": [],
   "source": [
    "metatada_red.head(2)"
   ]
  },
  {
   "cell_type": "code",
   "execution_count": null,
   "metadata": {},
   "outputs": [],
   "source": [
    "metatada_red.plot(x = \"relevancy_1\", y = \"cos_sim_bert\", kind = \"scatter\")#, c = \"relevancy_1\",colormap='viridis')"
   ]
  },
  {
   "cell_type": "code",
   "execution_count": null,
   "metadata": {},
   "outputs": [],
   "source": [
    "metatada_red.plot(x = \"relevancy_1\", y = \"cos_sim_bert\", kind = \"scatter\")#, c = \"relevancy_1\",colormap='viridis')"
   ]
  }
 ],
 "metadata": {
  "kernelspec": {
   "display_name": "Python 3",
   "language": "python",
   "name": "python3"
  },
  "language_info": {
   "codemirror_mode": {
    "name": "ipython",
    "version": 3
   },
   "file_extension": ".py",
   "mimetype": "text/x-python",
   "name": "python",
   "nbconvert_exporter": "python",
   "pygments_lexer": "ipython3",
   "version": "3.7.3"
  }
 },
 "nbformat": 4,
 "nbformat_minor": 4
}
