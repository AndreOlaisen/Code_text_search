{
 "cells": [
  {
   "cell_type": "code",
   "execution_count": 3,
   "metadata": {},
   "outputs": [],
   "source": [
    "from transformers import AutoTokenizer, AutoModel\n",
    "from transformers import BertTokenizer, BertModel"
   ]
  },
  {
   "cell_type": "code",
   "execution_count": 86,
   "metadata": {},
   "outputs": [],
   "source": [
    "import torch\n",
    "import pickle\n",
    "import pandas as pd\n",
    "import numpy as np\n",
    "import seaborn as sns\n",
    "from sentence_transformers import SentenceTransformer, util"
   ]
  },
  {
   "cell_type": "code",
   "execution_count": 5,
   "metadata": {},
   "outputs": [],
   "source": [
    "covid_tokenizer= AutoTokenizer.from_pretrained(\"gsarti/covidbert-nli\")\n",
    "covid_model = AutoModel.from_pretrained(\"gsarti/covidbert-nli\")"
   ]
  },
  {
   "cell_type": "code",
   "execution_count": 6,
   "metadata": {},
   "outputs": [
    {
     "data": {
      "application/vnd.jupyter.widget-view+json": {
       "model_id": "38e54a7134c54b84a04e5abc6e8a34f0",
       "version_major": 2,
       "version_minor": 0
      },
      "text/plain": [
       "HBox(children=(FloatProgress(value=0.0, description='Downloading', max=385.0, style=ProgressStyle(description_…"
      ]
     },
     "metadata": {},
     "output_type": "display_data"
    },
    {
     "name": "stdout",
     "output_type": "stream",
     "text": [
      "\n"
     ]
    },
    {
     "data": {
      "application/vnd.jupyter.widget-view+json": {
       "model_id": "1adfc3fce4af440cbb9649d8cb35a86e",
       "version_major": 2,
       "version_minor": 0
      },
      "text/plain": [
       "HBox(children=(FloatProgress(value=0.0, description='Downloading', max=227845.0, style=ProgressStyle(descripti…"
      ]
     },
     "metadata": {},
     "output_type": "display_data"
    },
    {
     "name": "stdout",
     "output_type": "stream",
     "text": [
      "\n"
     ]
    },
    {
     "data": {
      "application/vnd.jupyter.widget-view+json": {
       "model_id": "8ea61c2d4572466084fb1fe6f8603cb2",
       "version_major": 2,
       "version_minor": 0
      },
      "text/plain": [
       "HBox(children=(FloatProgress(value=0.0, description='Downloading', max=442221694.0, style=ProgressStyle(descri…"
      ]
     },
     "metadata": {},
     "output_type": "display_data"
    },
    {
     "name": "stdout",
     "output_type": "stream",
     "text": [
      "\n"
     ]
    }
   ],
   "source": [
    "scibert_tokenizer = AutoTokenizer.from_pretrained(\"allenai/scibert_scivocab_uncased\")\n",
    "scibert_model = AutoModel.from_pretrained(\"allenai/scibert_scivocab_uncased\")"
   ]
  },
  {
   "cell_type": "code",
   "execution_count": 7,
   "metadata": {},
   "outputs": [
    {
     "data": {
      "application/vnd.jupyter.widget-view+json": {
       "model_id": "b5e282c80f734f98a204469a7f3360da",
       "version_major": 2,
       "version_minor": 0
      },
      "text/plain": [
       "HBox(children=(FloatProgress(value=0.0, description='Downloading', max=231508.0, style=ProgressStyle(descripti…"
      ]
     },
     "metadata": {},
     "output_type": "display_data"
    },
    {
     "name": "stdout",
     "output_type": "stream",
     "text": [
      "\n"
     ]
    },
    {
     "data": {
      "application/vnd.jupyter.widget-view+json": {
       "model_id": "138e2b8d5c454d15b6bcd4312f3de073",
       "version_major": 2,
       "version_minor": 0
      },
      "text/plain": [
       "HBox(children=(FloatProgress(value=0.0, description='Downloading', max=433.0, style=ProgressStyle(description_…"
      ]
     },
     "metadata": {},
     "output_type": "display_data"
    },
    {
     "name": "stdout",
     "output_type": "stream",
     "text": [
      "\n"
     ]
    },
    {
     "data": {
      "application/vnd.jupyter.widget-view+json": {
       "model_id": "4d80a51db1544c7d9a9ea6a74ebfee4f",
       "version_major": 2,
       "version_minor": 0
      },
      "text/plain": [
       "HBox(children=(FloatProgress(value=0.0, description='Downloading', max=440473133.0, style=ProgressStyle(descri…"
      ]
     },
     "metadata": {},
     "output_type": "display_data"
    },
    {
     "name": "stdout",
     "output_type": "stream",
     "text": [
      "\n"
     ]
    }
   ],
   "source": [
    "bert_tokenizer = BertTokenizer.from_pretrained('bert-base-uncased')\n",
    "bert_model = BertModel.from_pretrained('bert-base-uncased')"
   ]
  },
  {
   "cell_type": "code",
   "execution_count": 11,
   "metadata": {},
   "outputs": [],
   "source": [
    "path = \"C:\\\\Users\\\\User\\\\OneDrive - NTNU\\\\NTNU\\\\Prosjekt oppgave NLP\\\\dataset\\\\CORD-19\\\\\"\n",
    "\n",
    "labeled_data = []\n",
    "with open(path + \"labeled_data_cord_19.txt\", \"rb\") as fp:   # Unpickling\n",
    "    labeled_data = pickle.load(fp)"
   ]
  },
  {
   "cell_type": "code",
   "execution_count": null,
   "metadata": {},
   "outputs": [],
   "source": [
    "from pandas import read_csv\n",
    "\n",
    "path = \"C:\\\\Users\\\\User\\\\OneDrive - NTNU\\\\NTNU\\\\Prosjekt oppgave NLP\\\\dataset\\\\CORD-19\\\\\"\n",
    "docs = read_csv(path + \"crod_19_only_rel.csv\")\n",
    "docs.shape"
   ]
  },
  {
   "cell_type": "code",
   "execution_count": 74,
   "metadata": {},
   "outputs": [],
   "source": [
    "path = \"C:\\\\Users\\\\User\\\\OneDrive - NTNU\\\\NTNU\\\\Prosjekt oppgave NLP\\\\dataset\\\\CORD-19\\\\\"\n",
    "topics = read_csv(path + \"topics.csv\")"
   ]
  },
  {
   "cell_type": "code",
   "execution_count": 17,
   "metadata": {},
   "outputs": [],
   "source": [
    "def tokenize(model, tokenizer, sentence):\n",
    "    \n",
    "    # Tokens comes from a process that splits the input into sub-entities with interesting linguistic properties.\n",
    "    tokens = tokenizer.tokenize(sentence.lower())\n",
    "\n",
    "    # This is not sufficient for the model, as it requires integers as input, \n",
    "    # not a problem, let's convert tokens to ids.\n",
    "    tokens_ids = tokenizer.convert_tokens_to_ids(tokens)\n",
    " \n",
    "\n",
    "    # Add the required special tokens\n",
    "    tokens_ids = tokenizer.build_inputs_with_special_tokens(tokens_ids)\n",
    "\n",
    "    # We need to convert to a Deep Learning framework specific format, let's use PyTorch for now.\n",
    "    tokens_pt = torch.tensor([tokens_ids])\n",
    "\n",
    "    # Now we're ready to go through BERT with out input\n",
    "    outputs, pooled = model(tokens_pt)\n",
    "    return pooled"
   ]
  },
  {
   "cell_type": "code",
   "execution_count": 21,
   "metadata": {},
   "outputs": [
    {
     "data": {
      "text/plain": [
       "tensor([[ 6.6705e-02,  1.6534e-01,  8.9143e-01,  9.6088e-01,  4.9221e-01,\n",
       "          7.8532e-01,  5.6010e-01, -9.6881e-01,  5.2060e-01, -2.8431e-01,\n",
       "         -1.3938e-02,  5.1639e-01, -9.8947e-01,  8.5994e-01,  1.4345e-01,\n",
       "         -3.3124e-01, -4.5232e-01, -3.9170e-01, -8.2579e-01, -8.3976e-01,\n",
       "         -1.0989e-01,  2.1799e-01, -9.3995e-01,  4.9136e-01,  9.8346e-01,\n",
       "         -9.7951e-01, -9.9496e-01,  3.8363e-02, -1.0526e-01,  1.1924e-01,\n",
       "          2.4874e-01, -9.9635e-01,  4.3858e-01, -4.1921e-01, -6.6739e-01,\n",
       "          1.4181e-01,  8.5541e-01,  5.9912e-02,  6.1849e-01, -6.1971e-02,\n",
       "         -2.0442e-01,  2.6549e-01,  9.3548e-01, -1.8293e-01,  4.3210e-01,\n",
       "         -2.4999e-01, -3.6837e-01, -2.3932e-01, -9.1719e-01,  6.9558e-01,\n",
       "          2.5983e-01, -2.8439e-01, -4.8147e-01,  9.2463e-01,  8.7717e-01,\n",
       "         -3.1232e-01, -1.0043e-01,  2.1333e-01, -9.1982e-01, -9.5412e-01,\n",
       "          1.1472e-02, -8.7538e-01,  3.3327e-01, -9.2299e-01,  6.4533e-01,\n",
       "         -4.3824e-01, -3.7380e-01, -2.2002e-01,  9.5004e-01,  3.4957e-01,\n",
       "          9.9460e-01,  1.3253e-01,  3.5792e-01,  9.8443e-01,  9.1008e-01,\n",
       "          2.3606e-01, -2.0734e-01, -5.1037e-01,  4.4502e-01, -5.5489e-02,\n",
       "          1.6392e-01, -2.3627e-01, -1.0237e-01, -9.6216e-01, -5.4155e-01,\n",
       "         -4.5550e-01,  2.8617e-01,  9.7711e-01,  7.6216e-01, -3.3157e-01,\n",
       "         -3.9425e-01,  1.9975e-01, -7.7118e-02, -1.6988e-03, -1.7971e-01,\n",
       "          2.8936e-02, -2.1106e-01, -6.9622e-01,  1.7493e-01, -6.1780e-01,\n",
       "         -3.7419e-01,  1.6942e-01,  1.5034e-02, -4.8734e-01,  1.8383e-01,\n",
       "          1.2918e-01, -1.4103e-01, -3.9797e-01, -2.7839e-01,  7.9862e-01,\n",
       "         -5.2441e-01, -3.6448e-01,  1.3948e-01, -2.7800e-01, -3.6166e-01,\n",
       "         -1.7557e-01,  7.6393e-01,  4.6818e-01, -2.6472e-01,  1.4741e-01,\n",
       "          6.6709e-01,  6.9380e-01,  9.5707e-01, -4.6483e-01, -1.7528e-01,\n",
       "          3.1662e-01, -1.1296e-01,  4.4543e-01,  5.7643e-01,  1.6560e-01,\n",
       "         -3.8199e-01, -9.3828e-01, -9.6935e-01,  6.2099e-02, -2.8292e-01,\n",
       "          2.3611e-01,  1.1156e-01, -4.1228e-01,  6.7882e-01,  3.3538e-01,\n",
       "         -5.9380e-01, -2.7988e-01, -2.8081e-02,  4.7955e-01, -6.6417e-01,\n",
       "         -7.4661e-01,  8.7949e-01,  2.0547e-01,  2.9607e-01,  3.3177e-01,\n",
       "         -1.5382e-01, -2.7542e-01, -1.3420e-01,  9.9570e-01, -9.4709e-01,\n",
       "          2.8178e-01,  9.8340e-01, -7.0867e-01, -8.2092e-01, -8.9347e-01,\n",
       "         -9.6078e-02, -2.8329e-01,  2.3895e-02, -1.7686e-01,  3.7117e-01,\n",
       "          9.9158e-01,  4.1527e-01,  8.0411e-01, -9.6743e-02,  9.7749e-01,\n",
       "         -4.8725e-01,  9.9317e-01, -4.0496e-02, -1.1775e-01,  1.4850e-01,\n",
       "          1.2518e-01,  9.7593e-01, -4.9170e-01, -9.1951e-02,  9.3518e-01,\n",
       "         -1.8831e-01,  9.9441e-01, -2.4659e-01,  2.4737e-01,  2.6678e-01,\n",
       "         -1.2904e-01, -5.8007e-01,  1.7651e-01, -1.1241e-01,  4.4982e-01,\n",
       "         -2.6816e-01,  3.8686e-01,  1.2366e-01,  2.1172e-01, -9.7166e-01,\n",
       "          1.4194e-01,  4.3040e-01, -3.8109e-01, -2.2993e-01,  2.7881e-01,\n",
       "          4.3342e-01, -9.4975e-01, -5.0656e-02, -7.1008e-01,  5.3826e-01,\n",
       "          4.1030e-01, -5.2758e-01,  3.3464e-01, -9.9641e-01,  9.9751e-01,\n",
       "          9.4120e-01, -4.9921e-01, -4.8973e-01,  1.0058e-01, -5.6250e-01,\n",
       "          9.0530e-02, -9.7924e-01, -9.7657e-01,  1.8480e-01, -2.0107e-01,\n",
       "          3.2053e-01,  9.7631e-01,  1.6454e-01, -7.1666e-01,  9.7123e-01,\n",
       "          9.6142e-01, -1.4842e-01,  3.1890e-01, -2.9169e-01, -9.6961e-01,\n",
       "         -2.2321e-02, -9.9822e-01,  3.5449e-01,  9.1915e-01, -3.4909e-01,\n",
       "          3.6396e-01,  3.5123e-01,  9.2813e-02, -3.1161e-01, -3.1377e-04,\n",
       "          4.8489e-01,  7.1666e-01, -3.4554e-01, -6.1438e-01, -8.3336e-02,\n",
       "          9.8044e-01, -2.4049e-01,  2.8301e-01, -9.5693e-01, -9.5878e-01,\n",
       "          8.0044e-02, -2.4817e-01,  3.2295e-01, -5.0585e-01, -1.4532e-01,\n",
       "         -4.0809e-01,  1.0251e-02, -9.9135e-01,  8.6936e-01, -3.2118e-01,\n",
       "         -7.8213e-02, -8.6380e-01, -9.6638e-01, -1.4324e-02,  9.8571e-01,\n",
       "          1.8097e-01, -9.7643e-01,  9.9468e-01, -6.5270e-02,  9.5373e-01,\n",
       "         -2.7363e-01, -9.7864e-01, -9.5604e-01,  2.7248e-01, -3.7571e-01,\n",
       "         -9.3308e-01, -2.1912e-01, -7.5873e-01,  6.0000e-01, -4.7031e-01,\n",
       "          4.2167e-01, -4.4443e-01,  1.0876e-01,  9.7933e-01,  2.3692e-01,\n",
       "         -1.1775e-01, -1.3648e-01,  9.7179e-01, -4.1704e-01,  2.7315e-01,\n",
       "          8.7422e-01,  9.5105e-01, -4.6335e-01,  9.7108e-01, -4.4785e-01,\n",
       "          6.2082e-01,  9.8557e-01,  9.9801e-01,  9.5827e-01,  9.9769e-01,\n",
       "         -2.0707e-01,  9.4300e-01,  8.4045e-02,  9.1550e-01, -9.2778e-01,\n",
       "         -1.4673e-01,  9.3593e-01,  1.5584e-01,  4.4644e-02, -6.8262e-01,\n",
       "         -7.4377e-01,  3.6686e-01, -3.6827e-01, -2.2606e-01, -3.3882e-01,\n",
       "          9.4599e-01, -2.6184e-02, -1.3097e-01,  4.8023e-01, -7.8343e-01,\n",
       "         -3.1963e-01, -3.8994e-01, -2.3201e-01,  6.9688e-02,  9.8446e-01,\n",
       "          1.6715e-01,  1.4265e-01,  8.7382e-01,  3.2441e-01,  9.8448e-01,\n",
       "         -3.8916e-01, -9.5745e-01,  8.8918e-01,  5.5405e-02, -1.5784e-01,\n",
       "         -4.0381e-01,  9.8789e-01,  1.7161e-03,  4.4641e-02, -5.0817e-02,\n",
       "         -1.1547e-01, -9.3584e-01,  1.3957e-01, -4.5867e-01,  3.7262e-01,\n",
       "         -9.5181e-01, -4.5819e-01, -4.8707e-01, -1.6571e-01, -8.6076e-02,\n",
       "         -5.3037e-02,  1.4472e-01, -8.0148e-01, -2.7178e-01,  4.2062e-01,\n",
       "         -1.6532e-01, -2.0610e-01, -8.3663e-01, -2.9479e-01, -9.0496e-02,\n",
       "         -4.6325e-01, -7.1079e-02,  5.8322e-02, -9.5900e-01,  8.9588e-01,\n",
       "          1.5236e-01,  8.0131e-01, -3.5849e-02, -6.1804e-02,  2.8743e-01,\n",
       "          1.5331e-01, -3.0422e-01,  3.4592e-01,  2.9723e-01,  5.7983e-01,\n",
       "          9.9786e-01, -3.2703e-01,  4.1290e-01, -4.2108e-01,  1.0157e-01,\n",
       "          4.5019e-01, -2.3229e-01, -4.5157e-01, -8.3429e-01, -2.3837e-01,\n",
       "         -1.9283e-01, -3.0089e-01, -4.9775e-01,  9.8417e-01,  9.8588e-01,\n",
       "          4.0472e-01,  3.8674e-01,  2.6077e-01,  9.7559e-02,  1.9801e-01,\n",
       "          3.0939e-01,  2.5481e-01,  9.8548e-01, -9.8571e-02, -2.9296e-01,\n",
       "         -9.8960e-01, -5.5358e-01,  1.4021e-01,  3.1579e-01, -5.8412e-01,\n",
       "         -4.7648e-01,  8.8818e-01,  2.0810e-01, -2.7913e-01,  1.7268e-01,\n",
       "          3.7909e-01, -8.7773e-01, -1.0377e-01, -2.9744e-01,  5.6306e-01,\n",
       "         -3.8650e-01,  2.1001e-01, -2.6820e-01, -2.6303e-01,  5.4556e-02,\n",
       "          5.5811e-01, -2.4583e-01,  1.5165e-01,  6.5018e-01, -2.2390e-01,\n",
       "         -5.1119e-01, -8.5172e-02,  9.2770e-02, -3.4305e-01,  7.1628e-02,\n",
       "          4.3067e-01, -5.3031e-01, -7.3675e-01,  9.9711e-01, -7.9634e-01,\n",
       "          3.3466e-01, -1.8552e-01,  4.1026e-01, -1.7725e-01, -9.6313e-01,\n",
       "         -1.1842e-01, -2.7312e-01, -3.6350e-01, -9.7156e-01,  5.1811e-01,\n",
       "          9.3038e-02,  9.6422e-01,  3.7409e-01, -9.2977e-01, -2.4431e-01,\n",
       "         -7.0835e-01, -2.8471e-01,  1.4569e-01,  9.8541e-01,  6.3850e-01,\n",
       "         -2.6486e-01, -2.8001e-01, -9.7347e-01,  4.5898e-01, -5.6475e-02,\n",
       "          9.6586e-03, -9.3219e-02,  3.1502e-01,  9.4620e-01, -3.2733e-01,\n",
       "         -7.8112e-01, -7.2135e-02, -5.3355e-01,  7.8943e-02, -9.4633e-01,\n",
       "          9.8241e-01, -1.9528e-01, -4.6757e-01,  1.9854e-01,  9.8673e-01,\n",
       "         -4.5665e-01, -4.9151e-01,  1.9637e-01,  1.2464e-02, -8.3327e-01,\n",
       "         -1.1956e-01, -3.7784e-01,  1.9362e-01, -3.9015e-01,  1.0816e-01,\n",
       "         -1.7257e-02, -2.0996e-01, -1.5807e-01, -8.7221e-01, -1.8061e-01,\n",
       "         -9.0853e-01,  1.6686e-01, -4.2242e-01, -4.5567e-01,  1.9464e-01,\n",
       "         -1.2474e-01,  9.7692e-01, -1.5950e-01, -8.8222e-01,  1.2087e-02,\n",
       "         -7.0145e-01, -9.9697e-01,  8.1020e-01, -3.8046e-01, -1.0898e-01,\n",
       "         -9.8263e-01, -4.3928e-01, -4.7119e-01,  9.1711e-01, -3.1282e-01,\n",
       "         -9.9737e-01, -1.3940e-02,  5.4656e-01,  2.6716e-01,  2.9814e-01,\n",
       "         -3.1931e-01, -5.4913e-03, -9.6586e-01,  4.8485e-01, -7.6179e-02,\n",
       "         -4.7834e-01, -2.5992e-01,  6.1763e-01, -9.7272e-01, -5.0535e-01,\n",
       "         -1.2453e-03, -1.9419e-01,  9.9949e-01,  8.9919e-01, -3.6488e-01,\n",
       "         -9.7684e-01, -1.5816e-01,  2.6070e-01,  3.1902e-01, -4.7433e-01,\n",
       "          2.6856e-01,  4.2507e-01, -8.1154e-01, -9.1381e-01, -2.3101e-01,\n",
       "          2.7488e-01,  7.9877e-01,  4.4022e-01, -9.7998e-01,  3.2528e-01,\n",
       "         -2.9802e-01, -9.5081e-01,  8.2665e-01, -3.2755e-01,  2.5329e-01,\n",
       "         -3.6374e-01, -3.7352e-01, -2.7098e-01, -8.7729e-01,  7.8447e-01,\n",
       "         -4.4574e-01, -2.6967e-01,  4.3672e-01, -1.5943e-01,  9.2149e-01,\n",
       "         -3.1425e-01,  3.3938e-01, -9.8639e-01,  2.4509e-01,  9.8665e-01,\n",
       "          4.2653e-01,  9.5122e-01,  8.7483e-01, -1.2081e-01,  4.5960e-01,\n",
       "         -6.0970e-01, -9.7041e-01,  4.1719e-02,  7.6823e-01, -8.4735e-01,\n",
       "         -6.7107e-02,  2.1579e-01, -8.5966e-01,  1.9090e-01, -2.7685e-01,\n",
       "          5.3317e-01,  9.9602e-01,  9.9912e-01,  9.0589e-01, -1.7806e-01,\n",
       "         -4.1482e-01, -3.7693e-01, -4.0864e-01, -9.8072e-01,  3.8281e-01,\n",
       "          5.2373e-01,  3.2911e-01, -5.8799e-01,  2.2610e-01, -1.8859e-01,\n",
       "         -9.5567e-01, -2.9592e-01,  3.5996e-01, -2.3120e-01, -8.6109e-02,\n",
       "         -3.3166e-01, -3.1148e-01,  9.7016e-01, -4.5657e-01, -2.0611e-01,\n",
       "         -8.4728e-01, -2.9678e-02, -3.6721e-01,  5.3949e-02, -8.7502e-01,\n",
       "         -9.8883e-01, -2.6092e-02,  2.6565e-01, -5.4864e-01,  4.9498e-02,\n",
       "          9.9226e-01,  2.1498e-02, -7.7572e-02,  9.4131e-01, -3.0257e-01,\n",
       "          5.0141e-01, -7.7813e-01, -3.3121e-01, -2.7965e-01, -6.7354e-02,\n",
       "         -4.8797e-01,  9.8094e-01, -7.8804e-01,  3.3887e-02,  9.0027e-02,\n",
       "         -9.9069e-01, -2.1804e-01, -9.9105e-02,  2.7425e-01,  2.5533e-01,\n",
       "         -9.9412e-01,  7.6705e-01,  2.0807e-01,  3.4127e-01, -6.0867e-01,\n",
       "          9.6901e-01, -9.9524e-01,  3.6249e-01,  1.1865e-01,  2.6009e-01,\n",
       "         -7.4560e-01,  2.5994e-01,  8.5081e-02, -9.8146e-01,  6.8548e-01,\n",
       "         -1.8838e-01,  9.6941e-01,  9.8859e-01, -4.0024e-01, -3.0837e-01,\n",
       "         -3.0010e-01,  9.2006e-02, -1.4103e-01, -8.3315e-02, -9.9666e-01,\n",
       "         -9.6311e-01, -1.5975e-01,  1.1258e-01, -3.6063e-01,  1.9232e-01,\n",
       "         -2.3579e-02, -4.5634e-01,  6.4545e-01, -4.7256e-01, -2.9928e-02,\n",
       "         -4.0242e-01, -4.4579e-01, -2.2072e-01, -7.4665e-01,  3.0025e-01,\n",
       "          8.4793e-01, -1.4133e-01, -5.6586e-02, -1.7557e-01,  4.9650e-01,\n",
       "          9.6741e-01, -7.5518e-01,  2.2417e-01, -1.6427e-01, -9.3022e-01,\n",
       "         -4.7417e-01,  7.4673e-02,  2.2574e-01,  2.2843e-01, -9.8338e-01,\n",
       "          4.4180e-01,  1.5154e-01, -4.1335e-01, -1.7959e-01,  9.1119e-01,\n",
       "          2.9355e-01, -2.2297e-01, -1.2446e-01, -9.6243e-01, -6.9493e-02,\n",
       "          2.3458e-01,  9.9876e-01,  9.6005e-01, -9.6329e-01, -1.1599e-01,\n",
       "          3.0798e-01, -1.0747e-01, -9.6872e-01, -9.4262e-02,  4.0725e-01,\n",
       "         -4.0152e-01,  4.0416e-01, -1.1467e-01, -3.5198e-01, -8.0063e-02,\n",
       "          5.0653e-01, -9.8154e-01,  1.6942e-01, -9.9630e-01, -9.8967e-01,\n",
       "         -3.0741e-01, -3.8851e-01,  9.9571e-01,  1.7594e-01,  6.9283e-01,\n",
       "         -9.8548e-01,  8.7235e-04,  8.0095e-02, -9.9254e-02, -9.8939e-01,\n",
       "         -1.1100e-01,  5.8965e-02, -8.7976e-01,  1.5577e-01, -7.7575e-01,\n",
       "         -3.5149e-01, -1.9838e-01, -2.3497e-01, -2.9770e-01, -9.1172e-01,\n",
       "         -1.2943e-01,  9.8431e-01,  1.2698e-01, -5.9023e-01,  4.5527e-01,\n",
       "          9.6063e-01,  1.7526e-01,  2.7333e-01, -2.6916e-01, -9.7838e-01,\n",
       "         -9.0814e-01,  9.9286e-01,  3.3191e-01,  9.4848e-01, -2.1523e-01,\n",
       "         -1.1740e-01, -3.3048e-01,  4.4046e-01, -6.1476e-01, -5.1129e-01,\n",
       "         -8.3087e-01,  1.7600e-01,  3.9793e-01,  4.5812e-02, -3.2543e-01,\n",
       "         -2.6765e-01,  9.8442e-01, -8.8440e-01]], grad_fn=<TanhBackward>)"
      ]
     },
     "execution_count": 21,
     "metadata": {},
     "output_type": "execute_result"
    }
   ],
   "source": [
    "sent = \"Applying this asymptotic estimator to cumulative, n95, coronavirus, corona pandemic\"\n",
    "tokenize(scibert_model, scibert_tokenizer, sent)"
   ]
  },
  {
   "cell_type": "code",
   "execution_count": 24,
   "metadata": {},
   "outputs": [
    {
     "data": {
      "text/plain": [
       "[{'id': '005b2j4b', 'score': 2},\n",
       " {'id': '00fmeepz', 'score': 1},\n",
       " {'id': '010vptx3', 'score': 2},\n",
       " {'id': '0194oljo', 'score': 1},\n",
       " {'id': '021q9884', 'score': 1},\n",
       " {'id': '02f0opkr', 'score': 1},\n",
       " {'id': '047xpt2c', 'score': 0},\n",
       " {'id': '04ftw7k9', 'score': 0},\n",
       " {'id': '05qglt1f', 'score': 0},\n",
       " {'id': '05vx82oo', 'score': 0},\n",
       " {'id': '0604jed8', 'score': 0},\n",
       " {'id': '06o2tbon', 'score': 0},\n",
       " {'id': '06ya15z8', 'score': 0},\n",
       " {'id': '084o1dmp', 'score': 0},\n",
       " {'id': '08ds967z', 'score': 1},\n",
       " {'id': '08efpohc', 'score': 0},\n",
       " {'id': '0b4o0ccp', 'score': 0},\n",
       " {'id': '0be4wta5', 'score': 2},\n",
       " {'id': '0chuwvg6', 'score': 2},\n",
       " {'id': '0cvoeiy0', 'score': 0},\n",
       " {'id': '0e1w86tg', 'score': 1},\n",
       " {'id': '0evw0fc5', 'score': 1},\n",
       " {'id': '0hnh4n9e', 'score': 1},\n",
       " {'id': '0iq9s94n', 'score': 1},\n",
       " {'id': '0khg28ex', 'score': 0},\n",
       " {'id': '0l33i6s4', 'score': 0},\n",
       " {'id': '0lyxvex0', 'score': 0},\n",
       " {'id': '0m5mc320', 'score': 0},\n",
       " {'id': '0ne21in2', 'score': 1},\n",
       " {'id': '0nh58odf', 'score': 2},\n",
       " {'id': '0oiq44gl', 'score': 0},\n",
       " {'id': '0paafp5j', 'score': 0},\n",
       " {'id': '0pbjttv4', 'score': 0},\n",
       " {'id': '0qaoam29', 'score': 0},\n",
       " {'id': '0qpfoh5t', 'score': 0},\n",
       " {'id': '0t2a5500', 'score': 2},\n",
       " {'id': '0ti403i4', 'score': 0},\n",
       " {'id': '0v5wo0ty', 'score': 1},\n",
       " {'id': '0xhho1sh', 'score': 2},\n",
       " {'id': '0xruezf2', 'score': 1},\n",
       " {'id': '0y34yxlb', 'score': 2},\n",
       " {'id': '105q161g', 'score': 2},\n",
       " {'id': '10ecm4wi', 'score': 1},\n",
       " {'id': '11edrkav', 'score': 2},\n",
       " {'id': '127c5bve', 'score': 2},\n",
       " {'id': '12dcftwt', 'score': 2},\n",
       " {'id': '13ir7swr', 'score': 2},\n",
       " {'id': '13jupb26', 'score': 0},\n",
       " {'id': '1585stal', 'score': 0},\n",
       " {'id': '16ciqu9w', 'score': 0},\n",
       " {'id': '16rgt4ca', 'score': 0},\n",
       " {'id': '18xs6375', 'score': 0},\n",
       " {'id': '1a8uevk8', 'score': 0},\n",
       " {'id': '1aal6njl', 'score': 0},\n",
       " {'id': '1abp6oom', 'score': 2},\n",
       " {'id': '1ag9jkk6', 'score': 0},\n",
       " {'id': '1bapn9w0', 'score': 0},\n",
       " {'id': '1bpc8g6n', 'score': 0},\n",
       " {'id': '1bvsn9e8', 'score': 2},\n",
       " {'id': '1c47w4q5', 'score': 2},\n",
       " {'id': '1de98sxz', 'score': 0},\n",
       " {'id': '1dogron2', 'score': 1},\n",
       " {'id': '1e28zj1d', 'score': 0},\n",
       " {'id': '1esupl4q', 'score': 0},\n",
       " {'id': '1eytelxn', 'score': 1},\n",
       " {'id': '1g2mup0k', 'score': 0},\n",
       " {'id': '1hwcp09t', 'score': 0},\n",
       " {'id': '1i6n6tv6', 'score': 0},\n",
       " {'id': '1ihz8z6q', 'score': 1},\n",
       " {'id': '1ldynibm', 'score': 0},\n",
       " {'id': '1ls84u6w', 'score': 0},\n",
       " {'id': '1mchg5yg', 'score': 0},\n",
       " {'id': '1mjaycee', 'score': 2},\n",
       " {'id': '1nrkfkv5', 'score': 0},\n",
       " {'id': '1p7fz9zr', 'score': 1},\n",
       " {'id': '1p941spn', 'score': 0},\n",
       " {'id': '1pnc889f', 'score': 0},\n",
       " {'id': '1qkwsh6a', 'score': 2},\n",
       " {'id': '1rhy8td0', 'score': 0},\n",
       " {'id': '1s25r3o0', 'score': 0},\n",
       " {'id': '1s2zsqoq', 'score': 1},\n",
       " {'id': '1s6dlcer', 'score': 1},\n",
       " {'id': '1spgrrmw', 'score': 1},\n",
       " {'id': '1sq2uvur', 'score': 2},\n",
       " {'id': '1ub01j2x', 'score': 0},\n",
       " {'id': '1x66nxgx', 'score': 0},\n",
       " {'id': '1xf2sxtv', 'score': 1},\n",
       " {'id': '1ybj2p1n', 'score': 1},\n",
       " {'id': '2054tkb7', 'score': 2},\n",
       " {'id': '2054zqw9', 'score': 0},\n",
       " {'id': '21fhsooy', 'score': 0},\n",
       " {'id': '21htepa1', 'score': 0},\n",
       " {'id': '22fc1qly', 'score': 2},\n",
       " {'id': '22ioujwl', 'score': 0},\n",
       " {'id': '23yi8so0', 'score': 2},\n",
       " {'id': '24viekl7', 'score': 1},\n",
       " {'id': '24yavi1w', 'score': 2},\n",
       " {'id': '25va2cvt', 'score': 2},\n",
       " {'id': '262bcl7h', 'score': 2},\n",
       " {'id': '26pcjts9', 'score': 2}]"
      ]
     },
     "execution_count": 24,
     "metadata": {},
     "output_type": "execute_result"
    }
   ],
   "source": [
    "labeled_data[0]['relevant_docs'][0:100]"
   ]
  },
  {
   "cell_type": "code",
   "execution_count": 25,
   "metadata": {},
   "outputs": [
    {
     "name": "stderr",
     "output_type": "stream",
     "text": [
      "C:\\Users\\User\\AppData\\Local\\Continuum\\anaconda3\\lib\\site-packages\\IPython\\core\\interactiveshell.py:3063: DtypeWarning: Columns (4,5,6,13,14,16) have mixed types.Specify dtype option on import or set low_memory=False.\n",
      "  interactivity=interactivity, compiler=compiler, result=result)\n"
     ]
    }
   ],
   "source": [
    "path_metadata = \"C:\\\\Users\\\\User\\\\OneDrive - NTNU\\\\NTNU\\\\Prosjekt oppgave NLP\\\\dataset\\\\CORD-19\\\\metadata\\\\\"\n",
    "file = \"metadata.csv\"\n",
    "\n",
    "metadata_pd = pd.read_csv(path_metadata + file)"
   ]
  },
  {
   "cell_type": "code",
   "execution_count": 26,
   "metadata": {},
   "outputs": [],
   "source": [
    "path = \"C:\\\\Users\\\\User\\\\OneDrive - NTNU\\\\NTNU\\\\Prosjekt oppgave NLP\\\\dataset\\\\CORD-19\\\\\"\n",
    "relvency_data = pd.read_csv(path + \"relevance_data.csv\")"
   ]
  },
  {
   "cell_type": "code",
   "execution_count": 27,
   "metadata": {},
   "outputs": [
    {
     "data": {
      "text/html": [
       "<div>\n",
       "<style scoped>\n",
       "    .dataframe tbody tr th:only-of-type {\n",
       "        vertical-align: middle;\n",
       "    }\n",
       "\n",
       "    .dataframe tbody tr th {\n",
       "        vertical-align: top;\n",
       "    }\n",
       "\n",
       "    .dataframe thead th {\n",
       "        text-align: right;\n",
       "    }\n",
       "</style>\n",
       "<table border=\"1\" class=\"dataframe\">\n",
       "  <thead>\n",
       "    <tr style=\"text-align: right;\">\n",
       "      <th></th>\n",
       "      <th>Unnamed: 0</th>\n",
       "      <th>topic_id</th>\n",
       "      <th>round_id</th>\n",
       "      <th>cord_uid</th>\n",
       "      <th>relevancy</th>\n",
       "    </tr>\n",
       "  </thead>\n",
       "  <tbody>\n",
       "    <tr>\n",
       "      <th>0</th>\n",
       "      <td>0</td>\n",
       "      <td>1</td>\n",
       "      <td>4.5</td>\n",
       "      <td>005b2j4b</td>\n",
       "      <td>2</td>\n",
       "    </tr>\n",
       "    <tr>\n",
       "      <th>1</th>\n",
       "      <td>1</td>\n",
       "      <td>1</td>\n",
       "      <td>4.0</td>\n",
       "      <td>00fmeepz</td>\n",
       "      <td>1</td>\n",
       "    </tr>\n",
       "  </tbody>\n",
       "</table>\n",
       "</div>"
      ],
      "text/plain": [
       "   Unnamed: 0  topic_id  round_id  cord_uid  relevancy\n",
       "0           0         1       4.5  005b2j4b          2\n",
       "1           1         1       4.0  00fmeepz          1"
      ]
     },
     "execution_count": 27,
     "metadata": {},
     "output_type": "execute_result"
    }
   ],
   "source": [
    "relvency_data.head(2)"
   ]
  },
  {
   "cell_type": "code",
   "execution_count": 28,
   "metadata": {},
   "outputs": [],
   "source": [
    "relvency_data_top_1 = relvency_data[relvency_data[\"topic_id\"] == 1]"
   ]
  },
  {
   "cell_type": "code",
   "execution_count": 30,
   "metadata": {},
   "outputs": [],
   "source": [
    "relvency_data_top_1_red = relvency_data_top_1.sample(n=100)"
   ]
  },
  {
   "cell_type": "code",
   "execution_count": 35,
   "metadata": {},
   "outputs": [],
   "source": [
    "cord_uid = relvency_data_top_1_red.cord_uid.unique()"
   ]
  },
  {
   "cell_type": "code",
   "execution_count": 37,
   "metadata": {},
   "outputs": [
    {
     "data": {
      "text/plain": [
       "array(['vmhrt6bk', '4ko557n1', '262bcl7h', 'x3sb1o4u', 'kbux2l4o',\n",
       "       'ft4rbcxf', 'ut61qxyc', 'bupb4ooh', 'rehr84c7', 'uvavdk6n',\n",
       "       '22fc1qly', 'lj8t52yl', '0t2a5500', 'wuegn0jg', 'pjgngs6u',\n",
       "       'e1urdt9w', 'f3g3ek5u', 'qubmr10h', 'tfspedf1', 'zv0ysi8m',\n",
       "       'ex7rta8f', 'a845az43', 'gs4r9j7o', '43gik8e3', 'zxvim4t8',\n",
       "       'v92f17b6', '6bzfptbs', '6cbnpqjj', 'pidy7erw', 'u1k48t29',\n",
       "       'z122v1uz', 'frkk6w0a', 'g4bsul8u', 'p15bdmo2', 'kbvy4g7i',\n",
       "       'igdkz3ht', 'pphi42lj', 'gy8d8285', 'u7u75sl0', 'sphwclzs',\n",
       "       '73a7uvyz', 'i2ppoe55', '8xz0ddci', 'xubsodnk', 'pn9nwl64',\n",
       "       '5fg87lvu', '0khg28ex', 'z9dolxky', 'uj0i2anr', '5hth74jb',\n",
       "       'uj96zdld', 'flc25wlz', 'bawgldfi', 'u19e9j2w', 'sn1a7ikq',\n",
       "       '4ulei2uh', '8arwlhf0', 'ptizke03', 'juz9jnfk', '8pkrg0mx',\n",
       "       'uqahztur', 'dr7cz1jo', 'm40kwgcg', 'z0ni2jsr', 'vndydx85',\n",
       "       'btiy6jhr', 'xvfl7ycj', 'x64cwmqf', 'hwjr891o', 'ox7xetlq',\n",
       "       't8j4q00m', 'xa8b1nuo', '1eytelxn', 'xvnv17zy', 'uzdydmmh',\n",
       "       '405jvqyv', 'mwj2qby4', '6r08hj06', '5uwzo304', '2zaxn6tq',\n",
       "       '8dhoxvvs', 'vrqe7kxm', 'ol0bj3hs', '9jdfp9y3', 'hu9oxea1',\n",
       "       '22ioujwl', '2mrtq4ya', '08efpohc', 'b9r4cyp7', 'k2ixwz9w',\n",
       "       'tomsdx3z', 'z73bozz7', 'ailr08y5', 'v6ci69n0', 'nzwe7hpg',\n",
       "       '1bapn9w0', 'ienet82k', '32vs98ya', '8eg8zqnw', 'zph6r4il'],\n",
       "      dtype=object)"
      ]
     },
     "execution_count": 37,
     "metadata": {},
     "output_type": "execute_result"
    }
   ],
   "source": []
  },
  {
   "cell_type": "code",
   "execution_count": 38,
   "metadata": {},
   "outputs": [],
   "source": [
    "metatada_red = metadata_pd[metadata_pd[\"cord_uid\"].isin(cord_uid)]"
   ]
  },
  {
   "cell_type": "code",
   "execution_count": 40,
   "metadata": {},
   "outputs": [],
   "source": [
    "metatada_red = metatada_red[[\"cord_uid\", \"title\", \"abstract\"]]"
   ]
  },
  {
   "cell_type": "code",
   "execution_count": 62,
   "metadata": {},
   "outputs": [
    {
     "ename": "ValueError",
     "evalue": "Length of values does not match length of index",
     "output_type": "error",
     "traceback": [
      "\u001b[1;31m---------------------------------------------------------------------------\u001b[0m",
      "\u001b[1;31mValueError\u001b[0m                                Traceback (most recent call last)",
      "\u001b[1;32m<ipython-input-62-c422af7740c7>\u001b[0m in \u001b[0;36m<module>\u001b[1;34m\u001b[0m\n\u001b[1;32m----> 1\u001b[1;33m \u001b[0mmetatada_red\u001b[0m\u001b[1;33m[\u001b[0m\u001b[1;34m\"sci_bert_title\"\u001b[0m\u001b[1;33m]\u001b[0m \u001b[1;33m=\u001b[0m  \u001b[1;33m[\u001b[0m\u001b[1;36m0\u001b[0m\u001b[1;33m]\u001b[0m\u001b[1;33m\u001b[0m\u001b[1;33m\u001b[0m\u001b[0m\n\u001b[0m",
      "\u001b[1;32m~\\AppData\\Local\\Continuum\\anaconda3\\lib\\site-packages\\pandas\\core\\frame.py\u001b[0m in \u001b[0;36m__setitem__\u001b[1;34m(self, key, value)\u001b[0m\n\u001b[0;32m   2936\u001b[0m         \u001b[1;32melse\u001b[0m\u001b[1;33m:\u001b[0m\u001b[1;33m\u001b[0m\u001b[1;33m\u001b[0m\u001b[0m\n\u001b[0;32m   2937\u001b[0m             \u001b[1;31m# set column\u001b[0m\u001b[1;33m\u001b[0m\u001b[1;33m\u001b[0m\u001b[1;33m\u001b[0m\u001b[0m\n\u001b[1;32m-> 2938\u001b[1;33m             \u001b[0mself\u001b[0m\u001b[1;33m.\u001b[0m\u001b[0m_set_item\u001b[0m\u001b[1;33m(\u001b[0m\u001b[0mkey\u001b[0m\u001b[1;33m,\u001b[0m \u001b[0mvalue\u001b[0m\u001b[1;33m)\u001b[0m\u001b[1;33m\u001b[0m\u001b[1;33m\u001b[0m\u001b[0m\n\u001b[0m\u001b[0;32m   2939\u001b[0m \u001b[1;33m\u001b[0m\u001b[0m\n\u001b[0;32m   2940\u001b[0m     \u001b[1;32mdef\u001b[0m \u001b[0m_setitem_slice\u001b[0m\u001b[1;33m(\u001b[0m\u001b[0mself\u001b[0m\u001b[1;33m,\u001b[0m \u001b[0mkey\u001b[0m\u001b[1;33m,\u001b[0m \u001b[0mvalue\u001b[0m\u001b[1;33m)\u001b[0m\u001b[1;33m:\u001b[0m\u001b[1;33m\u001b[0m\u001b[1;33m\u001b[0m\u001b[0m\n",
      "\u001b[1;32m~\\AppData\\Local\\Continuum\\anaconda3\\lib\\site-packages\\pandas\\core\\frame.py\u001b[0m in \u001b[0;36m_set_item\u001b[1;34m(self, key, value)\u001b[0m\n\u001b[0;32m   2998\u001b[0m \u001b[1;33m\u001b[0m\u001b[0m\n\u001b[0;32m   2999\u001b[0m         \u001b[0mself\u001b[0m\u001b[1;33m.\u001b[0m\u001b[0m_ensure_valid_index\u001b[0m\u001b[1;33m(\u001b[0m\u001b[0mvalue\u001b[0m\u001b[1;33m)\u001b[0m\u001b[1;33m\u001b[0m\u001b[1;33m\u001b[0m\u001b[0m\n\u001b[1;32m-> 3000\u001b[1;33m         \u001b[0mvalue\u001b[0m \u001b[1;33m=\u001b[0m \u001b[0mself\u001b[0m\u001b[1;33m.\u001b[0m\u001b[0m_sanitize_column\u001b[0m\u001b[1;33m(\u001b[0m\u001b[0mkey\u001b[0m\u001b[1;33m,\u001b[0m \u001b[0mvalue\u001b[0m\u001b[1;33m)\u001b[0m\u001b[1;33m\u001b[0m\u001b[1;33m\u001b[0m\u001b[0m\n\u001b[0m\u001b[0;32m   3001\u001b[0m         \u001b[0mNDFrame\u001b[0m\u001b[1;33m.\u001b[0m\u001b[0m_set_item\u001b[0m\u001b[1;33m(\u001b[0m\u001b[0mself\u001b[0m\u001b[1;33m,\u001b[0m \u001b[0mkey\u001b[0m\u001b[1;33m,\u001b[0m \u001b[0mvalue\u001b[0m\u001b[1;33m)\u001b[0m\u001b[1;33m\u001b[0m\u001b[1;33m\u001b[0m\u001b[0m\n\u001b[0;32m   3002\u001b[0m \u001b[1;33m\u001b[0m\u001b[0m\n",
      "\u001b[1;32m~\\AppData\\Local\\Continuum\\anaconda3\\lib\\site-packages\\pandas\\core\\frame.py\u001b[0m in \u001b[0;36m_sanitize_column\u001b[1;34m(self, key, value, broadcast)\u001b[0m\n\u001b[0;32m   3634\u001b[0m \u001b[1;33m\u001b[0m\u001b[0m\n\u001b[0;32m   3635\u001b[0m             \u001b[1;31m# turn me into an ndarray\u001b[0m\u001b[1;33m\u001b[0m\u001b[1;33m\u001b[0m\u001b[1;33m\u001b[0m\u001b[0m\n\u001b[1;32m-> 3636\u001b[1;33m             \u001b[0mvalue\u001b[0m \u001b[1;33m=\u001b[0m \u001b[0msanitize_index\u001b[0m\u001b[1;33m(\u001b[0m\u001b[0mvalue\u001b[0m\u001b[1;33m,\u001b[0m \u001b[0mself\u001b[0m\u001b[1;33m.\u001b[0m\u001b[0mindex\u001b[0m\u001b[1;33m,\u001b[0m \u001b[0mcopy\u001b[0m\u001b[1;33m=\u001b[0m\u001b[1;32mFalse\u001b[0m\u001b[1;33m)\u001b[0m\u001b[1;33m\u001b[0m\u001b[1;33m\u001b[0m\u001b[0m\n\u001b[0m\u001b[0;32m   3637\u001b[0m             \u001b[1;32mif\u001b[0m \u001b[1;32mnot\u001b[0m \u001b[0misinstance\u001b[0m\u001b[1;33m(\u001b[0m\u001b[0mvalue\u001b[0m\u001b[1;33m,\u001b[0m \u001b[1;33m(\u001b[0m\u001b[0mnp\u001b[0m\u001b[1;33m.\u001b[0m\u001b[0mndarray\u001b[0m\u001b[1;33m,\u001b[0m \u001b[0mIndex\u001b[0m\u001b[1;33m)\u001b[0m\u001b[1;33m)\u001b[0m\u001b[1;33m:\u001b[0m\u001b[1;33m\u001b[0m\u001b[1;33m\u001b[0m\u001b[0m\n\u001b[0;32m   3638\u001b[0m                 \u001b[1;32mif\u001b[0m \u001b[0misinstance\u001b[0m\u001b[1;33m(\u001b[0m\u001b[0mvalue\u001b[0m\u001b[1;33m,\u001b[0m \u001b[0mlist\u001b[0m\u001b[1;33m)\u001b[0m \u001b[1;32mand\u001b[0m \u001b[0mlen\u001b[0m\u001b[1;33m(\u001b[0m\u001b[0mvalue\u001b[0m\u001b[1;33m)\u001b[0m \u001b[1;33m>\u001b[0m \u001b[1;36m0\u001b[0m\u001b[1;33m:\u001b[0m\u001b[1;33m\u001b[0m\u001b[1;33m\u001b[0m\u001b[0m\n",
      "\u001b[1;32m~\\AppData\\Local\\Continuum\\anaconda3\\lib\\site-packages\\pandas\\core\\internals\\construction.py\u001b[0m in \u001b[0;36msanitize_index\u001b[1;34m(data, index, copy)\u001b[0m\n\u001b[0;32m    609\u001b[0m \u001b[1;33m\u001b[0m\u001b[0m\n\u001b[0;32m    610\u001b[0m     \u001b[1;32mif\u001b[0m \u001b[0mlen\u001b[0m\u001b[1;33m(\u001b[0m\u001b[0mdata\u001b[0m\u001b[1;33m)\u001b[0m \u001b[1;33m!=\u001b[0m \u001b[0mlen\u001b[0m\u001b[1;33m(\u001b[0m\u001b[0mindex\u001b[0m\u001b[1;33m)\u001b[0m\u001b[1;33m:\u001b[0m\u001b[1;33m\u001b[0m\u001b[1;33m\u001b[0m\u001b[0m\n\u001b[1;32m--> 611\u001b[1;33m         \u001b[1;32mraise\u001b[0m \u001b[0mValueError\u001b[0m\u001b[1;33m(\u001b[0m\u001b[1;34m\"Length of values does not match length of index\"\u001b[0m\u001b[1;33m)\u001b[0m\u001b[1;33m\u001b[0m\u001b[1;33m\u001b[0m\u001b[0m\n\u001b[0m\u001b[0;32m    612\u001b[0m \u001b[1;33m\u001b[0m\u001b[0m\n\u001b[0;32m    613\u001b[0m     \u001b[1;32mif\u001b[0m \u001b[0misinstance\u001b[0m\u001b[1;33m(\u001b[0m\u001b[0mdata\u001b[0m\u001b[1;33m,\u001b[0m \u001b[0mABCIndexClass\u001b[0m\u001b[1;33m)\u001b[0m \u001b[1;32mand\u001b[0m \u001b[1;32mnot\u001b[0m \u001b[0mcopy\u001b[0m\u001b[1;33m:\u001b[0m\u001b[1;33m\u001b[0m\u001b[1;33m\u001b[0m\u001b[0m\n",
      "\u001b[1;31mValueError\u001b[0m: Length of values does not match length of index"
     ]
    }
   ],
   "source": [
    "metatada_red[\"sci_bert_title\"] = [0]"
   ]
  },
  {
   "cell_type": "code",
   "execution_count": 67,
   "metadata": {},
   "outputs": [
    {
     "ename": "KeyError",
     "evalue": "0",
     "output_type": "error",
     "traceback": [
      "\u001b[1;31m---------------------------------------------------------------------------\u001b[0m",
      "\u001b[1;31mKeyError\u001b[0m                                  Traceback (most recent call last)",
      "\u001b[1;32m<ipython-input-67-fa2c6254cec5>\u001b[0m in \u001b[0;36m<module>\u001b[1;34m\u001b[0m\n\u001b[1;32m----> 1\u001b[1;33m \u001b[0mmetatada_red\u001b[0m\u001b[1;33m.\u001b[0m\u001b[0mhead\u001b[0m\u001b[1;33m(\u001b[0m\u001b[1;33m)\u001b[0m\u001b[1;33m[\u001b[0m\u001b[1;34m\"covid_bert_title\"\u001b[0m\u001b[1;33m]\u001b[0m\u001b[1;33m[\u001b[0m\u001b[1;36m0\u001b[0m\u001b[1;33m]\u001b[0m\u001b[1;33m\u001b[0m\u001b[1;33m\u001b[0m\u001b[0m\n\u001b[0m",
      "\u001b[1;32m~\\AppData\\Local\\Continuum\\anaconda3\\lib\\site-packages\\pandas\\core\\series.py\u001b[0m in \u001b[0;36m__getitem__\u001b[1;34m(self, key)\u001b[0m\n\u001b[0;32m    869\u001b[0m         \u001b[0mkey\u001b[0m \u001b[1;33m=\u001b[0m \u001b[0mcom\u001b[0m\u001b[1;33m.\u001b[0m\u001b[0mapply_if_callable\u001b[0m\u001b[1;33m(\u001b[0m\u001b[0mkey\u001b[0m\u001b[1;33m,\u001b[0m \u001b[0mself\u001b[0m\u001b[1;33m)\u001b[0m\u001b[1;33m\u001b[0m\u001b[1;33m\u001b[0m\u001b[0m\n\u001b[0;32m    870\u001b[0m         \u001b[1;32mtry\u001b[0m\u001b[1;33m:\u001b[0m\u001b[1;33m\u001b[0m\u001b[1;33m\u001b[0m\u001b[0m\n\u001b[1;32m--> 871\u001b[1;33m             \u001b[0mresult\u001b[0m \u001b[1;33m=\u001b[0m \u001b[0mself\u001b[0m\u001b[1;33m.\u001b[0m\u001b[0mindex\u001b[0m\u001b[1;33m.\u001b[0m\u001b[0mget_value\u001b[0m\u001b[1;33m(\u001b[0m\u001b[0mself\u001b[0m\u001b[1;33m,\u001b[0m \u001b[0mkey\u001b[0m\u001b[1;33m)\u001b[0m\u001b[1;33m\u001b[0m\u001b[1;33m\u001b[0m\u001b[0m\n\u001b[0m\u001b[0;32m    872\u001b[0m \u001b[1;33m\u001b[0m\u001b[0m\n\u001b[0;32m    873\u001b[0m             \u001b[1;32mif\u001b[0m \u001b[1;32mnot\u001b[0m \u001b[0mis_scalar\u001b[0m\u001b[1;33m(\u001b[0m\u001b[0mresult\u001b[0m\u001b[1;33m)\u001b[0m\u001b[1;33m:\u001b[0m\u001b[1;33m\u001b[0m\u001b[1;33m\u001b[0m\u001b[0m\n",
      "\u001b[1;32m~\\AppData\\Local\\Continuum\\anaconda3\\lib\\site-packages\\pandas\\core\\indexes\\base.py\u001b[0m in \u001b[0;36mget_value\u001b[1;34m(self, series, key)\u001b[0m\n\u001b[0;32m   4402\u001b[0m         \u001b[0mk\u001b[0m \u001b[1;33m=\u001b[0m \u001b[0mself\u001b[0m\u001b[1;33m.\u001b[0m\u001b[0m_convert_scalar_indexer\u001b[0m\u001b[1;33m(\u001b[0m\u001b[0mk\u001b[0m\u001b[1;33m,\u001b[0m \u001b[0mkind\u001b[0m\u001b[1;33m=\u001b[0m\u001b[1;34m\"getitem\"\u001b[0m\u001b[1;33m)\u001b[0m\u001b[1;33m\u001b[0m\u001b[1;33m\u001b[0m\u001b[0m\n\u001b[0;32m   4403\u001b[0m         \u001b[1;32mtry\u001b[0m\u001b[1;33m:\u001b[0m\u001b[1;33m\u001b[0m\u001b[1;33m\u001b[0m\u001b[0m\n\u001b[1;32m-> 4404\u001b[1;33m             \u001b[1;32mreturn\u001b[0m \u001b[0mself\u001b[0m\u001b[1;33m.\u001b[0m\u001b[0m_engine\u001b[0m\u001b[1;33m.\u001b[0m\u001b[0mget_value\u001b[0m\u001b[1;33m(\u001b[0m\u001b[0ms\u001b[0m\u001b[1;33m,\u001b[0m \u001b[0mk\u001b[0m\u001b[1;33m,\u001b[0m \u001b[0mtz\u001b[0m\u001b[1;33m=\u001b[0m\u001b[0mgetattr\u001b[0m\u001b[1;33m(\u001b[0m\u001b[0mseries\u001b[0m\u001b[1;33m.\u001b[0m\u001b[0mdtype\u001b[0m\u001b[1;33m,\u001b[0m \u001b[1;34m\"tz\"\u001b[0m\u001b[1;33m,\u001b[0m \u001b[1;32mNone\u001b[0m\u001b[1;33m)\u001b[0m\u001b[1;33m)\u001b[0m\u001b[1;33m\u001b[0m\u001b[1;33m\u001b[0m\u001b[0m\n\u001b[0m\u001b[0;32m   4405\u001b[0m         \u001b[1;32mexcept\u001b[0m \u001b[0mKeyError\u001b[0m \u001b[1;32mas\u001b[0m \u001b[0me1\u001b[0m\u001b[1;33m:\u001b[0m\u001b[1;33m\u001b[0m\u001b[1;33m\u001b[0m\u001b[0m\n\u001b[0;32m   4406\u001b[0m             \u001b[1;32mif\u001b[0m \u001b[0mlen\u001b[0m\u001b[1;33m(\u001b[0m\u001b[0mself\u001b[0m\u001b[1;33m)\u001b[0m \u001b[1;33m>\u001b[0m \u001b[1;36m0\u001b[0m \u001b[1;32mand\u001b[0m \u001b[1;33m(\u001b[0m\u001b[0mself\u001b[0m\u001b[1;33m.\u001b[0m\u001b[0mholds_integer\u001b[0m\u001b[1;33m(\u001b[0m\u001b[1;33m)\u001b[0m \u001b[1;32mor\u001b[0m \u001b[0mself\u001b[0m\u001b[1;33m.\u001b[0m\u001b[0mis_boolean\u001b[0m\u001b[1;33m(\u001b[0m\u001b[1;33m)\u001b[0m\u001b[1;33m)\u001b[0m\u001b[1;33m:\u001b[0m\u001b[1;33m\u001b[0m\u001b[1;33m\u001b[0m\u001b[0m\n",
      "\u001b[1;32mpandas\\_libs\\index.pyx\u001b[0m in \u001b[0;36mpandas._libs.index.IndexEngine.get_value\u001b[1;34m()\u001b[0m\n",
      "\u001b[1;32mpandas\\_libs\\index.pyx\u001b[0m in \u001b[0;36mpandas._libs.index.IndexEngine.get_value\u001b[1;34m()\u001b[0m\n",
      "\u001b[1;32mpandas\\_libs\\index.pyx\u001b[0m in \u001b[0;36mpandas._libs.index.IndexEngine.get_loc\u001b[1;34m()\u001b[0m\n",
      "\u001b[1;32mpandas\\_libs\\hashtable_class_helper.pxi\u001b[0m in \u001b[0;36mpandas._libs.hashtable.Int64HashTable.get_item\u001b[1;34m()\u001b[0m\n",
      "\u001b[1;32mpandas\\_libs\\hashtable_class_helper.pxi\u001b[0m in \u001b[0;36mpandas._libs.hashtable.Int64HashTable.get_item\u001b[1;34m()\u001b[0m\n",
      "\u001b[1;31mKeyError\u001b[0m: 0"
     ]
    }
   ],
   "source": []
  },
  {
   "cell_type": "code",
   "execution_count": 71,
   "metadata": {},
   "outputs": [
    {
     "name": "stderr",
     "output_type": "stream",
     "text": [
      "C:\\Users\\User\\AppData\\Local\\Continuum\\anaconda3\\lib\\site-packages\\ipykernel_launcher.py:3: SettingWithCopyWarning: \n",
      "A value is trying to be set on a copy of a slice from a DataFrame.\n",
      "Try using .loc[row_indexer,col_indexer] = value instead\n",
      "\n",
      "See the caveats in the documentation: https://pandas.pydata.org/pandas-docs/stable/user_guide/indexing.html#returning-a-view-versus-a-copy\n",
      "  This is separate from the ipykernel package so we can avoid doing imports until\n"
     ]
    }
   ],
   "source": [
    "embeddings = metatada_red.apply(\n",
    "    lambda row: tokenize(scibert_model, scibert_tokenizer, row[\"title\"]) , axis = 1)\n",
    "metatada_red[\"sci_bert_title\"] = embeddings"
   ]
  },
  {
   "cell_type": "code",
   "execution_count": 63,
   "metadata": {},
   "outputs": [
    {
     "name": "stderr",
     "output_type": "stream",
     "text": [
      "C:\\Users\\User\\AppData\\Local\\Continuum\\anaconda3\\lib\\site-packages\\ipykernel_launcher.py:3: SettingWithCopyWarning: \n",
      "A value is trying to be set on a copy of a slice from a DataFrame.\n",
      "Try using .loc[row_indexer,col_indexer] = value instead\n",
      "\n",
      "See the caveats in the documentation: https://pandas.pydata.org/pandas-docs/stable/user_guide/indexing.html#returning-a-view-versus-a-copy\n",
      "  This is separate from the ipykernel package so we can avoid doing imports until\n"
     ]
    }
   ],
   "source": [
    "embeddings = metatada_red.apply(\n",
    "    lambda row: tokenize(covid_model, covid_tokenizer, row[\"title\"]) , axis = 1)\n",
    "metatada_red[\"covid_bert_title\"] = embeddings"
   ]
  },
  {
   "cell_type": "code",
   "execution_count": 72,
   "metadata": {},
   "outputs": [
    {
     "name": "stderr",
     "output_type": "stream",
     "text": [
      "C:\\Users\\User\\AppData\\Local\\Continuum\\anaconda3\\lib\\site-packages\\ipykernel_launcher.py:3: SettingWithCopyWarning: \n",
      "A value is trying to be set on a copy of a slice from a DataFrame.\n",
      "Try using .loc[row_indexer,col_indexer] = value instead\n",
      "\n",
      "See the caveats in the documentation: https://pandas.pydata.org/pandas-docs/stable/user_guide/indexing.html#returning-a-view-versus-a-copy\n",
      "  This is separate from the ipykernel package so we can avoid doing imports until\n"
     ]
    }
   ],
   "source": [
    "embeddings = metatada_red.apply(\n",
    "    lambda row: tokenize(bert_model, bert_tokenizer, row[\"title\"]) , axis = 1)\n",
    "metatada_red[\"bert_title\"] = embeddings"
   ]
  },
  {
   "cell_type": "code",
   "execution_count": 73,
   "metadata": {},
   "outputs": [
    {
     "data": {
      "text/html": [
       "<div>\n",
       "<style scoped>\n",
       "    .dataframe tbody tr th:only-of-type {\n",
       "        vertical-align: middle;\n",
       "    }\n",
       "\n",
       "    .dataframe tbody tr th {\n",
       "        vertical-align: top;\n",
       "    }\n",
       "\n",
       "    .dataframe thead th {\n",
       "        text-align: right;\n",
       "    }\n",
       "</style>\n",
       "<table border=\"1\" class=\"dataframe\">\n",
       "  <thead>\n",
       "    <tr style=\"text-align: right;\">\n",
       "      <th></th>\n",
       "      <th>cord_uid</th>\n",
       "      <th>title</th>\n",
       "      <th>abstract</th>\n",
       "      <th>sci_bert_title</th>\n",
       "      <th>covid_bert_title</th>\n",
       "      <th>bert_title</th>\n",
       "    </tr>\n",
       "  </thead>\n",
       "  <tbody>\n",
       "    <tr>\n",
       "      <th>515</th>\n",
       "      <td>sn1a7ikq</td>\n",
       "      <td>Tylosema esculentum (Marama) Tuber and Bean Ex...</td>\n",
       "      <td>Tylosema esculentum (marama) beans and tubers ...</td>\n",
       "      <td>[[tensor(0.1329, grad_fn=&lt;SelectBackward&gt;), te...</td>\n",
       "      <td>[[tensor(-0.8795, grad_fn=&lt;SelectBackward&gt;), t...</td>\n",
       "      <td>[[tensor(-0.9151, grad_fn=&lt;SelectBackward&gt;), t...</td>\n",
       "    </tr>\n",
       "    <tr>\n",
       "      <th>780</th>\n",
       "      <td>uj96zdld</td>\n",
       "      <td>Resveratrol Inhibits KSHV Reactivation by Lowe...</td>\n",
       "      <td>In the field of herpesvirus research, the exac...</td>\n",
       "      <td>[[tensor(-0.1614, grad_fn=&lt;SelectBackward&gt;), t...</td>\n",
       "      <td>[[tensor(-0.8929, grad_fn=&lt;SelectBackward&gt;), t...</td>\n",
       "      <td>[[tensor(-0.9007, grad_fn=&lt;SelectBackward&gt;), t...</td>\n",
       "    </tr>\n",
       "    <tr>\n",
       "      <th>14115</th>\n",
       "      <td>1eytelxn</td>\n",
       "      <td>Latest SARS evidence</td>\n",
       "      <td>NaN</td>\n",
       "      <td>[[tensor(-0.2126, grad_fn=&lt;SelectBackward&gt;), t...</td>\n",
       "      <td>[[tensor(-0.7040, grad_fn=&lt;SelectBackward&gt;), t...</td>\n",
       "      <td>[[tensor(-0.9256, grad_fn=&lt;SelectBackward&gt;), t...</td>\n",
       "    </tr>\n",
       "    <tr>\n",
       "      <th>15740</th>\n",
       "      <td>gy8d8285</td>\n",
       "      <td>The Origin and Evolution of Viruses</td>\n",
       "      <td>The lecture covers three main topics: (i) Viru...</td>\n",
       "      <td>[[tensor(-0.5064, grad_fn=&lt;SelectBackward&gt;), t...</td>\n",
       "      <td>[[tensor(-0.7533, grad_fn=&lt;SelectBackward&gt;), t...</td>\n",
       "      <td>[[tensor(-0.8798, grad_fn=&lt;SelectBackward&gt;), t...</td>\n",
       "    </tr>\n",
       "    <tr>\n",
       "      <th>23068</th>\n",
       "      <td>zv0ysi8m</td>\n",
       "      <td>Current Insight into the Novel Coronavirus Dis...</td>\n",
       "      <td>SARS-CoV-2 is a novel strain of coronavirus th...</td>\n",
       "      <td>[[tensor(0.0010, grad_fn=&lt;SelectBackward&gt;), te...</td>\n",
       "      <td>[[tensor(-0.7756, grad_fn=&lt;SelectBackward&gt;), t...</td>\n",
       "      <td>[[tensor(-0.9033, grad_fn=&lt;SelectBackward&gt;), t...</td>\n",
       "    </tr>\n",
       "  </tbody>\n",
       "</table>\n",
       "</div>"
      ],
      "text/plain": [
       "       cord_uid                                              title  \\\n",
       "515    sn1a7ikq  Tylosema esculentum (Marama) Tuber and Bean Ex...   \n",
       "780    uj96zdld  Resveratrol Inhibits KSHV Reactivation by Lowe...   \n",
       "14115  1eytelxn                               Latest SARS evidence   \n",
       "15740  gy8d8285                The Origin and Evolution of Viruses   \n",
       "23068  zv0ysi8m  Current Insight into the Novel Coronavirus Dis...   \n",
       "\n",
       "                                                abstract  \\\n",
       "515    Tylosema esculentum (marama) beans and tubers ...   \n",
       "780    In the field of herpesvirus research, the exac...   \n",
       "14115                                                NaN   \n",
       "15740  The lecture covers three main topics: (i) Viru...   \n",
       "23068  SARS-CoV-2 is a novel strain of coronavirus th...   \n",
       "\n",
       "                                          sci_bert_title  \\\n",
       "515    [[tensor(0.1329, grad_fn=<SelectBackward>), te...   \n",
       "780    [[tensor(-0.1614, grad_fn=<SelectBackward>), t...   \n",
       "14115  [[tensor(-0.2126, grad_fn=<SelectBackward>), t...   \n",
       "15740  [[tensor(-0.5064, grad_fn=<SelectBackward>), t...   \n",
       "23068  [[tensor(0.0010, grad_fn=<SelectBackward>), te...   \n",
       "\n",
       "                                        covid_bert_title  \\\n",
       "515    [[tensor(-0.8795, grad_fn=<SelectBackward>), t...   \n",
       "780    [[tensor(-0.8929, grad_fn=<SelectBackward>), t...   \n",
       "14115  [[tensor(-0.7040, grad_fn=<SelectBackward>), t...   \n",
       "15740  [[tensor(-0.7533, grad_fn=<SelectBackward>), t...   \n",
       "23068  [[tensor(-0.7756, grad_fn=<SelectBackward>), t...   \n",
       "\n",
       "                                              bert_title  \n",
       "515    [[tensor(-0.9151, grad_fn=<SelectBackward>), t...  \n",
       "780    [[tensor(-0.9007, grad_fn=<SelectBackward>), t...  \n",
       "14115  [[tensor(-0.9256, grad_fn=<SelectBackward>), t...  \n",
       "15740  [[tensor(-0.8798, grad_fn=<SelectBackward>), t...  \n",
       "23068  [[tensor(-0.9033, grad_fn=<SelectBackward>), t...  "
      ]
     },
     "execution_count": 73,
     "metadata": {},
     "output_type": "execute_result"
    }
   ],
   "source": [
    "metatada_red.head()"
   ]
  },
  {
   "cell_type": "code",
   "execution_count": 83,
   "metadata": {},
   "outputs": [],
   "source": [
    "query = topics[\"query\"][0]\n",
    "question = topics[\"question\"][0]\n",
    "narrative = topics[\"narrative\"][0]"
   ]
  },
  {
   "cell_type": "code",
   "execution_count": 84,
   "metadata": {},
   "outputs": [],
   "source": [
    "bert_query = tokenize(bert_model, bert_tokenizer, query)\n",
    "scibert_query =  tokenize(scibert_model, scibert_tokenizer, query)\n",
    "covidbert_query = tokenize(covid_model, covid_tokenizer, query)\n",
    "\n",
    "bert_question = tokenize(bert_model, bert_tokenizer, question)\n",
    "scibert_question =  tokenize(scibert_model, scibert_tokenizer, question)\n",
    "covidbert_question = tokenize(covid_model, covid_tokenizer, question)\n",
    "\n",
    "bert_narrative = tokenize(bert_model, bert_tokenizer, narrative)\n",
    "scibert_narrative =  tokenize(scibert_model, scibert_tokenizer, narrative)\n",
    "covidbert_narrative = tokenize(covid_model, covid_tokenizer, narrative)"
   ]
  },
  {
   "cell_type": "code",
   "execution_count": 87,
   "metadata": {},
   "outputs": [
    {
     "name": "stderr",
     "output_type": "stream",
     "text": [
      "C:\\Users\\User\\AppData\\Local\\Continuum\\anaconda3\\lib\\site-packages\\ipykernel_launcher.py:3: SettingWithCopyWarning: \n",
      "A value is trying to be set on a copy of a slice from a DataFrame.\n",
      "Try using .loc[row_indexer,col_indexer] = value instead\n",
      "\n",
      "See the caveats in the documentation: https://pandas.pydata.org/pandas-docs/stable/user_guide/indexing.html#returning-a-view-versus-a-copy\n",
      "  This is separate from the ipykernel package so we can avoid doing imports until\n"
     ]
    }
   ],
   "source": [
    "cos_sim_bert = metatada_red.apply(\n",
    "    lambda row: util.pytorch_cos_sim(bert_query, row[\"bert_title\"]) , axis = 1)\n",
    "metatada_red[\"cos_sim_bert\"] = cos_sim_bert"
   ]
  },
  {
   "cell_type": "code",
   "execution_count": 89,
   "metadata": {},
   "outputs": [
    {
     "name": "stderr",
     "output_type": "stream",
     "text": [
      "C:\\Users\\User\\AppData\\Local\\Continuum\\anaconda3\\lib\\site-packages\\ipykernel_launcher.py:3: SettingWithCopyWarning: \n",
      "A value is trying to be set on a copy of a slice from a DataFrame.\n",
      "Try using .loc[row_indexer,col_indexer] = value instead\n",
      "\n",
      "See the caveats in the documentation: https://pandas.pydata.org/pandas-docs/stable/user_guide/indexing.html#returning-a-view-versus-a-copy\n",
      "  This is separate from the ipykernel package so we can avoid doing imports until\n"
     ]
    }
   ],
   "source": [
    "cos_sim_scibert = metatada_red.apply(\n",
    "    lambda row: util.pytorch_cos_sim(scibert_query, row[\"sci_bert_title\"]) , axis = 1)\n",
    "metatada_red[\"cos_sim_scibert\"] = cos_sim_scibert"
   ]
  },
  {
   "cell_type": "code",
   "execution_count": 90,
   "metadata": {},
   "outputs": [
    {
     "name": "stderr",
     "output_type": "stream",
     "text": [
      "C:\\Users\\User\\AppData\\Local\\Continuum\\anaconda3\\lib\\site-packages\\ipykernel_launcher.py:3: SettingWithCopyWarning: \n",
      "A value is trying to be set on a copy of a slice from a DataFrame.\n",
      "Try using .loc[row_indexer,col_indexer] = value instead\n",
      "\n",
      "See the caveats in the documentation: https://pandas.pydata.org/pandas-docs/stable/user_guide/indexing.html#returning-a-view-versus-a-copy\n",
      "  This is separate from the ipykernel package so we can avoid doing imports until\n"
     ]
    }
   ],
   "source": [
    "cos_sim_covidbert = metatada_red.apply(\n",
    "    lambda row: util.pytorch_cos_sim(covidbert_query, row[\"covid_bert_title\"]) , axis = 1)\n",
    "metatada_red[\"cos_sim_covidbert\"] = cos_sim_covidbert"
   ]
  },
  {
   "cell_type": "code",
   "execution_count": 92,
   "metadata": {},
   "outputs": [
    {
     "data": {
      "text/plain": [
       "515       [[tensor(0.6535, grad_fn=<SelectBackward>)]]\n",
       "780       [[tensor(0.6932, grad_fn=<SelectBackward>)]]\n",
       "14115     [[tensor(0.8492, grad_fn=<SelectBackward>)]]\n",
       "15740     [[tensor(0.7639, grad_fn=<SelectBackward>)]]\n",
       "23068     [[tensor(0.4240, grad_fn=<SelectBackward>)]]\n",
       "                              ...                     \n",
       "294079    [[tensor(0.9220, grad_fn=<SelectBackward>)]]\n",
       "295817    [[tensor(0.4211, grad_fn=<SelectBackward>)]]\n",
       "300719    [[tensor(0.3732, grad_fn=<SelectBackward>)]]\n",
       "300845    [[tensor(0.4894, grad_fn=<SelectBackward>)]]\n",
       "301384    [[tensor(0.7201, grad_fn=<SelectBackward>)]]\n",
       "Name: cos_sim_scibert, Length: 97, dtype: object"
      ]
     },
     "execution_count": 92,
     "metadata": {},
     "output_type": "execute_result"
    }
   ],
   "source": [
    "metatada_red[\"cos_sim_scibert\"]"
   ]
  },
  {
   "cell_type": "code",
   "execution_count": 94,
   "metadata": {},
   "outputs": [
    {
     "data": {
      "text/plain": [
       "<matplotlib.axes._subplots.AxesSubplot at 0x1deb56be550>"
      ]
     },
     "execution_count": 94,
     "metadata": {},
     "output_type": "execute_result"
    },
    {
     "data": {
      "image/png": "[encoded data removed]",
      "text/plain": [
       "<Figure size 432x288 with 1 Axes>"
      ]
     },
     "metadata": {
      "needs_background": "light"
     },
     "output_type": "display_data"
    }
   ],
   "source": [
    "metatada_red.plot(x = \"cos_sim_scibert\", y = \"cos_sim_bert\", kind = \"scatter\", color = \"relevancy_1\")"
   ]
  },
  {
   "cell_type": "code",
   "execution_count": null,
   "metadata": {},
   "outputs": [],
   "source": [
    "cos_scores = util.pytorch_cos_sim(query_embedding, corpus_embeddings)[0]"
   ]
  },
  {
   "cell_type": "code",
   "execution_count": 98,
   "metadata": {},
   "outputs": [],
   "source": [
    "def get_relevancy(cord_uid, topic_id, relevancy_df):\n",
    "    top_df = relevancy_df[relevancy_df[\"topic_id\"] == topic_id]\n",
    "    top_df = top_df[top_df[\"cord_uid\"] == cord_uid]\n",
    "    rel = \"NaN\"\n",
    "    for index, row in top_df.iterrows():\n",
    "        rel = row[\"relevancy\"]\n",
    "    return rel"
   ]
  },
  {
   "cell_type": "code",
   "execution_count": 101,
   "metadata": {},
   "outputs": [
    {
     "data": {
      "text/html": [
       "<div>\n",
       "<style scoped>\n",
       "    .dataframe tbody tr th:only-of-type {\n",
       "        vertical-align: middle;\n",
       "    }\n",
       "\n",
       "    .dataframe tbody tr th {\n",
       "        vertical-align: top;\n",
       "    }\n",
       "\n",
       "    .dataframe thead th {\n",
       "        text-align: right;\n",
       "    }\n",
       "</style>\n",
       "<table border=\"1\" class=\"dataframe\">\n",
       "  <thead>\n",
       "    <tr style=\"text-align: right;\">\n",
       "      <th></th>\n",
       "      <th>Unnamed: 0</th>\n",
       "      <th>topic_id</th>\n",
       "      <th>round_id</th>\n",
       "      <th>cord_uid</th>\n",
       "      <th>relevancy</th>\n",
       "    </tr>\n",
       "  </thead>\n",
       "  <tbody>\n",
       "    <tr>\n",
       "      <th>0</th>\n",
       "      <td>0</td>\n",
       "      <td>1</td>\n",
       "      <td>4.5</td>\n",
       "      <td>005b2j4b</td>\n",
       "      <td>2</td>\n",
       "    </tr>\n",
       "    <tr>\n",
       "      <th>1</th>\n",
       "      <td>1</td>\n",
       "      <td>1</td>\n",
       "      <td>4.0</td>\n",
       "      <td>00fmeepz</td>\n",
       "      <td>1</td>\n",
       "    </tr>\n",
       "    <tr>\n",
       "      <th>2</th>\n",
       "      <td>2</td>\n",
       "      <td>1</td>\n",
       "      <td>0.5</td>\n",
       "      <td>010vptx3</td>\n",
       "      <td>2</td>\n",
       "    </tr>\n",
       "    <tr>\n",
       "      <th>3</th>\n",
       "      <td>3</td>\n",
       "      <td>1</td>\n",
       "      <td>2.5</td>\n",
       "      <td>0194oljo</td>\n",
       "      <td>1</td>\n",
       "    </tr>\n",
       "    <tr>\n",
       "      <th>4</th>\n",
       "      <td>4</td>\n",
       "      <td>1</td>\n",
       "      <td>4.0</td>\n",
       "      <td>021q9884</td>\n",
       "      <td>1</td>\n",
       "    </tr>\n",
       "  </tbody>\n",
       "</table>\n",
       "</div>"
      ],
      "text/plain": [
       "   Unnamed: 0  topic_id  round_id  cord_uid  relevancy\n",
       "0           0         1       4.5  005b2j4b          2\n",
       "1           1         1       4.0  00fmeepz          1\n",
       "2           2         1       0.5  010vptx3          2\n",
       "3           3         1       2.5  0194oljo          1\n",
       "4           4         1       4.0  021q9884          1"
      ]
     },
     "execution_count": 101,
     "metadata": {},
     "output_type": "execute_result"
    }
   ],
   "source": [
    "relvency_data.head()"
   ]
  },
  {
   "cell_type": "code",
   "execution_count": 103,
   "metadata": {},
   "outputs": [
    {
     "data": {
      "text/plain": [
       "'NaN'"
      ]
     },
     "execution_count": 103,
     "metadata": {},
     "output_type": "execute_result"
    }
   ],
   "source": [
    "get_relevancy(\"005b2jsdasfd\", 1, relvency_data)"
   ]
  },
  {
   "cell_type": "code",
   "execution_count": 104,
   "metadata": {},
   "outputs": [
    {
     "ename": "ValueError",
     "evalue": "Can only compare identically-labeled Series objects",
     "output_type": "error",
     "traceback": [
      "\u001b[1;31m---------------------------------------------------------------------------\u001b[0m",
      "\u001b[1;31mValueError\u001b[0m                                Traceback (most recent call last)",
      "\u001b[1;32m<ipython-input-104-724d8f0222ff>\u001b[0m in \u001b[0;36m<module>\u001b[1;34m\u001b[0m\n\u001b[1;32m----> 1\u001b[1;33m \u001b[0mmetatada_red\u001b[0m\u001b[1;33m.\u001b[0m\u001b[0massign\u001b[0m\u001b[1;33m(\u001b[0m\u001b[0mrelevancy_1\u001b[0m\u001b[1;33m=\u001b[0m\u001b[1;32mlambda\u001b[0m \u001b[0mx\u001b[0m\u001b[1;33m:\u001b[0m \u001b[0mget_relevancy\u001b[0m\u001b[1;33m(\u001b[0m\u001b[0mx\u001b[0m\u001b[1;33m.\u001b[0m\u001b[0mcord_uid\u001b[0m\u001b[1;33m,\u001b[0m \u001b[1;36m1\u001b[0m\u001b[1;33m,\u001b[0m\u001b[0mrelvency_data\u001b[0m\u001b[1;33m)\u001b[0m\u001b[1;33m)\u001b[0m\u001b[1;33m\u001b[0m\u001b[1;33m\u001b[0m\u001b[0m\n\u001b[0m",
      "\u001b[1;32m~\\AppData\\Local\\Continuum\\anaconda3\\lib\\site-packages\\pandas\\core\\frame.py\u001b[0m in \u001b[0;36massign\u001b[1;34m(self, **kwargs)\u001b[0m\n\u001b[0;32m   3565\u001b[0m \u001b[1;33m\u001b[0m\u001b[0m\n\u001b[0;32m   3566\u001b[0m         \u001b[1;32mfor\u001b[0m \u001b[0mk\u001b[0m\u001b[1;33m,\u001b[0m \u001b[0mv\u001b[0m \u001b[1;32min\u001b[0m \u001b[0mkwargs\u001b[0m\u001b[1;33m.\u001b[0m\u001b[0mitems\u001b[0m\u001b[1;33m(\u001b[0m\u001b[1;33m)\u001b[0m\u001b[1;33m:\u001b[0m\u001b[1;33m\u001b[0m\u001b[1;33m\u001b[0m\u001b[0m\n\u001b[1;32m-> 3567\u001b[1;33m             \u001b[0mdata\u001b[0m\u001b[1;33m[\u001b[0m\u001b[0mk\u001b[0m\u001b[1;33m]\u001b[0m \u001b[1;33m=\u001b[0m \u001b[0mcom\u001b[0m\u001b[1;33m.\u001b[0m\u001b[0mapply_if_callable\u001b[0m\u001b[1;33m(\u001b[0m\u001b[0mv\u001b[0m\u001b[1;33m,\u001b[0m \u001b[0mdata\u001b[0m\u001b[1;33m)\u001b[0m\u001b[1;33m\u001b[0m\u001b[1;33m\u001b[0m\u001b[0m\n\u001b[0m\u001b[0;32m   3568\u001b[0m         \u001b[1;32mreturn\u001b[0m \u001b[0mdata\u001b[0m\u001b[1;33m\u001b[0m\u001b[1;33m\u001b[0m\u001b[0m\n\u001b[0;32m   3569\u001b[0m \u001b[1;33m\u001b[0m\u001b[0m\n",
      "\u001b[1;32m~\\AppData\\Local\\Continuum\\anaconda3\\lib\\site-packages\\pandas\\core\\common.py\u001b[0m in \u001b[0;36mapply_if_callable\u001b[1;34m(maybe_callable, obj, **kwargs)\u001b[0m\n\u001b[0;32m    341\u001b[0m \u001b[1;33m\u001b[0m\u001b[0m\n\u001b[0;32m    342\u001b[0m     \u001b[1;32mif\u001b[0m \u001b[0mcallable\u001b[0m\u001b[1;33m(\u001b[0m\u001b[0mmaybe_callable\u001b[0m\u001b[1;33m)\u001b[0m\u001b[1;33m:\u001b[0m\u001b[1;33m\u001b[0m\u001b[1;33m\u001b[0m\u001b[0m\n\u001b[1;32m--> 343\u001b[1;33m         \u001b[1;32mreturn\u001b[0m \u001b[0mmaybe_callable\u001b[0m\u001b[1;33m(\u001b[0m\u001b[0mobj\u001b[0m\u001b[1;33m,\u001b[0m \u001b[1;33m**\u001b[0m\u001b[0mkwargs\u001b[0m\u001b[1;33m)\u001b[0m\u001b[1;33m\u001b[0m\u001b[1;33m\u001b[0m\u001b[0m\n\u001b[0m\u001b[0;32m    344\u001b[0m \u001b[1;33m\u001b[0m\u001b[0m\n\u001b[0;32m    345\u001b[0m     \u001b[1;32mreturn\u001b[0m \u001b[0mmaybe_callable\u001b[0m\u001b[1;33m\u001b[0m\u001b[1;33m\u001b[0m\u001b[0m\n",
      "\u001b[1;32m<ipython-input-104-724d8f0222ff>\u001b[0m in \u001b[0;36m<lambda>\u001b[1;34m(x)\u001b[0m\n\u001b[1;32m----> 1\u001b[1;33m \u001b[0mmetatada_red\u001b[0m\u001b[1;33m.\u001b[0m\u001b[0massign\u001b[0m\u001b[1;33m(\u001b[0m\u001b[0mrelevancy_1\u001b[0m\u001b[1;33m=\u001b[0m\u001b[1;32mlambda\u001b[0m \u001b[0mx\u001b[0m\u001b[1;33m:\u001b[0m \u001b[0mget_relevancy\u001b[0m\u001b[1;33m(\u001b[0m\u001b[0mx\u001b[0m\u001b[1;33m.\u001b[0m\u001b[0mcord_uid\u001b[0m\u001b[1;33m,\u001b[0m \u001b[1;36m1\u001b[0m\u001b[1;33m,\u001b[0m\u001b[0mrelvency_data\u001b[0m\u001b[1;33m)\u001b[0m\u001b[1;33m)\u001b[0m\u001b[1;33m\u001b[0m\u001b[1;33m\u001b[0m\u001b[0m\n\u001b[0m",
      "\u001b[1;32m<ipython-input-98-5159d86efaf6>\u001b[0m in \u001b[0;36mget_relevancy\u001b[1;34m(cord_uid, topic_id, relevancy_df)\u001b[0m\n\u001b[0;32m      1\u001b[0m \u001b[1;32mdef\u001b[0m \u001b[0mget_relevancy\u001b[0m\u001b[1;33m(\u001b[0m\u001b[0mcord_uid\u001b[0m\u001b[1;33m,\u001b[0m \u001b[0mtopic_id\u001b[0m\u001b[1;33m,\u001b[0m \u001b[0mrelevancy_df\u001b[0m\u001b[1;33m)\u001b[0m\u001b[1;33m:\u001b[0m\u001b[1;33m\u001b[0m\u001b[1;33m\u001b[0m\u001b[0m\n\u001b[0;32m      2\u001b[0m     \u001b[0mtop_df\u001b[0m \u001b[1;33m=\u001b[0m \u001b[0mrelevancy_df\u001b[0m\u001b[1;33m[\u001b[0m\u001b[0mrelevancy_df\u001b[0m\u001b[1;33m[\u001b[0m\u001b[1;34m\"topic_id\"\u001b[0m\u001b[1;33m]\u001b[0m \u001b[1;33m==\u001b[0m \u001b[0mtopic_id\u001b[0m\u001b[1;33m]\u001b[0m\u001b[1;33m\u001b[0m\u001b[1;33m\u001b[0m\u001b[0m\n\u001b[1;32m----> 3\u001b[1;33m     \u001b[0mtop_df\u001b[0m \u001b[1;33m=\u001b[0m \u001b[0mtop_df\u001b[0m\u001b[1;33m[\u001b[0m\u001b[0mtop_df\u001b[0m\u001b[1;33m[\u001b[0m\u001b[1;34m\"cord_uid\"\u001b[0m\u001b[1;33m]\u001b[0m \u001b[1;33m==\u001b[0m \u001b[0mcord_uid\u001b[0m\u001b[1;33m]\u001b[0m\u001b[1;33m\u001b[0m\u001b[1;33m\u001b[0m\u001b[0m\n\u001b[0m\u001b[0;32m      4\u001b[0m     \u001b[0mrel\u001b[0m \u001b[1;33m=\u001b[0m \u001b[1;34m\"NaN\"\u001b[0m\u001b[1;33m\u001b[0m\u001b[1;33m\u001b[0m\u001b[0m\n\u001b[0;32m      5\u001b[0m     \u001b[1;32mfor\u001b[0m \u001b[0mindex\u001b[0m\u001b[1;33m,\u001b[0m \u001b[0mrow\u001b[0m \u001b[1;32min\u001b[0m \u001b[0mtop_df\u001b[0m\u001b[1;33m.\u001b[0m\u001b[0miterrows\u001b[0m\u001b[1;33m(\u001b[0m\u001b[1;33m)\u001b[0m\u001b[1;33m:\u001b[0m\u001b[1;33m\u001b[0m\u001b[1;33m\u001b[0m\u001b[0m\n",
      "\u001b[1;32m~\\AppData\\Local\\Continuum\\anaconda3\\lib\\site-packages\\pandas\\core\\ops\\common.py\u001b[0m in \u001b[0;36mnew_method\u001b[1;34m(self, other)\u001b[0m\n\u001b[0;32m     62\u001b[0m         \u001b[0mother\u001b[0m \u001b[1;33m=\u001b[0m \u001b[0mitem_from_zerodim\u001b[0m\u001b[1;33m(\u001b[0m\u001b[0mother\u001b[0m\u001b[1;33m)\u001b[0m\u001b[1;33m\u001b[0m\u001b[1;33m\u001b[0m\u001b[0m\n\u001b[0;32m     63\u001b[0m \u001b[1;33m\u001b[0m\u001b[0m\n\u001b[1;32m---> 64\u001b[1;33m         \u001b[1;32mreturn\u001b[0m \u001b[0mmethod\u001b[0m\u001b[1;33m(\u001b[0m\u001b[0mself\u001b[0m\u001b[1;33m,\u001b[0m \u001b[0mother\u001b[0m\u001b[1;33m)\u001b[0m\u001b[1;33m\u001b[0m\u001b[1;33m\u001b[0m\u001b[0m\n\u001b[0m\u001b[0;32m     65\u001b[0m \u001b[1;33m\u001b[0m\u001b[0m\n\u001b[0;32m     66\u001b[0m     \u001b[1;32mreturn\u001b[0m \u001b[0mnew_method\u001b[0m\u001b[1;33m\u001b[0m\u001b[1;33m\u001b[0m\u001b[0m\n",
      "\u001b[1;32m~\\AppData\\Local\\Continuum\\anaconda3\\lib\\site-packages\\pandas\\core\\ops\\__init__.py\u001b[0m in \u001b[0;36mwrapper\u001b[1;34m(self, other)\u001b[0m\n\u001b[0;32m    522\u001b[0m \u001b[1;33m\u001b[0m\u001b[0m\n\u001b[0;32m    523\u001b[0m         \u001b[1;32mif\u001b[0m \u001b[0misinstance\u001b[0m\u001b[1;33m(\u001b[0m\u001b[0mother\u001b[0m\u001b[1;33m,\u001b[0m \u001b[0mABCSeries\u001b[0m\u001b[1;33m)\u001b[0m \u001b[1;32mand\u001b[0m \u001b[1;32mnot\u001b[0m \u001b[0mself\u001b[0m\u001b[1;33m.\u001b[0m\u001b[0m_indexed_same\u001b[0m\u001b[1;33m(\u001b[0m\u001b[0mother\u001b[0m\u001b[1;33m)\u001b[0m\u001b[1;33m:\u001b[0m\u001b[1;33m\u001b[0m\u001b[1;33m\u001b[0m\u001b[0m\n\u001b[1;32m--> 524\u001b[1;33m             \u001b[1;32mraise\u001b[0m \u001b[0mValueError\u001b[0m\u001b[1;33m(\u001b[0m\u001b[1;34m\"Can only compare identically-labeled Series objects\"\u001b[0m\u001b[1;33m)\u001b[0m\u001b[1;33m\u001b[0m\u001b[1;33m\u001b[0m\u001b[0m\n\u001b[0m\u001b[0;32m    525\u001b[0m \u001b[1;33m\u001b[0m\u001b[0m\n\u001b[0;32m    526\u001b[0m         \u001b[0mlvalues\u001b[0m \u001b[1;33m=\u001b[0m \u001b[0mextract_array\u001b[0m\u001b[1;33m(\u001b[0m\u001b[0mself\u001b[0m\u001b[1;33m,\u001b[0m \u001b[0mextract_numpy\u001b[0m\u001b[1;33m=\u001b[0m\u001b[1;32mTrue\u001b[0m\u001b[1;33m)\u001b[0m\u001b[1;33m\u001b[0m\u001b[1;33m\u001b[0m\u001b[0m\n",
      "\u001b[1;31mValueError\u001b[0m: Can only compare identically-labeled Series objects"
     ]
    }
   ],
   "source": [
    "metatada_red.assign(relevancy_1 = lambda x: get_relevancy(x.cord_uid, 1,relvency_data))"
   ]
  },
  {
   "cell_type": "code",
   "execution_count": 105,
   "metadata": {},
   "outputs": [
    {
     "name": "stderr",
     "output_type": "stream",
     "text": [
      "C:\\Users\\User\\AppData\\Local\\Continuum\\anaconda3\\lib\\site-packages\\ipykernel_launcher.py:3: SettingWithCopyWarning: \n",
      "A value is trying to be set on a copy of a slice from a DataFrame.\n",
      "Try using .loc[row_indexer,col_indexer] = value instead\n",
      "\n",
      "See the caveats in the documentation: https://pandas.pydata.org/pandas-docs/stable/user_guide/indexing.html#returning-a-view-versus-a-copy\n",
      "  This is separate from the ipykernel package so we can avoid doing imports until\n"
     ]
    }
   ],
   "source": [
    "rel_top_1 = metatada_red.apply(\n",
    "    lambda row: get_relevancy(row[\"cord_uid\"], 1,relvency_data), axis = 1)\n",
    "metatada_red[\"relevancy_1\"] = rel_top_1"
   ]
  },
  {
   "cell_type": "code",
   "execution_count": 107,
   "metadata": {},
   "outputs": [
    {
     "data": {
      "text/html": [
       "<div>\n",
       "<style scoped>\n",
       "    .dataframe tbody tr th:only-of-type {\n",
       "        vertical-align: middle;\n",
       "    }\n",
       "\n",
       "    .dataframe tbody tr th {\n",
       "        vertical-align: top;\n",
       "    }\n",
       "\n",
       "    .dataframe thead th {\n",
       "        text-align: right;\n",
       "    }\n",
       "</style>\n",
       "<table border=\"1\" class=\"dataframe\">\n",
       "  <thead>\n",
       "    <tr style=\"text-align: right;\">\n",
       "      <th></th>\n",
       "      <th>cord_uid</th>\n",
       "      <th>title</th>\n",
       "      <th>abstract</th>\n",
       "      <th>sci_bert_title</th>\n",
       "      <th>covid_bert_title</th>\n",
       "      <th>bert_title</th>\n",
       "      <th>cos_sim_bert</th>\n",
       "      <th>cos_sim_scibert</th>\n",
       "      <th>cos_sim_covidbert</th>\n",
       "      <th>relevancy_1</th>\n",
       "    </tr>\n",
       "  </thead>\n",
       "  <tbody>\n",
       "    <tr>\n",
       "      <th>515</th>\n",
       "      <td>sn1a7ikq</td>\n",
       "      <td>Tylosema esculentum (Marama) Tuber and Bean Ex...</td>\n",
       "      <td>Tylosema esculentum (marama) beans and tubers ...</td>\n",
       "      <td>[[tensor(0.1329, grad_fn=&lt;SelectBackward&gt;), te...</td>\n",
       "      <td>[[tensor(-0.8795, grad_fn=&lt;SelectBackward&gt;), t...</td>\n",
       "      <td>[[tensor(-0.9151, grad_fn=&lt;SelectBackward&gt;), t...</td>\n",
       "      <td>[[tensor(0.9353, grad_fn=&lt;SelectBackward&gt;)]]</td>\n",
       "      <td>[[tensor(0.6535, grad_fn=&lt;SelectBackward&gt;)]]</td>\n",
       "      <td>[[tensor(0.8799, grad_fn=&lt;SelectBackward&gt;)]]</td>\n",
       "      <td>0</td>\n",
       "    </tr>\n",
       "    <tr>\n",
       "      <th>780</th>\n",
       "      <td>uj96zdld</td>\n",
       "      <td>Resveratrol Inhibits KSHV Reactivation by Lowe...</td>\n",
       "      <td>In the field of herpesvirus research, the exac...</td>\n",
       "      <td>[[tensor(-0.1614, grad_fn=&lt;SelectBackward&gt;), t...</td>\n",
       "      <td>[[tensor(-0.8929, grad_fn=&lt;SelectBackward&gt;), t...</td>\n",
       "      <td>[[tensor(-0.9007, grad_fn=&lt;SelectBackward&gt;), t...</td>\n",
       "      <td>[[tensor(0.9275, grad_fn=&lt;SelectBackward&gt;)]]</td>\n",
       "      <td>[[tensor(0.6932, grad_fn=&lt;SelectBackward&gt;)]]</td>\n",
       "      <td>[[tensor(0.8467, grad_fn=&lt;SelectBackward&gt;)]]</td>\n",
       "      <td>0</td>\n",
       "    </tr>\n",
       "  </tbody>\n",
       "</table>\n",
       "</div>"
      ],
      "text/plain": [
       "     cord_uid                                              title  \\\n",
       "515  sn1a7ikq  Tylosema esculentum (Marama) Tuber and Bean Ex...   \n",
       "780  uj96zdld  Resveratrol Inhibits KSHV Reactivation by Lowe...   \n",
       "\n",
       "                                              abstract  \\\n",
       "515  Tylosema esculentum (marama) beans and tubers ...   \n",
       "780  In the field of herpesvirus research, the exac...   \n",
       "\n",
       "                                        sci_bert_title  \\\n",
       "515  [[tensor(0.1329, grad_fn=<SelectBackward>), te...   \n",
       "780  [[tensor(-0.1614, grad_fn=<SelectBackward>), t...   \n",
       "\n",
       "                                      covid_bert_title  \\\n",
       "515  [[tensor(-0.8795, grad_fn=<SelectBackward>), t...   \n",
       "780  [[tensor(-0.8929, grad_fn=<SelectBackward>), t...   \n",
       "\n",
       "                                            bert_title  \\\n",
       "515  [[tensor(-0.9151, grad_fn=<SelectBackward>), t...   \n",
       "780  [[tensor(-0.9007, grad_fn=<SelectBackward>), t...   \n",
       "\n",
       "                                     cos_sim_bert  \\\n",
       "515  [[tensor(0.9353, grad_fn=<SelectBackward>)]]   \n",
       "780  [[tensor(0.9275, grad_fn=<SelectBackward>)]]   \n",
       "\n",
       "                                  cos_sim_scibert  \\\n",
       "515  [[tensor(0.6535, grad_fn=<SelectBackward>)]]   \n",
       "780  [[tensor(0.6932, grad_fn=<SelectBackward>)]]   \n",
       "\n",
       "                                cos_sim_covidbert  relevancy_1  \n",
       "515  [[tensor(0.8799, grad_fn=<SelectBackward>)]]            0  \n",
       "780  [[tensor(0.8467, grad_fn=<SelectBackward>)]]            0  "
      ]
     },
     "execution_count": 107,
     "metadata": {},
     "output_type": "execute_result"
    }
   ],
   "source": [
    "metatada_red.head(2)"
   ]
  },
  {
   "cell_type": "code",
   "execution_count": 109,
   "metadata": {},
   "outputs": [
    {
     "data": {
      "text/plain": [
       "<matplotlib.axes._subplots.AxesSubplot at 0x1deb5b9f208>"
      ]
     },
     "execution_count": 109,
     "metadata": {},
     "output_type": "execute_result"
    },
    {
     "data": {
      "image/png": "[encoded data removed]",
      "text/plain": [
       "<Figure size 432x288 with 2 Axes>"
      ]
     },
     "metadata": {
      "needs_background": "light"
     },
     "output_type": "display_data"
    }
   ],
   "source": [
    "metatada_red.plot(x = \"cos_sim_scibert\", y = \"cos_sim_bert\", kind = \"scatter\", c = \"relevancy_1\",colormap='viridis')"
   ]
  },
  {
   "cell_type": "code",
   "execution_count": null,
   "metadata": {},
   "outputs": [],
   "source": []
  }
 ],
 "metadata": {
  "kernelspec": {
   "display_name": "Python 3",
   "language": "python",
   "name": "python3"
  },
  "language_info": {
   "codemirror_mode": {
    "name": "ipython",
    "version": 3
   },
   "file_extension": ".py",
   "mimetype": "text/x-python",
   "name": "python",
   "nbconvert_exporter": "python",
   "pygments_lexer": "ipython3",
   "version": "3.7.3"
  }
 },
 "nbformat": 4,
 "nbformat_minor": 4
}
