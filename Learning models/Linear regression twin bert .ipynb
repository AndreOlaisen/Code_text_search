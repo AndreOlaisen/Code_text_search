{
 "cells": [
  {
   "cell_type": "code",
   "execution_count": 1,
   "metadata": {},
   "outputs": [],
   "source": [
    "import pandas as pd\n",
    "import matplotlib.pyplot as plt\n",
    "import torch\n",
    "import torch.optim as optim\n",
    "import pickle\n",
    "import torch.nn as nn\n",
    "from torch.autograd import Variable\n",
    "import random"
   ]
  },
  {
   "cell_type": "code",
   "execution_count": 2,
   "metadata": {},
   "outputs": [],
   "source": [
    "#TODO add split 1-35 train and 36-50 test"
   ]
  },
  {
   "cell_type": "markdown",
   "metadata": {},
   "source": [
    "## Create dataset"
   ]
  },
  {
   "cell_type": "code",
   "execution_count": 3,
   "metadata": {},
   "outputs": [
    {
     "data": {
      "text/html": [
       "<div>\n",
       "<style scoped>\n",
       "    .dataframe tbody tr th:only-of-type {\n",
       "        vertical-align: middle;\n",
       "    }\n",
       "\n",
       "    .dataframe tbody tr th {\n",
       "        vertical-align: top;\n",
       "    }\n",
       "\n",
       "    .dataframe thead th {\n",
       "        text-align: right;\n",
       "    }\n",
       "</style>\n",
       "<table border=\"1\" class=\"dataframe\">\n",
       "  <thead>\n",
       "    <tr style=\"text-align: right;\">\n",
       "      <th></th>\n",
       "      <th>Unnamed: 0</th>\n",
       "      <th>topic_id</th>\n",
       "      <th>round_id</th>\n",
       "      <th>cord_uid</th>\n",
       "      <th>relevancy</th>\n",
       "    </tr>\n",
       "  </thead>\n",
       "  <tbody>\n",
       "    <tr>\n",
       "      <th>0</th>\n",
       "      <td>0</td>\n",
       "      <td>1</td>\n",
       "      <td>4.5</td>\n",
       "      <td>005b2j4b</td>\n",
       "      <td>2</td>\n",
       "    </tr>\n",
       "    <tr>\n",
       "      <th>1</th>\n",
       "      <td>1</td>\n",
       "      <td>1</td>\n",
       "      <td>4.0</td>\n",
       "      <td>00fmeepz</td>\n",
       "      <td>1</td>\n",
       "    </tr>\n",
       "    <tr>\n",
       "      <th>2</th>\n",
       "      <td>2</td>\n",
       "      <td>1</td>\n",
       "      <td>0.5</td>\n",
       "      <td>010vptx3</td>\n",
       "      <td>2</td>\n",
       "    </tr>\n",
       "    <tr>\n",
       "      <th>3</th>\n",
       "      <td>3</td>\n",
       "      <td>1</td>\n",
       "      <td>2.5</td>\n",
       "      <td>0194oljo</td>\n",
       "      <td>1</td>\n",
       "    </tr>\n",
       "    <tr>\n",
       "      <th>4</th>\n",
       "      <td>4</td>\n",
       "      <td>1</td>\n",
       "      <td>4.0</td>\n",
       "      <td>021q9884</td>\n",
       "      <td>1</td>\n",
       "    </tr>\n",
       "  </tbody>\n",
       "</table>\n",
       "</div>"
      ],
      "text/plain": [
       "   Unnamed: 0  topic_id  round_id  cord_uid  relevancy\n",
       "0           0         1       4.5  005b2j4b          2\n",
       "1           1         1       4.0  00fmeepz          1\n",
       "2           2         1       0.5  010vptx3          2\n",
       "3           3         1       2.5  0194oljo          1\n",
       "4           4         1       4.0  021q9884          1"
      ]
     },
     "execution_count": 3,
     "metadata": {},
     "output_type": "execute_result"
    }
   ],
   "source": [
    "# loading relevancy data\n",
    "\n",
    "path = 'C:/Users/User/OneDrive - NTNU/NTNU/Prosjekt oppgave NLP/dataset/CORD-19/'\n",
    "file = 'relevance_data.csv'\n",
    "\n",
    "label_data = pd.read_csv(path + file)\n",
    "label_data.head()"
   ]
  },
  {
   "cell_type": "code",
   "execution_count": 4,
   "metadata": {},
   "outputs": [
    {
     "data": {
      "text/html": [
       "<div>\n",
       "<style scoped>\n",
       "    .dataframe tbody tr th:only-of-type {\n",
       "        vertical-align: middle;\n",
       "    }\n",
       "\n",
       "    .dataframe tbody tr th {\n",
       "        vertical-align: top;\n",
       "    }\n",
       "\n",
       "    .dataframe thead th {\n",
       "        text-align: right;\n",
       "    }\n",
       "</style>\n",
       "<table border=\"1\" class=\"dataframe\">\n",
       "  <thead>\n",
       "    <tr style=\"text-align: right;\">\n",
       "      <th></th>\n",
       "      <th>query_id</th>\n",
       "      <th>query</th>\n",
       "      <th>question</th>\n",
       "      <th>narrative</th>\n",
       "    </tr>\n",
       "  </thead>\n",
       "  <tbody>\n",
       "    <tr>\n",
       "      <th>0</th>\n",
       "      <td>1</td>\n",
       "      <td>coronavirus origin</td>\n",
       "      <td>what is the origin of COVID-19</td>\n",
       "      <td>seeking range of information about the SARS-Co...</td>\n",
       "    </tr>\n",
       "    <tr>\n",
       "      <th>1</th>\n",
       "      <td>2</td>\n",
       "      <td>coronavirus response to weather changes</td>\n",
       "      <td>how does the coronavirus respond to changes in...</td>\n",
       "      <td>seeking range of information about the SARS-Co...</td>\n",
       "    </tr>\n",
       "    <tr>\n",
       "      <th>2</th>\n",
       "      <td>3</td>\n",
       "      <td>coronavirus immunity</td>\n",
       "      <td>will SARS-CoV2 infected people develop immunit...</td>\n",
       "      <td>seeking studies of immunity developed due to i...</td>\n",
       "    </tr>\n",
       "    <tr>\n",
       "      <th>3</th>\n",
       "      <td>4</td>\n",
       "      <td>how do people die from the coronavirus</td>\n",
       "      <td>what causes death from Covid-19?</td>\n",
       "      <td>Studies looking at mechanisms of death from Co...</td>\n",
       "    </tr>\n",
       "    <tr>\n",
       "      <th>4</th>\n",
       "      <td>5</td>\n",
       "      <td>animal models of COVID-19</td>\n",
       "      <td>what drugs have been active against SARS-CoV o...</td>\n",
       "      <td>Papers that describe the results  of testing d...</td>\n",
       "    </tr>\n",
       "  </tbody>\n",
       "</table>\n",
       "</div>"
      ],
      "text/plain": [
       "   query_id                                    query  \\\n",
       "0         1                       coronavirus origin   \n",
       "1         2  coronavirus response to weather changes   \n",
       "2         3                     coronavirus immunity   \n",
       "3         4   how do people die from the coronavirus   \n",
       "4         5                animal models of COVID-19   \n",
       "\n",
       "                                            question  \\\n",
       "0                     what is the origin of COVID-19   \n",
       "1  how does the coronavirus respond to changes in...   \n",
       "2  will SARS-CoV2 infected people develop immunit...   \n",
       "3                   what causes death from Covid-19?   \n",
       "4  what drugs have been active against SARS-CoV o...   \n",
       "\n",
       "                                           narrative  \n",
       "0  seeking range of information about the SARS-Co...  \n",
       "1  seeking range of information about the SARS-Co...  \n",
       "2  seeking studies of immunity developed due to i...  \n",
       "3  Studies looking at mechanisms of death from Co...  \n",
       "4  Papers that describe the results  of testing d...  "
      ]
     },
     "execution_count": 4,
     "metadata": {},
     "output_type": "execute_result"
    }
   ],
   "source": [
    "# loading topics data\n",
    "\n",
    "path = 'C:/Users/User/OneDrive - NTNU/NTNU/Prosjekt oppgave NLP/dataset/CORD-19/'\n",
    "file = 'topics.csv'\n",
    "\n",
    "topics = pd.read_csv(path + file)\n",
    "topics.head()"
   ]
  },
  {
   "cell_type": "code",
   "execution_count": 5,
   "metadata": {},
   "outputs": [
    {
     "data": {
      "text/plain": [
       "69318"
      ]
     },
     "execution_count": 5,
     "metadata": {},
     "output_type": "execute_result"
    }
   ],
   "source": [
    "len(label_data)"
   ]
  },
  {
   "cell_type": "code",
   "execution_count": 6,
   "metadata": {},
   "outputs": [],
   "source": [
    "train_topics = [i+1 for i in range(35)]\n",
    "test_topics = [i+1 for i in range(35,50)]"
   ]
  },
  {
   "cell_type": "code",
   "execution_count": 7,
   "metadata": {},
   "outputs": [],
   "source": [
    "# available models: ['bert-base-uncased', \"allenai/scibert_scivocab_uncased\", \"gsarti/covidbert-nli\"]\n",
    "\n",
    "def normalize_tensor(tensor):\n",
    "    tensor_normed = []\n",
    "    norm = torch.norm(tensor)\n",
    "    if norm>0:\n",
    "        tensor_normed = tensor/norm\n",
    "    else:\n",
    "        tensor_normed = tensor\n",
    "    return tensor_normed\n",
    "\n",
    "def get_tesors(row, topic_field, doc_field, model):\n",
    "    topic_path = \"C:/Users/User/Documents/NTNU/NLP/CORD-19/topic_embeddings/\"\n",
    "    doc_path = \"C:/Users/User/Documents/NTNU/NLP/CORD-19/Embeddings/786/\"\n",
    "    doc_id = row[\"cord_uid\"]\n",
    "    topic_id = row[\"topic_id\"]\n",
    "    topic_tensor = []\n",
    "    doc_tensor = []\n",
    "    \n",
    "    doc_embedding_file = doc_path + doc_id + \".txt\"\n",
    "    try:\n",
    "        with open(doc_embedding_file, \"rb\") as fp:   # Unpickling\n",
    "            doc_embedding = pickle.load(fp)\n",
    "    except:\n",
    "        return [[0]], [[0]]\n",
    "        \n",
    "    doc_tensor = doc_embedding[\"models\"][model][doc_field]\n",
    "            \n",
    "    topic_embedding_file = topic_path + str(topic_id) + \".txt\"\n",
    "    with open(topic_embedding_file, \"rb\") as fp:   # Unpickling\n",
    "        topic_embedding = pickle.load(fp)\n",
    "        \n",
    "    topic_tensor =  topic_embedding[\"models\"][model][topic_field]\n",
    "    \n",
    "    topic_tensor = normalize_tensor(topic_tensor)\n",
    "    doc_tensor = normalize_tensor(doc_tensor)\n",
    "    \n",
    "    return topic_tensor, doc_tensor\n",
    "    "
   ]
  },
  {
   "cell_type": "code",
   "execution_count": 8,
   "metadata": {},
   "outputs": [],
   "source": [
    "def join_tensors(tensor_a,tensor_b):\n",
    "    n = len(tensor_a)\n",
    "    m = len(tensor_b)\n",
    "    c = torch.empty(n + m)\n",
    "    c[0:n] = tensor_a\n",
    "    c[n:(n+m)] = tensor_b\n",
    "    return c"
   ]
  },
  {
   "cell_type": "code",
   "execution_count": 9,
   "metadata": {},
   "outputs": [],
   "source": [
    "def isNaN(num):\n",
    "    return num != num"
   ]
  },
  {
   "cell_type": "code",
   "execution_count": null,
   "metadata": {},
   "outputs": [],
   "source": []
  },
  {
   "cell_type": "code",
   "execution_count": 10,
   "metadata": {},
   "outputs": [],
   "source": [
    "def load_data(n_datapoints, doc_field, query_field, encoder_model):\n",
    "    \n",
    "    topic_dataset = torch.empty(n_datapoints, 768)\n",
    "    document_dataset = torch.empty(n_datapoints, 768)\n",
    "    rel = torch.empty(n_datapoints)\n",
    "    \n",
    "    miss = 0\n",
    "    i = 0\n",
    "    for idx, row in label_data.iterrows():\n",
    "        if idx < num:\n",
    "            a, b = get_tesors(row, query_field, doc_field, encoder_model)\n",
    "            if len(a[0]) != 1:\n",
    "              \n",
    "                topic_dataset[i] = a[0]\n",
    "                document_dataset[i] = b[0]\n",
    "        \n",
    "                rel[i] = row[\"relevancy\"]\n",
    "                i += 1\n",
    "            else:\n",
    "                miss += 1\n",
    "            if(idx % 5000) == 0:\n",
    "                print(idx)\n",
    "    \n",
    "    document_dataset = document_dataset[0:(num-miss)]\n",
    "    topic_dataset = topic_dataset[0:(num-miss)]\n",
    "    rel = rel[0:(num-miss)]\n",
    "    \n",
    "    return topic_dataset, document_dataset, rel, miss"
   ]
  },
  {
   "cell_type": "code",
   "execution_count": 11,
   "metadata": {},
   "outputs": [],
   "source": [
    "def load_data_top_id(type_d, doc_field, query_field, encoder_model):\n",
    "    \n",
    "    label_dat_top = []\n",
    "    if type_d == \"train\":\n",
    "        label_dat_top = label_data[label_data[\"topic_id\"] < 36]\n",
    "    else:\n",
    "        label_dat_top = label_data[label_data[\"topic_id\"] > 35]\n",
    "        \n",
    "    n_datapoints = len(label_dat_top[\"topic_id\"])\n",
    "    print(\"Number of datapoints for \",type_d,\" \",n_datapoints)\n",
    "    topic_dataset = torch.empty(n_datapoints, 768)\n",
    "    document_dataset = torch.empty(n_datapoints, 768)\n",
    "    rel = torch.empty(n_datapoints)\n",
    "    \n",
    "    miss = 0\n",
    "    i = 0\n",
    "    for idx, row in label_dat_top.iterrows():\n",
    "        a, b = get_tesors(row, query_field, doc_field, encoder_model)\n",
    "        if len(a[0]) != 1:\n",
    "\n",
    "            topic_dataset[i] = a[0]\n",
    "            document_dataset[i] = b[0]\n",
    "\n",
    "            rel[i] = row[\"relevancy\"]\n",
    "            i += 1\n",
    "        else:\n",
    "            miss += 1\n",
    "        if(idx % 5000) == 0:\n",
    "            print(idx)\n",
    "    \n",
    "    document_dataset = document_dataset[0:(num-miss)]\n",
    "    topic_dataset = topic_dataset[0:(num-miss)]\n",
    "    rel = rel[0:(num-miss)]\n",
    "    \n",
    "    return topic_dataset, document_dataset, rel, miss"
   ]
  },
  {
   "cell_type": "code",
   "execution_count": 12,
   "metadata": {},
   "outputs": [],
   "source": [
    "def join_datasets(doc, query, relevancy, num_class, type_join):\n",
    "    relevancy_temp = torch.empty(len(relevancy))\n",
    "    for i , rel in enumerate(relevancy):\n",
    "        r = rel\n",
    "        if num_class == 2:\n",
    "            if rel > 0.01:\n",
    "                r = 1\n",
    "        relevancy_temp[i] = r\n",
    "\n",
    "    n = len(relevancy_temp)\n",
    "    X_dataset = []\n",
    "    \n",
    "    if type_join == \"multi\":\n",
    "        X_dataset = torch.empty(n, 768)\n",
    "        for i in range(n):\n",
    "            X_dataset[i] = doc[i]*query[i]\n",
    "    elif type_join == \"abs\":\n",
    "        X_dataset = torch.empty(n, 768)\n",
    "        for i in range(n):\n",
    "            X_dataset[i] = torch.abs((doc[i] - query[i]))\n",
    "    else: \n",
    "        X_dataset = torch.empty(n, 768*2)\n",
    "        for i in range(n):\n",
    "            X_dataset[i] = join_tensors(doc[i],query[i])\n",
    "    joint_dataset = torch.cat((X_dataset, relevancy_temp.unsqueeze(1)), 1)\n",
    "    return joint_dataset"
   ]
  },
  {
   "cell_type": "code",
   "execution_count": 13,
   "metadata": {},
   "outputs": [],
   "source": [
    "#loading \n",
    "num = 40000 # max: 69318\n",
    "\n",
    "available_models = ['bert-base-uncased', \"allenai/scibert_scivocab_uncased\", \"gsarti/covidbert-nli\"]\n",
    "bert_model = available_models[2]\n",
    "query_field = \"query\"\n",
    "doc_field = \"title\"\n",
    "\n"
   ]
  },
  {
   "cell_type": "code",
   "execution_count": 14,
   "metadata": {},
   "outputs": [
    {
     "data": {
      "text/html": [
       "<div>\n",
       "<style scoped>\n",
       "    .dataframe tbody tr th:only-of-type {\n",
       "        vertical-align: middle;\n",
       "    }\n",
       "\n",
       "    .dataframe tbody tr th {\n",
       "        vertical-align: top;\n",
       "    }\n",
       "\n",
       "    .dataframe thead th {\n",
       "        text-align: right;\n",
       "    }\n",
       "</style>\n",
       "<table border=\"1\" class=\"dataframe\">\n",
       "  <thead>\n",
       "    <tr style=\"text-align: right;\">\n",
       "      <th></th>\n",
       "      <th>Unnamed: 0</th>\n",
       "      <th>topic_id</th>\n",
       "      <th>round_id</th>\n",
       "      <th>cord_uid</th>\n",
       "      <th>relevancy</th>\n",
       "    </tr>\n",
       "  </thead>\n",
       "  <tbody>\n",
       "    <tr>\n",
       "      <th>0</th>\n",
       "      <td>0</td>\n",
       "      <td>1</td>\n",
       "      <td>4.5</td>\n",
       "      <td>005b2j4b</td>\n",
       "      <td>2</td>\n",
       "    </tr>\n",
       "    <tr>\n",
       "      <th>1</th>\n",
       "      <td>1</td>\n",
       "      <td>1</td>\n",
       "      <td>4.0</td>\n",
       "      <td>00fmeepz</td>\n",
       "      <td>1</td>\n",
       "    </tr>\n",
       "    <tr>\n",
       "      <th>2</th>\n",
       "      <td>2</td>\n",
       "      <td>1</td>\n",
       "      <td>0.5</td>\n",
       "      <td>010vptx3</td>\n",
       "      <td>2</td>\n",
       "    </tr>\n",
       "    <tr>\n",
       "      <th>3</th>\n",
       "      <td>3</td>\n",
       "      <td>1</td>\n",
       "      <td>2.5</td>\n",
       "      <td>0194oljo</td>\n",
       "      <td>1</td>\n",
       "    </tr>\n",
       "    <tr>\n",
       "      <th>4</th>\n",
       "      <td>4</td>\n",
       "      <td>1</td>\n",
       "      <td>4.0</td>\n",
       "      <td>021q9884</td>\n",
       "      <td>1</td>\n",
       "    </tr>\n",
       "  </tbody>\n",
       "</table>\n",
       "</div>"
      ],
      "text/plain": [
       "   Unnamed: 0  topic_id  round_id  cord_uid  relevancy\n",
       "0           0         1       4.5  005b2j4b          2\n",
       "1           1         1       4.0  00fmeepz          1\n",
       "2           2         1       0.5  010vptx3          2\n",
       "3           3         1       2.5  0194oljo          1\n",
       "4           4         1       4.0  021q9884          1"
      ]
     },
     "execution_count": 14,
     "metadata": {},
     "output_type": "execute_result"
    }
   ],
   "source": [
    "label_dat_top = label_data[label_data[\"topic_id\"] < 35]\n",
    "label_dat_top.head()   "
   ]
  },
  {
   "cell_type": "code",
   "execution_count": 15,
   "metadata": {},
   "outputs": [
    {
     "name": "stdout",
     "output_type": "stream",
     "text": [
      "Number of datapoints for  train   52865\n",
      "0\n",
      "5000\n",
      "10000\n",
      "15000\n",
      "20000\n",
      "25000\n",
      "30000\n",
      "35000\n",
      "40000\n",
      "45000\n",
      "50000\n",
      "Number of datapoints for  test   16453\n",
      "55000\n",
      "60000\n",
      "65000\n"
     ]
    }
   ],
   "source": [
    "topic_dat_train, doc_dat_train, rel_dat_train, miss_train  = load_data_top_id(\"train\", doc_field, query_field, bert_model)\n",
    "topic_dat_test, doc_dat_test, rel_dat_test, miss_test  = load_data_top_id(\"test\", doc_field, query_field, bert_model)"
   ]
  },
  {
   "cell_type": "code",
   "execution_count": 238,
   "metadata": {},
   "outputs": [],
   "source": [
    "\n",
    "# Possible types: [multi, concat, abs]\n",
    "joining_type = \"abs\"\n",
    "\n",
    "# Model Hyper Parameters \n",
    "input_size = 768\n",
    "if joining_type == \"concat\":\n",
    "    input_size = 768*2\n",
    "\n",
    "# Can use 2 or 3 classes\n",
    "num_classes = 3\n",
    "\n",
    "# Training set sub or full\n",
    "training = \"full\"\n",
    "\n",
    "\n"
   ]
  },
  {
   "cell_type": "code",
   "execution_count": 239,
   "metadata": {},
   "outputs": [
    {
     "name": "stdout",
     "output_type": "stream",
     "text": [
      "[37937, 768]\n",
      "[37937, 768]\n",
      "[37937]\n",
      "[16453, 768]\n",
      "[16453, 768]\n",
      "[16453]\n"
     ]
    }
   ],
   "source": [
    "print(list(topic_dat_train.size()))\n",
    "print(list(doc_dat_train.size()))\n",
    "print(list(rel_dat_train.size()))\n",
    "print(list(topic_dat_test.size()))\n",
    "print(list(doc_dat_test.size()))\n",
    "print(list(rel_dat_test.size()))"
   ]
  },
  {
   "cell_type": "code",
   "execution_count": 240,
   "metadata": {},
   "outputs": [
    {
     "name": "stdout",
     "output_type": "stream",
     "text": [
      "0.6459656799430635\n",
      "0.16058201755542084\n",
      "0.19345230250151568\n",
      "0.5478636114994226\n",
      "0.1651978362608643\n",
      "0.2868169938613019\n"
     ]
    }
   ],
   "source": [
    "\n",
    "print(rel_dat_train.int().tolist().count(0)/len(rel_dat_train))\n",
    "print(rel_dat_train.int().tolist().count(1)/len(rel_dat_train))\n",
    "if num_classes == 3:\n",
    "    print(rel_dat_train.int().tolist().count(2)/len(rel_dat_train))\n",
    "\n",
    "print(rel_dat_test.int().tolist().count(0)/len(rel_dat_test))\n",
    "print(rel_dat_test.int().tolist().count(1)/len(rel_dat_test))\n",
    "if num_classes == 3:\n",
    "    print(rel_dat_test.int().tolist().count(2)/len(rel_dat_test))\n",
    "    \n",
    "\n"
   ]
  },
  {
   "cell_type": "code",
   "execution_count": 241,
   "metadata": {},
   "outputs": [],
   "source": [
    "train_data = join_datasets(topic_dat_train, doc_dat_train, rel_dat_train, num_classes, joining_type)\n",
    "test_data = join_datasets(topic_dat_test, doc_dat_test, rel_dat_test, num_classes, joining_type)"
   ]
  },
  {
   "cell_type": "code",
   "execution_count": 242,
   "metadata": {},
   "outputs": [
    {
     "name": "stdout",
     "output_type": "stream",
     "text": [
      "[37937, 769]\n",
      "[16453, 769]\n",
      "tensor([2., 1., 2.,  ..., 2., 1., 0.], grad_fn=<SelectBackward>)\n"
     ]
    }
   ],
   "source": [
    "print(list(train_data.size()))\n",
    "print(list(test_data.size()))\n",
    "print(train_data[:,input_size])"
   ]
  },
  {
   "cell_type": "code",
   "execution_count": 243,
   "metadata": {},
   "outputs": [
    {
     "name": "stdout",
     "output_type": "stream",
     "text": [
      "[54390, 768]\n",
      "[54390]\n"
     ]
    }
   ],
   "source": [
    "y = train_data[:,input_size]\n",
    "X = train_data[:,0:(input_size)]\n",
    "\n",
    "if training == \"full\":\n",
    "    y = torch.cat((train_data[:,input_size],test_data[:,input_size]))\n",
    "    X = torch.cat((train_data[:,0:(input_size)] ,test_data[:,0:(input_size)] ))\n",
    "print(list(X.size()))\n",
    "print(list(y.size()))"
   ]
  },
  {
   "cell_type": "code",
   "execution_count": null,
   "metadata": {},
   "outputs": [],
   "source": []
  },
  {
   "cell_type": "markdown",
   "metadata": {},
   "source": [
    "model\n",
    "\n",
    "$$\n",
    "    \\hat{\\beta} = (X^TX)^{-1}X^Ty\n",
    "$$\n",
    "\n",
    "Fitting the model"
   ]
  },
  {
   "cell_type": "code",
   "execution_count": 244,
   "metadata": {},
   "outputs": [
    {
     "name": "stdout",
     "output_type": "stream",
     "text": [
      "[768, 54390]\n",
      "[54390, 768]\n",
      "[768, 768]\n",
      "[768, 768]\n",
      "[768, 54390]\n",
      "[54390]\n",
      "[768]\n"
     ]
    }
   ],
   "source": [
    "l = X.t()\n",
    "print(list(l.size()))\n",
    "print(list(X.size()))\n",
    "l = torch.mm(l, X)\n",
    "print(list(l.size()))\n",
    "l = torch.inverse(l)\n",
    "print(list(l.size()))\n",
    "l = torch.mm(l,X.t())\n",
    "print(list(l.size()))\n",
    "print(list(y.t().size()))\n",
    "beta_hat = torch.mv(l,y)\n",
    "print(list(beta_hat.size()))"
   ]
  },
  {
   "cell_type": "code",
   "execution_count": 245,
   "metadata": {},
   "outputs": [
    {
     "name": "stdout",
     "output_type": "stream",
     "text": [
      "[1.2206486463546753, -2.2899551391601562, -1.3862780332565308, 2.3471317291259766, 0.7623217105865479, -0.24870091676712036, -0.9258395433425903, -3.2108561992645264, 0.8017182350158691, 0.7199126482009888, -0.9987918138504028, 0.5267919301986694, -0.6276278495788574, 1.027318000793457, 1.4180384874343872, -0.23857372999191284, -0.7850512862205505, -0.04300212860107422, 0.43746066093444824, 1.1916028261184692, 0.7341361045837402, 0.9358571767807007, 3.23012375831604, -0.06331521272659302, 1.7600364685058594, -0.24068665504455566, -0.2846471965312958, -4.641317367553711, 0.4588947594165802, -0.7063465714454651, 0.6996437311172485, 0.11399827897548676, -2.3020100593566895, 1.1085178852081299, 0.08491866290569305, -1.00325608253479, 1.457753300666809, -1.0699517726898193, 1.5103063583374023, 2.7706751823425293, -1.2231197357177734, -1.9195080995559692, 5.611811637878418, 0.631514310836792, 1.094817876815796, 4.043010234832764, 0.7182504534721375, 0.7049270868301392, -0.8663316965103149, 0.008503168821334839, -2.5155773162841797, 0.5097794532775879, 1.6986318826675415, 1.132422685623169, 3.361849546432495, -0.7706983089447021, 1.4806541204452515, 0.4871481657028198, -0.6612758636474609, 1.4804627895355225, 0.14493447542190552, 1.2431224584579468, 1.4530055522918701, 1.6530694961547852, 0.03826051950454712, -0.16716432571411133, -1.4305198192596436, -0.12667784094810486, 0.8115078210830688, -0.7239046096801758, 1.01163649559021, 1.558567762374878, 0.05633747577667236, 1.9080935716629028, -0.2867296636104584, -2.445770263671875, -4.797826766967773, -10.604780197143555, -1.9120149612426758, 3.960963249206543, 0.13156025111675262, -1.4304972887039185, -0.9676733613014221, -0.5837163329124451, -2.166841983795166, 3.051180839538574, -0.4567711353302002, 0.6927955150604248, 2.899188756942749, 0.5767073035240173, -1.359968662261963, -2.2950057983398438, 1.074152946472168, -0.5816453695297241, 0.004966616630554199, 1.3355945348739624, -2.8137741088867188, -0.300276517868042, -0.565079927444458, 2.010979652404785, 1.5710763931274414, -1.8071945905685425, 1.3207002878189087, -0.29840314388275146, -3.5517923831939697, -1.2530239820480347, -0.9051105976104736, 0.34371480345726013, -0.6550244688987732, 0.0498213917016983, -0.042430371046066284, -0.7480106949806213, 1.9673519134521484, -1.6880496740341187, -2.4880924224853516, -0.9038509130477905, 3.6070597171783447, 1.844022274017334, -2.1210923194885254, 0.7975791692733765, 0.7605205774307251, -0.22614987194538116, -1.3548892736434937, 0.22105559706687927, 1.0152093172073364, -2.6303749084472656, 3.3538706302642822, -7.997849464416504, -0.7553961873054504, 0.03348557651042938, -1.457943320274353, 1.1032404899597168, 0.072013258934021, -2.6763603687286377, 1.3148915767669678, -0.7926397919654846, -0.5810660719871521, -2.1756958961486816, 1.6959178447723389, -4.734440803527832, 1.0390146970748901, 0.593396782875061, 1.1550370454788208, -1.7364201545715332, -1.0227477550506592, 1.3636022806167603, -0.7383804321289062, -1.8373446464538574, -0.2562580704689026, 0.3695027828216553, -0.8443243503570557, -0.8734363317489624, -1.9846192598342896, -0.18831376731395721, 2.336195945739746, -3.5604007244110107, -0.1253373622894287, 1.1081500053405762, 1.6151849031448364, -0.667095422744751, -1.632929801940918, 2.5699150562286377, 1.0615592002868652, -0.610162615776062, 2.2124898433685303, 3.2496519088745117, -0.6211273670196533, -2.3255462646484375, 1.0069763660430908, 1.9266364574432373, 2.146655797958374, -3.6474123001098633, -0.633738100528717, -0.27306681871414185, -1.878554105758667, 1.2537827491760254, -1.966672658920288, 2.1858839988708496, -3.4585862159729004, -1.2063260078430176, -0.9867159128189087, 0.3086099624633789, -2.9173243045806885, -3.1409759521484375, -0.349192351102829, 1.060497522354126, -0.7102879285812378, 0.23278850317001343, -0.4023735225200653, 1.4459285736083984, 0.522098183631897, -2.0036754608154297, 0.4598987102508545, 2.786363363265991, -0.2948748469352722, -0.2058505415916443, -0.6712470054626465, -2.3605172634124756, -0.5682945251464844, -0.5029279589653015, -0.43823540210723877, 2.1836934089660645, 0.03971192240715027, 0.025571517646312714, -2.8321633338928223, 3.051137924194336, 1.4866223335266113, -1.7598390579223633, 1.1433541774749756, -0.2407272458076477, 0.5212634801864624, 3.8068113327026367, 0.4503233730792999, -1.5472667217254639, -0.8115025758743286, -3.001431941986084, 1.622161865234375, 4.273287773132324, -1.6059231758117676, -0.7217882871627808, -0.28915292024612427, -1.5160434246063232, -0.2573317885398865, 5.512815475463867, 0.8694517016410828, -0.3556789755821228, -3.5898337364196777, 1.4663015604019165, -0.37525925040245056, 0.9428688883781433, -1.909897804260254, 1.2417962551116943, 1.5333938598632812, -0.7432025074958801, 2.3723678588867188, -0.5576233267784119, -0.9818987250328064, 1.4792661666870117, -0.7337442636489868, -0.10455840826034546, 2.412841558456421, 0.836086630821228, -0.5443437099456787, 2.1692898273468018, 1.2237809896469116, -0.6358984112739563, -0.5907927751541138, -1.4089943170547485, 1.2075494527816772, 0.9122065305709839, 1.433588981628418, 2.2884140014648438, -0.312589168548584, 0.8487256765365601, 0.8378326892852783, -0.09979674220085144, -0.04832705855369568, -4.338405609130859, 1.6257227659225464, -1.309650182723999, 3.5538246631622314, -1.6751878261566162, 0.0433376282453537, -0.00824706256389618, 1.1574835777282715, 0.27564966678619385, -0.6108523607254028, 1.4667537212371826, -2.9559264183044434, -3.7899398803710938, 0.11994367837905884, 0.28833919763565063, -0.784278154373169, 1.469628095626831, -1.708223581314087, 2.6999311447143555, -3.7430078983306885, -0.22695311903953552, 2.177051305770874, -0.6507465243339539, -0.022410452365875244, -0.5748617649078369, 0.17374026775360107, -0.8583592176437378, -0.5550240278244019, 5.040336608886719, -2.3369638919830322, 3.3613617420196533, -0.3176535367965698, 0.4859805107116699, -7.2707414627075195, -0.6313962936401367, -12.14686393737793, -1.7293263673782349, 2.635674476623535, 1.66954505443573, 12.308891296386719, 1.298912763595581, -1.8260303735733032, -1.5896711349487305, -0.18431952595710754, 4.955122947692871, -0.6649631261825562, -0.5113077163696289, -0.46090513467788696, -0.31911081075668335, 4.080737113952637, 0.7080185413360596, 0.6367262005805969, -1.3144118785858154, 1.0727858543395996, -1.2313991785049438, 1.5809786319732666, 3.473681926727295, -1.1305549144744873, -5.168230056762695, -0.44127172231674194, -2.4501395225524902, 2.5006513595581055, 1.486666202545166, -0.7999740839004517, -2.6073641777038574, 2.4684367179870605, 0.35785990953445435, 3.1670634746551514, 7.60710334777832, 3.0928263664245605, 0.2795136570930481, 0.024559713900089264, -1.3743709325790405, 1.4899758100509644, 1.441728115081787, 1.535698652267456, -0.648169755935669, 2.6068274974823, -0.2776743173599243, -0.5815734267234802, -0.19969642162322998, 0.41275230050086975, 0.4261929988861084, -1.5751794576644897, -2.161665916442871, -2.3132686614990234, -1.4234368801116943, -2.350257158279419, -4.156819820404053, -1.0343862771987915, -1.431715488433838, 2.591402292251587, 0.4427167475223541, 0.6793261766433716, 4.549468040466309, -1.5401394367218018, 0.8152451515197754, -1.495715856552124, -1.8534728288650513, -0.9172236323356628, -5.286481857299805, 0.8119854927062988, -0.6490480303764343, 1.6017296314239502, -1.2303403615951538, 3.8388257026672363, 2.351806879043579, -0.8830491304397583, 2.1805295944213867, -1.428558349609375, 2.037661552429199, 1.1455308198928833, -0.7876667380332947, 0.04459702968597412, 1.0496838092803955, 0.2758646309375763, 0.1305657923221588, -0.28003400564193726, 0.17625616490840912, 0.46361032128334045, 0.13879764080047607, 2.487987995147705, 0.5572835206985474, -0.1375347077846527, 2.7941930294036865, -1.0018105506896973, 0.355516642332077, 0.14022418856620789, -1.1884278059005737, 2.686617851257324, 0.1332782506942749, -0.4242478609085083, -1.00111722946167, -3.1752266883850098, -0.6661829948425293, 10.715232849121094, -0.1743728071451187, 1.0342599153518677, 1.2993088960647583, 1.075000286102295, -1.6802459955215454, 3.5333614349365234, -0.9085371494293213, 1.348483920097351, -2.1250617504119873, -1.7112371921539307, -1.2500922679901123, -0.06338858604431152, 0.23990964889526367, -1.7095414400100708, 5.189625263214111, -2.149364471435547, 1.2902328968048096, 0.6269793510437012, 0.7092075347900391, -0.06329318881034851, -2.5602617263793945, 0.43473875522613525, 0.9544851183891296, -1.1759610176086426, 1.1154764890670776, 1.2147941589355469, 0.9336812496185303, -0.9686437845230103, -0.24511635303497314, -1.1997556686401367, -0.6057061553001404, -2.1063036918640137, 0.325206995010376, 3.630037307739258, 7.747302532196045, 0.2304317206144333, -0.8830589056015015, 0.17495477199554443, -0.4698030948638916, 2.049537420272827, -0.5773800611495972, 2.2767722606658936, 2.4053027629852295, 1.4734196662902832, -0.20832765102386475, -0.19609558582305908, 0.9838413000106812, -4.735151290893555, -0.3606942892074585, -2.525595188140869, -2.2413887977600098, -0.30094820261001587, -2.916874885559082, 0.7313308715820312, 0.8724395036697388, 0.516864538192749, -3.9495534896850586, -0.26357945799827576, 0.4423152804374695, 0.29914239048957825, -1.0335110425949097, 2.225404739379883, -0.833816647529602, -0.7388343811035156, -0.12302747368812561, 1.2245266437530518, -1.4666922092437744, -1.4696741104125977, -0.1090298742055893, -1.5245859622955322, -1.6972870826721191, -1.0468313694000244, -0.802344024181366, -0.14823782444000244, -4.998892784118652, 2.1892502307891846, 1.5077638626098633, 1.03079092502594, 0.48950517177581787, -3.0038557052612305, 0.7808699607849121, 1.671873688697815, -0.4777839183807373, -1.7540992498397827, -0.30805158615112305, -1.6282904148101807, -0.9111202955245972, 2.748913288116455, -1.1513867378234863, 0.7527222633361816, 0.3647298216819763, -0.4983155429363251, -0.9431613087654114, -0.11146727949380875, 0.5977272391319275, 2.0237936973571777, 0.8257456421852112, -0.40963879227638245, 1.7215049266815186, -3.56744122505188, 0.41204094886779785, -0.6093565821647644, -0.12072160840034485, -1.8933169841766357, 0.1719280481338501, -0.9667699337005615, 1.9614664316177368, 2.716538190841675, -3.827198028564453, -1.4034297466278076, -0.9467385411262512, -2.685229539871216, 2.990220308303833, 1.680619716644287, -1.0503758192062378, 7.374365329742432, 0.4156731963157654, -0.20727483928203583, -0.7303084135055542, 1.1196725368499756, 0.254863440990448, -3.910468101501465, -0.8972963094711304, -1.7342318296432495, 0.5431538820266724, -2.1155245304107666, -0.3418053388595581, -1.9681824445724487, -4.3846540451049805, -0.38772308826446533, 1.2890346050262451, 0.6752347946166992, 0.07111524045467377, -2.4696760177612305, -0.8507857918739319, 3.128800868988037, -0.7597260475158691, 0.7509795427322388, -0.8484829068183899, -0.6496458053588867, 0.7542047500610352, 4.32182502746582, -0.03044283390045166, -4.525967597961426, 1.0468103885650635, 0.5446810722351074, 0.23545899987220764, 1.7317496538162231, 0.9402583241462708, 2.7124645709991455, 0.5466823577880859, 2.8806405067443848, 0.3039054870605469, -0.5886651873588562, 0.08716097474098206, 0.8177098035812378, -1.4208335876464844, 3.417703628540039, 0.5213567018508911, 1.0244903564453125, 4.569404602050781, 0.645207941532135, 0.9919346570968628, -2.9628195762634277, -3.3556511402130127, -0.070990651845932, 1.0923821926116943, -0.6082940101623535, 3.97054386138916, -0.4052949547767639, 0.5055950880050659, -1.2683756351470947, 1.821448802947998, -2.3204615116119385, -0.36690956354141235, 1.58292818069458, 1.5353870391845703, 0.37258976697921753, -1.4994330406188965, 0.05636996030807495, -3.0515880584716797, -3.061164140701294, 8.944391250610352, -3.8090124130249023, 0.7517437934875488, -0.602770209312439, -3.805461883544922, -0.03101678192615509, -0.22870154678821564, -1.2045599222183228, 1.4587286710739136, -1.538724422454834, 1.3634660243988037, -1.9552605152130127, -0.024259746074676514, 1.0107933282852173, -0.22564232349395752, -0.8546358942985535, -1.1107069253921509, -0.4184306859970093, 0.7325238585472107, 2.8716907501220703, -7.992508888244629, 3.073214292526245, 1.3064903020858765, -2.5918619632720947, 4.501121520996094, 0.21561181545257568, 3.3078722953796387, 0.2890990078449249, 0.09691073000431061, 0.41123467683792114, -2.347067356109619, 0.738646388053894, -1.1046676635742188, 2.5507256984710693, -1.1679017543792725, 0.8147502541542053, -0.7210875749588013, -0.9262385964393616, 2.0352184772491455, 1.241884469985962, -2.5657637119293213, 1.2011082172393799, 3.718677520751953, 0.820651650428772, -2.0391547679901123, -1.3740174770355225, -0.2105281949043274, 0.4323171377182007, -0.3111999034881592, 0.8060662746429443, -0.9171242713928223, 1.132344365119934, -0.22981387376785278, -0.4693387746810913, 0.8518943786621094, -4.217169761657715, 1.07645845413208, -1.5576984882354736, -1.4163496494293213, 1.8576149940490723, -0.8412066698074341, 0.4920031726360321, -2.5934839248657227, 3.2139644622802734, -0.6571173667907715, -0.8537567257881165, 2.216479539871216, 0.7585922479629517, 3.498472213745117, -1.7234060764312744, -0.865498960018158, 0.6621164083480835, 0.20226195454597473, -0.2643740177154541, 2.692962169647217, 0.7304623126983643, -3.0646235942840576, 3.076274871826172, 3.557309627532959, 1.6858822107315063, 1.5029494762420654, 1.4202933311462402, 0.8229274749755859, -0.40713316202163696, -2.2080342769622803, -1.0041558742523193, 3.3409008979797363, -3.2478389739990234, -1.0678136348724365, 0.8015672564506531, -0.6106857657432556, 0.576557993888855, -1.4506515264511108, -0.11872053146362305, 4.4488725662231445, -1.7447208166122437, -1.0823466777801514, -0.003675311803817749, 1.1160638332366943, 1.448219895362854, -2.5279998779296875, -2.9311342239379883, -0.6191610097885132, 0.47367438673973083, -4.479655742645264, -1.2655930519104004, 1.360286831855774, 0.5493766069412231, -0.6954179406166077, -0.24123509228229523, -0.5919686555862427, -1.8232860565185547, -1.9294040203094482, -2.0055737495422363, 3.4515552520751953, -3.619016647338867, -2.8542098999023438, -2.03629732131958, 0.30912724137306213, -0.8728040456771851, 0.8397010564804077, 1.0417366027832031, 1.4956424236297607, 6.654775619506836, -1.920853853225708, -0.9238640069961548, -1.5762510299682617, -1.5273404121398926, 1.4454143047332764, -1.0563831329345703, 2.526618480682373, 2.3063082695007324, -1.818525791168213, 0.046130407601594925, 3.8298912048339844, -1.313123106956482, -0.5971031785011292, 0.48297908902168274, 0.3321816325187683, -0.005852103233337402, -2.0025525093078613, 0.11770129203796387, 5.891471862792969, -1.557861089706421, -0.6721147298812866, 1.5075409412384033, -1.352626085281372, -0.5486070513725281, 0.9277831315994263, 0.11609415709972382, -0.7017279863357544, 0.38621577620506287, 1.2504684925079346, 0.22327733039855957, 3.7808287143707275, -4.804050445556641, 0.5934901833534241, -2.3386454582214355, -0.3396036922931671, 2.2035818099975586, -2.2684261798858643, 0.488533616065979, -3.1881070137023926, -0.7638506889343262, 1.0016393661499023, 0.8136799931526184, -2.7660601139068604, -0.444252073764801, 2.285360336303711, 0.03545582294464111, 3.907672643661499, 2.373866319656372, 2.0866522789001465, -0.16711455583572388, 1.4285895824432373, 0.7622979879379272, -0.809042751789093, -2.363267421722412, 4.657247543334961, 0.5992382168769836, 0.3831617534160614, -0.6128374338150024, 0.9090876579284668, -1.478454351425171, 0.316722571849823, -0.9677050709724426, -0.44358646869659424, -0.16055205464363098, 1.7411210536956787, 2.3655903339385986, 0.8516228795051575, 0.6459762454032898, -2.5963516235351562]\n"
     ]
    }
   ],
   "source": [
    "print(beta_hat.tolist())"
   ]
  },
  {
   "cell_type": "code",
   "execution_count": 246,
   "metadata": {},
   "outputs": [],
   "source": [
    "y_test = test_data[:,input_size]\n",
    "X_test = test_data[:,0:(input_size)]"
   ]
  },
  {
   "cell_type": "code",
   "execution_count": 247,
   "metadata": {},
   "outputs": [],
   "source": [
    "# Prediction from the model\n",
    "y_hat =  torch.mv(X_test,beta_hat)"
   ]
  },
  {
   "cell_type": "code",
   "execution_count": 248,
   "metadata": {},
   "outputs": [
    {
     "name": "stdout",
     "output_type": "stream",
     "text": [
      "tensor(-0.7243, grad_fn=<SubBackward0>)\n",
      "(tensor(1.2757, grad_fn=<SelectBackward>), tensor(2., grad_fn=<SelectBackward>))\n",
      "tensor(-0.8583, grad_fn=<SubBackward0>)\n",
      "(tensor(1.1417, grad_fn=<SelectBackward>), tensor(2., grad_fn=<SelectBackward>))\n",
      "tensor(-0.9906, grad_fn=<SubBackward0>)\n",
      "(tensor(1.0094, grad_fn=<SelectBackward>), tensor(2., grad_fn=<SelectBackward>))\n",
      "tensor(-1.0397, grad_fn=<SubBackward0>)\n",
      "(tensor(0.9603, grad_fn=<SelectBackward>), tensor(2., grad_fn=<SelectBackward>))\n",
      "tensor(0.6765, grad_fn=<SubBackward0>)\n",
      "(tensor(0.6765, grad_fn=<SelectBackward>), tensor(0., grad_fn=<SelectBackward>))\n",
      "tensor(0.8938, grad_fn=<SubBackward0>)\n",
      "(tensor(0.8938, grad_fn=<SelectBackward>), tensor(0., grad_fn=<SelectBackward>))\n",
      "tensor(-0.6605, grad_fn=<SubBackward0>)\n",
      "(tensor(1.3395, grad_fn=<SelectBackward>), tensor(2., grad_fn=<SelectBackward>))\n",
      "tensor(-0.1214, grad_fn=<SubBackward0>)\n",
      "(tensor(0.8786, grad_fn=<SelectBackward>), tensor(1., grad_fn=<SelectBackward>))\n",
      "tensor(-0.9639, grad_fn=<SubBackward0>)\n",
      "(tensor(1.0361, grad_fn=<SelectBackward>), tensor(2., grad_fn=<SelectBackward>))\n",
      "tensor(0.8431, grad_fn=<SubBackward0>)\n",
      "(tensor(0.8431, grad_fn=<SelectBackward>), tensor(0., grad_fn=<SelectBackward>))\n",
      "tensor(-0.5803, grad_fn=<SubBackward0>)\n",
      "(tensor(1.4197, grad_fn=<SelectBackward>), tensor(2., grad_fn=<SelectBackward>))\n",
      "tensor(1.0849, grad_fn=<SubBackward0>)\n",
      "(tensor(1.0849, grad_fn=<SelectBackward>), tensor(0., grad_fn=<SelectBackward>))\n",
      "tensor(0.4524, grad_fn=<SubBackward0>)\n",
      "(tensor(0.4524, grad_fn=<SelectBackward>), tensor(0., grad_fn=<SelectBackward>))\n",
      "tensor(-1.2025, grad_fn=<SubBackward0>)\n",
      "(tensor(0.7975, grad_fn=<SelectBackward>), tensor(2., grad_fn=<SelectBackward>))\n",
      "tensor(0.9138, grad_fn=<SubBackward0>)\n",
      "(tensor(0.9138, grad_fn=<SelectBackward>), tensor(0., grad_fn=<SelectBackward>))\n",
      "tensor(-0.8816, grad_fn=<SubBackward0>)\n",
      "(tensor(1.1184, grad_fn=<SelectBackward>), tensor(2., grad_fn=<SelectBackward>))\n",
      "tensor(0.9977, grad_fn=<SubBackward0>)\n",
      "(tensor(0.9977, grad_fn=<SelectBackward>), tensor(0., grad_fn=<SelectBackward>))\n",
      "tensor(-1.0817, grad_fn=<SubBackward0>)\n",
      "(tensor(0.9183, grad_fn=<SelectBackward>), tensor(2., grad_fn=<SelectBackward>))\n",
      "tensor(-0.6183, grad_fn=<SubBackward0>)\n",
      "(tensor(1.3817, grad_fn=<SelectBackward>), tensor(2., grad_fn=<SelectBackward>))\n",
      "tensor(-0.9644, grad_fn=<SubBackward0>)\n",
      "(tensor(1.0356, grad_fn=<SelectBackward>), tensor(2., grad_fn=<SelectBackward>))\n",
      "tensor(1.0221, grad_fn=<SubBackward0>)\n",
      "(tensor(1.0221, grad_fn=<SelectBackward>), tensor(0., grad_fn=<SelectBackward>))\n",
      "tensor(-1.0511, grad_fn=<SubBackward0>)\n",
      "(tensor(0.9489, grad_fn=<SelectBackward>), tensor(2., grad_fn=<SelectBackward>))\n",
      "tensor(-0.7645, grad_fn=<SubBackward0>)\n",
      "(tensor(1.2355, grad_fn=<SelectBackward>), tensor(2., grad_fn=<SelectBackward>))\n",
      "tensor(-1.2364, grad_fn=<SubBackward0>)\n",
      "(tensor(0.7636, grad_fn=<SelectBackward>), tensor(2., grad_fn=<SelectBackward>))\n",
      "tensor(0.9307, grad_fn=<SubBackward0>)\n",
      "(tensor(0.9307, grad_fn=<SelectBackward>), tensor(0., grad_fn=<SelectBackward>))\n",
      "tensor(-1.0076, grad_fn=<SubBackward0>)\n",
      "(tensor(0.9924, grad_fn=<SelectBackward>), tensor(2., grad_fn=<SelectBackward>))\n",
      "tensor(-1.2368, grad_fn=<SubBackward0>)\n",
      "(tensor(0.7632, grad_fn=<SelectBackward>), tensor(2., grad_fn=<SelectBackward>))\n",
      "tensor(0.9368, grad_fn=<SubBackward0>)\n",
      "(tensor(0.9368, grad_fn=<SelectBackward>), tensor(0., grad_fn=<SelectBackward>))\n",
      "tensor(1.2654, grad_fn=<SubBackward0>)\n",
      "(tensor(1.2654, grad_fn=<SelectBackward>), tensor(0., grad_fn=<SelectBackward>))\n",
      "tensor(0.5461, grad_fn=<SubBackward0>)\n",
      "(tensor(0.5461, grad_fn=<SelectBackward>), tensor(0., grad_fn=<SelectBackward>))\n",
      "tensor(-0.9882, grad_fn=<SubBackward0>)\n",
      "(tensor(1.0118, grad_fn=<SelectBackward>), tensor(2., grad_fn=<SelectBackward>))\n",
      "tensor(0.4928, grad_fn=<SubBackward0>)\n",
      "(tensor(0.4928, grad_fn=<SelectBackward>), tensor(0., grad_fn=<SelectBackward>))\n",
      "tensor(0.0008, grad_fn=<SubBackward0>)\n",
      "(tensor(0.0008, grad_fn=<SelectBackward>), tensor(0., grad_fn=<SelectBackward>))\n",
      "tensor(0.7621, grad_fn=<SubBackward0>)\n",
      "(tensor(0.7621, grad_fn=<SelectBackward>), tensor(0., grad_fn=<SelectBackward>))\n",
      "tensor(-0.9755, grad_fn=<SubBackward0>)\n",
      "(tensor(1.0245, grad_fn=<SelectBackward>), tensor(2., grad_fn=<SelectBackward>))\n",
      "tensor(-1.4723, grad_fn=<SubBackward0>)\n",
      "(tensor(0.5277, grad_fn=<SelectBackward>), tensor(2., grad_fn=<SelectBackward>))\n",
      "tensor(-0.8621, grad_fn=<SubBackward0>)\n",
      "(tensor(1.1379, grad_fn=<SelectBackward>), tensor(2., grad_fn=<SelectBackward>))\n",
      "tensor(0.5053, grad_fn=<SubBackward0>)\n",
      "(tensor(0.5053, grad_fn=<SelectBackward>), tensor(0., grad_fn=<SelectBackward>))\n",
      "tensor(0.7440, grad_fn=<SubBackward0>)\n",
      "(tensor(0.7440, grad_fn=<SelectBackward>), tensor(0., grad_fn=<SelectBackward>))\n",
      "tensor(-1.1358, grad_fn=<SubBackward0>)\n",
      "(tensor(0.8642, grad_fn=<SelectBackward>), tensor(2., grad_fn=<SelectBackward>))\n",
      "tensor(-0.4909, grad_fn=<SubBackward0>)\n",
      "(tensor(1.5091, grad_fn=<SelectBackward>), tensor(2., grad_fn=<SelectBackward>))\n",
      "tensor(-1.2730, grad_fn=<SubBackward0>)\n",
      "(tensor(0.7270, grad_fn=<SelectBackward>), tensor(2., grad_fn=<SelectBackward>))\n",
      "tensor(1.0985, grad_fn=<SubBackward0>)\n",
      "(tensor(1.0985, grad_fn=<SelectBackward>), tensor(0., grad_fn=<SelectBackward>))\n",
      "tensor(-0.7704, grad_fn=<SubBackward0>)\n",
      "(tensor(1.2296, grad_fn=<SelectBackward>), tensor(2., grad_fn=<SelectBackward>))\n",
      "tensor(0.5811, grad_fn=<SubBackward0>)\n",
      "(tensor(0.5811, grad_fn=<SelectBackward>), tensor(0., grad_fn=<SelectBackward>))\n",
      "tensor(-1.1599, grad_fn=<SubBackward0>)\n",
      "(tensor(0.8401, grad_fn=<SelectBackward>), tensor(2., grad_fn=<SelectBackward>))\n",
      "tensor(0.9536, grad_fn=<SubBackward0>)\n",
      "(tensor(0.9536, grad_fn=<SelectBackward>), tensor(0., grad_fn=<SelectBackward>))\n",
      "tensor(-1.3236, grad_fn=<SubBackward0>)\n",
      "(tensor(0.6764, grad_fn=<SelectBackward>), tensor(2., grad_fn=<SelectBackward>))\n",
      "tensor(-1.3655, grad_fn=<SubBackward0>)\n",
      "(tensor(0.6345, grad_fn=<SelectBackward>), tensor(2., grad_fn=<SelectBackward>))\n",
      "tensor(-0.4254, grad_fn=<SubBackward0>)\n",
      "(tensor(0.5746, grad_fn=<SelectBackward>), tensor(1., grad_fn=<SelectBackward>))\n",
      "tensor(-1.0794, grad_fn=<SubBackward0>)\n",
      "(tensor(0.9206, grad_fn=<SelectBackward>), tensor(2., grad_fn=<SelectBackward>))\n",
      "tensor(-0.9962, grad_fn=<SubBackward0>)\n",
      "(tensor(1.0038, grad_fn=<SelectBackward>), tensor(2., grad_fn=<SelectBackward>))\n",
      "tensor(-1.5281, grad_fn=<SubBackward0>)\n",
      "(tensor(0.4719, grad_fn=<SelectBackward>), tensor(2., grad_fn=<SelectBackward>))\n",
      "tensor(0.8270, grad_fn=<SubBackward0>)\n",
      "(tensor(0.8270, grad_fn=<SelectBackward>), tensor(0., grad_fn=<SelectBackward>))\n",
      "tensor(0.8095, grad_fn=<SubBackward0>)\n",
      "(tensor(0.8095, grad_fn=<SelectBackward>), tensor(0., grad_fn=<SelectBackward>))\n",
      "tensor(-1.3777, grad_fn=<SubBackward0>)\n",
      "(tensor(0.6223, grad_fn=<SelectBackward>), tensor(2., grad_fn=<SelectBackward>))\n",
      "tensor(0.7328, grad_fn=<SubBackward0>)\n",
      "(tensor(0.7328, grad_fn=<SelectBackward>), tensor(0., grad_fn=<SelectBackward>))\n",
      "tensor(-0.9049, grad_fn=<SubBackward0>)\n",
      "(tensor(1.0951, grad_fn=<SelectBackward>), tensor(2., grad_fn=<SelectBackward>))\n",
      "tensor(-1.3822, grad_fn=<SubBackward0>)\n",
      "(tensor(0.6178, grad_fn=<SelectBackward>), tensor(2., grad_fn=<SelectBackward>))\n",
      "tensor(-0.7410, grad_fn=<SubBackward0>)\n",
      "(tensor(1.2590, grad_fn=<SelectBackward>), tensor(2., grad_fn=<SelectBackward>))\n",
      "tensor(-1.0626, grad_fn=<SubBackward0>)\n",
      "(tensor(0.9374, grad_fn=<SelectBackward>), tensor(2., grad_fn=<SelectBackward>))\n",
      "tensor(0.7780, grad_fn=<SubBackward0>)\n",
      "(tensor(0.7780, grad_fn=<SelectBackward>), tensor(0., grad_fn=<SelectBackward>))\n",
      "tensor(-0.9610, grad_fn=<SubBackward0>)\n",
      "(tensor(1.0390, grad_fn=<SelectBackward>), tensor(2., grad_fn=<SelectBackward>))\n",
      "tensor(1.2392, grad_fn=<SubBackward0>)\n",
      "(tensor(1.2392, grad_fn=<SelectBackward>), tensor(0., grad_fn=<SelectBackward>))\n",
      "tensor(-1.2997, grad_fn=<SubBackward0>)\n",
      "(tensor(0.7003, grad_fn=<SelectBackward>), tensor(2., grad_fn=<SelectBackward>))\n",
      "tensor(-0.9654, grad_fn=<SubBackward0>)\n",
      "(tensor(1.0346, grad_fn=<SelectBackward>), tensor(2., grad_fn=<SelectBackward>))\n",
      "tensor(-0.6545, grad_fn=<SubBackward0>)\n",
      "(tensor(1.3455, grad_fn=<SelectBackward>), tensor(2., grad_fn=<SelectBackward>))\n",
      "tensor(-1.4235, grad_fn=<SubBackward0>)\n",
      "(tensor(0.5765, grad_fn=<SelectBackward>), tensor(2., grad_fn=<SelectBackward>))\n",
      "tensor(-0.8152, grad_fn=<SubBackward0>)\n",
      "(tensor(1.1848, grad_fn=<SelectBackward>), tensor(2., grad_fn=<SelectBackward>))\n",
      "tensor(-0.9072, grad_fn=<SubBackward0>)\n",
      "(tensor(1.0928, grad_fn=<SelectBackward>), tensor(2., grad_fn=<SelectBackward>))\n",
      "tensor(-0.9572, grad_fn=<SubBackward0>)\n",
      "(tensor(1.0428, grad_fn=<SelectBackward>), tensor(2., grad_fn=<SelectBackward>))\n",
      "tensor(0.6912, grad_fn=<SubBackward0>)\n",
      "(tensor(0.6912, grad_fn=<SelectBackward>), tensor(0., grad_fn=<SelectBackward>))\n",
      "tensor(1.1088, grad_fn=<SubBackward0>)\n",
      "(tensor(1.1088, grad_fn=<SelectBackward>), tensor(0., grad_fn=<SelectBackward>))\n",
      "tensor(-0.9392, grad_fn=<SubBackward0>)\n",
      "(tensor(1.0608, grad_fn=<SelectBackward>), tensor(2., grad_fn=<SelectBackward>))\n",
      "tensor(-0.9552, grad_fn=<SubBackward0>)\n",
      "(tensor(1.0448, grad_fn=<SelectBackward>), tensor(2., grad_fn=<SelectBackward>))\n",
      "tensor(-0.7453, grad_fn=<SubBackward0>)\n",
      "(tensor(1.2547, grad_fn=<SelectBackward>), tensor(2., grad_fn=<SelectBackward>))\n",
      "tensor(-0.3729, grad_fn=<SubBackward0>)\n"
     ]
    },
    {
     "name": "stdout",
     "output_type": "stream",
     "text": [
      "(tensor(0.6271, grad_fn=<SelectBackward>), tensor(1., grad_fn=<SelectBackward>))\n",
      "tensor(-1.3543, grad_fn=<SubBackward0>)\n",
      "(tensor(0.6457, grad_fn=<SelectBackward>), tensor(2., grad_fn=<SelectBackward>))\n",
      "tensor(-0.9068, grad_fn=<SubBackward0>)\n",
      "(tensor(1.0932, grad_fn=<SelectBackward>), tensor(2., grad_fn=<SelectBackward>))\n",
      "tensor(0.6200, grad_fn=<SubBackward0>)\n",
      "(tensor(0.6200, grad_fn=<SelectBackward>), tensor(0., grad_fn=<SelectBackward>))\n",
      "tensor(-1.0553, grad_fn=<SubBackward0>)\n",
      "(tensor(0.9447, grad_fn=<SelectBackward>), tensor(2., grad_fn=<SelectBackward>))\n",
      "tensor(-0.6278, grad_fn=<SubBackward0>)\n",
      "(tensor(1.3722, grad_fn=<SelectBackward>), tensor(2., grad_fn=<SelectBackward>))\n",
      "tensor(-1.2194, grad_fn=<SubBackward0>)\n",
      "(tensor(0.7806, grad_fn=<SelectBackward>), tensor(2., grad_fn=<SelectBackward>))\n",
      "tensor(-0.7491, grad_fn=<SubBackward0>)\n",
      "(tensor(1.2509, grad_fn=<SelectBackward>), tensor(2., grad_fn=<SelectBackward>))\n",
      "tensor(-0.9830, grad_fn=<SubBackward0>)\n",
      "(tensor(1.0170, grad_fn=<SelectBackward>), tensor(2., grad_fn=<SelectBackward>))\n",
      "tensor(0.8638, grad_fn=<SubBackward0>)\n",
      "(tensor(0.8638, grad_fn=<SelectBackward>), tensor(0., grad_fn=<SelectBackward>))\n",
      "tensor(-0.9877, grad_fn=<SubBackward0>)\n",
      "(tensor(1.0123, grad_fn=<SelectBackward>), tensor(2., grad_fn=<SelectBackward>))\n",
      "tensor(0.6330, grad_fn=<SubBackward0>)\n",
      "(tensor(0.6330, grad_fn=<SelectBackward>), tensor(0., grad_fn=<SelectBackward>))\n",
      "tensor(0.1191, grad_fn=<SubBackward0>)\n",
      "(tensor(0.1191, grad_fn=<SelectBackward>), tensor(0., grad_fn=<SelectBackward>))\n",
      "tensor(0.6252, grad_fn=<SubBackward0>)\n",
      "(tensor(0.6252, grad_fn=<SelectBackward>), tensor(0., grad_fn=<SelectBackward>))\n",
      "tensor(1.1100, grad_fn=<SubBackward0>)\n",
      "(tensor(1.1100, grad_fn=<SelectBackward>), tensor(0., grad_fn=<SelectBackward>))\n",
      "tensor(0.9438, grad_fn=<SubBackward0>)\n",
      "(tensor(0.9438, grad_fn=<SelectBackward>), tensor(0., grad_fn=<SelectBackward>))\n",
      "tensor(-0.0157, grad_fn=<SubBackward0>)\n",
      "(tensor(0.9843, grad_fn=<SelectBackward>), tensor(1., grad_fn=<SelectBackward>))\n",
      "tensor(-0.8847, grad_fn=<SubBackward0>)\n",
      "(tensor(1.1153, grad_fn=<SelectBackward>), tensor(2., grad_fn=<SelectBackward>))\n",
      "tensor(0.6262, grad_fn=<SubBackward0>)\n",
      "(tensor(0.6262, grad_fn=<SelectBackward>), tensor(0., grad_fn=<SelectBackward>))\n",
      "tensor(0.3064, grad_fn=<SubBackward0>)\n",
      "(tensor(0.3064, grad_fn=<SelectBackward>), tensor(0., grad_fn=<SelectBackward>))\n",
      "tensor(-0.6576, grad_fn=<SubBackward0>)\n",
      "(tensor(1.3424, grad_fn=<SelectBackward>), tensor(2., grad_fn=<SelectBackward>))\n",
      "tensor(-0.7122, grad_fn=<SubBackward0>)\n",
      "(tensor(1.2878, grad_fn=<SelectBackward>), tensor(2., grad_fn=<SelectBackward>))\n",
      "tensor(-1.0552, grad_fn=<SubBackward0>)\n",
      "(tensor(0.9448, grad_fn=<SelectBackward>), tensor(2., grad_fn=<SelectBackward>))\n",
      "tensor(0.6446, grad_fn=<SubBackward0>)\n",
      "(tensor(0.6446, grad_fn=<SelectBackward>), tensor(0., grad_fn=<SelectBackward>))\n"
     ]
    }
   ],
   "source": [
    "for i in range(100):\n",
    "    print((y_hat[i] - y_test[i]))\n",
    "    print((y_hat[i] , y_test[i]))"
   ]
  },
  {
   "cell_type": "code",
   "execution_count": 249,
   "metadata": {},
   "outputs": [],
   "source": [
    "diff = (y_hat - y_test)**2"
   ]
  },
  {
   "cell_type": "code",
   "execution_count": 250,
   "metadata": {},
   "outputs": [
    {
     "name": "stdout",
     "output_type": "stream",
     "text": [
      "[5.2460569e-01 7.3667514e-01 9.8122007e-01 ... 5.0251392e-06 0.0000000e+00\n",
      " 5.0252061e-06]\n"
     ]
    },
    {
     "data": {
      "image/png": "[encoded data removed]",
      "text/plain": [
       "<Figure size 432x288 with 1 Axes>"
      ]
     },
     "metadata": {
      "needs_background": "light"
     },
     "output_type": "display_data"
    }
   ],
   "source": [
    "import numpy as np\n",
    "import matplotlib.pyplot as plt\n",
    "\n",
    "print(diff.detach().numpy(),)\n",
    "\n",
    "# the histogram of the data\n",
    "n, bins, patches = plt.hist(diff.detach().numpy(), 50, density=True, facecolor='g', alpha=0.75)\n",
    "\n",
    "#pltting the results\n",
    "\n",
    "plt.xlim(0, 10)\n",
    "plt.ylim(0, 1)\n",
    "\n",
    "plt.grid(True)\n",
    "plt.show()"
   ]
  },
  {
   "cell_type": "code",
   "execution_count": 251,
   "metadata": {},
   "outputs": [
    {
     "data": {
      "text/plain": [
       "0.6320092050381807"
      ]
     },
     "execution_count": 251,
     "metadata": {},
     "output_type": "execute_result"
    }
   ],
   "source": [
    "import numpy as np\n",
    "from sklearn import metrics\n",
    "y_pred = y_hat.detach().numpy()\n",
    "y =  np.asarray(y_test.detach().numpy(), dtype=int)\n",
    "fpr, tpr, thresholds = metrics.roc_curve(y, y_pred, pos_label=1)\n",
    "metrics.auc(fpr, tpr)"
   ]
  },
  {
   "cell_type": "code",
   "execution_count": 252,
   "metadata": {},
   "outputs": [
    {
     "name": "stdout",
     "output_type": "stream",
     "text": [
      "[16453]\n",
      "[0.00000000e+00 0.00000000e+00 4.36840189e-04 ... 9.26465235e-01\n",
      " 9.26683655e-01 1.00000000e+00] [0.00000000e+00 3.67917586e-04 3.67917586e-04 ... 1.00000000e+00\n",
      " 1.00000000e+00 1.00000000e+00]\n"
     ]
    },
    {
     "data": {
      "text/plain": [
       "0.5613070838131531"
      ]
     },
     "execution_count": 252,
     "metadata": {},
     "output_type": "execute_result"
    }
   ],
   "source": [
    "import numpy as np\n",
    "from sklearn import metrics\n",
    "y_temp = torch.sum(X_test, 1)\n",
    "print(list(y_temp.size()))\n",
    "y_pred = y_temp.detach().numpy()\n",
    "y =  np.asarray(y_test.detach().numpy(), dtype=int)\n",
    "fpr, tpr, thresholds = metrics.roc_curve(y, y_pred, pos_label=1)\n",
    "print(fpr, tpr)\n",
    "metrics.auc(fpr, tpr)"
   ]
  },
  {
   "cell_type": "code",
   "execution_count": 253,
   "metadata": {},
   "outputs": [
    {
     "name": "stdout",
     "output_type": "stream",
     "text": [
      "0.6459656799430635\n",
      "0.16058201755542084\n",
      "0.19345230250151568\n",
      "0.5478636114994226\n",
      "0.1651978362608643\n",
      "0.2868169938613019\n"
     ]
    }
   ],
   "source": [
    "\n",
    "\n",
    "print(rel_dat_train.int().tolist().count(0)/len(rel_dat_train))\n",
    "print(rel_dat_train.int().tolist().count(1)/len(rel_dat_train))\n",
    "if num_classes == 3:\n",
    "    print(rel_dat_train.int().tolist().count(2)/len(rel_dat_train))\n",
    "\n",
    "print(rel_dat_test.int().tolist().count(0)/len(rel_dat_test))\n",
    "print(rel_dat_test.int().tolist().count(1)/len(rel_dat_test))\n",
    "if num_classes == 3:\n",
    "    print(rel_dat_test.int().tolist().count(2)/len(rel_dat_test))\n",
    "    \n",
    "\n"
   ]
  }
 ],
 "metadata": {
  "kernelspec": {
   "display_name": "Python 3",
   "language": "python",
   "name": "python3"
  },
  "language_info": {
   "codemirror_mode": {
    "name": "ipython",
    "version": 3
   },
   "file_extension": ".py",
   "mimetype": "text/x-python",
   "name": "python",
   "nbconvert_exporter": "python",
   "pygments_lexer": "ipython3",
   "version": "3.7.3"
  }
 },
 "nbformat": 4,
 "nbformat_minor": 4
}
